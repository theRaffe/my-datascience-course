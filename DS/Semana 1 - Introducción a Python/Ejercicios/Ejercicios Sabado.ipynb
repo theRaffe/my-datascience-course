{
 "cells": [
  {
   "cell_type": "markdown",
   "metadata": {},
   "source": [
    "# Ejercicios de la primera semana\n",
    "\n",
    "A continuación se muestran algunos ejercicios sobre los temas de la semana: \n"
   ]
  },
  {
   "cell_type": "markdown",
   "metadata": {},
   "source": [
    "#### 1. Calcula las primeras 10 potencias de 2 ($2^n$). Guarda los valores para cada uno de los exponentes y regresa la suma como valor.\n"
   ]
  },
  {
   "cell_type": "code",
   "execution_count": 3,
   "metadata": {},
   "outputs": [
    {
     "name": "stdout",
     "output_type": "stream",
     "text": [
      "1023\n"
     ]
    }
   ],
   "source": [
    "result = 0\n",
    "for num in range(10):\n",
    "    result += 2**num\n",
    "print(result)"
   ]
  },
  {
   "cell_type": "markdown",
   "metadata": {},
   "source": [
    "#### 2. Obtener los primeros 10 numeros pares "
   ]
  },
  {
   "cell_type": "code",
   "execution_count": 9,
   "metadata": {},
   "outputs": [
    {
     "name": "stdout",
     "output_type": "stream",
     "text": [
      "2\n",
      "4\n",
      "6\n",
      "8\n"
     ]
    }
   ],
   "source": [
    "num_elem = 4\n",
    "found_elem = 0\n",
    "my_num = 1\n",
    "while found_elem < num_elem:\n",
    "    if my_num % 2 == 0 :\n",
    "        found_elem += 1\n",
    "        print(my_num)\n",
    "    my_num += 1"
   ]
  },
  {
   "cell_type": "markdown",
   "metadata": {},
   "source": [
    "\n",
    "#### 3. Escriba una función que nos permita calcular la suma de los cuadrados de dos números\n"
   ]
  },
  {
   "cell_type": "code",
   "execution_count": 10,
   "metadata": {},
   "outputs": [
    {
     "name": "stdout",
     "output_type": "stream",
     "text": [
      "5\n"
     ]
    }
   ],
   "source": [
    "def sum_squares(num1, num2):\n",
    "    return num1**2 + num2**2\n",
    "print(sum_squares(1,2))"
   ]
  },
  {
   "cell_type": "markdown",
   "metadata": {},
   "source": [
    "#### 4. Escriba una función que calcule, guarde en una lista y muestre los elementos de la secuencia de Fibonacci"
   ]
  },
  {
   "cell_type": "code",
   "execution_count": 38,
   "metadata": {},
   "outputs": [
    {
     "name": "stdout",
     "output_type": "stream",
     "text": [
      "[0, 1, 1, 2, 3, 5, 8, 13, 21, 34]\n"
     ]
    }
   ],
   "source": [
    "def get_finonacci(num_elem):\n",
    "    my_list = [0,1]\n",
    "    if num_elem <= 2:\n",
    "        return my_list[:num_elem]\n",
    "    while len(my_list) < num_elem:\n",
    "        end_pos = len(my_list) - 1\n",
    "        prev_pos = end_pos - 1\n",
    "        my_list.append(my_list[end_pos] + my_list[prev_pos])\n",
    "    return my_list\n",
    "\n",
    "print(get_finonacci(10))"
   ]
  },
  {
   "cell_type": "markdown",
   "metadata": {},
   "source": [
    "#### 5. Crear una función que reciba un parámetro númerico e imprima el nombre de una fruta:  *Naranjas* si el parámetro es igual a 0, *Manzanas* si el parámetro es igual a 1 y *Peras* si el paráemtro es igual a 2 "
   ]
  },
  {
   "cell_type": "code",
   "execution_count": 48,
   "metadata": {},
   "outputs": [
    {
     "name": "stdout",
     "output_type": "stream",
     "text": [
      "Peras\n"
     ]
    }
   ],
   "source": [
    "def get_fruit(p_num):\n",
    "    my_dict = {\n",
    "        0 : \"Naranjas\",\n",
    "        1 : \"Manzanas\",\n",
    "        2 : \"Peras\"\n",
    "    }\n",
    "    \n",
    "    return my_dict.get(p_num)\n",
    "\n",
    "print(get_fruit(2))"
   ]
  },
  {
   "cell_type": "markdown",
   "metadata": {},
   "source": [
    "#### 6. Crear una función la función error: imprima un mensaje que notifique al usuario si existe un error\n"
   ]
  },
  {
   "cell_type": "code",
   "execution_count": 53,
   "metadata": {},
   "outputs": [
    {
     "name": "stdout",
     "output_type": "stream",
     "text": [
      "Ha ocurrido un error:  error1\n"
     ]
    }
   ],
   "source": [
    "def error_user(msj_error = ''):\n",
    "    print('Ha ocurrido un error: ', msj_error)\n",
    "error_user('error1')"
   ]
  },
  {
   "cell_type": "markdown",
   "metadata": {},
   "source": [
    "#### 7. Definamos la función matemática del valor absoluto de un número:  Si el número de entrada es negativo, devolver el valor e imprimir un mensaje semejante a \"El valor absoluto es:\". Si no, devolver el valor del número introducido e imprimir el mismo mensaje\n",
    "   "
   ]
  },
  {
   "cell_type": "code",
   "execution_count": 57,
   "metadata": {},
   "outputs": [
    {
     "name": "stdout",
     "output_type": "stream",
     "text": [
      "El valor absoluto es: 2\n",
      "El valor absoluto es: 10\n"
     ]
    }
   ],
   "source": [
    "def get_abs(anum):\n",
    "    return abs(anum)\n",
    "\n",
    "print(f'El valor absoluto es: {get_abs(-2)}')\n",
    "print(f'El valor absoluto es: {get_abs(10)}')"
   ]
  },
  {
   "cell_type": "markdown",
   "metadata": {},
   "source": [
    "#### 8.Defininir una función que realice el cambio del valor de dos variables: el valor de la primera se otorga a la segunda y viceversa. \n",
    "\n",
    "\n"
   ]
  },
  {
   "cell_type": "code",
   "execution_count": 61,
   "metadata": {},
   "outputs": [
    {
     "name": "stdout",
     "output_type": "stream",
     "text": [
      "[switch_val]switch valores 2 3\n",
      "switch valores 2 3\n"
     ]
    }
   ],
   "source": [
    "def switch_val(var1, var2):\n",
    "    tmp_var = var1\n",
    "    var1 = var2\n",
    "    var2 = tmp_var\n",
    "    return (var1, var2)\n",
    "    \n",
    "var1 = '3'\n",
    "var2 = '2'\n",
    "var1,var2 = switch_val(var1, var2)\n",
    "print(f'switch valores {var1} {var2}')"
   ]
  },
  {
   "cell_type": "markdown",
   "metadata": {},
   "source": [
    "#### 9. Cree un programa que le pida al usuario que ingrese su nombre y su edad. Imprima un mensaje dirigido a ellos que les diga el año en que cumplirán 100 años."
   ]
  },
  {
   "cell_type": "code",
   "execution_count": 68,
   "metadata": {},
   "outputs": [
    {
     "name": "stdin",
     "output_type": "stream",
     "text": [
      "enter age 10\n"
     ]
    },
    {
     "data": {
      "text/plain": [
       "2109"
      ]
     },
     "execution_count": 68,
     "metadata": {},
     "output_type": "execute_result"
    }
   ],
   "source": [
    "import datetime\n",
    "n_age = input('enter age')\n",
    "current_year = datetime.datetime.now().year\n",
    "diff_year = 100 - int(n_age)\n",
    "current_year + diff_year\n"
   ]
  },
  {
   "cell_type": "markdown",
   "metadata": {},
   "source": [
    "#### 11. Pregunte al usuario por un número. Dependiendo de si el número es par o impar, imprima un mensaje apropiado para el usuario.\n",
    "\n"
   ]
  },
  {
   "cell_type": "code",
   "execution_count": 69,
   "metadata": {},
   "outputs": [
    {
     "name": "stdin",
     "output_type": "stream",
     "text": [
      "enter a number 11\n"
     ]
    },
    {
     "name": "stdout",
     "output_type": "stream",
     "text": [
      "Es un numero impar\n"
     ]
    }
   ],
   "source": [
    "str_number = input('enter a number')\n",
    "n_number = int(str_number)\n",
    "str_result = 'impar'\n",
    "if (n_number % 2 == 0):\n",
    "    str_result = 'par'\n",
    "print(f'Es un numero {str_result}')"
   ]
  },
  {
   "cell_type": "markdown",
   "metadata": {},
   "source": [
    "#### 12. Escriba una función que reciba una lista  como parámetro y devuelva una nueva lista que contenga todos los elementos de la primera lista menos todos los duplicados.\n"
   ]
  },
  {
   "cell_type": "code",
   "execution_count": 83,
   "metadata": {},
   "outputs": [
    {
     "name": "stdout",
     "output_type": "stream",
     "text": [
      "[2, 3, 4, 5, 555]\n"
     ]
    }
   ],
   "source": [
    "import collections\n",
    "\n",
    "def remove_duplicated(my_list):\n",
    "    duplicates = [item for item, count in collections.Counter(my_list).items() if count > 1]\n",
    "    result = []\n",
    "    duplicates\n",
    "    return [item for item in my_list if not item in duplicates]\n",
    "    #for aelem in my_list:\n",
    "        \n",
    "list_result = remove_duplicated([1,1,1,2,3,4,5,555])\n",
    "print(list_result)"
   ]
  },
  {
   "cell_type": "markdown",
   "metadata": {},
   "source": [
    "#### 13. Haz un juego de dos jugadores de piedra, papel y tijeras, Dada una función de dos entradas, compáralas, imprime un mensaje de felicitaciones al ganador."
   ]
  },
  {
   "cell_type": "code",
   "execution_count": 91,
   "metadata": {},
   "outputs": [
    {
     "name": "stdin",
     "output_type": "stream",
     "text": [
      "user 1 elegir scissor,paper,stone stone\n",
      "user 2 elegir scissor,paper,stone paper\n"
     ]
    },
    {
     "name": "stdout",
     "output_type": "stream",
     "text": [
      "user2 gana\n"
     ]
    }
   ],
   "source": [
    "def play_game():\n",
    "    resp1 = input('user 1 elegir scissor,paper,stone')\n",
    "    resp2 = input('user 2 elegir scissor,paper,stone')\n",
    "\n",
    "    my_dict = {\n",
    "         \"stone\" :  \"scissor\",\n",
    "         \"scissor\" : \"paper\",\n",
    "         \"paper\" : \"stone\"\n",
    "    }\n",
    "\n",
    "    kill1 = my_dict[resp1]\n",
    "    kill2 = my_dict[resp2]\n",
    "\n",
    "    if resp1 == kill2:\n",
    "        print('user2 gana')\n",
    "    elif resp2 == kill1:\n",
    "        print('user1 gana')\n",
    "        \n",
    "play_game()"
   ]
  },
  {
   "cell_type": "markdown",
   "metadata": {},
   "source": [
    "\n",
    "#### 14. Similar al ejercicio pasado, haz un juego de piedra papel y tijeras en una función que: pregunte a los usuarios sobre sus opciones, haga las comparaciones, entregue el resultado. Finalmente pregunte si quieren seguir jugnado y si sí, comience el juego de nuevo. "
   ]
  },
  {
   "cell_type": "code",
   "execution_count": 98,
   "metadata": {},
   "outputs": [
    {
     "name": "stdin",
     "output_type": "stream",
     "text": [
      "user 1 elegir scissor,paper,stone stone\n",
      "user 2 elegir scissor,paper,stone stone\n",
      "Desea seguir jugando(y) y\n",
      "user 1 elegir scissor,paper,stone stone\n",
      "user 2 elegir scissor,paper,stone scissor\n"
     ]
    },
    {
     "name": "stdout",
     "output_type": "stream",
     "text": [
      "user1 gana\n"
     ]
    },
    {
     "name": "stdin",
     "output_type": "stream",
     "text": [
      "Desea seguir jugando(y) n\n"
     ]
    }
   ],
   "source": [
    "keep_play = True\n",
    "while keep_play:\n",
    "    play_game()\n",
    "    resp_play = input('Desea seguir jugando(y)').lower()\n",
    "    keep_play = resp_play == 'y'"
   ]
  },
  {
   "cell_type": "markdown",
   "metadata": {},
   "source": [
    "#### 15. Dada una oración, realice las operaciones necesarias para invertir el orden de las palabras "
   ]
  },
  {
   "cell_type": "code",
   "execution_count": 105,
   "metadata": {},
   "outputs": [
    {
     "data": {
      "text/plain": [
       "'oracion una es Esta'"
      ]
     },
     "execution_count": 105,
     "metadata": {},
     "output_type": "execute_result"
    }
   ],
   "source": [
    "import re\n",
    "sentence = 'Esta es una oracion'\n",
    "word_list = re.sub(\"[^\\w]\", \" \",  sentence).split()\n",
    "word_list.reverse()\n",
    "' '.join(word_list)\n"
   ]
  },
  {
   "cell_type": "markdown",
   "metadata": {},
   "source": [
    "#### 16. Crea un generador de contraseñas, donde la longitud sea un parámetro de entrada para el usuario. Usa letras mayúsculas, minúsculas y números. "
   ]
  },
  {
   "cell_type": "code",
   "execution_count": 114,
   "metadata": {},
   "outputs": [
    {
     "data": {
      "text/plain": [
       "'UAF2N2A6'"
      ]
     },
     "execution_count": 114,
     "metadata": {},
     "output_type": "execute_result"
    }
   ],
   "source": [
    "import random\n",
    "import string\n",
    "\n",
    "def create_pass(num_digit):\n",
    "    return ''.join(random.choices(string.ascii_uppercase + string.digits, k=num_digit))\n",
    "\n",
    "create_pass(8)"
   ]
  },
  {
   "cell_type": "markdown",
   "metadata": {},
   "source": [
    "#### 17. Cree un archivo de texto (extensión .txt) con letras aleatorias (incluyendo espacios) con una extensión de 500 caracteres. "
   ]
  },
  {
   "cell_type": "code",
   "execution_count": 119,
   "metadata": {},
   "outputs": [
    {
     "data": {
      "text/plain": [
       "'6D33LX8SOCJZV Y8WFSNH16X SX4OFR5R1Z19E4P0A0R QNVI71YO XYGQ7A09H F2KJ01U00MWNNYKZSUSON3A19XRV1HZLKK48'"
      ]
     },
     "execution_count": 119,
     "metadata": {},
     "output_type": "execute_result"
    }
   ],
   "source": [
    "import random\n",
    "import string\n",
    "\n",
    "def create_random_string(num_len):\n",
    "    return ''.join(random.choices(' ' + string.ascii_uppercase + string.digits + ' ', k=num_len))\n",
    "\n",
    "create_random_string(100)\n"
   ]
  },
  {
   "cell_type": "markdown",
   "metadata": {},
   "source": [
    "#### 18. Lee el archivo pasado e invierte todo el texto (hola -> aloh) y guardalo con un nombre diferente. "
   ]
  },
  {
   "cell_type": "code",
   "execution_count": 124,
   "metadata": {},
   "outputs": [
    {
     "data": {
      "text/plain": [
       "'aloh'"
      ]
     },
     "execution_count": 124,
     "metadata": {},
     "output_type": "execute_result"
    }
   ],
   "source": [
    " 'hola'[::-1]"
   ]
  },
  {
   "cell_type": "markdown",
   "metadata": {},
   "source": [
    "#### 19. Compara dos listas (pueden ser de diferentes tamaños. Construye dos listas: una con los elementos en común y otra con el resto de los elementos. \n"
   ]
  },
  {
   "cell_type": "code",
   "execution_count": null,
   "metadata": {},
   "outputs": [],
   "source": []
  }
 ],
 "metadata": {
  "kernelspec": {
   "display_name": "Python 3",
   "language": "python",
   "name": "python3"
  },
  "language_info": {
   "codemirror_mode": {
    "name": "ipython",
    "version": 3
   },
   "file_extension": ".py",
   "mimetype": "text/x-python",
   "name": "python",
   "nbconvert_exporter": "python",
   "pygments_lexer": "ipython3",
   "version": "3.7.4"
  }
 },
 "nbformat": 4,
 "nbformat_minor": 4
}
