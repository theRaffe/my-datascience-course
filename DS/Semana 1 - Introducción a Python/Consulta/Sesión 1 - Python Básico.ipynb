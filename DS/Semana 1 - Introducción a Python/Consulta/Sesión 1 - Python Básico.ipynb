{
 "cells": [
  {
   "cell_type": "markdown",
   "metadata": {},
   "source": [
    "# ¡Bienvenidos a la primera sesión del Mastery Data Science!\n",
    "\n",
    "## 1.- Documentación oficial\n",
    "\n",
    "Toda la documentación del curso, tanto ejercicios como material de consulta, estará disponible en la plataforma GitHub en el siguiente link:\n",
    "\n",
    "https://github.com/Flags13/CeroUnoDS\n",
    "\n",
    "Pueden descargar todo el repositorio mediante el botón verde disponible.\n",
    "\n",
    "Recomendación:\n",
    "\n",
    "-Crear cuenta de github para el manejo de versiones de código\n",
    "\n",
    "Donde aprender github?\n",
    "https://lab.github.com/\n",
    "\n",
    "Tips:\n",
    "https://www.toptal.com/git/tips-and-practices\n",
    "\n",
    "\n",
    "\n",
    "## 2.- ¿Por qué Python para la ciencia de datos?\n",
    "\n",
    "Python es un lenguaje que puede actuar como una solución completa, puede encargarse de los servicios web, bases de datos, manejo y procesamiento de datos. También se puede utilizar para escribir aplicaciones del lado del servidor, tales como sitios web dinámicos, aplicaciones para sistemas operativos con interfaces gráficas e incluso aplicaciones en IOS y Android.\n",
    "\n",
    "https://www.quora.com/Why-is-Python-a-language-of-choice-for-data-scientists\n",
    "\n",
    "> \"The Python community invested in the mid-1990s in Numeric, an \"extension to Python to support numeric analysis as naturally as [M]atlab does\". Numeric later evolved into NumPy. Several years later, the plotting functionality from Matlab was ported to Python with matplotlib. Libraries for scientific computing were built around NumPy and matplotlib and bundled into the SciPy package, which was commercially supported by Enthought. Python's support for Matlab-like array manipulation and plotting is a major reason to prefer it over Perl and Ruby.\n",
    "\n",
    "> Today, the most popular alternatives to Python for data scientists are R, Matlab/Octave, and Mathematica/Sage. In addition to the work mentioned above to port features from Matlab into Python, recent work has ported several popular features from R and Mathematica into Python.\n",
    "\n",
    "> From R, the data frame and associated manipulations (from the plyr and reshape packages) have been implemented by the pandas library. The scikit-learn project presents a common interface to many machine learning algorithms, similar to the caret package in R.\"\n",
    "\n",
    "<div align=\"right\"><b>-Jeff Hammerbacher, Professor at Hammer Lab, founder at Cloudera, investor at Techammer</b></div>\n",
    "\n",
    "### Filosofía de Python"
   ]
  },
  {
   "cell_type": "code",
   "execution_count": null,
   "metadata": {},
   "outputs": [],
   "source": [
    "import this "
   ]
  },
  {
   "cell_type": "markdown",
   "metadata": {},
   "source": [
    "### Abrir Conda\n",
    "\n",
    "- **Windows:** En el menú de inicio, buscar y abrir \"Anaconda Prompt\". Todos los comandos serán introducidos en esta ventana.\n",
    "\n",
    "- **MacOs/Linux:** Abrir una ventana de la terminal propia del sistema operativo. Todos los comandos serán introducidos en esta ventana.\n",
    "\n",
    "### Creación del entorno \n",
    "\n",
    "1.- Creemos nuestro entorno virtual de trabajo mediante: "
   ]
  },
  {
   "cell_type": "markdown",
   "metadata": {},
   "source": [
    "conda create -n ProgramaDS anaconda"
   ]
  },
  {
   "cell_type": "markdown",
   "metadata": {},
   "source": [
    "2.- Activamos nuestro nuevo entorno mediante: "
   ]
  },
  {
   "cell_type": "code",
   "execution_count": null,
   "metadata": {},
   "outputs": [],
   "source": [
    "conda activate -n ProgramaDS"
   ]
  },
  {
   "cell_type": "markdown",
   "metadata": {},
   "source": [
    "## 4.- Creación de libreta\n",
    "\n",
    "1.- En nuestra terminal o Anaconda prompt, inicializamos Jupyter Notebook"
   ]
  },
  {
   "cell_type": "markdown",
   "metadata": {},
   "source": [
    "jupyter notebook\n",
    "\n",
    "jupyter lab"
   ]
  },
  {
   "cell_type": "markdown",
   "metadata": {},
   "source": [
    "2.- En nuestro navegador se abrira un explorador de documentos. Creemos una carpeta para nuestros documentos del curso. En la parte derecha superior, damos click en el botón de nuevo documento. ¡Listo! \n",
    "\n",
    "\n",
    "## 5.- Comencemos con lo básico \n",
    "\n",
    "\n",
    " - Comentarios\n",
    " - Impresión de resultados \n",
    "    \n",
    " "
   ]
  },
  {
   "cell_type": "code",
   "execution_count": 2,
   "metadata": {
    "scrolled": true
   },
   "outputs": [
    {
     "name": "stdout",
     "output_type": "stream",
     "text": [
      "¡Hola Mundo!\n"
     ]
    }
   ],
   "source": [
    "# Soy un comentario\n",
    "print(\"¡Hola Mundo!\")"
   ]
  },
  {
   "cell_type": "code",
   "execution_count": null,
   "metadata": {},
   "outputs": [],
   "source": []
  },
  {
   "cell_type": "code",
   "execution_count": 3,
   "metadata": {},
   "outputs": [
    {
     "data": {
      "text/plain": [
       "'¿Como están?'"
      ]
     },
     "execution_count": 3,
     "metadata": {},
     "output_type": "execute_result"
    }
   ],
   "source": [
    "'Hola'\n",
    "\n",
    "'¿Como están?'"
   ]
  },
  {
   "cell_type": "code",
   "execution_count": 4,
   "metadata": {},
   "outputs": [],
   "source": [
    "#estas lineas de codigo son muy útiles\n",
    "from IPython.core.interactiveshell import InteractiveShell\n",
    "InteractiveShell.ast_node_interactivity = \"all\""
   ]
  },
  {
   "cell_type": "code",
   "execution_count": 5,
   "metadata": {},
   "outputs": [
    {
     "data": {
      "text/plain": [
       "'Hola'"
      ]
     },
     "execution_count": 5,
     "metadata": {},
     "output_type": "execute_result"
    },
    {
     "data": {
      "text/plain": [
       "'¿Como están?'"
      ]
     },
     "execution_count": 5,
     "metadata": {},
     "output_type": "execute_result"
    }
   ],
   "source": [
    "'Hola'\n",
    "\n",
    "'¿Como están?'"
   ]
  },
  {
   "cell_type": "markdown",
   "metadata": {},
   "source": [
    "### 5.1 Manejo de  Variables\n",
    " - Python es orientado a objetos, y de tipado dinámico, es decir, no es necesario declarar las variables antes de usarlas, o declarar su tipo. \n",
    " - Cada variable en Python es un objeto.\n",
    "\n",
    "### 5.2 Tipos de datos y estructuras \n",
    "### 5.2.1 Numéricos\n",
    "Hay tres tipos de datos numéricos: \n",
    "- **enteros:** todos los números enteros, positivos o negativos \n",
    "- **números complejos:** en Python se utiliza *j* para indicar la unidad imaginaria.\n",
    "- **números de punto flotante:** todos aquellos datos en los que específica la existencia de decimales. "
   ]
  },
  {
   "cell_type": "code",
   "execution_count": 6,
   "metadata": {},
   "outputs": [
    {
     "name": "stdout",
     "output_type": "stream",
     "text": [
      "<class 'int'>\n",
      "<class 'int'>\n"
     ]
    }
   ],
   "source": [
    "#Asignación de un número entero\n",
    "mi_int = -9\n",
    "print(type(mi_int))\n",
    "\n",
    "#Asignación de un número entero\n",
    "mi_int = 1\n",
    "print(type(mi_int))\n"
   ]
  },
  {
   "cell_type": "code",
   "execution_count": 7,
   "metadata": {},
   "outputs": [],
   "source": [
    "#Asignación de un número de punto flotante\n",
    "mi_float = 7.0"
   ]
  },
  {
   "cell_type": "code",
   "execution_count": null,
   "metadata": {},
   "outputs": [],
   "source": []
  },
  {
   "cell_type": "markdown",
   "metadata": {},
   "source": [
    "### print(type(mi_float))\n",
    " "
   ]
  },
  {
   "cell_type": "code",
   "execution_count": null,
   "metadata": {},
   "outputs": [],
   "source": [
    "#Asignación de un número de complejo\n",
    "mi_complex = 3.14j\n",
    "print(type(mi_complex))"
   ]
  },
  {
   "cell_type": "markdown",
   "metadata": {},
   "source": [
    "Python te permite asignar valores a las variables\n",
    "\n",
    "Considera las siguientes lineas:\n",
    "\n",
    "x = 5\n",
    "\n",
    "y = 8\n",
    "\n",
    "x += y\n",
    "\n",
    "y = x - 3\n",
    "\n",
    "x -= y - 5\n",
    "\n",
    "\n",
    "Cuales son los valores de 'x' y 'y' despues de cada linea?\n"
   ]
  },
  {
   "cell_type": "markdown",
   "metadata": {},
   "source": [
    "## 5.2.2 Listas \n",
    "\n",
    "1. Son una secuencia ordenada de elementos, donde los elementos no tienen que pertenecer al mismo tipo de variable. \n",
    "\n",
    "2. Una lista es definida mediante el uso corchetes [ ] para conterner los elementos, los cuales son separados por una coma. \n",
    "\n",
    "3. Podemos seleccionar ciertos elementos de una lista colocando la posición de ellos en la lista entre corchetes. Los índices en Python corren desde 0. \n",
    "\n",
    "4. Son mutables, es decir, los elementos dentro de ella pueden ser modificados. "
   ]
  },
  {
   "cell_type": "code",
   "execution_count": 9,
   "metadata": {},
   "outputs": [
    {
     "data": {
      "text/plain": [
       "[]"
      ]
     },
     "execution_count": 9,
     "metadata": {},
     "output_type": "execute_result"
    }
   ],
   "source": [
    "## DEFINICION\n",
    "\n",
    "#Definición de una lista vacia \n",
    "mi_lista = []\n",
    "mi_lista"
   ]
  },
  {
   "cell_type": "code",
   "execution_count": 10,
   "metadata": {},
   "outputs": [
    {
     "data": {
      "text/plain": [
       "[1]"
      ]
     },
     "execution_count": 10,
     "metadata": {},
     "output_type": "execute_result"
    }
   ],
   "source": [
    "#Añadimos el elemento numérico uno al final de la lista\n",
    "mi_lista.append(1)\n",
    "mi_lista"
   ]
  },
  {
   "cell_type": "code",
   "execution_count": 11,
   "metadata": {},
   "outputs": [
    {
     "data": {
      "text/plain": [
       "[1, 'Monty']"
      ]
     },
     "execution_count": 11,
     "metadata": {},
     "output_type": "execute_result"
    }
   ],
   "source": [
    "#Añadimos un string al final de la lista. \n",
    "mi_lista.append(\"Monty\")\n",
    "mi_lista"
   ]
  },
  {
   "cell_type": "code",
   "execution_count": 12,
   "metadata": {},
   "outputs": [
    {
     "data": {
      "text/plain": [
       "[1, 'Monty', True]"
      ]
     },
     "execution_count": 12,
     "metadata": {},
     "output_type": "execute_result"
    }
   ],
   "source": [
    "#Añadimos una variable booleana al final de la lista. \n",
    "mi_lista.append(True)\n",
    "mi_lista"
   ]
  },
  {
   "cell_type": "markdown",
   "metadata": {},
   "source": [
    "### SELECCIÓN DE VARIABLES"
   ]
  },
  {
   "cell_type": "code",
   "execution_count": 13,
   "metadata": {},
   "outputs": [
    {
     "data": {
      "text/plain": [
       "'Monty'"
      ]
     },
     "execution_count": 13,
     "metadata": {},
     "output_type": "execute_result"
    }
   ],
   "source": [
    "#Seleccionemos el segundo elemento\n",
    "mi_lista[1] "
   ]
  },
  {
   "cell_type": "code",
   "execution_count": 14,
   "metadata": {},
   "outputs": [
    {
     "data": {
      "text/plain": [
       "['Monty', True]"
      ]
     },
     "execution_count": 14,
     "metadata": {},
     "output_type": "execute_result"
    }
   ],
   "source": [
    "#Seleccionemos de segundo elemento en adelante\n",
    "mi_lista[1:]"
   ]
  },
  {
   "cell_type": "code",
   "execution_count": 18,
   "metadata": {},
   "outputs": [
    {
     "data": {
      "text/plain": [
       "[1]"
      ]
     },
     "execution_count": 18,
     "metadata": {},
     "output_type": "execute_result"
    }
   ],
   "source": [
    "mi_lista[0::3]"
   ]
  },
  {
   "cell_type": "markdown",
   "metadata": {},
   "source": [
    "### MODIFICACIÓN DE UNA LISTA"
   ]
  },
  {
   "cell_type": "code",
   "execution_count": 19,
   "metadata": {},
   "outputs": [
    {
     "data": {
      "text/plain": [
       "[1, 'Monty', 'gato']"
      ]
     },
     "execution_count": 19,
     "metadata": {},
     "output_type": "execute_result"
    }
   ],
   "source": [
    "#Cambiamos el tercer elemento \n",
    "mi_lista[2]='gato'\n",
    "mi_lista"
   ]
  },
  {
   "cell_type": "code",
   "execution_count": 20,
   "metadata": {},
   "outputs": [
    {
     "data": {
      "text/plain": [
       "['hello', 1, 'Monty', 'gato']"
      ]
     },
     "execution_count": 20,
     "metadata": {},
     "output_type": "execute_result"
    }
   ],
   "source": [
    "mi_lista.insert(0, 'hello')\n",
    "mi_lista"
   ]
  },
  {
   "cell_type": "code",
   "execution_count": 21,
   "metadata": {},
   "outputs": [
    {
     "data": {
      "text/plain": [
       "['gato', 'Monty', 1, 'hello']"
      ]
     },
     "execution_count": 21,
     "metadata": {},
     "output_type": "execute_result"
    }
   ],
   "source": [
    "mi_lista.reverse()\n",
    "mi_lista"
   ]
  },
  {
   "cell_type": "code",
   "execution_count": 23,
   "metadata": {},
   "outputs": [],
   "source": [
    "mi_lista.insert(0, 'hola')"
   ]
  },
  {
   "cell_type": "code",
   "execution_count": 24,
   "metadata": {},
   "outputs": [],
   "source": [
    "mi_lista.insert(0, 'monterrey')"
   ]
  },
  {
   "cell_type": "code",
   "execution_count": 25,
   "metadata": {},
   "outputs": [
    {
     "data": {
      "text/plain": [
       "['monterrey', 'hola', 'hola', 'gato', 'Monty', 1, 'hello']"
      ]
     },
     "execution_count": 25,
     "metadata": {},
     "output_type": "execute_result"
    }
   ],
   "source": [
    "mi_lista"
   ]
  },
  {
   "cell_type": "code",
   "execution_count": 26,
   "metadata": {},
   "outputs": [],
   "source": [
    "mi_num_lista = [2,4,55,98,1]"
   ]
  },
  {
   "cell_type": "code",
   "execution_count": 28,
   "metadata": {},
   "outputs": [],
   "source": [
    "mi_num_lista.sort()\n",
    "\n",
    "#El .sort() solo funciona cuando los valores definidos en la lista son numericos"
   ]
  },
  {
   "cell_type": "code",
   "execution_count": 29,
   "metadata": {},
   "outputs": [
    {
     "data": {
      "text/plain": [
       "[1, 2, 4, 55, 98]"
      ]
     },
     "execution_count": 29,
     "metadata": {},
     "output_type": "execute_result"
    }
   ],
   "source": [
    "mi_num_lista"
   ]
  },
  {
   "cell_type": "markdown",
   "metadata": {},
   "source": [
    "### 5.2.3  Tuplas\n",
    "\n",
    "1.- Son una secuencia ordenada de elementos, donde los elementos no tienen que pertenecer al mismo tipo de variable. \n",
    "\n",
    "2.- Las tuplas son inmutables: después de creadas no pueden ser modificadas. Se utilizan para la protección de sobreescritura en ciertas varibles. \n",
    "\n",
    "3.- Son definidas mediante parentesis ().  \n",
    "\n",
    "4.- Podemos extraer un cierto elemento de ellas mediante el uso de corchetes [], pero la sobreescritura esta prohibida. "
   ]
  },
  {
   "cell_type": "code",
   "execution_count": 30,
   "metadata": {},
   "outputs": [
    {
     "name": "stdout",
     "output_type": "stream",
     "text": [
      "[1, 2]\n",
      "<class 'list'>\n"
     ]
    }
   ],
   "source": [
    "estructura_datos = [1,2]\n",
    "print(estructura_datos)\n",
    "print(type(estructura_datos))\n"
   ]
  },
  {
   "cell_type": "code",
   "execution_count": 31,
   "metadata": {},
   "outputs": [
    {
     "data": {
      "text/plain": [
       "tuple"
      ]
     },
     "execution_count": 31,
     "metadata": {},
     "output_type": "execute_result"
    }
   ],
   "source": [
    "otra_estructura_datos = tuple([1, 2])\n",
    "type(otra_estructura_datos)"
   ]
  },
  {
   "cell_type": "code",
   "execution_count": 32,
   "metadata": {},
   "outputs": [
    {
     "data": {
      "text/plain": [
       "(1, 2)"
      ]
     },
     "execution_count": 32,
     "metadata": {},
     "output_type": "execute_result"
    },
    {
     "data": {
      "text/plain": [
       "tuple"
      ]
     },
     "execution_count": 32,
     "metadata": {},
     "output_type": "execute_result"
    }
   ],
   "source": [
    "mi_primer_tuple = tuple([1, 2])\n",
    "mi_primer_tuple\n",
    "type(mi_primer_tuple)"
   ]
  },
  {
   "cell_type": "code",
   "execution_count": 33,
   "metadata": {},
   "outputs": [
    {
     "data": {
      "text/plain": [
       "(1, 2)"
      ]
     },
     "execution_count": 33,
     "metadata": {},
     "output_type": "execute_result"
    },
    {
     "data": {
      "text/plain": [
       "tuple"
      ]
     },
     "execution_count": 33,
     "metadata": {},
     "output_type": "execute_result"
    }
   ],
   "source": [
    "otra_tuple = (1, 2)\n",
    "otra_tuple\n",
    "type(otra_tuple)"
   ]
  },
  {
   "cell_type": "code",
   "execution_count": 34,
   "metadata": {},
   "outputs": [
    {
     "data": {
      "text/plain": [
       "(1, 2)"
      ]
     },
     "execution_count": 34,
     "metadata": {},
     "output_type": "execute_result"
    },
    {
     "data": {
      "text/plain": [
       "tuple"
      ]
     },
     "execution_count": 34,
     "metadata": {},
     "output_type": "execute_result"
    }
   ],
   "source": [
    "otra_forma_tupla = 1, 2\n",
    "otra_forma_tupla\n",
    "type(otra_forma_tupla)"
   ]
  },
  {
   "cell_type": "code",
   "execution_count": 36,
   "metadata": {},
   "outputs": [
    {
     "name": "stdout",
     "output_type": "stream",
     "text": [
      "(1, 'Monty', True)\n",
      "2\n"
     ]
    },
    {
     "ename": "TypeError",
     "evalue": "'tuple' object does not support item assignment",
     "output_type": "error",
     "traceback": [
      "\u001b[0;31m---------------------------------------------------------------------------\u001b[0m",
      "\u001b[0;31mTypeError\u001b[0m                                 Traceback (most recent call last)",
      "\u001b[0;32m<ipython-input-36-54110c871c42>\u001b[0m in \u001b[0;36m<module>\u001b[0;34m\u001b[0m\n\u001b[1;32m      5\u001b[0m \u001b[0;31m#Extracción de un elemento de la tupla\u001b[0m\u001b[0;34m\u001b[0m\u001b[0;34m\u001b[0m\u001b[0;34m\u001b[0m\u001b[0m\n\u001b[1;32m      6\u001b[0m \u001b[0mprint\u001b[0m\u001b[0;34m(\u001b[0m\u001b[0mmi_tupla\u001b[0m\u001b[0;34m[\u001b[0m\u001b[0;36m0\u001b[0m\u001b[0;34m]\u001b[0m\u001b[0;34m)\u001b[0m\u001b[0;34m\u001b[0m\u001b[0;34m\u001b[0m\u001b[0m\n\u001b[0;32m----> 7\u001b[0;31m \u001b[0mmi_tupla\u001b[0m\u001b[0;34m[\u001b[0m\u001b[0;36m0\u001b[0m\u001b[0;34m]\u001b[0m \u001b[0;34m=\u001b[0m \u001b[0;36m4\u001b[0m\u001b[0;34m\u001b[0m\u001b[0;34m\u001b[0m\u001b[0m\n\u001b[0m",
      "\u001b[0;31mTypeError\u001b[0m: 'tuple' object does not support item assignment"
     ]
    }
   ],
   "source": [
    "# Definición de una tupla\n",
    "mi_tupla = (1, \"Monty\", True);\n",
    "print(mi_tupla)\n",
    "mi_tupla = (2,3)\n",
    "#Extracción de un elemento de la tupla \n",
    "print(mi_tupla[0])\n",
    "mi_tupla[0] = 4"
   ]
  },
  {
   "cell_type": "code",
   "execution_count": null,
   "metadata": {
    "scrolled": true
   },
   "outputs": [],
   "source": [
    "# Imposibilidad de redefinir un valor dentro de una tupla \n",
    "mi_tupla[0] = 2"
   ]
  },
  {
   "cell_type": "markdown",
   "metadata": {},
   "source": [
    "### 5.2.4 String\n",
    "\n",
    "1.- Son secuencia de caractéres Unicode. \n",
    "\n",
    "2.- Pueden ser específicados medinate el uso de comillas sencillas o dobles, mientras que para strings en multiples lineas se indican con triple comillas. \n",
    "\n",
    "3.- Podemos extraer un cierto elemento del string mediante el uso de corchetes, pero son inmutables como las tuplas. \n",
    "\n",
    "\n",
    "\n",
    "\n",
    "**¡Importante!:** En Python no existe el tipo \"char\", un sólo carácter es un string de tamaño 1"
   ]
  },
  {
   "cell_type": "code",
   "execution_count": 37,
   "metadata": {},
   "outputs": [
    {
     "name": "stdout",
     "output_type": "stream",
     "text": [
      "¡Hola mundo!\n",
      "¡Hola mundo!\n",
      "la mundo!\n"
     ]
    }
   ],
   "source": [
    "# Definición de un string \n",
    "mi_string='¡Hola mundo!' \n",
    "mi_string2=\"¡Hola mundo!\"\n",
    "\n",
    "print(mi_string)\n",
    "print(mi_string2)\n",
    "\n",
    "#Extracción de los caracteres de la posición 4 en adelante\n",
    "print(mi_string[3:])"
   ]
  },
  {
   "cell_type": "code",
   "execution_count": 38,
   "metadata": {},
   "outputs": [
    {
     "ename": "TypeError",
     "evalue": "'str' object does not support item assignment",
     "output_type": "error",
     "traceback": [
      "\u001b[0;31m---------------------------------------------------------------------------\u001b[0m",
      "\u001b[0;31mTypeError\u001b[0m                                 Traceback (most recent call last)",
      "\u001b[0;32m<ipython-input-38-6a9e970c65b4>\u001b[0m in \u001b[0;36m<module>\u001b[0;34m\u001b[0m\n\u001b[1;32m      1\u001b[0m \u001b[0;31m# Imposibilidad de redefinir un valor dentro de un string\u001b[0m\u001b[0;34m\u001b[0m\u001b[0;34m\u001b[0m\u001b[0;34m\u001b[0m\u001b[0m\n\u001b[0;32m----> 2\u001b[0;31m \u001b[0mmi_string\u001b[0m\u001b[0;34m[\u001b[0m\u001b[0;36m3\u001b[0m\u001b[0;34m]\u001b[0m \u001b[0;34m=\u001b[0m \u001b[0;34m'k'\u001b[0m\u001b[0;34m\u001b[0m\u001b[0;34m\u001b[0m\u001b[0m\n\u001b[0m",
      "\u001b[0;31mTypeError\u001b[0m: 'str' object does not support item assignment"
     ]
    }
   ],
   "source": [
    "# Imposibilidad de redefinir un valor dentro de un string\n",
    "mi_string[3] = 'k'"
   ]
  },
  {
   "cell_type": "markdown",
   "metadata": {},
   "source": [
    "Para poder introducir comillas simples en un string usamos comillas dobles y viceversa"
   ]
  },
  {
   "cell_type": "code",
   "execution_count": 39,
   "metadata": {},
   "outputs": [
    {
     "data": {
      "text/plain": [
       "'permite usar \"comillas\" dobles'"
      ]
     },
     "execution_count": 39,
     "metadata": {},
     "output_type": "execute_result"
    },
    {
     "data": {
      "text/plain": [
       "\"permite usar 'comillas' simples\""
      ]
     },
     "execution_count": 39,
     "metadata": {},
     "output_type": "execute_result"
    }
   ],
   "source": [
    "comillas_simples = 'permite usar \"comillas\" dobles'\n",
    "\n",
    "comillas_dobles = \"permite usar 'comillas' simples\"\n",
    "\n",
    "comillas_simples\n",
    "comillas_dobles"
   ]
  },
  {
   "cell_type": "code",
   "execution_count": 40,
   "metadata": {},
   "outputs": [
    {
     "name": "stdout",
     "output_type": "stream",
     "text": [
      "Hola. Mi número favorito es: \n"
     ]
    }
   ],
   "source": [
    "var_str = 'Hola. Mi número favorito es: '\n",
    "print(var_str)"
   ]
  },
  {
   "cell_type": "code",
   "execution_count": 41,
   "metadata": {},
   "outputs": [
    {
     "name": "stdout",
     "output_type": "stream",
     "text": [
      "3\n"
     ]
    }
   ],
   "source": [
    "fav_num = 3\n",
    "print(fav_num)"
   ]
  },
  {
   "cell_type": "code",
   "execution_count": 46,
   "metadata": {},
   "outputs": [
    {
     "name": "stdout",
     "output_type": "stream",
     "text": [
      "Hola. Mi número favorito es: 3\n",
      "que ondas\n",
      "holassss\n"
     ]
    }
   ],
   "source": [
    "full_str = var_str + str(fav_num) \n",
    "print(full_str)\n",
    "my_com = '''que ondas\n",
    "holassss'''\n",
    "print(my_com)"
   ]
  },
  {
   "cell_type": "markdown",
   "metadata": {},
   "source": [
    "Por ahora, obtendrás el siguiente error:\n",
    "\n",
    "``\n",
    "TypeError: can only concatenate str (not \"int\") to str\n",
    "``\n",
    "\n",
    "Google será nuestro mejor amigo cuando obtengamos errores. Pongamos eso a prueba. Tome ese error (todo tal cual lo obtuvimos) y pegalo en Google. El primer enlace debe ser [this page] (http://stackoverflow.com/questions/11844072/python-typeerror-cannot-concatenate-str-and-int-objects), una publicación de stackoverflow que explica qué significa este error y cómo arreglalo. Al leer las primeras cinco publicaciones allí, vemos que podemos solucionarlo si simplemente lanzamos un `str` alrededor de la variable` my_fav_num` anterior. Esto significa la linea\n",
    "\n",
    "`full_str = var_str + fav_num `\n",
    "\n",
    "se convertirá:\n",
    "\n",
    "`full_str = var_str + str (fav_num)`.\n",
    "\n",
    "Realice este cambio arriba y luego vuelva a ejecutar todo su código."
   ]
  },
  {
   "cell_type": "markdown",
   "metadata": {},
   "source": [
    "### 5.2.5 Conjunto (Set)\n",
    "\n",
    "1.- Es una colección desordenada de elementos únicos: se eliminan los duplicados. \n",
    "\n",
    "2.- Los elementos se encuentran contenidos dentro de llaves {} y son separados por comas. \n",
    "\n",
    "3.- Al ser desordenados, no se pueden extraer elementos dentro de ellos\n"
   ]
  },
  {
   "cell_type": "code",
   "execution_count": 47,
   "metadata": {},
   "outputs": [
    {
     "name": "stdout",
     "output_type": "stream",
     "text": [
      "{1, 2, 3, 4, 'perro', 'hola'}\n"
     ]
    }
   ],
   "source": [
    "# Definición de un conjunto \n",
    "Set={1,2,3,4,'perro','perro',2, 'hola'}\n",
    "print(Set)\n"
   ]
  },
  {
   "cell_type": "code",
   "execution_count": 48,
   "metadata": {},
   "outputs": [
    {
     "ename": "TypeError",
     "evalue": "'set' object is not subscriptable",
     "output_type": "error",
     "traceback": [
      "\u001b[0;31m---------------------------------------------------------------------------\u001b[0m",
      "\u001b[0;31mTypeError\u001b[0m                                 Traceback (most recent call last)",
      "\u001b[0;32m<ipython-input-48-f07858528f09>\u001b[0m in \u001b[0;36m<module>\u001b[0;34m\u001b[0m\n\u001b[1;32m      1\u001b[0m \u001b[0;31m#No es posible recuperar un elemento del conjunto\u001b[0m\u001b[0;34m\u001b[0m\u001b[0;34m\u001b[0m\u001b[0;34m\u001b[0m\u001b[0m\n\u001b[0;32m----> 2\u001b[0;31m \u001b[0mSet\u001b[0m\u001b[0;34m[\u001b[0m\u001b[0;36m3\u001b[0m\u001b[0;34m]\u001b[0m\u001b[0;34m\u001b[0m\u001b[0;34m\u001b[0m\u001b[0m\n\u001b[0m",
      "\u001b[0;31mTypeError\u001b[0m: 'set' object is not subscriptable"
     ]
    }
   ],
   "source": [
    "#No es posible recuperar un elemento del conjunto\n",
    "Set[3]"
   ]
  },
  {
   "cell_type": "markdown",
   "metadata": {},
   "source": [
    "### 5.2.6 Diccionario \n",
    "\n",
    "1.- Es una coleccion desordenada de elementos pareados: una llave e información asignada.\n",
    "\n",
    "2.- Estan optimizados para recuperar la información siempre y cuando se conozca la llave qu se desea. \n",
    "\n",
    "3.- Contenidos entre llaves {}, cada uno de los pares poseen la estructura llave:información y son separados con comas. "
   ]
  },
  {
   "cell_type": "code",
   "execution_count": null,
   "metadata": {},
   "outputs": [],
   "source": [
    "#Definicion de un diccionario simple \n",
    "ficha_bibliografica = {\"Nombre\" : \"Alejandro\", \"Edad\" : 26,\n",
    "                       \"Apellido\" : \"Pérez\",\"Sexo\": 'Feme nino'}\n",
    "\n",
    "# Recuperación del nombre dentro del diccionario \n",
    "print(ficha_bibliografica['Nombre'])\n",
    "print()\n",
    "print(ficha_bibliografica['Sexo'])"
   ]
  },
  {
   "cell_type": "code",
   "execution_count": null,
   "metadata": {},
   "outputs": [],
   "source": [
    "# Podemos definir un diccionario donde se utilicen diccionarios como \n",
    "#informacion contenida\n",
    "Alumnos={\n",
    "    1:{'Nombre':'Alejandro','Apellido':'López'},\n",
    "    2:{'Nombre':'Israel','Apellido':'Martínez'},\n",
    "    3:{'Nombre':'Luis','Apellido':'Garza'},\n",
    "    }\n",
    "\n",
    "#Recuperación de la información de un alumno específico  \n",
    "print(Alumnos[1])\n"
   ]
  },
  {
   "cell_type": "code",
   "execution_count": null,
   "metadata": {},
   "outputs": [],
   "source": [
    "#Recuperación del apellido de un alumno \n",
    "print(Alumnos[3]['Apellido'])"
   ]
  },
  {
   "cell_type": "code",
   "execution_count": 1,
   "metadata": {},
   "outputs": [
    {
     "data": {
      "text/plain": [
       "{'Tamaulipas': 'Cd Victoria',\n",
       " 'Nuevo León': 'Monterrey',\n",
       " 'Jalisco': 'Guadalajara'}"
      ]
     },
     "execution_count": 1,
     "metadata": {},
     "output_type": "execute_result"
    }
   ],
   "source": [
    "estados_caps_dict = {'Tamaulipas': 'Cd Victoria', 'Nuevo León': 'Monterrey', 'Jalisco': 'Guadalajara'}\n",
    "estados_caps_dict"
   ]
  },
  {
   "cell_type": "code",
   "execution_count": 3,
   "metadata": {},
   "outputs": [
    {
     "ename": "KeyError",
     "evalue": "'Durango'",
     "output_type": "error",
     "traceback": [
      "\u001b[1;31m---------------------------------------------------------------------------\u001b[0m",
      "\u001b[1;31mKeyError\u001b[0m                                  Traceback (most recent call last)",
      "\u001b[1;32m<ipython-input-3-cfa4e69daab1>\u001b[0m in \u001b[0;36m<module>\u001b[1;34m\u001b[0m\n\u001b[1;32m----> 1\u001b[1;33m \u001b[0mestados_caps_dict\u001b[0m\u001b[1;33m[\u001b[0m\u001b[1;34m'Durango'\u001b[0m\u001b[1;33m]\u001b[0m\u001b[1;33m\u001b[0m\u001b[1;33m\u001b[0m\u001b[0m\n\u001b[0m",
      "\u001b[1;31mKeyError\u001b[0m: 'Durango'"
     ]
    }
   ],
   "source": [
    "estados_caps_dict['Durango']"
   ]
  },
  {
   "cell_type": "code",
   "execution_count": 4,
   "metadata": {},
   "outputs": [
    {
     "data": {
      "text/plain": [
       "'No se encuentra'"
      ]
     },
     "execution_count": 4,
     "metadata": {},
     "output_type": "execute_result"
    }
   ],
   "source": [
    "estados_caps_dict.get('Durango','No se encuentra')"
   ]
  },
  {
   "cell_type": "code",
   "execution_count": 5,
   "metadata": {},
   "outputs": [
    {
     "data": {
      "text/plain": [
       "'Cd Victoria'"
      ]
     },
     "execution_count": 5,
     "metadata": {},
     "output_type": "execute_result"
    }
   ],
   "source": [
    "estados_caps_dict.get('Tamaulipas','No se encuentra')"
   ]
  },
  {
   "cell_type": "code",
   "execution_count": 8,
   "metadata": {},
   "outputs": [
    {
     "data": {
      "text/plain": [
       "dict_keys(['Tamaulipas', 'Nuevo León', 'Jalisco'])"
      ]
     },
     "execution_count": 8,
     "metadata": {},
     "output_type": "execute_result"
    }
   ],
   "source": [
    "#para obtener loas claves de los diccionarios (key:value)\n",
    "estados_caps_dict.keys()"
   ]
  },
  {
   "cell_type": "code",
   "execution_count": 9,
   "metadata": {},
   "outputs": [
    {
     "data": {
      "text/plain": [
       "dict_values(['Cd Victoria', 'Monterrey', 'Guadalajara'])"
      ]
     },
     "execution_count": 9,
     "metadata": {},
     "output_type": "execute_result"
    }
   ],
   "source": [
    "#para obtener los valores de cada key\n",
    "estados_caps_dict.values()"
   ]
  },
  {
   "cell_type": "code",
   "execution_count": 10,
   "metadata": {},
   "outputs": [
    {
     "data": {
      "text/plain": [
       "dict_items([('Tamaulipas', 'Cd Victoria'), ('Nuevo León', 'Monterrey'), ('Jalisco', 'Guadalajara')])"
      ]
     },
     "execution_count": 10,
     "metadata": {},
     "output_type": "execute_result"
    }
   ],
   "source": [
    "estados_caps_dict.items()"
   ]
  },
  {
   "cell_type": "code",
   "execution_count": 11,
   "metadata": {},
   "outputs": [
    {
     "data": {
      "text/plain": [
       "{'Tamaulipas': 'Cd Victoria',\n",
       " 'Nuevo León': 'Monterrey',\n",
       " 'Jalisco': 'Guadalajara'}"
      ]
     },
     "execution_count": 11,
     "metadata": {},
     "output_type": "execute_result"
    }
   ],
   "source": [
    "estados_caps_dict"
   ]
  },
  {
   "cell_type": "code",
   "execution_count": 12,
   "metadata": {},
   "outputs": [
    {
     "data": {
      "text/plain": [
       "{'Nuevo León': 'Monterrey', 'Jalisco': 'Guadalajara'}"
      ]
     },
     "execution_count": 12,
     "metadata": {},
     "output_type": "execute_result"
    }
   ],
   "source": [
    "del estados_caps_dict['Tamaulipas']\n",
    "estados_caps_dict"
   ]
  },
  {
   "cell_type": "code",
   "execution_count": 15,
   "metadata": {},
   "outputs": [
    {
     "data": {
      "text/plain": [
       "{'Jalisco': 'Guadalajara'}"
      ]
     },
     "execution_count": 15,
     "metadata": {},
     "output_type": "execute_result"
    }
   ],
   "source": [
    "#con el .pop() busca la palabra clave que le pasemos, si la encuentra la elimina\n",
    "#si no devuelve un error\n",
    "estados_caps_dict.pop('Nuevo León')\n",
    "estados_caps_dict\n"
   ]
  },
  {
   "cell_type": "markdown",
   "metadata": {},
   "source": [
    "Arriba, le preguntamos a estados_caps_dict el valor asociado con la clave 'Durango', y le dijimos que devolviera 'No se encuentra' si la palabra clave no estaba en el diccionario. Y obtuvimos \"No se encuentra\". Esto tiene sentido porque sabemos que 'Durango' no está en el diccionario."
   ]
  },
  {
   "cell_type": "markdown",
   "metadata": {},
   "source": [
    "## 5.3 Operaciones sobre variables\n",
    "\n",
    "### 5.3.1 Operaciones aritméticas \n",
    "\n",
    "Los datos del tipo numéricos poseen nativamente solo las operaciones básicas\n"
   ]
  },
  {
   "cell_type": "code",
   "execution_count": 49,
   "metadata": {},
   "outputs": [
    {
     "data": {
      "text/plain": [
       "5"
      ]
     },
     "execution_count": 49,
     "metadata": {},
     "output_type": "execute_result"
    },
    {
     "data": {
      "text/plain": [
       "-1"
      ]
     },
     "execution_count": 49,
     "metadata": {},
     "output_type": "execute_result"
    },
    {
     "data": {
      "text/plain": [
       "6"
      ]
     },
     "execution_count": 49,
     "metadata": {},
     "output_type": "execute_result"
    },
    {
     "data": {
      "text/plain": [
       "0.6666666666666666"
      ]
     },
     "execution_count": 49,
     "metadata": {},
     "output_type": "execute_result"
    },
    {
     "data": {
      "text/plain": [
       "8"
      ]
     },
     "execution_count": 49,
     "metadata": {},
     "output_type": "execute_result"
    }
   ],
   "source": [
    "# Suma (+)\n",
    "2+3\n",
    "\n",
    "# Resta (-)       \n",
    "2-3\n",
    "\n",
    "# Multiplicación (*) \n",
    "2*3\n",
    "\n",
    "# División (/)\n",
    "2/3\n",
    "\n",
    "# Exponente (**)     \n",
    "2**3 "
   ]
  },
  {
   "cell_type": "code",
   "execution_count": 59,
   "metadata": {},
   "outputs": [
    {
     "data": {
      "text/plain": [
       "0.875"
      ]
     },
     "execution_count": 59,
     "metadata": {},
     "output_type": "execute_result"
    }
   ],
   "source": [
    "7 / 8 # floating point division"
   ]
  },
  {
   "cell_type": "code",
   "execution_count": 53,
   "metadata": {},
   "outputs": [
    {
     "data": {
      "text/plain": [
       "0"
      ]
     },
     "execution_count": 53,
     "metadata": {},
     "output_type": "execute_result"
    }
   ],
   "source": [
    "7 // 8 # floor/integer division"
   ]
  },
  {
   "cell_type": "code",
   "execution_count": 54,
   "metadata": {},
   "outputs": [
    {
     "data": {
      "text/plain": [
       "0"
      ]
     },
     "execution_count": 54,
     "metadata": {},
     "output_type": "execute_result"
    }
   ],
   "source": [
    "7 // 8 # Int / Int"
   ]
  },
  {
   "cell_type": "code",
   "execution_count": 52,
   "metadata": {},
   "outputs": [
    {
     "data": {
      "text/plain": [
       "0.0"
      ]
     },
     "execution_count": 52,
     "metadata": {},
     "output_type": "execute_result"
    }
   ],
   "source": [
    "7.0 // 8.0 # Float / Float"
   ]
  },
  {
   "cell_type": "code",
   "execution_count": null,
   "metadata": {},
   "outputs": [],
   "source": [
    "7 / 8.0 # Int / Float"
   ]
  },
  {
   "cell_type": "code",
   "execution_count": 56,
   "metadata": {},
   "outputs": [
    {
     "data": {
      "text/plain": [
       "0.875"
      ]
     },
     "execution_count": 56,
     "metadata": {},
     "output_type": "execute_result"
    }
   ],
   "source": [
    "7 / 8. # Int / Float"
   ]
  },
  {
   "cell_type": "code",
   "execution_count": 55,
   "metadata": {},
   "outputs": [
    {
     "data": {
      "text/plain": [
       "0"
      ]
     },
     "execution_count": 55,
     "metadata": {},
     "output_type": "execute_result"
    }
   ],
   "source": [
    "int(7 / 8.) # Int(Int / Float)"
   ]
  },
  {
   "cell_type": "code",
   "execution_count": 57,
   "metadata": {},
   "outputs": [
    {
     "data": {
      "text/plain": [
       "10"
      ]
     },
     "execution_count": 57,
     "metadata": {},
     "output_type": "execute_result"
    }
   ],
   "source": [
    "71 // 7"
   ]
  },
  {
   "cell_type": "code",
   "execution_count": 58,
   "metadata": {},
   "outputs": [
    {
     "data": {
      "text/plain": [
       "1"
      ]
     },
     "execution_count": 58,
     "metadata": {},
     "output_type": "execute_result"
    }
   ],
   "source": [
    "71 % 7"
   ]
  },
  {
   "cell_type": "markdown",
   "metadata": {},
   "source": [
    "Preguntas de operadores\n",
    "\n",
    "¿Cuáles cree que serán los resultados de los siguientes cálculos? int o float?\n",
    "\n",
    "8.0 - 7 float\n",
    "\n",
    "8 * 0.25 float\n",
    "\n",
    "5 ** 2 int\n",
    "\n",
    "(4 + 3) / 6 float\n",
    "\n",
    "(20/3)% 2 int"
   ]
  },
  {
   "cell_type": "markdown",
   "metadata": {},
   "source": [
    "### 5.3.2 Operaciones con strings"
   ]
  },
  {
   "cell_type": "markdown",
   "metadata": {},
   "source": [
    "Entre las operaciones más comunes estan la concatenación, repetición y la conversión de los elementos en mínusculas o mayúsculas. Para ver todas las posibles operaciones: https://www.tutorialspoint.com/python/python_strings.htm"
   ]
  },
  {
   "cell_type": "code",
   "execution_count": 61,
   "metadata": {},
   "outputs": [
    {
     "name": "stdout",
     "output_type": "stream",
     "text": [
      "Hola mundo\n",
      "HolaHolamundo\n",
      "HOLA MUNDO\n",
      "hola mundo\n"
     ]
    }
   ],
   "source": [
    "a='Hola'\n",
    "b='mundo'\n",
    "\n",
    "texto = a +' '+b\n",
    "print(texto)\n",
    "\n",
    "texto2 = a*2+b\n",
    "print(texto2)\n",
    "\n",
    "texto3=texto.upper()\n",
    "print(texto3)\n",
    "texto4=texto3.lower()\n",
    "print(texto4)"
   ]
  },
  {
   "cell_type": "markdown",
   "metadata": {},
   "source": [
    "### 5.3.3 Operaciones con listas\n",
    "\n",
    "Las operaciones básicas sobre las listas son las mismas que para los strings\n"
   ]
  },
  {
   "cell_type": "code",
   "execution_count": 63,
   "metadata": {},
   "outputs": [
    {
     "name": "stdout",
     "output_type": "stream",
     "text": [
      "[1, 2, 3, 4, 5, 6, 7, 8, 9, 10]\n",
      "[1, 2, 3, 4, 5, 1, 2, 3, 4, 5, 6, 7, 8, 9, 10]\n"
     ]
    },
    {
     "ename": "TypeError",
     "evalue": "can't multiply sequence by non-int of type 'list'",
     "output_type": "error",
     "traceback": [
      "\u001b[0;31m---------------------------------------------------------------------------\u001b[0m",
      "\u001b[0;31mTypeError\u001b[0m                                 Traceback (most recent call last)",
      "\u001b[0;32m<ipython-input-63-c95a269fdace>\u001b[0m in \u001b[0;36m<module>\u001b[0;34m\u001b[0m\n\u001b[1;32m      6\u001b[0m \u001b[0mprint\u001b[0m\u001b[0;34m(\u001b[0m\u001b[0mnumeros\u001b[0m\u001b[0;34m)\u001b[0m\u001b[0;34m\u001b[0m\u001b[0;34m\u001b[0m\u001b[0m\n\u001b[1;32m      7\u001b[0m \u001b[0;34m\u001b[0m\u001b[0m\n\u001b[0;32m----> 8\u001b[0;31m \u001b[0mbajos\u001b[0m\u001b[0;34m*\u001b[0m\u001b[0maltos\u001b[0m\u001b[0;34m\u001b[0m\u001b[0;34m\u001b[0m\u001b[0m\n\u001b[0m",
      "\u001b[0;31mTypeError\u001b[0m: can't multiply sequence by non-int of type 'list'"
     ]
    }
   ],
   "source": [
    "bajos = [1, 2, 3, 4, 5]\n",
    "altos = [6, 7, 8, 9, 10]\n",
    "numeros = bajos + altos\n",
    "print(numeros)\n",
    "numeros = 2*bajos + altos\n",
    "print(numeros)\n",
    "\n",
    "bajos*altos"
   ]
  },
  {
   "cell_type": "markdown",
   "metadata": {},
   "source": [
    "### 5.3.4 Comparadores\n",
    "\n",
    "Devuelven valores de cierto o falso en caso de que se cumplan o no la condicion que imponen. Pueden ser aplicados cualquier elemento "
   ]
  },
  {
   "cell_type": "code",
   "execution_count": 64,
   "metadata": {},
   "outputs": [
    {
     "data": {
      "text/plain": [
       "True"
      ]
     },
     "execution_count": 64,
     "metadata": {},
     "output_type": "execute_result"
    }
   ],
   "source": [
    "5 < 6 # Menor que"
   ]
  },
  {
   "cell_type": "code",
   "execution_count": 65,
   "metadata": {},
   "outputs": [
    {
     "data": {
      "text/plain": [
       "True"
      ]
     },
     "execution_count": 65,
     "metadata": {},
     "output_type": "execute_result"
    }
   ],
   "source": [
    "5 <= 6 # Menor o igual a"
   ]
  },
  {
   "cell_type": "code",
   "execution_count": 67,
   "metadata": {},
   "outputs": [
    {
     "data": {
      "text/plain": [
       "True"
      ]
     },
     "execution_count": 67,
     "metadata": {},
     "output_type": "execute_result"
    }
   ],
   "source": [
    "6 > 5 # Mayor que"
   ]
  },
  {
   "cell_type": "code",
   "execution_count": 68,
   "metadata": {},
   "outputs": [
    {
     "data": {
      "text/plain": [
       "True"
      ]
     },
     "execution_count": 68,
     "metadata": {},
     "output_type": "execute_result"
    }
   ],
   "source": [
    "6 >= 5 # Mayor o igual a"
   ]
  },
  {
   "cell_type": "code",
   "execution_count": 69,
   "metadata": {},
   "outputs": [
    {
     "data": {
      "text/plain": [
       "True"
      ]
     },
     "execution_count": 69,
     "metadata": {},
     "output_type": "execute_result"
    }
   ],
   "source": [
    "6 == 6 # Igual a"
   ]
  },
  {
   "cell_type": "code",
   "execution_count": 70,
   "metadata": {},
   "outputs": [
    {
     "data": {
      "text/plain": [
       "True"
      ]
     },
     "execution_count": 70,
     "metadata": {},
     "output_type": "execute_result"
    }
   ],
   "source": [
    "6 != 5 # Diferente a (No igual a)"
   ]
  },
  {
   "cell_type": "code",
   "execution_count": 73,
   "metadata": {},
   "outputs": [
    {
     "name": "stdout",
     "output_type": "stream",
     "text": [
      "True\n",
      "True\n",
      "[-1, 2, 3]\n"
     ]
    }
   ],
   "source": [
    "x = [1, 2, 3]\n",
    "y = [1, 2, 3]\n",
    "yy=x\n",
    "print(x == y)\n",
    "print(x is yy)\n",
    "yy[0] = -1\n",
    "print(x)"
   ]
  },
  {
   "cell_type": "code",
   "execution_count": 72,
   "metadata": {},
   "outputs": [
    {
     "data": {
      "text/plain": [
       "True"
      ]
     },
     "execution_count": 72,
     "metadata": {},
     "output_type": "execute_result"
    }
   ],
   "source": [
    "type(x) is list"
   ]
  },
  {
   "cell_type": "markdown",
   "metadata": {},
   "source": [
    "### 5.3.5 Operadores lógicos\n"
   ]
  },
  {
   "cell_type": "code",
   "execution_count": null,
   "metadata": {},
   "outputs": [],
   "source": [
    "variable_or = True or False\n",
    "variable_and = True and False\n",
    "variable_not = not False"
   ]
  },
  {
   "cell_type": "markdown",
   "metadata": {},
   "source": [
    "### 5.3.6 El operador \"in\""
   ]
  },
  {
   "cell_type": "markdown",
   "metadata": {},
   "source": [
    "El operador \"in\" se utiliza para comprobar si existe un objeto especificado dentro de un objeto iterable, tal como una lista:"
   ]
  },
  {
   "cell_type": "code",
   "execution_count": 74,
   "metadata": {},
   "outputs": [
    {
     "data": {
      "text/plain": [
       "True"
      ]
     },
     "execution_count": 74,
     "metadata": {},
     "output_type": "execute_result"
    }
   ],
   "source": [
    "\"Carl\" in [\"Carl\", \"Edo\", \"Rick\"]"
   ]
  },
  {
   "cell_type": "markdown",
   "metadata": {},
   "source": [
    "## 6 Control de flujo\n",
    "\n",
    "Para indicar la anidación de las funciones, Python usa la sangría de 4 espacios. "
   ]
  },
  {
   "cell_type": "markdown",
   "metadata": {},
   "source": [
    "### 6.1 Condicional  - If\n",
    "\"If\" se utiliza para la ejecución condicional, es decir, \"If\" ejecuta algún código específico después de comprobar si su expresión es verdadera."
   ]
  },
  {
   "cell_type": "code",
   "execution_count": 76,
   "metadata": {},
   "outputs": [
    {
     "name": "stdout",
     "output_type": "stream",
     "text": [
      "Cero\n"
     ]
    }
   ],
   "source": [
    "# Otorgamos un valor a una variable \n",
    "x = 0\n",
    "\n",
    "# Establecemos la condición inicial: Si la variable es menor a cero\n",
    "if x < 0:\n",
    "    # Cambiamos el numero negativo a cero\n",
    "    x = 0\n",
    "    print('Cambiamos el negativo a cero')\n",
    "    # Si la variable es cero, imprimimos la palabra cero \n",
    "elif x == 0:\n",
    "    print('Cero')\n",
    "    #Si la variable es uno, imprimimos único \n",
    "elif x == 1:\n",
    "    print('Unico')\n",
    "    #Si no se cumple ninguna de las condiciones, imprime \"mayor\"\n",
    "else:\n",
    "    print('More')"
   ]
  },
  {
   "cell_type": "code",
   "execution_count": 77,
   "metadata": {},
   "outputs": [
    {
     "name": "stdout",
     "output_type": "stream",
     "text": [
      "Adios\n"
     ]
    }
   ],
   "source": [
    "# Dependiendo una variable imprime un mensaje: \n",
    "#      Si es menor a cero, imprime 'Hola'\n",
    "#      Si es mayor o igual a cero, imprime 'Adios'\n",
    "\n",
    "#Creamos la variable \n",
    "x=4\n",
    "\n",
    "if x<0: \n",
    "    print('Hola')\n",
    "else:\n",
    "    print('Adios')"
   ]
  },
  {
   "cell_type": "markdown",
   "metadata": {},
   "source": [
    "### 6.2  Continuar hasta - for\n",
    "\n",
    "Indica la iteración de un proceso un número finito de veces, cuyos indices de inicio y paro estan definidos por una tupla o una lista. "
   ]
  },
  {
   "cell_type": "code",
   "execution_count": 79,
   "metadata": {},
   "outputs": [
    {
     "name": "stdout",
     "output_type": "stream",
     "text": [
      "0\n",
      "1\n",
      "2\n",
      "3\n",
      "1\n",
      "2\n",
      "3\n",
      "4\n",
      "5\n"
     ]
    }
   ],
   "source": [
    "# Para cada elemento i contenido en el rango, imprime su valor \n",
    "for i in range(4): \n",
    "    print(i)\n",
    "\n",
    "my_list = [1,2,3,4,5]\n",
    "for x in my_list:\n",
    "    print(x)"
   ]
  },
  {
   "cell_type": "code",
   "execution_count": 80,
   "metadata": {},
   "outputs": [
    {
     "name": "stdout",
     "output_type": "stream",
     "text": [
      "range(0, 4)\n"
     ]
    }
   ],
   "source": [
    "# Nota: funcion rango: es un elemento propio de Python que se parece a una lista, !no es una lista!\n",
    "\n",
    "#Definan un rango  \n",
    "ran=range(4)\n",
    "\n",
    "#Imprimamos el valor\n",
    "print(ran)\n"
   ]
  },
  {
   "cell_type": "code",
   "execution_count": null,
   "metadata": {},
   "outputs": [],
   "source": [
    "# Para ver la lista contenida en el rango, usamos list()\n",
    "print(list(ran))"
   ]
  },
  {
   "cell_type": "code",
   "execution_count": 81,
   "metadata": {},
   "outputs": [
    {
     "name": "stdout",
     "output_type": "stream",
     "text": [
      "Python es cool\n",
      "Python es poderoso\n",
      "Python es fácil\n"
     ]
    }
   ],
   "source": [
    "# Para cada elemento 'palaba' en la tupla, \n",
    "for palabra in ('cool', 'poderoso', 'fácil'):\n",
    "    # Completa la frase \n",
    "    print('Python es %s' % palabra)"
   ]
  },
  {
   "cell_type": "markdown",
   "metadata": {},
   "source": [
    "### 6.3 Mientras que-  While\n",
    "\n",
    "\n",
    "Indica la iteración de un proceso de \n",
    "While se utiliza para la ejecución repetida, siempre y cuando se cumpla alguna condición"
   ]
  },
  {
   "cell_type": "code",
   "execution_count": 83,
   "metadata": {},
   "outputs": [
    {
     "name": "stdout",
     "output_type": "stream",
     "text": [
      "0\n",
      "1\n",
      "2\n"
     ]
    }
   ],
   "source": [
    "contador = 0\n",
    "while contador < 3:\n",
    "    print(contador)\n",
    "    contador += 1  #contador = contador + 1"
   ]
  }
 ],
 "metadata": {
  "kernelspec": {
   "display_name": "Python 3",
   "language": "python",
   "name": "python3"
  },
  "language_info": {
   "codemirror_mode": {
    "name": "ipython",
    "version": 3
   },
   "file_extension": ".py",
   "mimetype": "text/x-python",
   "name": "python",
   "nbconvert_exporter": "python",
   "pygments_lexer": "ipython3",
   "version": "3.7.4"
  }
 },
 "nbformat": 4,
 "nbformat_minor": 4
}
