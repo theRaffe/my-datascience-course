{
 "cells": [
  {
   "cell_type": "code",
   "execution_count": null,
   "metadata": {},
   "outputs": [],
   "source": [
    "symbols = '!¡\",;:}{.][-)(_<>?¿$*@#·'\n",
    " # lectura del archivo\n",
    "file = open('8800.txt')\n",
    "first_5000 = file.read()[:5000].split()"
   ]
  },
  {
   "cell_type": "code",
   "execution_count": null,
   "metadata": {},
   "outputs": [],
   "source": [
    "# conteo de numero de palabras\n",
    "print('numero de palabras: ' + str(len(first_5000)))"
   ]
  },
  {
   "cell_type": "code",
   "execution_count": null,
   "metadata": {},
   "outputs": [],
   "source": [
    "# numero de palabras sin limpiar\n",
    "unicas = set(first_5000)"
   ]
  },
  {
   "cell_type": "code",
   "execution_count": null,
   "metadata": {},
   "outputs": [],
   "source": [
    "print('palabras simples (sin limpieza): ' + str(len(unicas)))"
   ]
  },
  {
   "cell_type": "code",
   "execution_count": null,
   "metadata": {},
   "outputs": [],
   "source": [
    "# numero de palabras sin limpiar\n",
    "unicas = set(first_5000)\n",
    "print('palabras simples (sin limpieza): ' + str(len(unicas)))"
   ]
  },
  {
   "cell_type": "code",
   "execution_count": null,
   "metadata": {},
   "outputs": [],
   "source": [
    "# numero de palabras en minuscula\n",
    "unicas_lower = set([w.lower() for w in first_5000])\n",
    "print('palabras simples (en minuscula): ' + str(len(unicas_lower)))"
   ]
  },
  {
   "cell_type": "code",
   "execution_count": null,
   "metadata": {},
   "outputs": [],
   "source": [
    "# numero de palabras limpias\n",
    "unicas_real = set([clear(w.lower()) for w in first_5000])   \n",
    "len(set(unicas_real))"
   ]
  },
  {
   "cell_type": "code",
   "execution_count": null,
   "metadata": {},
   "outputs": [],
   "source": [
    "#funcion para buscar una palabra\n",
    "def find(word_to_find):\n",
    "    nw = 0\n",
    "    for word in first_5000: \n",
    "        if word_to_find.lower() in clear(word.lower()): nw += 1\n",
    "    return nw\n",
    "    \n",
    "    \n",
    "palabra = input()\n",
    "print('Número de palabras \"{}\": {}'.format(palabra, find(palabra)))"
   ]
  },
  {
   "cell_type": "code",
   "execution_count": null,
   "metadata": {},
   "outputs": [],
   "source": [
    "#dicc de palabras con su número de apariciones.\n",
    "\n",
    "def apariciones():\n",
    "    return { word: find(word) for word in unicas }\n",
    "\n",
    "print(apariciones())"
   ]
  },
  {
   "cell_type": "code",
   "execution_count": null,
   "metadata": {},
   "outputs": [],
   "source": [
    "# funcion para eliminar simbolos\n",
    "def clear(word):\n",
    "    symbols = '!¡\",;:}{.][-)(_<>?¿$*@#·'\n",
    "    cw = ''\n",
    "    for w in word:\n",
    "        if w not in symbols:\n",
    "            cw += w\n",
    "    return cw\n",
    "\n",
    "clear('hola%&%')"
   ]
  }
 ],
 "metadata": {
  "kernelspec": {
   "display_name": "Python 3",
   "language": "python",
   "name": "python3"
  },
  "language_info": {
   "codemirror_mode": {
    "name": "ipython",
    "version": 3
   },
   "file_extension": ".py",
   "mimetype": "text/x-python",
   "name": "python",
   "nbconvert_exporter": "python",
   "pygments_lexer": "ipython3",
   "version": "3.7.3"
  }
 },
 "nbformat": 4,
 "nbformat_minor": 2
}
