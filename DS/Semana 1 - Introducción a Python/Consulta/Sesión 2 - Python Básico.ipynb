{
 "cells": [
  {
   "cell_type": "markdown",
   "metadata": {},
   "source": [
    "# ¡Bienvenidos a la segunda sesión del Mastery Data Science!\n",
    "\n",
    "## ¡Antes de empezar! \n",
    "\n",
    " 1. Abran Conda Prompt (Windows)/Terminal (MacOs/Linx)\n",
    " 2. Activen el ambiente que crearon *conda activate* y el nombre del ambiente\n",
    "     - Si no se acuerdan pueden usar el comando *conda list* para ver los ambientes posibles \n",
    " 3. Abran Jupyter y comencemos\n",
    "     \n"
   ]
  },
  {
   "cell_type": "markdown",
   "metadata": {},
   "source": [
    "## 8. Estructurando el código \n",
    "\n",
    "Imaginemos que tenemos que hacer una cierta operación múltiples veces dentro de nuestro código o esta operación se realizará en algunos otros programas. Para ayudarnos a segmentar nuestro código, podemos usar funciones y módulos para simplificarnos la vida. \n",
    "\n",
    "### 8.1 Funciones \n",
    "Una función es un segmento de código dentro de nuestro programa al cual se llama para realizar una tarea sin tener que estar copiando el segmento de código siempre\n",
    "\n",
    "#### 8.1.1 Estructura de una función \n",
    "\n",
    "Siempre una función sera construida de la siguiente manera:\n",
    "\n",
    "$$\\textbf{def } \\text{nombre}(\\textit{parámetros}):$$\n",
    "$$ \\textit{Cuerpo de la función}$$\n",
    "$$ \\textbf{return } \\text{objeto}$$\n",
    "\n",
    "- **def** indica que estamos creando una función \n",
    "- **nombre** sera el nombre que usaremos para llamar la función más adelante nuestro código\n",
    "- **parámetros**  entradas necesarias para que nuestro código realice ciertas operaciones\n",
    "- **Cuerpo** Aquí se especifica que las acciones a realizar con los parámetros\n",
    "- **return** Devuelve el objeto que se indica para poder ser usado en nuestro código "
   ]
  },
  {
   "cell_type": "code",
   "execution_count": 1,
   "metadata": {},
   "outputs": [
    {
     "name": "stdout",
     "output_type": "stream",
     "text": [
      "Esto es una prueba\n",
      "Esto es una prueba\n"
     ]
    }
   ],
   "source": [
    "#Ejemplo 1: Definamos nuestra primera función: que solo imprima un texto al ser llamada\n",
    "def prueba():\n",
    "    print('Esto es una prueba')\n",
    "\n",
    "prueba()   \n",
    "prueba()   \n",
    "    "
   ]
  },
  {
   "cell_type": "code",
   "execution_count": 9,
   "metadata": {},
   "outputs": [
    {
     "name": "stdout",
     "output_type": "stream",
     "text": [
      "1\n",
      "1\n"
     ]
    },
    {
     "ename": "TypeError",
     "evalue": "round() missing required argument 'number' (pos 1)",
     "output_type": "error",
     "traceback": [
      "\u001b[0;31m---------------------------------------------------------------------------\u001b[0m",
      "\u001b[0;31mTypeError\u001b[0m                                 Traceback (most recent call last)",
      "\u001b[0;32m<ipython-input-9-7c2a0333eea0>\u001b[0m in \u001b[0;36m<module>\u001b[0;34m\u001b[0m\n\u001b[1;32m      5\u001b[0m \u001b[0;34m\u001b[0m\u001b[0m\n\u001b[1;32m      6\u001b[0m \u001b[0mprint\u001b[0m\u001b[0;34m(\u001b[0m\u001b[0;36m1\u001b[0m\u001b[0;34m%\u001b[0m\u001b[0;36m2\u001b[0m\u001b[0;34m)\u001b[0m\u001b[0;34m\u001b[0m\u001b[0;34m\u001b[0m\u001b[0m\n\u001b[0;32m----> 7\u001b[0;31m \u001b[0mround\u001b[0m\u001b[0;34m(\u001b[0m\u001b[0;34m)\u001b[0m\u001b[0;34m\u001b[0m\u001b[0;34m\u001b[0m\u001b[0m\n\u001b[0m",
      "\u001b[0;31mTypeError\u001b[0m: round() missing required argument 'number' (pos 1)"
     ]
    }
   ],
   "source": [
    "def my_mod(num1, num2):\n",
    "    return num1%num2\n",
    "\n",
    "print(my_mod(1,2))\n",
    "\n",
    "print(1%2)"
   ]
  },
  {
   "cell_type": "code",
   "execution_count": 18,
   "metadata": {},
   "outputs": [
    {
     "name": "stdout",
     "output_type": "stream",
     "text": [
      "[2, 2, 2, 2, 2, 1, 2, 3, 4, 5]\n",
      "Esta es un string con carac no letras \n"
     ]
    }
   ],
   "source": [
    "def my_concat(list1,list2):\n",
    "    return list1 + list2\n",
    "\n",
    "list1 = [2,2,2,2,2]\n",
    "list2 = [1,2,3,4,5]\n",
    "print(my_concat(list1,list2))\n",
    "\n",
    "def remove_strings(my_string):\n",
    "    for carac in '!\"#.$%&/()*':\n",
    "        my_string = my_string.replace(carac, '')\n",
    "    return my_string\n",
    "\n",
    "result = remove_strings('Esta es un string con*** carac no letras !\"$#&///')\n",
    "print(result)"
   ]
  },
  {
   "cell_type": "code",
   "execution_count": 2,
   "metadata": {},
   "outputs": [
    {
     "name": "stdout",
     "output_type": "stream",
     "text": [
      "El área es igual a 12.566370616\n",
      "\n",
      "El área es igual a 615.752160184\n",
      "12.566370616\n"
     ]
    }
   ],
   "source": [
    "#Ejercicio 2: Función que calcula el área de un círculo al ingresar el radio de éste\n",
    "def area_cir(rad): \n",
    "    A=3.141592654*rad**2\n",
    "    print('El área es igual a '+str(A))\n",
    "    return A\n",
    "\n",
    "#Asignamos el valor a una variable \n",
    "K=area_cir(2)\n",
    "print()\n",
    "\n",
    "area_cir(14)\n",
    "\n",
    "#Imprimimos el valor asignado a la variable\n",
    "print(K) "
   ]
  },
  {
   "cell_type": "markdown",
   "metadata": {},
   "source": [
    "### 8.2 Métodos\n",
    "\n",
    "Cada uno de los objetos creados poseen ciertas funciones propias dependiendo del tipo de \n",
    "\n",
    " ¿Como podemos saber cuales existen? Podemos escribir el **nombre del objeto.** y presionar la tecla tab \n",
    " \n",
    " Para mayor referencia: https://www.programiz.com/python-programming/methods/"
   ]
  },
  {
   "cell_type": "code",
   "execution_count": 19,
   "metadata": {},
   "outputs": [
    {
     "name": "stdout",
     "output_type": "stream",
     "text": [
      "A=[0, 1, 2, 3, 4, 5, 6, 7, 8, 9, 10]\n",
      "B=[9, 10, 11, 12, 13]\n",
      "\n",
      "A=[0, 1, 2, 3, 4, 5, 6, 7, 8, 9, 10, 5]\n",
      "\n",
      "A=[0, 1, 2, 3, 4, 5, 6, 7, 8, 9, 10, 5, 9, 10, 11, 12, 13]\n"
     ]
    }
   ],
   "source": [
    "A=list(range(11))\n",
    "B=list(range(9,14))\n",
    "print('A='+str(A))\n",
    "print('B='+str(B))\n",
    "print()\n",
    "\n",
    "# Agregar un elemento \n",
    "A.append(5)\n",
    "print('A='+str(A))\n",
    "print()\n",
    "\n",
    "# Agrega los elementos de B en A \n",
    "A.extend(B)\n",
    "print('A='+str(A))\n"
   ]
  },
  {
   "cell_type": "markdown",
   "metadata": {},
   "source": [
    "### 9 Paquetes\n",
    "\n",
    "Es un conjunto de módulos y funciones ya incluidas en Python con el fin de realizar operaciones sencillas y comunes. \n",
    "\n",
    "#### 9.1 Importando un paquete \n",
    "\n",
    "La importación de un paquete se realiza mediante el uso del comando **import**. Ciertos paquetes poseen nombres muy largos, por lo que suelen ser renombrados mediante el uso del complemento **as**: \n",
    "\n",
    "$$\\textbf{import }\\text{paquete }\\textbf{as }\\text{renobramiento}$$\n",
    "\n",
    "Dentro de los paquetes existen módulos o funciones espcíficas, a los cuales podemos acceder mediante el uso de la sintaxis **paquete.modulo()**\n",
    "\n",
    "\n",
    "### 9.2 Instalacion de paquetes \n",
    "\n",
    "Algunos paquetes no son incluidos directamente en la ditribución de Python por lo que debemos instarlas mediante el uso de herramientos de manejo de directorios como *pip* o *conda* \n",
    "\n",
    "- Usando *conda*, el propio sistema de manejo de la suite anaconda, en Anaconda prompt o terminal, dependiendo del caso, escribimos **conda install paquete 1 paquete 2 ...**. \n",
    "\n",
    "- Usando *pip*\n",
    "\n",
    "**Nota:** Cuando realicemos la instalación de un cierto paquete, debemos recordar instarlo en el ambiente que estemos utilizando para el proyecto. \n",
    "\n",
    "### 9.3 Paquetes importantes para la ciencia de Datos \n",
    "\n",
    "Aunque existen múltiples paquetes relacionados a una sección de la ciencia de datos, entre los más usados podemos mencionar \n",
    "\n",
    "\n",
    "1. **NumPy:** permite la integración de arreglos númericos de manera semenjante a MATLAB u Octave. Realmente es una manera de utilizar librerias de C, C++ y Fortran para realizar cálculos de manera rápida y eficiente. Información: http://www.numpy.org/\n",
    "\n",
    "\n",
    "2. **PyTorch**: es una de las librerias principales para el manejo de datos, aprendizaje automático, redes neuronales, ente otros. Represeta el peldaño de entrada para mucha gente sobre a estos temas por su simpleza. Información: https://pytorch.org/\n",
    "\n",
    "\n",
    "3. **SciPy:** Proporciona estadísticas, optimizaciones, integración y paquetes de álgebra lineal para computación. Se basa en el concepto NumPy para tratar problemas matemáticos complejos. Información: https://www.scipy.org/\n",
    "\n",
    "4. **Pandas:** Es una biblioteca de código abierto de Python para disponer de estructuras de datos de alto rendimiento y herramientas de análisis la cual se desarrolla sobre el paquete Numpy. Información: https://pandas.pydata.org/\n",
    "\n",
    "5. **SciKit-Learn:** Es una herramienta simple para el análisis de datos y tareas relacionadas con la minería. Es de código abierto y licenciado bajo el BSD. Información: https://scikit-learn.org/stable/\n",
    "\n",
    "6. **Matplotlib:** Esta biblioteca de gráficos 2D es muy famosa entre los científicos de datos por diseñar variedades de figuras en múltiples formatos que son compatible con múltiples plataformas. Información: https://matplotlib.org/\n",
    "\n",
    "7. **Bokeh:** Es una biblioteca de visualización más para diseñar gráficas más atractivas e interactivas. Información: https://bokeh.pydata.org/en/latest/\n",
    "\n",
    "8. **Tensorflow:** Esta biblioteca de código abierto fue diseñada por Google para calcular gráficos de datos bajos con los algoritmos de aprendizaje automático habilitados. Fue diseñado para satisfacer la alta demanda del trabajo de redes neuronales de capacitación. Información: https://www.tensorflow.org/\n",
    "\n"
   ]
  },
  {
   "cell_type": "markdown",
   "metadata": {},
   "source": [
    "## Material de práctica: \n",
    "\n",
    "1. Data Camp https://www.datacamp.com\n",
    "2. Python Scientific lecture notes (documento pdf incluido en la carpeta) "
   ]
  },
  {
   "cell_type": "markdown",
   "metadata": {},
   "source": [
    "## Preparandonos para el proyecto final\n",
    "Algunas preguntas para pensar...\n",
    "\n",
    "Título del Proyecto\n",
    "\n",
    "¿Cuál es el tema de tu proyecto?\n",
    "\n",
    "¿Qué es un resumen: 1 párrafo Resumen ejecutivo de su solución?\n",
    "\n",
    "Declaración del problema y caso de negocios\n",
    "\n",
    "¿Cuál es el problema técnico que está resolviendo?\n",
    "\n",
    "¿Cuál es el caso comercial aplicado para este problema?\n",
    "\n",
    "Perspectiva comercial (es decir, probabilidad, sentimiento, demanda, precio, estrategia de mercado, grupos, automatización)"
   ]
  },
  {
   "cell_type": "code",
   "execution_count": 23,
   "metadata": {},
   "outputs": [
    {
     "data": {
      "text/plain": [
       "['the', 'test', '', 'text', 'test', '', 'Hello']"
      ]
     },
     "execution_count": 23,
     "metadata": {},
     "output_type": "execute_result"
    }
   ],
   "source": [
    "import re\n",
    "\n",
    "a_str = 'the test; text test. Hello'\n",
    "re.split(r\" |(?<![0-9])[.,;](?![0-9])\", a_str)\n",
    "\n",
    "def read_file(fileName, numCarac):\n",
    "    f = open(\"demofile.txt\", \"r\")\n",
    "print(f.read(5))"
   ]
  }
 ],
 "metadata": {
  "kernelspec": {
   "display_name": "Python 3",
   "language": "python",
   "name": "python3"
  },
  "language_info": {
   "codemirror_mode": {
    "name": "ipython",
    "version": 3
   },
   "file_extension": ".py",
   "mimetype": "text/x-python",
   "name": "python",
   "nbconvert_exporter": "python",
   "pygments_lexer": "ipython3",
   "version": "3.7.4"
  }
 },
 "nbformat": 4,
 "nbformat_minor": 4
}
