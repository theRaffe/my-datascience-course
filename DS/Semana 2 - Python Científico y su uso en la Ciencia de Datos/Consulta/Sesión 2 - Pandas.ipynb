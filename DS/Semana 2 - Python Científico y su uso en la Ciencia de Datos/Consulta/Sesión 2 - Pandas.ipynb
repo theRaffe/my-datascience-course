{
 "cells": [
  {
   "cell_type": "markdown",
   "metadata": {
    "colab_type": "text",
    "id": "1RH3yvO_SmiT"
   },
   "source": [
    "# ¡Bienvenidos a la segunda semana del Mastery Data Science: Pandas!\n",
    "\n",
    "### Objetivo de la sesión 2 semana 2: \n",
    "\n",
    "* Conocer las ventajas de utilizar Pandas.\n",
    "* Cargar un conjunto de datos utilizando Pandas.\n",
    "* Conocer y utlilizar las operaciones básicas de Pandas.\n",
    "* Localizar posibles aplicaciones \n",
    "\n"
   ]
  },
  {
   "cell_type": "markdown",
   "metadata": {
    "colab_type": "text",
    "id": "-leRIql3kSHC"
   },
   "source": [
    "#Antes de empezar, un repaso\n",
    "En la última sesión vimos como usar arreglos de Numpy.\n",
    "\n",
    "*   ¿Cómo creas una lista en Python?\n",
    "*   ¿Cómo creas un diccionario en Python?\n",
    "*   ¿Qué librería sirve para crear números aleatorios?\n",
    "*   ¿De qué otra forma les llamamos a las listas?\n",
    "*   ¿Cuáles son las ventajas de usar NumPy?\n",
    "*   ¿Cómo importar la librería de NumPy?\n",
    "*   ¿Cómo se creaba un arreglo de una dimensión en Numpy?\n",
    "*   ¿Cómo se creaba un arreglo de dos dimensiones en Numpy?"
   ]
  },
  {
   "cell_type": "markdown",
   "metadata": {
    "colab_type": "text",
    "id": "JaROqmHB1TiM"
   },
   "source": [
    "# 1. Introducción\n"
   ]
  },
  {
   "cell_type": "markdown",
   "metadata": {
    "colab_type": "text",
    "id": "BjN4gATMosOn"
   },
   "source": [
    "## 1.1 Numpy vs Pandas\n",
    "\n",
    "*Pandas* es un librería de Python para el análisis de datos, la cual esta construida sobre múltiples librerías, entre ellas esta NumPy. Ofrece múltiples herramientas para la exploración, limpieza y trasformación de datos, las cuales son procesos críticos al trabajar con datos en Python. \n",
    "\n"
   ]
  },
  {
   "cell_type": "markdown",
   "metadata": {
    "colab_type": "text",
    "id": "JozyQtQloxAt"
   },
   "source": [
    "## 1.2 Recursos externos\n",
    "\n",
    "Al ser una herramienta tan completa, es imposible cubrir todas sus operaciones en la sesión, por ello recomendamos las siguientes fuentes \n",
    "\n",
    "- Documentación oficial: http://pandas.pydata.org/pandas-docs/stable/\n",
    "- *Python for Data Analysis* por *Wes McKinney*\n",
    "- *Python Data Science Handbook* por Jake VanderPlas\n",
    "\n"
   ]
  },
  {
   "cell_type": "markdown",
   "metadata": {
    "colab_type": "text",
    "id": "_S3bGxQpo1V-"
   },
   "source": [
    "## 1.3 Antes de empezar\n",
    "\n",
    "### 1.3.1 ¿Cómo importar *pandas*? \n",
    "\n",
    "Podemos hacerlo de la manera tradicional y es comunmnete renombrada como *pd*"
   ]
  },
  {
   "cell_type": "code",
   "execution_count": 3,
   "metadata": {
    "colab": {},
    "colab_type": "code",
    "id": "XwPoxhk_pH48"
   },
   "outputs": [],
   "source": [
    "import pandas as pd\n",
    "\n",
    "#Carguemos tambien Numpy para realizar ciertas operaciones\n",
    "import numpy as np "
   ]
  },
  {
   "cell_type": "markdown",
   "metadata": {
    "colab_type": "text",
    "id": "PsEfjS6urtY6"
   },
   "source": [
    "### 1.3.2 Estructuras: Series, Dataframe, Panel \n",
    "\n",
    "Aquí encontraremos las estructuras básicas que se útilizan en Pandas"
   ]
  },
  {
   "cell_type": "markdown",
   "metadata": {
    "colab_type": "text",
    "id": "9yGckAPppLQA"
   },
   "source": [
    "\n",
    "\n",
    "#### Series\n",
    "\n",
    "Es un arreglo unidimensional capaz que puede conter cualquier tipo de datos y poseen una etiqueta para identificación"
   ]
  },
  {
   "cell_type": "code",
   "execution_count": 11,
   "metadata": {
    "colab": {
     "base_uri": "https://localhost:8080/",
     "height": 121
    },
    "colab_type": "code",
    "executionInfo": {
     "elapsed": 490,
     "status": "ok",
     "timestamp": 1556240164843,
     "user": {
      "displayName": "Ludim Sánchez",
      "photoUrl": "",
      "userId": "12330024355847510363"
     },
     "user_tz": 300
    },
    "id": "SsCMoR-sqHWT",
    "outputId": "7ed54576-da7e-4ceb-bac3-ebc62b462708"
   },
   "outputs": [
    {
     "name": "stdout",
     "output_type": "stream",
     "text": [
      "<class 'pandas.core.series.Series'>\n"
     ]
    }
   ],
   "source": [
    "# Creemos nuestra primera Serie desde un arreglo de Numpy\n",
    "s = pd.Series(np.random.randn(5))\n",
    "s\n",
    "print(type(s))"
   ]
  },
  {
   "cell_type": "code",
   "execution_count": 23,
   "metadata": {},
   "outputs": [
    {
     "name": "stdout",
     "output_type": "stream",
     "text": [
      "[0.7  0.75 1.85 2.93 3.05 2.02 1.93 1.62 1.84 1.31 1.39 0.84]\n",
      "<class 'numpy.ndarray'>\n",
      "Jan     0.70\n",
      "Feb     0.75\n",
      "Mar     1.85\n",
      "Apr     2.93\n",
      "May     3.05\n",
      "June    2.02\n",
      "July    1.93\n",
      "Aug     1.62\n",
      "Sept    1.84\n",
      "Oct     1.31\n",
      "Nov     1.39\n",
      "Dec     0.84\n",
      "dtype: float64\n",
      "Jan     17.780\n",
      "Feb     19.050\n",
      "Mar     46.990\n",
      "Apr     74.422\n",
      "May     77.470\n",
      "June    51.308\n",
      "July    49.022\n",
      "Aug     41.148\n",
      "Sept    46.736\n",
      "Oct     33.274\n",
      "Nov     35.306\n",
      "Dec     21.336\n",
      "dtype: float64\n"
     ]
    }
   ],
   "source": [
    "avg_monthly_precip = np.loadtxt(fname = \"data/avg-monthly-precip.txt\")\n",
    "print(avg_monthly_precip)\n",
    "print(type(avg_monthly_precip))\n",
    "months = np.genfromtxt(\"data/months.txt\", dtype='str')\n",
    "m_serie = pd.Series(avg_monthly_precip, index=months)\n",
    "m_serie_ml = m_serie * 25.4\n",
    "print(m_serie)\n",
    "print(m_serie_ml)"
   ]
  },
  {
   "cell_type": "code",
   "execution_count": 13,
   "metadata": {
    "colab": {
     "base_uri": "https://localhost:8080/",
     "height": 121
    },
    "colab_type": "code",
    "executionInfo": {
     "elapsed": 480,
     "status": "ok",
     "timestamp": 1556240167354,
     "user": {
      "displayName": "Ludim Sánchez",
      "photoUrl": "",
      "userId": "12330024355847510363"
     },
     "user_tz": 300
    },
    "id": "z2ZnMZYjqoFq",
    "outputId": "96eff1a8-e261-4492-e88e-7b05f94ab56b"
   },
   "outputs": [
    {
     "data": {
      "text/plain": [
       "a    0.375989\n",
       "b   -0.611937\n",
       "c   -0.155160\n",
       "d   -0.431734\n",
       "e    0.151918\n",
       "dtype: float64"
      ]
     },
     "execution_count": 13,
     "metadata": {},
     "output_type": "execute_result"
    }
   ],
   "source": [
    "# Podemos indicar la etiqueda(índice) de nuestros datos \n",
    "s = pd.Series(np.random.randn(5), index=['a','b','c','d','e'])\n",
    "s"
   ]
  },
  {
   "cell_type": "code",
   "execution_count": null,
   "metadata": {},
   "outputs": [],
   "source": [
    "\n"
   ]
  },
  {
   "cell_type": "code",
   "execution_count": 20,
   "metadata": {
    "colab": {
     "base_uri": "https://localhost:8080/",
     "height": 191
    },
    "colab_type": "code",
    "executionInfo": {
     "elapsed": 6658,
     "status": "ok",
     "timestamp": 1557450547412,
     "user": {
      "displayName": "Ludim Sánchez",
      "photoUrl": "",
      "userId": "12330024355847510363"
     },
     "user_tz": 300
    },
    "id": "ATKdJw-_Owwk",
    "outputId": "0f73598e-e34f-4153-f4de-9819d180c8a0"
   },
   "outputs": [
    {
     "ename": "KeyboardInterrupt",
     "evalue": "",
     "output_type": "error",
     "traceback": [
      "\u001b[0;31m---------------------------------------------------------------------------\u001b[0m",
      "\u001b[0;31mKeyboardInterrupt\u001b[0m                         Traceback (most recent call last)",
      "\u001b[0;32m/opt/anaconda3/lib/python3.7/site-packages/ipykernel/kernelbase.py\u001b[0m in \u001b[0;36m_input_request\u001b[0;34m(self, prompt, ident, parent, password)\u001b[0m\n\u001b[1;32m    884\u001b[0m             \u001b[0;32mtry\u001b[0m\u001b[0;34m:\u001b[0m\u001b[0;34m\u001b[0m\u001b[0;34m\u001b[0m\u001b[0m\n\u001b[0;32m--> 885\u001b[0;31m                 \u001b[0mident\u001b[0m\u001b[0;34m,\u001b[0m \u001b[0mreply\u001b[0m \u001b[0;34m=\u001b[0m \u001b[0mself\u001b[0m\u001b[0;34m.\u001b[0m\u001b[0msession\u001b[0m\u001b[0;34m.\u001b[0m\u001b[0mrecv\u001b[0m\u001b[0;34m(\u001b[0m\u001b[0mself\u001b[0m\u001b[0;34m.\u001b[0m\u001b[0mstdin_socket\u001b[0m\u001b[0;34m,\u001b[0m \u001b[0;36m0\u001b[0m\u001b[0;34m)\u001b[0m\u001b[0;34m\u001b[0m\u001b[0;34m\u001b[0m\u001b[0m\n\u001b[0m\u001b[1;32m    886\u001b[0m             \u001b[0;32mexcept\u001b[0m \u001b[0mException\u001b[0m\u001b[0;34m:\u001b[0m\u001b[0;34m\u001b[0m\u001b[0;34m\u001b[0m\u001b[0m\n",
      "\u001b[0;32m/opt/anaconda3/lib/python3.7/site-packages/jupyter_client/session.py\u001b[0m in \u001b[0;36mrecv\u001b[0;34m(self, socket, mode, content, copy)\u001b[0m\n\u001b[1;32m    802\u001b[0m         \u001b[0;32mtry\u001b[0m\u001b[0;34m:\u001b[0m\u001b[0;34m\u001b[0m\u001b[0;34m\u001b[0m\u001b[0m\n\u001b[0;32m--> 803\u001b[0;31m             \u001b[0mmsg_list\u001b[0m \u001b[0;34m=\u001b[0m \u001b[0msocket\u001b[0m\u001b[0;34m.\u001b[0m\u001b[0mrecv_multipart\u001b[0m\u001b[0;34m(\u001b[0m\u001b[0mmode\u001b[0m\u001b[0;34m,\u001b[0m \u001b[0mcopy\u001b[0m\u001b[0;34m=\u001b[0m\u001b[0mcopy\u001b[0m\u001b[0;34m)\u001b[0m\u001b[0;34m\u001b[0m\u001b[0;34m\u001b[0m\u001b[0m\n\u001b[0m\u001b[1;32m    804\u001b[0m         \u001b[0;32mexcept\u001b[0m \u001b[0mzmq\u001b[0m\u001b[0;34m.\u001b[0m\u001b[0mZMQError\u001b[0m \u001b[0;32mas\u001b[0m \u001b[0me\u001b[0m\u001b[0;34m:\u001b[0m\u001b[0;34m\u001b[0m\u001b[0;34m\u001b[0m\u001b[0m\n",
      "\u001b[0;32m/opt/anaconda3/lib/python3.7/site-packages/zmq/sugar/socket.py\u001b[0m in \u001b[0;36mrecv_multipart\u001b[0;34m(self, flags, copy, track)\u001b[0m\n\u001b[1;32m    474\u001b[0m         \"\"\"\n\u001b[0;32m--> 475\u001b[0;31m         \u001b[0mparts\u001b[0m \u001b[0;34m=\u001b[0m \u001b[0;34m[\u001b[0m\u001b[0mself\u001b[0m\u001b[0;34m.\u001b[0m\u001b[0mrecv\u001b[0m\u001b[0;34m(\u001b[0m\u001b[0mflags\u001b[0m\u001b[0;34m,\u001b[0m \u001b[0mcopy\u001b[0m\u001b[0;34m=\u001b[0m\u001b[0mcopy\u001b[0m\u001b[0;34m,\u001b[0m \u001b[0mtrack\u001b[0m\u001b[0;34m=\u001b[0m\u001b[0mtrack\u001b[0m\u001b[0;34m)\u001b[0m\u001b[0;34m]\u001b[0m\u001b[0;34m\u001b[0m\u001b[0;34m\u001b[0m\u001b[0m\n\u001b[0m\u001b[1;32m    476\u001b[0m         \u001b[0;31m# have first part already, only loop while more to receive\u001b[0m\u001b[0;34m\u001b[0m\u001b[0;34m\u001b[0m\u001b[0;34m\u001b[0m\u001b[0m\n",
      "\u001b[0;32mzmq/backend/cython/socket.pyx\u001b[0m in \u001b[0;36mzmq.backend.cython.socket.Socket.recv\u001b[0;34m()\u001b[0m\n",
      "\u001b[0;32mzmq/backend/cython/socket.pyx\u001b[0m in \u001b[0;36mzmq.backend.cython.socket.Socket.recv\u001b[0;34m()\u001b[0m\n",
      "\u001b[0;32mzmq/backend/cython/socket.pyx\u001b[0m in \u001b[0;36mzmq.backend.cython.socket._recv_copy\u001b[0;34m()\u001b[0m\n",
      "\u001b[0;32m/opt/anaconda3/lib/python3.7/site-packages/zmq/backend/cython/checkrc.pxd\u001b[0m in \u001b[0;36mzmq.backend.cython.checkrc._check_rc\u001b[0;34m()\u001b[0m\n",
      "\u001b[0;31mKeyboardInterrupt\u001b[0m: ",
      "\nDuring handling of the above exception, another exception occurred:\n",
      "\u001b[0;31mKeyboardInterrupt\u001b[0m                         Traceback (most recent call last)",
      "\u001b[0;32m<ipython-input-20-a548ee2f007f>\u001b[0m in \u001b[0;36m<module>\u001b[0;34m\u001b[0m\n\u001b[1;32m      2\u001b[0m \u001b[0mall_names\u001b[0m \u001b[0;34m=\u001b[0m \u001b[0;34m[\u001b[0m\u001b[0;34m]\u001b[0m\u001b[0;34m\u001b[0m\u001b[0;34m\u001b[0m\u001b[0m\n\u001b[1;32m      3\u001b[0m \u001b[0;32mfor\u001b[0m \u001b[0mi\u001b[0m \u001b[0;32min\u001b[0m \u001b[0mrange\u001b[0m\u001b[0;34m(\u001b[0m\u001b[0;36m1\u001b[0m\u001b[0;34m,\u001b[0m\u001b[0;36m4\u001b[0m\u001b[0;34m)\u001b[0m\u001b[0;34m:\u001b[0m\u001b[0;34m\u001b[0m\u001b[0;34m\u001b[0m\u001b[0m\n\u001b[0;32m----> 4\u001b[0;31m     \u001b[0mname\u001b[0m \u001b[0;34m=\u001b[0m \u001b[0minput\u001b[0m\u001b[0;34m(\u001b[0m\u001b[0;34m\"Dame nombre de persona:\"\u001b[0m\u001b[0;34m)\u001b[0m\u001b[0;34m\u001b[0m\u001b[0;34m\u001b[0m\u001b[0m\n\u001b[0m\u001b[1;32m      5\u001b[0m     \u001b[0mall_names\u001b[0m\u001b[0;34m.\u001b[0m\u001b[0mappend\u001b[0m\u001b[0;34m(\u001b[0m\u001b[0mname\u001b[0m\u001b[0;34m)\u001b[0m\u001b[0;34m\u001b[0m\u001b[0;34m\u001b[0m\u001b[0m\n\u001b[1;32m      6\u001b[0m     \u001b[0mprint\u001b[0m\u001b[0;34m(\u001b[0m\u001b[0;34m\"Dame el peso de %s\"\u001b[0m\u001b[0;34m%\u001b[0m \u001b[0mname\u001b[0m\u001b[0;34m)\u001b[0m\u001b[0;34m\u001b[0m\u001b[0;34m\u001b[0m\u001b[0m\n",
      "\u001b[0;32m/opt/anaconda3/lib/python3.7/site-packages/ipykernel/kernelbase.py\u001b[0m in \u001b[0;36mraw_input\u001b[0;34m(self, prompt)\u001b[0m\n\u001b[1;32m    858\u001b[0m             \u001b[0mself\u001b[0m\u001b[0;34m.\u001b[0m\u001b[0m_parent_ident\u001b[0m\u001b[0;34m,\u001b[0m\u001b[0;34m\u001b[0m\u001b[0;34m\u001b[0m\u001b[0m\n\u001b[1;32m    859\u001b[0m             \u001b[0mself\u001b[0m\u001b[0;34m.\u001b[0m\u001b[0m_parent_header\u001b[0m\u001b[0;34m,\u001b[0m\u001b[0;34m\u001b[0m\u001b[0;34m\u001b[0m\u001b[0m\n\u001b[0;32m--> 860\u001b[0;31m             \u001b[0mpassword\u001b[0m\u001b[0;34m=\u001b[0m\u001b[0;32mFalse\u001b[0m\u001b[0;34m,\u001b[0m\u001b[0;34m\u001b[0m\u001b[0;34m\u001b[0m\u001b[0m\n\u001b[0m\u001b[1;32m    861\u001b[0m         )\n\u001b[1;32m    862\u001b[0m \u001b[0;34m\u001b[0m\u001b[0m\n",
      "\u001b[0;32m/opt/anaconda3/lib/python3.7/site-packages/ipykernel/kernelbase.py\u001b[0m in \u001b[0;36m_input_request\u001b[0;34m(self, prompt, ident, parent, password)\u001b[0m\n\u001b[1;32m    888\u001b[0m             \u001b[0;32mexcept\u001b[0m \u001b[0mKeyboardInterrupt\u001b[0m\u001b[0;34m:\u001b[0m\u001b[0;34m\u001b[0m\u001b[0;34m\u001b[0m\u001b[0m\n\u001b[1;32m    889\u001b[0m                 \u001b[0;31m# re-raise KeyboardInterrupt, to truncate traceback\u001b[0m\u001b[0;34m\u001b[0m\u001b[0;34m\u001b[0m\u001b[0;34m\u001b[0m\u001b[0m\n\u001b[0;32m--> 890\u001b[0;31m                 \u001b[0;32mraise\u001b[0m \u001b[0mKeyboardInterrupt\u001b[0m\u001b[0;34m\u001b[0m\u001b[0;34m\u001b[0m\u001b[0m\n\u001b[0m\u001b[1;32m    891\u001b[0m             \u001b[0;32melse\u001b[0m\u001b[0;34m:\u001b[0m\u001b[0;34m\u001b[0m\u001b[0;34m\u001b[0m\u001b[0m\n\u001b[1;32m    892\u001b[0m                 \u001b[0;32mbreak\u001b[0m\u001b[0;34m\u001b[0m\u001b[0;34m\u001b[0m\u001b[0m\n",
      "\u001b[0;31mKeyboardInterrupt\u001b[0m: "
     ]
    }
   ],
   "source": [
    "pesos = []\n",
    "all_names = []\n",
    "for i in range(1,4):\n",
    "    name = input(\"Dame nombre de persona:\")\n",
    "    all_names.append(name)\n",
    "    print(\"Dame el peso de %s\"% name)\n",
    "    pesos.append(int(input()))\n",
    "familia = pd.Series(np.array(pesos) ,index=all_names)\n",
    "familia"
   ]
  },
  {
   "cell_type": "code",
   "execution_count": 21,
   "metadata": {},
   "outputs": [
    {
     "name": "stdin",
     "output_type": "stream",
     "text": [
      "Dame nombre de persona: rafe1\n"
     ]
    },
    {
     "name": "stdout",
     "output_type": "stream",
     "text": [
      "Dame el peso de rafe1\n"
     ]
    },
    {
     "name": "stdin",
     "output_type": "stream",
     "text": [
      " 10\n",
      "Dame nombre de persona: rafe2\n"
     ]
    },
    {
     "name": "stdout",
     "output_type": "stream",
     "text": [
      "Dame el peso de rafe2\n"
     ]
    },
    {
     "name": "stdin",
     "output_type": "stream",
     "text": [
      " 23\n",
      "Dame nombre de persona: rafe3\n"
     ]
    },
    {
     "name": "stdout",
     "output_type": "stream",
     "text": [
      "Dame el peso de rafe3\n"
     ]
    },
    {
     "name": "stdin",
     "output_type": "stream",
     "text": [
      " 35\n"
     ]
    },
    {
     "name": "stdout",
     "output_type": "stream",
     "text": [
      "rafe1    10\n",
      "rafe2    23\n",
      "rafe3    35\n",
      "dtype: int64\n"
     ]
    }
   ],
   "source": [
    "m_dict_name = {}\n",
    "for i in range(1,4):\n",
    "    name = input(\"Dame nombre de persona:\")\n",
    "    print(\"Dame el peso de %s\"% name)\n",
    "    peso = (int(input()))\n",
    "    m_dict_name[name] = peso\n",
    "\n",
    "familia = pd.Series(m_dict_name)\n",
    "print(familia)"
   ]
  },
  {
   "cell_type": "code",
   "execution_count": 17,
   "metadata": {
    "colab": {
     "base_uri": "https://localhost:8080/",
     "height": 86
    },
    "colab_type": "code",
    "executionInfo": {
     "elapsed": 395,
     "status": "ok",
     "timestamp": 1557450342698,
     "user": {
      "displayName": "Ludim Sánchez",
      "photoUrl": "",
      "userId": "12330024355847510363"
     },
     "user_tz": 300
    },
    "id": "tr6jYbqHrOb5",
    "outputId": "0860f743-f4ae-41ee-b6dd-12376cb063da"
   },
   "outputs": [
    {
     "data": {
      "text/plain": [
       "b    1\n",
       "a    0\n",
       "c    2\n",
       "dtype: int64"
      ]
     },
     "execution_count": 17,
     "metadata": {},
     "output_type": "execute_result"
    }
   ],
   "source": [
    " # Y tambien podemos crearla desde un diccionario \n",
    "d = {'b': 1, 'a': 0, 'c': 2}\n",
    "s2=pd.Series(d)\n",
    "  \n",
    "# ¡Toma las llaves como los índices!\n",
    "s2"
   ]
  },
  {
   "cell_type": "code",
   "execution_count": 18,
   "metadata": {
    "colab": {
     "base_uri": "https://localhost:8080/",
     "height": 225
    },
    "colab_type": "code",
    "executionInfo": {
     "elapsed": 457,
     "status": "ok",
     "timestamp": 1557450753441,
     "user": {
      "displayName": "Ludim Sánchez",
      "photoUrl": "",
      "userId": "12330024355847510363"
     },
     "user_tz": 300
    },
    "id": "deSZcZmfsINS",
    "outputId": "34a96d92-3ef5-4e14-ecb2-64225d0bc099"
   },
   "outputs": [
    {
     "name": "stdout",
     "output_type": "stream",
     "text": [
      "20\n",
      "\n",
      "20\n",
      "\n",
      "b    10\n",
      "a     0\n",
      "dtype: int64\n",
      "\n",
      "b    2.718282\n",
      "a    1.000000\n",
      "c    7.389056\n",
      "dtype: float64\n"
     ]
    }
   ],
   "source": [
    "# Operan muy similiarmente a los arreglos de Numpy\n",
    "\n",
    "#Funcionan como un arreglo \n",
    "print(s2[2]*10)\n",
    "print()\n",
    "\n",
    "# Pero tambien funcionan como diccionario\n",
    "print(s2['c']*10)\n",
    "print()\n",
    "\n",
    "# En este caso nos devuelve también el índice\n",
    "print(s2[:2]*10) \n",
    "print()\n",
    "\n",
    "# Y podemos usarlas como vectores para operaciones \n",
    "print(np.exp(s2))"
   ]
  },
  {
   "cell_type": "code",
   "execution_count": null,
   "metadata": {
    "colab": {
     "base_uri": "https://localhost:8080/",
     "height": 86
    },
    "colab_type": "code",
    "executionInfo": {
     "elapsed": 468,
     "status": "ok",
     "timestamp": 1557450848708,
     "user": {
      "displayName": "Ludim Sánchez",
      "photoUrl": "",
      "userId": "12330024355847510363"
     },
     "user_tz": 300
    },
    "id": "ot-n_6GfFPnv",
    "outputId": "b802a0ee-d88b-4f8b-dc5b-7eff45984194"
   },
   "outputs": [
    {
     "data": {
      "text/plain": [
       "b    1\n",
       "a    0\n",
       "c    2\n",
       "dtype: int64"
      ]
     },
     "execution_count": 20,
     "metadata": {
      "tags": []
     },
     "output_type": "execute_result"
    }
   ],
   "source": [
    "s2"
   ]
  },
  {
   "cell_type": "markdown",
   "metadata": {
    "colab_type": "text",
    "id": "k3y2wO4VDGOt"
   },
   "source": [
    "#####Reto:  Crear una serie con pandas."
   ]
  },
  {
   "cell_type": "markdown",
   "metadata": {
    "colab_type": "text",
    "id": "B-4N1GTivzyB"
   },
   "source": [
    "#### Dataframes \n",
    "\n",
    "Es un arreglo de columnas, puede ser visto como un conjunto series: ahora tenemos índices y columnas\n",
    "\n"
   ]
  },
  {
   "cell_type": "code",
   "execution_count": 24,
   "metadata": {
    "colab": {
     "base_uri": "https://localhost:8080/",
     "height": 175
    },
    "colab_type": "code",
    "executionInfo": {
     "elapsed": 335,
     "status": "ok",
     "timestamp": 1557451136647,
     "user": {
      "displayName": "Ludim Sánchez",
      "photoUrl": "",
      "userId": "12330024355847510363"
     },
     "user_tz": 300
    },
    "id": "7CM70Ebgvy7C",
    "outputId": "a2ce0f52-8731-4893-97be-9180de152c65"
   },
   "outputs": [
    {
     "data": {
      "text/html": [
       "<div>\n",
       "<style scoped>\n",
       "    .dataframe tbody tr th:only-of-type {\n",
       "        vertical-align: middle;\n",
       "    }\n",
       "\n",
       "    .dataframe tbody tr th {\n",
       "        vertical-align: top;\n",
       "    }\n",
       "\n",
       "    .dataframe thead th {\n",
       "        text-align: right;\n",
       "    }\n",
       "</style>\n",
       "<table border=\"1\" class=\"dataframe\">\n",
       "  <thead>\n",
       "    <tr style=\"text-align: right;\">\n",
       "      <th></th>\n",
       "      <th>Uno</th>\n",
       "      <th>Dos</th>\n",
       "    </tr>\n",
       "  </thead>\n",
       "  <tbody>\n",
       "    <tr>\n",
       "      <td>a</td>\n",
       "      <td>1.0</td>\n",
       "      <td>1.0</td>\n",
       "    </tr>\n",
       "    <tr>\n",
       "      <td>b</td>\n",
       "      <td>2.0</td>\n",
       "      <td>2.0</td>\n",
       "    </tr>\n",
       "    <tr>\n",
       "      <td>c</td>\n",
       "      <td>3.0</td>\n",
       "      <td>3.0</td>\n",
       "    </tr>\n",
       "    <tr>\n",
       "      <td>d</td>\n",
       "      <td>NaN</td>\n",
       "      <td>4.0</td>\n",
       "    </tr>\n",
       "  </tbody>\n",
       "</table>\n",
       "</div>"
      ],
      "text/plain": [
       "   Uno  Dos\n",
       "a  1.0  1.0\n",
       "b  2.0  2.0\n",
       "c  3.0  3.0\n",
       "d  NaN  4.0"
      ]
     },
     "execution_count": 24,
     "metadata": {},
     "output_type": "execute_result"
    }
   ],
   "source": [
    "# Creacion desde un diccionario de series \n",
    "d = {\n",
    "    'Uno': pd.Series([1, 2, 3], index=['a', 'b', 'c']),\n",
    "    'Dos': pd.Series([1, 2, 3, 4.], index=['a', 'b', 'c', 'd'])\n",
    "}\n",
    "\n",
    "pd.DataFrame(d)"
   ]
  },
  {
   "cell_type": "code",
   "execution_count": 39,
   "metadata": {},
   "outputs": [
    {
     "data": {
      "text/html": [
       "<div>\n",
       "<style scoped>\n",
       "    .dataframe tbody tr th:only-of-type {\n",
       "        vertical-align: middle;\n",
       "    }\n",
       "\n",
       "    .dataframe tbody tr th {\n",
       "        vertical-align: top;\n",
       "    }\n",
       "\n",
       "    .dataframe thead th {\n",
       "        text-align: right;\n",
       "    }\n",
       "</style>\n",
       "<table border=\"1\" class=\"dataframe\">\n",
       "  <thead>\n",
       "    <tr style=\"text-align: right;\">\n",
       "      <th></th>\n",
       "      <th>inch</th>\n",
       "      <th>milimeter</th>\n",
       "    </tr>\n",
       "  </thead>\n",
       "  <tbody>\n",
       "    <tr>\n",
       "      <td>Mar</td>\n",
       "      <td>1.85</td>\n",
       "      <td>46.990</td>\n",
       "    </tr>\n",
       "    <tr>\n",
       "      <td>Apr</td>\n",
       "      <td>2.93</td>\n",
       "      <td>74.422</td>\n",
       "    </tr>\n",
       "    <tr>\n",
       "      <td>May</td>\n",
       "      <td>3.05</td>\n",
       "      <td>77.470</td>\n",
       "    </tr>\n",
       "    <tr>\n",
       "      <td>June</td>\n",
       "      <td>2.02</td>\n",
       "      <td>51.308</td>\n",
       "    </tr>\n",
       "    <tr>\n",
       "      <td>July</td>\n",
       "      <td>1.93</td>\n",
       "      <td>49.022</td>\n",
       "    </tr>\n",
       "    <tr>\n",
       "      <td>Aug</td>\n",
       "      <td>1.62</td>\n",
       "      <td>41.148</td>\n",
       "    </tr>\n",
       "    <tr>\n",
       "      <td>Sept</td>\n",
       "      <td>1.84</td>\n",
       "      <td>46.736</td>\n",
       "    </tr>\n",
       "    <tr>\n",
       "      <td>Oct</td>\n",
       "      <td>1.31</td>\n",
       "      <td>33.274</td>\n",
       "    </tr>\n",
       "    <tr>\n",
       "      <td>Nov</td>\n",
       "      <td>1.39</td>\n",
       "      <td>35.306</td>\n",
       "    </tr>\n",
       "  </tbody>\n",
       "</table>\n",
       "</div>"
      ],
      "text/plain": [
       "      inch  milimeter\n",
       "Mar   1.85     46.990\n",
       "Apr   2.93     74.422\n",
       "May   3.05     77.470\n",
       "June  2.02     51.308\n",
       "July  1.93     49.022\n",
       "Aug   1.62     41.148\n",
       "Sept  1.84     46.736\n",
       "Oct   1.31     33.274\n",
       "Nov   1.39     35.306"
      ]
     },
     "execution_count": 39,
     "metadata": {},
     "output_type": "execute_result"
    }
   ],
   "source": [
    "frame_dict = {\n",
    "    \"inch\": m_serie,\n",
    "    \"milimeter\" : m_serie_ml\n",
    "}\n",
    "\n",
    "df_rain = pd.DataFrame(frame_dict)\n",
    "df_rain"
   ]
  },
  {
   "cell_type": "code",
   "execution_count": 50,
   "metadata": {},
   "outputs": [
    {
     "name": "stdout",
     "output_type": "stream",
     "text": [
      "np_mean:1.6858333333333333\n",
      "mean:1.6858333333333333\n"
     ]
    },
    {
     "data": {
      "text/html": [
       "<div>\n",
       "<style scoped>\n",
       "    .dataframe tbody tr th:only-of-type {\n",
       "        vertical-align: middle;\n",
       "    }\n",
       "\n",
       "    .dataframe tbody tr th {\n",
       "        vertical-align: top;\n",
       "    }\n",
       "\n",
       "    .dataframe thead th {\n",
       "        text-align: right;\n",
       "    }\n",
       "</style>\n",
       "<table border=\"1\" class=\"dataframe\">\n",
       "  <thead>\n",
       "    <tr style=\"text-align: right;\">\n",
       "      <th></th>\n",
       "      <th>inch</th>\n",
       "      <th>milimeter</th>\n",
       "    </tr>\n",
       "  </thead>\n",
       "  <tbody>\n",
       "    <tr>\n",
       "      <td>Mar</td>\n",
       "      <td>1.85</td>\n",
       "      <td>46.990</td>\n",
       "    </tr>\n",
       "    <tr>\n",
       "      <td>Apr</td>\n",
       "      <td>2.93</td>\n",
       "      <td>74.422</td>\n",
       "    </tr>\n",
       "    <tr>\n",
       "      <td>May</td>\n",
       "      <td>3.05</td>\n",
       "      <td>77.470</td>\n",
       "    </tr>\n",
       "    <tr>\n",
       "      <td>June</td>\n",
       "      <td>2.02</td>\n",
       "      <td>51.308</td>\n",
       "    </tr>\n",
       "    <tr>\n",
       "      <td>July</td>\n",
       "      <td>1.93</td>\n",
       "      <td>49.022</td>\n",
       "    </tr>\n",
       "    <tr>\n",
       "      <td>Sept</td>\n",
       "      <td>1.84</td>\n",
       "      <td>46.736</td>\n",
       "    </tr>\n",
       "  </tbody>\n",
       "</table>\n",
       "</div>"
      ],
      "text/plain": [
       "      inch  milimeter\n",
       "Mar   1.85     46.990\n",
       "Apr   2.93     74.422\n",
       "May   3.05     77.470\n",
       "June  2.02     51.308\n",
       "July  1.93     49.022\n",
       "Sept  1.84     46.736"
      ]
     },
     "execution_count": 50,
     "metadata": {},
     "output_type": "execute_result"
    }
   ],
   "source": [
    "m_mean = df_rain.mean()['inch']\n",
    "np_mean = np.mean(df_rain['inch'])\n",
    "print(f'np_mean:{np_mean}')\n",
    "print(f'mean:{m_mean}')\n",
    "df_rain[df_rain['inch'] > m_mean]"
   ]
  },
  {
   "cell_type": "code",
   "execution_count": 26,
   "metadata": {
    "colab": {
     "base_uri": "https://localhost:8080/",
     "height": 143
    },
    "colab_type": "code",
    "executionInfo": {
     "elapsed": 322,
     "status": "ok",
     "timestamp": 1557451347450,
     "user": {
      "displayName": "Ludim Sánchez",
      "photoUrl": "",
      "userId": "12330024355847510363"
     },
     "user_tz": 300
    },
    "id": "e7nyeajyyKl7",
    "outputId": "ced69b9b-5536-4e6d-d224-6ba71a825da1"
   },
   "outputs": [
    {
     "data": {
      "text/html": [
       "<div>\n",
       "<style scoped>\n",
       "    .dataframe tbody tr th:only-of-type {\n",
       "        vertical-align: middle;\n",
       "    }\n",
       "\n",
       "    .dataframe tbody tr th {\n",
       "        vertical-align: top;\n",
       "    }\n",
       "\n",
       "    .dataframe thead th {\n",
       "        text-align: right;\n",
       "    }\n",
       "</style>\n",
       "<table border=\"1\" class=\"dataframe\">\n",
       "  <thead>\n",
       "    <tr style=\"text-align: right;\">\n",
       "      <th></th>\n",
       "      <th>Uno</th>\n",
       "      <th>Dos</th>\n",
       "      <th>Tres</th>\n",
       "    </tr>\n",
       "  </thead>\n",
       "  <tbody>\n",
       "    <tr>\n",
       "      <td>a</td>\n",
       "      <td>1.0</td>\n",
       "      <td>1.0</td>\n",
       "      <td>NaN</td>\n",
       "    </tr>\n",
       "    <tr>\n",
       "      <td>b</td>\n",
       "      <td>2.0</td>\n",
       "      <td>2.0</td>\n",
       "      <td>NaN</td>\n",
       "    </tr>\n",
       "    <tr>\n",
       "      <td>f</td>\n",
       "      <td>NaN</td>\n",
       "      <td>NaN</td>\n",
       "      <td>NaN</td>\n",
       "    </tr>\n",
       "  </tbody>\n",
       "</table>\n",
       "</div>"
      ],
      "text/plain": [
       "   Uno  Dos Tres\n",
       "a  1.0  1.0  NaN\n",
       "b  2.0  2.0  NaN\n",
       "f  NaN  NaN  NaN"
      ]
     },
     "execution_count": 26,
     "metadata": {},
     "output_type": "execute_result"
    }
   ],
   "source": [
    "# Creado entradas de indices y columnas, las cuales se llena como NaN (Not A Number)\n",
    "pd.DataFrame(d,index=['a','b','f'], columns=['Uno','Dos','Tres'])"
   ]
  },
  {
   "cell_type": "markdown",
   "metadata": {
    "colab_type": "text",
    "id": "xCeJddl1WU1P"
   },
   "source": [
    "# 2. Uso básico de Pandas\n",
    "\n",
    "A continucación realizaremos algunas operaciones básicas y útiles para usar en nuestra siguiente sección"
   ]
  },
  {
   "cell_type": "code",
   "execution_count": 27,
   "metadata": {
    "colab": {
     "base_uri": "https://localhost:8080/",
     "height": 175
    },
    "colab_type": "code",
    "executionInfo": {
     "elapsed": 393,
     "status": "ok",
     "timestamp": 1557451453949,
     "user": {
      "displayName": "Ludim Sánchez",
      "photoUrl": "",
      "userId": "12330024355847510363"
     },
     "user_tz": 300
    },
    "id": "MR9JV2URzm0T",
    "outputId": "c55e09b2-6d07-4df6-dbaf-949e91824b32"
   },
   "outputs": [
    {
     "data": {
      "text/html": [
       "<div>\n",
       "<style scoped>\n",
       "    .dataframe tbody tr th:only-of-type {\n",
       "        vertical-align: middle;\n",
       "    }\n",
       "\n",
       "    .dataframe tbody tr th {\n",
       "        vertical-align: top;\n",
       "    }\n",
       "\n",
       "    .dataframe thead th {\n",
       "        text-align: right;\n",
       "    }\n",
       "</style>\n",
       "<table border=\"1\" class=\"dataframe\">\n",
       "  <thead>\n",
       "    <tr style=\"text-align: right;\">\n",
       "      <th></th>\n",
       "      <th>A</th>\n",
       "      <th>B</th>\n",
       "    </tr>\n",
       "  </thead>\n",
       "  <tbody>\n",
       "    <tr>\n",
       "      <td>a</td>\n",
       "      <td>100</td>\n",
       "      <td>111.0</td>\n",
       "    </tr>\n",
       "    <tr>\n",
       "      <td>b</td>\n",
       "      <td>200</td>\n",
       "      <td>222.0</td>\n",
       "    </tr>\n",
       "    <tr>\n",
       "      <td>c</td>\n",
       "      <td>300</td>\n",
       "      <td>NaN</td>\n",
       "    </tr>\n",
       "    <tr>\n",
       "      <td>d</td>\n",
       "      <td>400</td>\n",
       "      <td>444.0</td>\n",
       "    </tr>\n",
       "  </tbody>\n",
       "</table>\n",
       "</div>"
      ],
      "text/plain": [
       "     A      B\n",
       "a  100  111.0\n",
       "b  200  222.0\n",
       "c  300    NaN\n",
       "d  400  444.0"
      ]
     },
     "execution_count": 27,
     "metadata": {},
     "output_type": "execute_result"
    }
   ],
   "source": [
    "# Consideremos la creación de un dataframe desde un diccionario\n",
    "\n",
    "D={\n",
    "    'A':pd.Series([100,200,300,400], index=['a','b','c','d']),\n",
    "    'B':pd.Series([111,222,444],index=['a','b','d'])\n",
    "}\n",
    "\n",
    "df=pd.DataFrame(D)\n",
    "df"
   ]
  },
  {
   "cell_type": "code",
   "execution_count": 28,
   "metadata": {
    "colab": {
     "base_uri": "https://localhost:8080/",
     "height": 34
    },
    "colab_type": "code",
    "executionInfo": {
     "elapsed": 310,
     "status": "ok",
     "timestamp": 1557451508006,
     "user": {
      "displayName": "Ludim Sánchez",
      "photoUrl": "",
      "userId": "12330024355847510363"
     },
     "user_tz": 300
    },
    "id": "163XqlFk02sy",
    "outputId": "ab7c9b5c-3303-4951-ef44-bd22b998a773"
   },
   "outputs": [
    {
     "data": {
      "text/plain": [
       "Index(['a', 'b', 'c', 'd'], dtype='object')"
      ]
     },
     "execution_count": 28,
     "metadata": {},
     "output_type": "execute_result"
    }
   ],
   "source": [
    "# Obtengamos los índices del dataframe\n",
    "df.index"
   ]
  },
  {
   "cell_type": "code",
   "execution_count": 29,
   "metadata": {
    "colab": {
     "base_uri": "https://localhost:8080/",
     "height": 34
    },
    "colab_type": "code",
    "executionInfo": {
     "elapsed": 295,
     "status": "ok",
     "timestamp": 1557451510692,
     "user": {
      "displayName": "Ludim Sánchez",
      "photoUrl": "",
      "userId": "12330024355847510363"
     },
     "user_tz": 300
    },
    "id": "U66Bnfj21EhT",
    "outputId": "21d9f133-1dfa-4ddb-eaaf-4384dec17a14"
   },
   "outputs": [
    {
     "data": {
      "text/plain": [
       "Index(['A', 'B'], dtype='object')"
      ]
     },
     "execution_count": 29,
     "metadata": {},
     "output_type": "execute_result"
    }
   ],
   "source": [
    "# Obtengamos las columnas \n",
    "df.columns\n"
   ]
  },
  {
   "cell_type": "code",
   "execution_count": 35,
   "metadata": {
    "colab": {
     "base_uri": "https://localhost:8080/",
     "height": 104
    },
    "colab_type": "code",
    "executionInfo": {
     "elapsed": 470,
     "status": "ok",
     "timestamp": 1556240946879,
     "user": {
      "displayName": "Ludim Sánchez",
      "photoUrl": "",
      "userId": "12330024355847510363"
     },
     "user_tz": 300
    },
    "id": "4j5vzKaa1TdN",
    "outputId": "d16801c8-f489-4f0c-ee61-bc29b7551a74"
   },
   "outputs": [
    {
     "name": "stdout",
     "output_type": "stream",
     "text": [
      "A    100.0\n",
      "B    111.0\n",
      "Name: a, dtype: float64\n"
     ]
    }
   ],
   "source": [
    "# Seleccionemos una columna \n",
    "df['A']\n",
    "print(df.loc['a'])"
   ]
  },
  {
   "cell_type": "code",
   "execution_count": null,
   "metadata": {
    "colab": {
     "base_uri": "https://localhost:8080/",
     "height": 175
    },
    "colab_type": "code",
    "executionInfo": {
     "elapsed": 326,
     "status": "ok",
     "timestamp": 1557451606070,
     "user": {
      "displayName": "Ludim Sánchez",
      "photoUrl": "",
      "userId": "12330024355847510363"
     },
     "user_tz": 300
    },
    "id": "HY6jBEvMWXno",
    "outputId": "b0d9253c-0276-49d7-e9ed-ad5bd7a2e6c7"
   },
   "outputs": [
    {
     "data": {
      "text/html": [
       "<div>\n",
       "<style scoped>\n",
       "    .dataframe tbody tr th:only-of-type {\n",
       "        vertical-align: middle;\n",
       "    }\n",
       "\n",
       "    .dataframe tbody tr th {\n",
       "        vertical-align: top;\n",
       "    }\n",
       "\n",
       "    .dataframe thead th {\n",
       "        text-align: right;\n",
       "    }\n",
       "</style>\n",
       "<table border=\"1\" class=\"dataframe\">\n",
       "  <thead>\n",
       "    <tr style=\"text-align: right;\">\n",
       "      <th></th>\n",
       "      <th>A</th>\n",
       "      <th>B</th>\n",
       "      <th>C</th>\n",
       "      <th>D</th>\n",
       "      <th>E</th>\n",
       "    </tr>\n",
       "  </thead>\n",
       "  <tbody>\n",
       "    <tr>\n",
       "      <th>a</th>\n",
       "      <td>100</td>\n",
       "      <td>111.0</td>\n",
       "      <td>False</td>\n",
       "      <td>11100.0</td>\n",
       "      <td>0</td>\n",
       "    </tr>\n",
       "    <tr>\n",
       "      <th>b</th>\n",
       "      <td>200</td>\n",
       "      <td>222.0</td>\n",
       "      <td>True</td>\n",
       "      <td>44400.0</td>\n",
       "      <td>200</td>\n",
       "    </tr>\n",
       "    <tr>\n",
       "      <th>c</th>\n",
       "      <td>300</td>\n",
       "      <td>NaN</td>\n",
       "      <td>False</td>\n",
       "      <td>NaN</td>\n",
       "      <td>0</td>\n",
       "    </tr>\n",
       "    <tr>\n",
       "      <th>d</th>\n",
       "      <td>400</td>\n",
       "      <td>444.0</td>\n",
       "      <td>True</td>\n",
       "      <td>177600.0</td>\n",
       "      <td>400</td>\n",
       "    </tr>\n",
       "  </tbody>\n",
       "</table>\n",
       "</div>"
      ],
      "text/plain": [
       "     A      B      C         D    E\n",
       "a  100  111.0  False   11100.0    0\n",
       "b  200  222.0   True   44400.0  200\n",
       "c  300    NaN  False       NaN    0\n",
       "d  400  444.0   True  177600.0  400"
      ]
     },
     "execution_count": 35,
     "metadata": {
      "tags": []
     },
     "output_type": "execute_result"
    }
   ],
   "source": [
    "df"
   ]
  },
  {
   "cell_type": "code",
   "execution_count": null,
   "metadata": {
    "colab": {
     "base_uri": "https://localhost:8080/",
     "height": 175
    },
    "colab_type": "code",
    "executionInfo": {
     "elapsed": 327,
     "status": "ok",
     "timestamp": 1557451819236,
     "user": {
      "displayName": "Ludim Sánchez",
      "photoUrl": "",
      "userId": "12330024355847510363"
     },
     "user_tz": 300
    },
    "id": "nlJDtM9719zU",
    "outputId": "1afd3bfe-8a58-4680-e17d-1e27da1f9307"
   },
   "outputs": [
    {
     "data": {
      "text/html": [
       "<div>\n",
       "<style scoped>\n",
       "    .dataframe tbody tr th:only-of-type {\n",
       "        vertical-align: middle;\n",
       "    }\n",
       "\n",
       "    .dataframe tbody tr th {\n",
       "        vertical-align: top;\n",
       "    }\n",
       "\n",
       "    .dataframe thead th {\n",
       "        text-align: right;\n",
       "    }\n",
       "</style>\n",
       "<table border=\"1\" class=\"dataframe\">\n",
       "  <thead>\n",
       "    <tr style=\"text-align: right;\">\n",
       "      <th></th>\n",
       "      <th>A</th>\n",
       "      <th>B</th>\n",
       "      <th>C</th>\n",
       "      <th>D</th>\n",
       "      <th>E</th>\n",
       "    </tr>\n",
       "  </thead>\n",
       "  <tbody>\n",
       "    <tr>\n",
       "      <th>a</th>\n",
       "      <td>100</td>\n",
       "      <td>111.0</td>\n",
       "      <td>False</td>\n",
       "      <td>11100.0</td>\n",
       "      <td>0</td>\n",
       "    </tr>\n",
       "    <tr>\n",
       "      <th>b</th>\n",
       "      <td>200</td>\n",
       "      <td>222.0</td>\n",
       "      <td>True</td>\n",
       "      <td>44400.0</td>\n",
       "      <td>200</td>\n",
       "    </tr>\n",
       "    <tr>\n",
       "      <th>c</th>\n",
       "      <td>300</td>\n",
       "      <td>NaN</td>\n",
       "      <td>False</td>\n",
       "      <td>NaN</td>\n",
       "      <td>0</td>\n",
       "    </tr>\n",
       "    <tr>\n",
       "      <th>d</th>\n",
       "      <td>400</td>\n",
       "      <td>444.0</td>\n",
       "      <td>True</td>\n",
       "      <td>177600.0</td>\n",
       "      <td>400</td>\n",
       "    </tr>\n",
       "  </tbody>\n",
       "</table>\n",
       "</div>"
      ],
      "text/plain": [
       "     A      B      C         D    E\n",
       "a  100  111.0  False   11100.0    0\n",
       "b  200  222.0   True   44400.0  200\n",
       "c  300    NaN  False       NaN    0\n",
       "d  400  444.0   True  177600.0  400"
      ]
     },
     "execution_count": 39,
     "metadata": {
      "tags": []
     },
     "output_type": "execute_result"
    }
   ],
   "source": [
    "# Creando columnas mediante la operación de columnas \n",
    "df['C'] = df['A'] % 200 == 0 \n",
    "df['D']=df['A']*df['B']\n",
    "df['E']=df['A']*df['C']\n",
    "df"
   ]
  },
  {
   "cell_type": "code",
   "execution_count": null,
   "metadata": {
    "colab": {},
    "colab_type": "code",
    "id": "B-Q7wvE92SiY"
   },
   "outputs": [],
   "source": [
    "# Borrando columnas de manera rápida \n",
    "#del df['C']\n",
    "#df"
   ]
  },
  {
   "cell_type": "code",
   "execution_count": null,
   "metadata": {
    "colab": {
     "base_uri": "https://localhost:8080/",
     "height": 112
    },
    "colab_type": "code",
    "executionInfo": {
     "elapsed": 325,
     "status": "ok",
     "timestamp": 1557452257148,
     "user": {
      "displayName": "Ludim Sánchez",
      "photoUrl": "",
      "userId": "12330024355847510363"
     },
     "user_tz": 300
    },
    "id": "kbqmwbX8XZGP",
    "outputId": "89187bb0-f49b-4e4c-c38c-786ec78d3068"
   },
   "outputs": [
    {
     "data": {
      "text/html": [
       "<div>\n",
       "<style scoped>\n",
       "    .dataframe tbody tr th:only-of-type {\n",
       "        vertical-align: middle;\n",
       "    }\n",
       "\n",
       "    .dataframe tbody tr th {\n",
       "        vertical-align: top;\n",
       "    }\n",
       "\n",
       "    .dataframe thead th {\n",
       "        text-align: right;\n",
       "    }\n",
       "</style>\n",
       "<table border=\"1\" class=\"dataframe\">\n",
       "  <thead>\n",
       "    <tr style=\"text-align: right;\">\n",
       "      <th></th>\n",
       "      <th>A</th>\n",
       "      <th>B</th>\n",
       "      <th>D</th>\n",
       "      <th>E</th>\n",
       "    </tr>\n",
       "  </thead>\n",
       "  <tbody>\n",
       "    <tr>\n",
       "      <th>c</th>\n",
       "      <td>300</td>\n",
       "      <td>NaN</td>\n",
       "      <td>NaN</td>\n",
       "      <td>0</td>\n",
       "    </tr>\n",
       "    <tr>\n",
       "      <th>d</th>\n",
       "      <td>400</td>\n",
       "      <td>444.0</td>\n",
       "      <td>177600.0</td>\n",
       "      <td>400</td>\n",
       "    </tr>\n",
       "  </tbody>\n",
       "</table>\n",
       "</div>"
      ],
      "text/plain": [
       "     A      B         D    E\n",
       "c  300    NaN       NaN    0\n",
       "d  400  444.0  177600.0  400"
      ]
     },
     "execution_count": 60,
     "metadata": {
      "tags": []
     },
     "output_type": "execute_result"
    }
   ],
   "source": [
    "df = df.drop(['a','b'])\n",
    "df"
   ]
  },
  {
   "cell_type": "code",
   "execution_count": null,
   "metadata": {
    "colab": {
     "base_uri": "https://localhost:8080/",
     "height": 175
    },
    "colab_type": "code",
    "executionInfo": {
     "elapsed": 398,
     "status": "ok",
     "timestamp": 1557452261005,
     "user": {
      "displayName": "Ludim Sánchez",
      "photoUrl": "",
      "userId": "12330024355847510363"
     },
     "user_tz": 300
    },
    "id": "1HDVO4iW2pUd",
    "outputId": "7565483d-4e0c-4251-dce6-bedd34df9d88"
   },
   "outputs": [
    {
     "data": {
      "text/html": [
       "<div>\n",
       "<style scoped>\n",
       "    .dataframe tbody tr th:only-of-type {\n",
       "        vertical-align: middle;\n",
       "    }\n",
       "\n",
       "    .dataframe tbody tr th {\n",
       "        vertical-align: top;\n",
       "    }\n",
       "\n",
       "    .dataframe thead th {\n",
       "        text-align: right;\n",
       "    }\n",
       "</style>\n",
       "<table border=\"1\" class=\"dataframe\">\n",
       "  <thead>\n",
       "    <tr style=\"text-align: right;\">\n",
       "      <th></th>\n",
       "      <th>c</th>\n",
       "    </tr>\n",
       "  </thead>\n",
       "  <tbody>\n",
       "    <tr>\n",
       "      <th>A</th>\n",
       "      <td>300.0</td>\n",
       "    </tr>\n",
       "    <tr>\n",
       "      <th>B</th>\n",
       "      <td>NaN</td>\n",
       "    </tr>\n",
       "    <tr>\n",
       "      <th>D</th>\n",
       "      <td>NaN</td>\n",
       "    </tr>\n",
       "    <tr>\n",
       "      <th>E</th>\n",
       "      <td>0.0</td>\n",
       "    </tr>\n",
       "  </tbody>\n",
       "</table>\n",
       "</div>"
      ],
      "text/plain": [
       "       c\n",
       "A  300.0\n",
       "B    NaN\n",
       "D    NaN\n",
       "E    0.0"
      ]
     },
     "execution_count": 61,
     "metadata": {
      "tags": []
     },
     "output_type": "execute_result"
    }
   ],
   "source": [
    "# Podemos traer la una fila mediante su posición \n",
    "pd.DataFrame(df.iloc[0])"
   ]
  },
  {
   "cell_type": "code",
   "execution_count": null,
   "metadata": {
    "colab": {
     "base_uri": "https://localhost:8080/",
     "height": 175
    },
    "colab_type": "code",
    "executionInfo": {
     "elapsed": 400,
     "status": "ok",
     "timestamp": 1557452299946,
     "user": {
      "displayName": "Ludim Sánchez",
      "photoUrl": "",
      "userId": "12330024355847510363"
     },
     "user_tz": 300
    },
    "id": "ETEsPXCo2uko",
    "outputId": "bc614d20-0713-4d78-bdb3-1e648dfc8b9b"
   },
   "outputs": [
    {
     "data": {
      "text/html": [
       "<div>\n",
       "<style scoped>\n",
       "    .dataframe tbody tr th:only-of-type {\n",
       "        vertical-align: middle;\n",
       "    }\n",
       "\n",
       "    .dataframe tbody tr th {\n",
       "        vertical-align: top;\n",
       "    }\n",
       "\n",
       "    .dataframe thead th {\n",
       "        text-align: right;\n",
       "    }\n",
       "</style>\n",
       "<table border=\"1\" class=\"dataframe\">\n",
       "  <thead>\n",
       "    <tr style=\"text-align: right;\">\n",
       "      <th></th>\n",
       "      <th>c</th>\n",
       "    </tr>\n",
       "  </thead>\n",
       "  <tbody>\n",
       "    <tr>\n",
       "      <th>A</th>\n",
       "      <td>300.0</td>\n",
       "    </tr>\n",
       "    <tr>\n",
       "      <th>B</th>\n",
       "      <td>NaN</td>\n",
       "    </tr>\n",
       "    <tr>\n",
       "      <th>D</th>\n",
       "      <td>NaN</td>\n",
       "    </tr>\n",
       "    <tr>\n",
       "      <th>E</th>\n",
       "      <td>0.0</td>\n",
       "    </tr>\n",
       "  </tbody>\n",
       "</table>\n",
       "</div>"
      ],
      "text/plain": [
       "       c\n",
       "A  300.0\n",
       "B    NaN\n",
       "D    NaN\n",
       "E    0.0"
      ]
     },
     "execution_count": 63,
     "metadata": {
      "tags": []
     },
     "output_type": "execute_result"
    }
   ],
   "source": [
    "# O mediante su índice \n",
    "pd.DataFrame(df.loc['c'])"
   ]
  },
  {
   "cell_type": "markdown",
   "metadata": {
    "colab_type": "text",
    "id": "KysF18MWWd5C"
   },
   "source": [
    "# 3. Ejercicios \n",
    "\n",
    "\n",
    "**Ejercicio 1: ** Películas https://bit.ly/2L2AvyZ\n",
    "\n",
    "Archivos: https://bit.ly/2ZyEI0h\n"
   ]
  },
  {
   "cell_type": "markdown",
   "metadata": {
    "colab_type": "text",
    "id": "9fUbv01kQnFs"
   },
   "source": [
    "## 3.1 Archivo *movies*"
   ]
  },
  {
   "cell_type": "markdown",
   "metadata": {
    "colab_type": "text",
    "id": "PVEPeScNRfAr"
   },
   "source": [
    "### 1. Crear el dataframe"
   ]
  },
  {
   "cell_type": "markdown",
   "metadata": {
    "colab_type": "text",
    "id": "qbPafBoyhlnv"
   },
   "source": [
    "### Nota utiliza los siguientes pasos, únicamente si estás ejecutando tu archivo desde Colaboratory. Si lo estás cargando en tu máquina local utiliza otro método"
   ]
  },
  {
   "cell_type": "code",
   "execution_count": 1,
   "metadata": {
    "colab": {
     "base_uri": "https://localhost:8080/",
     "height": 52
    },
    "colab_type": "code",
    "executionInfo": {
     "elapsed": 6703,
     "status": "ok",
     "timestamp": 1557605884132,
     "user": {
      "displayName": "Ludim Sánchez",
      "photoUrl": "",
      "userId": "12330024355847510363"
     },
     "user_tz": 300
    },
    "id": "-1nl24Is6xv6",
    "outputId": "a723a066-eede-483e-83be-03ab82063196"
   },
   "outputs": [
    {
     "name": "stdout",
     "output_type": "stream",
     "text": [
      "\u001b[K     |████████████████████████████████| 993kB 4.9MB/s eta 0:00:01\n",
      "\u001b[?25h  Building wheel for PyDrive (setup.py) ... \u001b[?25l\u001b[?25hdone\n"
     ]
    }
   ],
   "source": [
    "# Install the PyDrive wrapper & import libraries.\n",
    "# This only needs to be done once per notebook.\n",
    "!pip install -U -q PyDrive\n",
    "from pydrive.auth import GoogleAuth\n",
    "from pydrive.drive import GoogleDrive\n",
    "from google.colab import auth\n",
    "from oauth2client.client import GoogleCredentials"
   ]
  },
  {
   "cell_type": "code",
   "execution_count": null,
   "metadata": {
    "colab": {},
    "colab_type": "code",
    "id": "K-LVZmRER-ED"
   },
   "outputs": [],
   "source": [
    "# Authenticate and create the PyDrive client.\n",
    "# This only needs to be done once per notebook.\n",
    "auth.authenticate_user()\n",
    "gauth = GoogleAuth()\n",
    "gauth.credentials = GoogleCredentials.get_application_default()\n",
    "drive = GoogleDrive(gauth)"
   ]
  },
  {
   "cell_type": "code",
   "execution_count": null,
   "metadata": {
    "colab": {},
    "colab_type": "code",
    "id": "17fgq16fSG4w"
   },
   "outputs": [],
   "source": [
    "# Download a zip file based on its file ID.\n",
    "#\n",
    "# A file ID looks like: 1tDF08XYh1HnRDcY2dJxvP5ab14Q8L_9i\n",
    "# https://drive.google.com/open?id=1tDF08XYh1HnRDcY2dJxvP5ab14Q8L_9i\n",
    "file_id = '1tDF08XYh1HnRDcY2dJxvP5ab14Q8L_9i' # Get sharable link from file in Google Drive\n",
    "downloaded = drive.CreateFile({'id': file_id})\n",
    "downloaded.GetContentFile(downloaded['title'])\n"
   ]
  },
  {
   "cell_type": "code",
   "execution_count": 60,
   "metadata": {
    "colab": {
     "base_uri": "https://localhost:8080/",
     "height": 34
    },
    "colab_type": "code",
    "executionInfo": {
     "elapsed": 2065,
     "status": "ok",
     "timestamp": 1557606161719,
     "user": {
      "displayName": "Ludim Sánchez",
      "photoUrl": "",
      "userId": "12330024355847510363"
     },
     "user_tz": 300
    },
    "id": "eH9oLPdhSX5W",
    "outputId": "f0914710-8de8-4865-c5d3-eccf327f73d2"
   },
   "outputs": [
    {
     "name": "stdout",
     "output_type": "stream",
     "text": [
      "README.txt   links.csv    movies.csv   ratings.csv  tags.csv\n"
     ]
    }
   ],
   "source": [
    "ls \"../Ejercicios/Ejercicio 1/movielens\""
   ]
  },
  {
   "cell_type": "code",
   "execution_count": 61,
   "metadata": {
    "colab": {
     "base_uri": "https://localhost:8080/",
     "height": 34
    },
    "colab_type": "code",
    "executionInfo": {
     "elapsed": 439,
     "status": "ok",
     "timestamp": 1556242815667,
     "user": {
      "displayName": "Ludim Sánchez",
      "photoUrl": "",
      "userId": "12330024355847510363"
     },
     "user_tz": 300
    },
    "id": "c3hmoQBRSczv",
    "outputId": "deea4587-05b5-40ae-dbba-2b0d1306057e"
   },
   "outputs": [
    {
     "name": "stdout",
     "output_type": "stream",
     "text": [
      "<class 'pandas.core.frame.DataFrame'>\n"
     ]
    }
   ],
   "source": [
    "movies = pd.read_csv('../Ejercicios/Ejercicio 1/movielens/movies.csv')\n",
    "print(type(movies))"
   ]
  },
  {
   "cell_type": "code",
   "execution_count": 70,
   "metadata": {
    "colab": {
     "base_uri": "https://localhost:8080/",
     "height": 191
    },
    "colab_type": "code",
    "executionInfo": {
     "elapsed": 1935,
     "status": "ok",
     "timestamp": 1556246049981,
     "user": {
      "displayName": "Ludim Sánchez",
      "photoUrl": "",
      "userId": "12330024355847510363"
     },
     "user_tz": 300
    },
    "id": "c9udivzuffAp",
    "outputId": "8f22f913-e377-4e0c-80df-dac14df439a9"
   },
   "outputs": [
    {
     "name": "stdout",
     "output_type": "stream",
     "text": [
      "movieId,title,genres\n",
      "1,Toy Story (1995),Adventure|Animation|Children|Comedy|Fantasy\n",
      "2,Jumanji (1995),Adventure|Children|Fantasy\n",
      "3,Grumpier Old Men (1995),Comedy|Romance\n",
      "4,Waiting to Exhale (1995),Comedy|Drama|Romance\n",
      "5,Father of the Bride Part II (1995),Comedy\n",
      "6,Heat (1995),Action|Crime|Thriller\n",
      "7,Sabrina (1995),Comedy|Romance\n",
      "8,Tom and Huck (1995),Adventure|Children\n",
      "9,Sudden Death (1995),Action\n"
     ]
    }
   ],
   "source": [
    "!head \"../Ejercicios/Ejercicio 1/movielens/movies.csv\""
   ]
  },
  {
   "cell_type": "code",
   "execution_count": 63,
   "metadata": {
    "colab": {
     "base_uri": "https://localhost:8080/",
     "height": 206
    },
    "colab_type": "code",
    "executionInfo": {
     "elapsed": 513,
     "status": "ok",
     "timestamp": 1556246072681,
     "user": {
      "displayName": "Ludim Sánchez",
      "photoUrl": "",
      "userId": "12330024355847510363"
     },
     "user_tz": 300
    },
    "id": "JuSqY9pwfmsk",
    "outputId": "0813a993-3f64-4df4-a605-10ddeaebcdc0"
   },
   "outputs": [
    {
     "data": {
      "text/html": [
       "<div>\n",
       "<style scoped>\n",
       "    .dataframe tbody tr th:only-of-type {\n",
       "        vertical-align: middle;\n",
       "    }\n",
       "\n",
       "    .dataframe tbody tr th {\n",
       "        vertical-align: top;\n",
       "    }\n",
       "\n",
       "    .dataframe thead th {\n",
       "        text-align: right;\n",
       "    }\n",
       "</style>\n",
       "<table border=\"1\" class=\"dataframe\">\n",
       "  <thead>\n",
       "    <tr style=\"text-align: right;\">\n",
       "      <th></th>\n",
       "      <th>movieId</th>\n",
       "      <th>title</th>\n",
       "      <th>genres</th>\n",
       "    </tr>\n",
       "  </thead>\n",
       "  <tbody>\n",
       "    <tr>\n",
       "      <td>0</td>\n",
       "      <td>1</td>\n",
       "      <td>Toy Story (1995)</td>\n",
       "      <td>Adventure|Animation|Children|Comedy|Fantasy</td>\n",
       "    </tr>\n",
       "    <tr>\n",
       "      <td>1</td>\n",
       "      <td>2</td>\n",
       "      <td>Jumanji (1995)</td>\n",
       "      <td>Adventure|Children|Fantasy</td>\n",
       "    </tr>\n",
       "    <tr>\n",
       "      <td>2</td>\n",
       "      <td>3</td>\n",
       "      <td>Grumpier Old Men (1995)</td>\n",
       "      <td>Comedy|Romance</td>\n",
       "    </tr>\n",
       "    <tr>\n",
       "      <td>3</td>\n",
       "      <td>4</td>\n",
       "      <td>Waiting to Exhale (1995)</td>\n",
       "      <td>Comedy|Drama|Romance</td>\n",
       "    </tr>\n",
       "    <tr>\n",
       "      <td>4</td>\n",
       "      <td>5</td>\n",
       "      <td>Father of the Bride Part II (1995)</td>\n",
       "      <td>Comedy</td>\n",
       "    </tr>\n",
       "  </tbody>\n",
       "</table>\n",
       "</div>"
      ],
      "text/plain": [
       "   movieId                               title  \\\n",
       "0        1                    Toy Story (1995)   \n",
       "1        2                      Jumanji (1995)   \n",
       "2        3             Grumpier Old Men (1995)   \n",
       "3        4            Waiting to Exhale (1995)   \n",
       "4        5  Father of the Bride Part II (1995)   \n",
       "\n",
       "                                        genres  \n",
       "0  Adventure|Animation|Children|Comedy|Fantasy  \n",
       "1                   Adventure|Children|Fantasy  \n",
       "2                               Comedy|Romance  \n",
       "3                         Comedy|Drama|Romance  \n",
       "4                                       Comedy  "
      ]
     },
     "execution_count": 63,
     "metadata": {},
     "output_type": "execute_result"
    }
   ],
   "source": [
    "movies.head()"
   ]
  },
  {
   "cell_type": "markdown",
   "metadata": {
    "colab_type": "text",
    "id": "C0ao5S5fTePu"
   },
   "source": [
    "###  2. ¿Conocemos los datos?"
   ]
  },
  {
   "cell_type": "markdown",
   "metadata": {
    "colab_type": "text",
    "id": "rSwyTFEbdHPq"
   },
   "source": [
    "#### Columnas"
   ]
  },
  {
   "cell_type": "code",
   "execution_count": 66,
   "metadata": {
    "colab": {
     "base_uri": "https://localhost:8080/",
     "height": 34
    },
    "colab_type": "code",
    "executionInfo": {
     "elapsed": 526,
     "status": "ok",
     "timestamp": 1556243507050,
     "user": {
      "displayName": "Ludim Sánchez",
      "photoUrl": "",
      "userId": "12330024355847510363"
     },
     "user_tz": 300
    },
    "id": "_ns3R98iVyUI",
    "outputId": "1cf105f7-1a2d-46ab-e0f4-bc8e3449ccc2"
   },
   "outputs": [
    {
     "data": {
      "text/plain": [
       "Index(['movieId', 'title', 'genres'], dtype='object')"
      ]
     },
     "execution_count": 66,
     "metadata": {},
     "output_type": "execute_result"
    }
   ],
   "source": [
    "movies.columns"
   ]
  },
  {
   "cell_type": "markdown",
   "metadata": {
    "colab_type": "text",
    "id": "KprZHBRdcf1j"
   },
   "source": [
    "#### Tamaño"
   ]
  },
  {
   "cell_type": "code",
   "execution_count": 67,
   "metadata": {
    "colab": {
     "base_uri": "https://localhost:8080/",
     "height": 34
    },
    "colab_type": "code",
    "executionInfo": {
     "elapsed": 473,
     "status": "ok",
     "timestamp": 1556245202604,
     "user": {
      "displayName": "Ludim Sánchez",
      "photoUrl": "",
      "userId": "12330024355847510363"
     },
     "user_tz": 300
    },
    "id": "fBzKfTEPcTRD",
    "outputId": "3d91ca10-4f89-4d18-9225-bf4e7e2a90b6"
   },
   "outputs": [
    {
     "data": {
      "text/plain": [
       "(9742, 3)"
      ]
     },
     "execution_count": 67,
     "metadata": {},
     "output_type": "execute_result"
    }
   ],
   "source": [
    "movies.shape"
   ]
  },
  {
   "cell_type": "code",
   "execution_count": 71,
   "metadata": {
    "colab": {
     "base_uri": "https://localhost:8080/",
     "height": 34
    },
    "colab_type": "code",
    "executionInfo": {
     "elapsed": 448,
     "status": "ok",
     "timestamp": 1556245178630,
     "user": {
      "displayName": "Ludim Sánchez",
      "photoUrl": "",
      "userId": "12330024355847510363"
     },
     "user_tz": 300
    },
    "id": "MfzV7v5rcNGX",
    "outputId": "a3949676-0293-49be-9860-995e78f5be30"
   },
   "outputs": [
    {
     "data": {
      "text/plain": [
       "9742"
      ]
     },
     "execution_count": 71,
     "metadata": {},
     "output_type": "execute_result"
    }
   ],
   "source": [
    "len(movies)"
   ]
  },
  {
   "cell_type": "code",
   "execution_count": 72,
   "metadata": {
    "colab": {
     "base_uri": "https://localhost:8080/",
     "height": 34
    },
    "colab_type": "code",
    "executionInfo": {
     "elapsed": 2076,
     "status": "ok",
     "timestamp": 1556245117347,
     "user": {
      "displayName": "Ludim Sánchez",
      "photoUrl": "",
      "userId": "12330024355847510363"
     },
     "user_tz": 300
    },
    "id": "nYyc6tBcaEDC",
    "outputId": "f624b6bd-ea54-4e9f-ac66-7d93072fea2d"
   },
   "outputs": [
    {
     "name": "stdout",
     "output_type": "stream",
     "text": [
      "    9743 ../Ejercicios/Ejercicio 1/movielens/movies.csv\n"
     ]
    }
   ],
   "source": [
    "!wc -l \"../Ejercicios/Ejercicio 1/movielens/movies.csv\""
   ]
  },
  {
   "cell_type": "code",
   "execution_count": 73,
   "metadata": {
    "colab": {
     "base_uri": "https://localhost:8080/",
     "height": 34
    },
    "colab_type": "code",
    "executionInfo": {
     "elapsed": 503,
     "status": "ok",
     "timestamp": 1556245170549,
     "user": {
      "displayName": "Ludim Sánchez",
      "photoUrl": "",
      "userId": "12330024355847510363"
     },
     "user_tz": 300
    },
    "id": "o7tshxxPYffm",
    "outputId": "9acbc950-1c7a-44b6-ffd6-745e1edb2214"
   },
   "outputs": [
    {
     "data": {
      "text/plain": [
       "29226"
      ]
     },
     "execution_count": 73,
     "metadata": {},
     "output_type": "execute_result"
    }
   ],
   "source": [
    "movies.size"
   ]
  },
  {
   "cell_type": "markdown",
   "metadata": {
    "colab_type": "text",
    "id": "MywxN1cNcqTc"
   },
   "source": [
    "#### Tipos de datos"
   ]
  },
  {
   "cell_type": "code",
   "execution_count": 74,
   "metadata": {
    "colab": {
     "base_uri": "https://localhost:8080/",
     "height": 86
    },
    "colab_type": "code",
    "executionInfo": {
     "elapsed": 465,
     "status": "ok",
     "timestamp": 1556245338135,
     "user": {
      "displayName": "Ludim Sánchez",
      "photoUrl": "",
      "userId": "12330024355847510363"
     },
     "user_tz": 300
    },
    "id": "bCP-msLcczAv",
    "outputId": "15244f2c-3a7b-4539-ff1b-cafd8cf014ed"
   },
   "outputs": [
    {
     "data": {
      "text/plain": [
       "movieId     int64\n",
       "title      object\n",
       "genres     object\n",
       "dtype: object"
      ]
     },
     "execution_count": 74,
     "metadata": {},
     "output_type": "execute_result"
    }
   ],
   "source": [
    "movies.dtypes"
   ]
  },
  {
   "cell_type": "markdown",
   "metadata": {
    "colab_type": "text",
    "id": "YjVwQkmOT3xe"
   },
   "source": [
    "###  3. Renombrar las columnas ID, Titulo, Genero"
   ]
  },
  {
   "cell_type": "code",
   "execution_count": 79,
   "metadata": {
    "colab": {},
    "colab_type": "code",
    "id": "7O9L_UQsfb3j"
   },
   "outputs": [
    {
     "data": {
      "text/html": [
       "<div>\n",
       "<style scoped>\n",
       "    .dataframe tbody tr th:only-of-type {\n",
       "        vertical-align: middle;\n",
       "    }\n",
       "\n",
       "    .dataframe tbody tr th {\n",
       "        vertical-align: top;\n",
       "    }\n",
       "\n",
       "    .dataframe thead th {\n",
       "        text-align: right;\n",
       "    }\n",
       "</style>\n",
       "<table border=\"1\" class=\"dataframe\">\n",
       "  <thead>\n",
       "    <tr style=\"text-align: right;\">\n",
       "      <th></th>\n",
       "      <th>ID</th>\n",
       "      <th>Titulo</th>\n",
       "      <th>Genero</th>\n",
       "    </tr>\n",
       "  </thead>\n",
       "  <tbody>\n",
       "    <tr>\n",
       "      <td>0</td>\n",
       "      <td>1</td>\n",
       "      <td>Toy Story (1995)</td>\n",
       "      <td>Adventure|Animation|Children|Comedy|Fantasy</td>\n",
       "    </tr>\n",
       "    <tr>\n",
       "      <td>1</td>\n",
       "      <td>2</td>\n",
       "      <td>Jumanji (1995)</td>\n",
       "      <td>Adventure|Children|Fantasy</td>\n",
       "    </tr>\n",
       "    <tr>\n",
       "      <td>2</td>\n",
       "      <td>3</td>\n",
       "      <td>Grumpier Old Men (1995)</td>\n",
       "      <td>Comedy|Romance</td>\n",
       "    </tr>\n",
       "    <tr>\n",
       "      <td>3</td>\n",
       "      <td>4</td>\n",
       "      <td>Waiting to Exhale (1995)</td>\n",
       "      <td>Comedy|Drama|Romance</td>\n",
       "    </tr>\n",
       "    <tr>\n",
       "      <td>4</td>\n",
       "      <td>5</td>\n",
       "      <td>Father of the Bride Part II (1995)</td>\n",
       "      <td>Comedy</td>\n",
       "    </tr>\n",
       "    <tr>\n",
       "      <td>5</td>\n",
       "      <td>6</td>\n",
       "      <td>Heat (1995)</td>\n",
       "      <td>Action|Crime|Thriller</td>\n",
       "    </tr>\n",
       "    <tr>\n",
       "      <td>6</td>\n",
       "      <td>7</td>\n",
       "      <td>Sabrina (1995)</td>\n",
       "      <td>Comedy|Romance</td>\n",
       "    </tr>\n",
       "    <tr>\n",
       "      <td>7</td>\n",
       "      <td>8</td>\n",
       "      <td>Tom and Huck (1995)</td>\n",
       "      <td>Adventure|Children</td>\n",
       "    </tr>\n",
       "    <tr>\n",
       "      <td>8</td>\n",
       "      <td>9</td>\n",
       "      <td>Sudden Death (1995)</td>\n",
       "      <td>Action</td>\n",
       "    </tr>\n",
       "    <tr>\n",
       "      <td>9</td>\n",
       "      <td>10</td>\n",
       "      <td>GoldenEye (1995)</td>\n",
       "      <td>Action|Adventure|Thriller</td>\n",
       "    </tr>\n",
       "    <tr>\n",
       "      <td>10</td>\n",
       "      <td>11</td>\n",
       "      <td>American President, The (1995)</td>\n",
       "      <td>Comedy|Drama|Romance</td>\n",
       "    </tr>\n",
       "    <tr>\n",
       "      <td>11</td>\n",
       "      <td>12</td>\n",
       "      <td>Dracula: Dead and Loving It (1995)</td>\n",
       "      <td>Comedy|Horror</td>\n",
       "    </tr>\n",
       "    <tr>\n",
       "      <td>12</td>\n",
       "      <td>13</td>\n",
       "      <td>Balto (1995)</td>\n",
       "      <td>Adventure|Animation|Children</td>\n",
       "    </tr>\n",
       "    <tr>\n",
       "      <td>13</td>\n",
       "      <td>14</td>\n",
       "      <td>Nixon (1995)</td>\n",
       "      <td>Drama</td>\n",
       "    </tr>\n",
       "    <tr>\n",
       "      <td>14</td>\n",
       "      <td>15</td>\n",
       "      <td>Cutthroat Island (1995)</td>\n",
       "      <td>Action|Adventure|Romance</td>\n",
       "    </tr>\n",
       "    <tr>\n",
       "      <td>15</td>\n",
       "      <td>16</td>\n",
       "      <td>Casino (1995)</td>\n",
       "      <td>Crime|Drama</td>\n",
       "    </tr>\n",
       "    <tr>\n",
       "      <td>16</td>\n",
       "      <td>17</td>\n",
       "      <td>Sense and Sensibility (1995)</td>\n",
       "      <td>Drama|Romance</td>\n",
       "    </tr>\n",
       "    <tr>\n",
       "      <td>17</td>\n",
       "      <td>18</td>\n",
       "      <td>Four Rooms (1995)</td>\n",
       "      <td>Comedy</td>\n",
       "    </tr>\n",
       "    <tr>\n",
       "      <td>18</td>\n",
       "      <td>19</td>\n",
       "      <td>Ace Ventura: When Nature Calls (1995)</td>\n",
       "      <td>Comedy</td>\n",
       "    </tr>\n",
       "    <tr>\n",
       "      <td>19</td>\n",
       "      <td>20</td>\n",
       "      <td>Money Train (1995)</td>\n",
       "      <td>Action|Comedy|Crime|Drama|Thriller</td>\n",
       "    </tr>\n",
       "    <tr>\n",
       "      <td>20</td>\n",
       "      <td>21</td>\n",
       "      <td>Get Shorty (1995)</td>\n",
       "      <td>Comedy|Crime|Thriller</td>\n",
       "    </tr>\n",
       "    <tr>\n",
       "      <td>21</td>\n",
       "      <td>22</td>\n",
       "      <td>Copycat (1995)</td>\n",
       "      <td>Crime|Drama|Horror|Mystery|Thriller</td>\n",
       "    </tr>\n",
       "    <tr>\n",
       "      <td>22</td>\n",
       "      <td>23</td>\n",
       "      <td>Assassins (1995)</td>\n",
       "      <td>Action|Crime|Thriller</td>\n",
       "    </tr>\n",
       "    <tr>\n",
       "      <td>23</td>\n",
       "      <td>24</td>\n",
       "      <td>Powder (1995)</td>\n",
       "      <td>Drama|Sci-Fi</td>\n",
       "    </tr>\n",
       "    <tr>\n",
       "      <td>24</td>\n",
       "      <td>25</td>\n",
       "      <td>Leaving Las Vegas (1995)</td>\n",
       "      <td>Drama|Romance</td>\n",
       "    </tr>\n",
       "    <tr>\n",
       "      <td>25</td>\n",
       "      <td>26</td>\n",
       "      <td>Othello (1995)</td>\n",
       "      <td>Drama</td>\n",
       "    </tr>\n",
       "    <tr>\n",
       "      <td>26</td>\n",
       "      <td>27</td>\n",
       "      <td>Now and Then (1995)</td>\n",
       "      <td>Children|Drama</td>\n",
       "    </tr>\n",
       "    <tr>\n",
       "      <td>27</td>\n",
       "      <td>28</td>\n",
       "      <td>Persuasion (1995)</td>\n",
       "      <td>Drama|Romance</td>\n",
       "    </tr>\n",
       "    <tr>\n",
       "      <td>28</td>\n",
       "      <td>29</td>\n",
       "      <td>City of Lost Children, The (Cité des enfants p...</td>\n",
       "      <td>Adventure|Drama|Fantasy|Mystery|Sci-Fi</td>\n",
       "    </tr>\n",
       "    <tr>\n",
       "      <td>29</td>\n",
       "      <td>30</td>\n",
       "      <td>Shanghai Triad (Yao a yao yao dao waipo qiao) ...</td>\n",
       "      <td>Crime|Drama</td>\n",
       "    </tr>\n",
       "  </tbody>\n",
       "</table>\n",
       "</div>"
      ],
      "text/plain": [
       "    ID                                             Titulo  \\\n",
       "0    1                                   Toy Story (1995)   \n",
       "1    2                                     Jumanji (1995)   \n",
       "2    3                            Grumpier Old Men (1995)   \n",
       "3    4                           Waiting to Exhale (1995)   \n",
       "4    5                 Father of the Bride Part II (1995)   \n",
       "5    6                                        Heat (1995)   \n",
       "6    7                                     Sabrina (1995)   \n",
       "7    8                                Tom and Huck (1995)   \n",
       "8    9                                Sudden Death (1995)   \n",
       "9   10                                   GoldenEye (1995)   \n",
       "10  11                     American President, The (1995)   \n",
       "11  12                 Dracula: Dead and Loving It (1995)   \n",
       "12  13                                       Balto (1995)   \n",
       "13  14                                       Nixon (1995)   \n",
       "14  15                            Cutthroat Island (1995)   \n",
       "15  16                                      Casino (1995)   \n",
       "16  17                       Sense and Sensibility (1995)   \n",
       "17  18                                  Four Rooms (1995)   \n",
       "18  19              Ace Ventura: When Nature Calls (1995)   \n",
       "19  20                                 Money Train (1995)   \n",
       "20  21                                  Get Shorty (1995)   \n",
       "21  22                                     Copycat (1995)   \n",
       "22  23                                   Assassins (1995)   \n",
       "23  24                                      Powder (1995)   \n",
       "24  25                           Leaving Las Vegas (1995)   \n",
       "25  26                                     Othello (1995)   \n",
       "26  27                                Now and Then (1995)   \n",
       "27  28                                  Persuasion (1995)   \n",
       "28  29  City of Lost Children, The (Cité des enfants p...   \n",
       "29  30  Shanghai Triad (Yao a yao yao dao waipo qiao) ...   \n",
       "\n",
       "                                         Genero  \n",
       "0   Adventure|Animation|Children|Comedy|Fantasy  \n",
       "1                    Adventure|Children|Fantasy  \n",
       "2                                Comedy|Romance  \n",
       "3                          Comedy|Drama|Romance  \n",
       "4                                        Comedy  \n",
       "5                         Action|Crime|Thriller  \n",
       "6                                Comedy|Romance  \n",
       "7                            Adventure|Children  \n",
       "8                                        Action  \n",
       "9                     Action|Adventure|Thriller  \n",
       "10                         Comedy|Drama|Romance  \n",
       "11                                Comedy|Horror  \n",
       "12                 Adventure|Animation|Children  \n",
       "13                                        Drama  \n",
       "14                     Action|Adventure|Romance  \n",
       "15                                  Crime|Drama  \n",
       "16                                Drama|Romance  \n",
       "17                                       Comedy  \n",
       "18                                       Comedy  \n",
       "19           Action|Comedy|Crime|Drama|Thriller  \n",
       "20                        Comedy|Crime|Thriller  \n",
       "21          Crime|Drama|Horror|Mystery|Thriller  \n",
       "22                        Action|Crime|Thriller  \n",
       "23                                 Drama|Sci-Fi  \n",
       "24                                Drama|Romance  \n",
       "25                                        Drama  \n",
       "26                               Children|Drama  \n",
       "27                                Drama|Romance  \n",
       "28       Adventure|Drama|Fantasy|Mystery|Sci-Fi  \n",
       "29                                  Crime|Drama  "
      ]
     },
     "execution_count": 79,
     "metadata": {},
     "output_type": "execute_result"
    }
   ],
   "source": [
    "movies.columns = [\"ID\",\"Titulo\",\"Genero\"]\n",
    "movies.head(30)"
   ]
  },
  {
   "cell_type": "markdown",
   "metadata": {
    "colab_type": "text",
    "id": "3CI-n9i9c3db"
   },
   "source": [
    "###  4. ¿Hay Valores nulos (NaN) en las columnas?"
   ]
  },
  {
   "cell_type": "code",
   "execution_count": 98,
   "metadata": {},
   "outputs": [
    {
     "data": {
      "text/plain": [
       "ID        False\n",
       "Titulo    False\n",
       "Genero    False\n",
       "dtype: bool"
      ]
     },
     "execution_count": 98,
     "metadata": {},
     "output_type": "execute_result"
    }
   ],
   "source": [
    "movies.isnull().any()"
   ]
  },
  {
   "cell_type": "markdown",
   "metadata": {
    "colab_type": "text",
    "id": "c7lRSJM9c9JM"
   },
   "source": [
    "###  5. Regresa algunas secciones\n",
    "    - Segunda Columna ¿Acaso los valores son únicos?\n",
    "    - Registro número 40"
   ]
  },
  {
   "cell_type": "code",
   "execution_count": 107,
   "metadata": {},
   "outputs": [
    {
     "data": {
      "text/plain": [
       "9742"
      ]
     },
     "execution_count": 107,
     "metadata": {},
     "output_type": "execute_result"
    }
   ],
   "source": [
    "#print(len(movies.Titulo.unique()) == len(movies.Titulo))\n",
    "#print(len(movies.Titulo.unique())) \n",
    "#print(len(movies.Titulo))\n",
    "movies['Titulo'].count()\n",
    "#movies.iloc[40]\n"
   ]
  },
  {
   "cell_type": "markdown",
   "metadata": {
    "colab_type": "text",
    "id": "ilkYgePtc9D0"
   },
   "source": [
    "## 2. Archivo ratings\n",
    "\n",
    "1. ¿Conocemos los datos? \n",
    "    - ¿Entendemos todos?\n",
    "\n",
    "2. Obtengamos los estadísticos básicos de las calificaciones \n",
    "\n",
    "3. Cambiemos la escala de las calificaciones de un máximo de 5 a 100\n",
    "\n",
    "4. ¿Cuántas calificaciones tiene cada película? ¿Cuál es la calificación media de cada uno? \n",
    "    Nota: agrupen las calificaciones y cuenten las clasificaciones \n",
    "\n",
    "5. ¿cuáles son las películas son las 20 mejores  y peores según las calificaciones? ¿Cuáles son las más calificadas? \n",
    "\n",
    "3. Pongamonos serios:\n",
    "\n",
    "1. La columna de genero en el DataFrame tiene divisiones, ¿podemos poner cada genero en una columna? \n",
    "2. Concatena las nuevas columnas y quita la columna vieja\n"
   ]
  }
 ],
 "metadata": {
  "colab": {
   "collapsed_sections": [],
   "name": "Sesión 2 - Pandas.ipynb",
   "provenance": [],
   "version": "0.3.2"
  },
  "kernelspec": {
   "display_name": "Python 3",
   "language": "python",
   "name": "python3"
  },
  "language_info": {
   "codemirror_mode": {
    "name": "ipython",
    "version": 3
   },
   "file_extension": ".py",
   "mimetype": "text/x-python",
   "name": "python",
   "nbconvert_exporter": "python",
   "pygments_lexer": "ipython3",
   "version": "3.7.4"
  }
 },
 "nbformat": 4,
 "nbformat_minor": 4
}
