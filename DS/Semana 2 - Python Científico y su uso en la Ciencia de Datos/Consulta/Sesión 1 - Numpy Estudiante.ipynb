{
 "cells": [
  {
   "cell_type": "markdown",
   "metadata": {
    "colab_type": "text",
    "id": "6UuF0oENDpYa"
   },
   "source": [
    "# ¡Bienvenidos a la segunda semana del Mastery Data Science!"
   ]
  },
  {
   "cell_type": "markdown",
   "metadata": {},
   "source": [
    "# Objetivos Particulares: \n",
    "\n",
    "* Comparar el uso de Vanilla Python y NumPy en la Ciencia de Datos.\n",
    "* Conocer las operaciones básicas que tiene NumPy\n",
    "* Evaluar conceptos aprendidos"
   ]
  },
  {
   "cell_type": "markdown",
   "metadata": {},
   "source": [
    "# Agenda"
   ]
  },
  {
   "cell_type": "markdown",
   "metadata": {},
   "source": [
    "- 19:00 - 19:45 (45 min)  Autodiagnóstico Semana 1\n",
    "- 19:45 - 20:45 (60 min)  Conociendo NumPy\n",
    "- 20:45 - 21:00 (15 min)  Break\n",
    "- 21:00 - 21:30 (30 min)  Ejercicios NumPy\n",
    "- 21:30 - 22:00 (30 min)  Autodignóstico NumPy"
   ]
  },
  {
   "cell_type": "markdown",
   "metadata": {
    "colab_type": "text",
    "id": "BavbEpheCrO8"
   },
   "source": [
    "# 1. Autodiagnóstico Semana 1"
   ]
  },
  {
   "cell_type": "markdown",
   "metadata": {},
   "source": [
    "## 1.1 Objetivos:\n",
    "* Autoevaluar los conceptos aprendidos en la primer semana del curso.\n",
    "* Observar la velocidad de procesamiento de los diferentes ejercicios.\n",
    "* Contar con un punto de comparación de Python y NumPy en el análisis de datos."
   ]
  },
  {
   "cell_type": "markdown",
   "metadata": {},
   "source": [
    "### Conceptos de apoyo:\n",
    "- [Declaración de variables](https://www.pythonforbeginners.com/basics/python-variables)\n",
    "- [Tipo de datos](https://pythonista.io/cursos/py101/tipos-de-datos-basicos-y-operadores)\n",
    "- [Ciclos en Python](https://realpython.com/python-for-loop/) , [Video: For loops](https://www.youtube.com/watch?v=OnDr4J2UXSA)\n",
    "- [Importar una librería](https://www.digitalocean.com/community/tutorials/how-to-import-modules-in-python-3)\n",
    "- [Uso de librería random](https://pynative.com/python-random-module/)"
   ]
  },
  {
   "cell_type": "markdown",
   "metadata": {
    "colab_type": "text",
    "id": "pCq2oJ3UYeJn"
   },
   "source": [
    "## 1.1 Ejercicios"
   ]
  },
  {
   "cell_type": "markdown",
   "metadata": {},
   "source": [
    "#### Importar libreria generadora de numeros aleatorios"
   ]
  },
  {
   "cell_type": "code",
   "execution_count": 3,
   "metadata": {},
   "outputs": [],
   "source": []
  },
  {
   "cell_type": "markdown",
   "metadata": {},
   "source": [
    "#### Definir variable *rnd_number* de tipo *float* y asignar a *rnd_number* el valor de un número aleatorio uniformemente distribuido entre [-1,1]"
   ]
  },
  {
   "cell_type": "code",
   "execution_count": 4,
   "metadata": {},
   "outputs": [],
   "source": []
  },
  {
   "cell_type": "markdown",
   "metadata": {},
   "source": [
    "#### Declarar *rnd_vector* de tipo *list* con 100 numeros aleatorios distribuidos uniformemente entre [-1,1]"
   ]
  },
  {
   "cell_type": "code",
   "execution_count": null,
   "metadata": {},
   "outputs": [],
   "source": []
  },
  {
   "cell_type": "markdown",
   "metadata": {},
   "source": [
    "#### Declarar la variable *rnd_mult* y asignar el valor de multiplicar *rnd_number* por *r_vector*\n",
    "* Pregunta: ¿Qué tipo de dato será *rnd_mult*? Una lista de lista cada elemento será de tipo *float*"
   ]
  },
  {
   "cell_type": "code",
   "execution_count": null,
   "metadata": {},
   "outputs": [],
   "source": []
  },
  {
   "cell_type": "markdown",
   "metadata": {},
   "source": [
    "#### Declarar *rnd_matrix*, asignar los valores de *rnd_mult* distribuidos en 10 filas y 10 columnas\n",
    "* Pregunta: ¿Cómo se verá la variable *rnd_matrix*? (Ejemplo) [[0.1,0.2,0.6],[1.2,9.1,0.3],[0.0,1.2,43.2]]\n",
    "* Pregunta: ¿A qué puede ser equivalente una lista de listas desde un punto de álgebra lineal? Matriz\n",
    "* Pregunta: ¿Qué tipo de dato será la variable *rnd_matrix*? Lista de listas"
   ]
  },
  {
   "cell_type": "code",
   "execution_count": null,
   "metadata": {},
   "outputs": [],
   "source": []
  },
  {
   "cell_type": "markdown",
   "metadata": {},
   "source": [
    "#### Completar la función get_column_matrix(column=0) para obtener la columna *n* de *matrix*"
   ]
  },
  {
   "cell_type": "code",
   "execution_count": 1,
   "metadata": {},
   "outputs": [
    {
     "ename": "SyntaxError",
     "evalue": "invalid character in identifier (<ipython-input-1-27af350841bf>, line 5)",
     "output_type": "error",
     "traceback": [
      "\u001b[0;36m  File \u001b[0;32m\"<ipython-input-1-27af350841bf>\"\u001b[0;36m, line \u001b[0;32m5\u001b[0m\n\u001b[0;31m    column.append(row[¿QUE VALOR VA AQUI?])\u001b[0m\n\u001b[0m                         ^\u001b[0m\n\u001b[0;31mSyntaxError\u001b[0m\u001b[0;31m:\u001b[0m invalid character in identifier\n"
     ]
    }
   ],
   "source": [
    "def get_column_matrix(matrix=[], n=0):\n",
    "    column = []\n",
    "    # Operation\n",
    "    for row in matrix:\n",
    "        # column.append(row[¿QUE VALOR VA AQUI?])\n",
    "    return column"
   ]
  },
  {
   "cell_type": "markdown",
   "metadata": {},
   "source": [
    "#### Definir la variable *n_column* y asignar el valor de la columna *n_column* de *rnd_matrix*\n",
    "\n",
    "- Donde *n_column* será generado por la librería random y deberá ser un valor entero entre [0,9]\n",
    "- Tip: Puede utilizar la función get_column_matrix creada previamente"
   ]
  },
  {
   "cell_type": "code",
   "execution_count": 9,
   "metadata": {},
   "outputs": [],
   "source": []
  },
  {
   "cell_type": "code",
   "execution_count": null,
   "metadata": {},
   "outputs": [],
   "source": []
  },
  {
   "cell_type": "markdown",
   "metadata": {},
   "source": [
    "#### Calcular la media de la variable *column*"
   ]
  },
  {
   "cell_type": "code",
   "execution_count": null,
   "metadata": {
    "colab": {
     "base_uri": "https://localhost:8080/",
     "height": 68
    },
    "colab_type": "code",
    "executionInfo": {
     "elapsed": 287,
     "status": "ok",
     "timestamp": 1555993746055,
     "user": {
      "displayName": "Manuel Ferrer",
      "photoUrl": "",
      "userId": "01378850988778114649"
     },
     "user_tz": 300
    },
    "id": "jDfCI-2Yb6b3",
    "outputId": "d813c9f3-0ca6-4c19-93b5-e2155a2dfbd9"
   },
   "outputs": [],
   "source": []
  },
  {
   "cell_type": "markdown",
   "metadata": {},
   "source": [
    "#### Mostrar el valor máximo y mínimo de la 8va columna de *rnd_matrix*"
   ]
  },
  {
   "cell_type": "code",
   "execution_count": 12,
   "metadata": {},
   "outputs": [],
   "source": []
  },
  {
   "cell_type": "markdown",
   "metadata": {
    "colab_type": "text",
    "id": "jW58niF6eWXg"
   },
   "source": [
    "####  Crea un vector del 1 al 5 y eleva a la potencia 3 cada elemento."
   ]
  },
  {
   "cell_type": "code",
   "execution_count": null,
   "metadata": {
    "colab": {
     "base_uri": "https://localhost:8080/",
     "height": 68
    },
    "colab_type": "code",
    "executionInfo": {
     "elapsed": 282,
     "status": "ok",
     "timestamp": 1555994140154,
     "user": {
      "displayName": "Manuel Ferrer",
      "photoUrl": "",
      "userId": "01378850988778114649"
     },
     "user_tz": 300
    },
    "id": "fckda3XSeWkL",
    "outputId": "99fcac2f-d37b-44ea-9f60-31ff85ea92aa"
   },
   "outputs": [],
   "source": []
  },
  {
   "cell_type": "markdown",
   "metadata": {
    "colab_type": "text",
    "id": "UMLihwiOeucZ"
   },
   "source": [
    "#### Calcula la raíz cuadrada de la lista anterior"
   ]
  },
  {
   "cell_type": "code",
   "execution_count": null,
   "metadata": {
    "colab": {
     "base_uri": "https://localhost:8080/",
     "height": 34
    },
    "colab_type": "code",
    "executionInfo": {
     "elapsed": 284,
     "status": "ok",
     "timestamp": 1555994313759,
     "user": {
      "displayName": "Manuel Ferrer",
      "photoUrl": "",
      "userId": "01378850988778114649"
     },
     "user_tz": 300
    },
    "id": "LSy0U--8enuA",
    "outputId": "45539919-87ee-4c90-8b28-684116c1b91f"
   },
   "outputs": [],
   "source": []
  },
  {
   "cell_type": "markdown",
   "metadata": {
    "colab_type": "text",
    "id": "S_svkzyGfSVt"
   },
   "source": [
    "#### Calcular el producto punto de los siguientes dos vectores:  [1,2,3] y  [3,2,1]"
   ]
  },
  {
   "cell_type": "code",
   "execution_count": null,
   "metadata": {
    "colab": {
     "base_uri": "https://localhost:8080/",
     "height": 68
    },
    "colab_type": "code",
    "executionInfo": {
     "elapsed": 304,
     "status": "ok",
     "timestamp": 1555994527655,
     "user": {
      "displayName": "Manuel Ferrer",
      "photoUrl": "",
      "userId": "01378850988778114649"
     },
     "user_tz": 300
    },
    "id": "aFAxLIKYfPle",
    "outputId": "d81bbe53-e769-4863-e0e0-8b92c8eefecb"
   },
   "outputs": [],
   "source": []
  },
  {
   "cell_type": "markdown",
   "metadata": {
    "colab_type": "text",
    "id": "2f2LcPfpFRR0"
   },
   "source": [
    "# 2. Introducción a NumPy\n",
    "\n",
    "\n",
    "*Numpy* o *Numertical Python* es un paquete fundamental sobre el cual estan construidos muchos de los paquetes de ciencia de datos más utilizados. Su elemento fundamental son los *arrays* (arreglos) los cuales toman características operacionales similares a las matrices y vectores de álgebra lineal.\n",
    "\n",
    "Algunas operaciones que se pueden realizar son: sumar, restar, multiplicar, producto punto, inversa de una matriz, sistemas lineales, etc."
   ]
  },
  {
   "attachments": {
    "image.png": {
     "image/png": "[encoded data removed]"
    }
   },
   "cell_type": "markdown",
   "metadata": {},
   "source": [
    "## Conceptos básicos\n",
    "\n",
    "### Vector\n",
    "- Conjunto de elementos del mismo tipo\n",
    "- Matriz unidimensional\n",
    "- Mutable\n",
    "- Otro nombre: arreglo\n",
    "- [Más información](https://es.wikipedia.org/wiki/Vector_(inform%C3%A1tica))\n",
    "![image.png](attachment:image.png)\n",
    "\n"
   ]
  },
  {
   "attachments": {
    "image.png": {
     "image/png": "[encoded data removed]"
    }
   },
   "cell_type": "markdown",
   "metadata": {},
   "source": [
    "### Matriz\n",
    "- Arreglo bidimensional de números\n",
    "- [Más información](https://es.wikipedia.org/wiki/Matriz_(matem%C3%A1ticas)\n",
    "![image.png](attachment:image.png)\n"
   ]
  },
  {
   "cell_type": "markdown",
   "metadata": {
    "colab_type": "text",
    "id": "HImyPmkhiEb9"
   },
   "source": [
    "## 2.1 ¿Cómo usamos Numpy?\n",
    "\n",
    "Lo estándar es importar el paquete y renombrarlo (apodarlo) *np**"
   ]
  },
  {
   "cell_type": "code",
   "execution_count": 3,
   "metadata": {
    "colab": {},
    "colab_type": "code",
    "id": "d3Y3aEwLhou1"
   },
   "outputs": [],
   "source": [
    "import numpy as np"
   ]
  },
  {
   "cell_type": "markdown",
   "metadata": {
    "colab_type": "text",
    "id": "bVD3WSxVD63u"
   },
   "source": [
    "La manera más fácil de crear un arreglo es convertir a partir de una lista predeterminada usando el comando `array`."
   ]
  },
  {
   "cell_type": "code",
   "execution_count": 18,
   "metadata": {
    "colab": {},
    "colab_type": "code",
    "id": "xehE7RloD4Jc"
   },
   "outputs": [
    {
     "name": "stdout",
     "output_type": "stream",
     "text": [
      "[  12  132 1332]\n",
      "\n",
      "(3,)\n",
      "\n",
      "3\n"
     ]
    }
   ],
   "source": [
    "#Arreglo unidimensional \n",
    "arreglo=np.array([3, 33, 333])*4\n",
    "print(arreglo)\n",
    "print()\n",
    "\n",
    "# Método shape \n",
    "print(arreglo.shape) \n",
    "print()\n",
    "\n",
    "# Método size\n",
    "print(arreglo.size)\n"
   ]
  },
  {
   "cell_type": "markdown",
   "metadata": {
    "colab_type": "text",
    "id": "zgQPgRehog23"
   },
   "source": [
    "Ahora definamos un arreglo bidimensional, algo parecido a una matriz: ahora tenemos renglones y columnas. \n",
    "\n",
    "De igual manera podemos definirlo de igual manera con el comando `array` y una serie de listas que seran interpretadas como las filas de nuestros arreglos"
   ]
  },
  {
   "cell_type": "code",
   "execution_count": 19,
   "metadata": {
    "colab": {},
    "colab_type": "code",
    "id": "3rRhemhzGO_7"
   },
   "outputs": [
    {
     "name": "stdout",
     "output_type": "stream",
     "text": [
      "[[11 12 13]\n",
      " [21 22 23]]\n",
      "\n",
      "(2, 3)\n",
      "\n",
      "6\n",
      "\n",
      "2\n"
     ]
    }
   ],
   "source": [
    "#Arreglo bidimensional\n",
    "arreglo2D=np.array([[11,12,13],[21,22,23]])\n",
    "print(arreglo2D)\n",
    "print()\n",
    "\n",
    "# Método shape \n",
    "print(arreglo2D.shape) \n",
    "print()\n",
    "\n",
    "# Método size\n",
    "print(arreglo2D.size)\n",
    "print()\n",
    "\n",
    "print(arreglo2D.ndim)\n"
   ]
  },
  {
   "cell_type": "markdown",
   "metadata": {
    "colab_type": "text",
    "id": "4qw-EvKHp-8h"
   },
   "source": [
    "#### Responder las siguientes preguntas \n",
    "\n",
    "* ¿Diferencias entre `shape` y `size`? \n",
    "\n",
    "* ¿que se indica primero en `shape`: el número de columnas o el numero de filas?\n"
   ]
  },
  {
   "cell_type": "markdown",
   "metadata": {},
   "source": [
    "### Velocidad Python list vs NumPY"
   ]
  },
  {
   "cell_type": "code",
   "execution_count": 20,
   "metadata": {},
   "outputs": [
    {
     "name": "stdout",
     "output_type": "stream",
     "text": [
      "9.22 µs ± 109 ns per loop (mean ± std. dev. of 7 runs, 100000 loops each)\n"
     ]
    }
   ],
   "source": [
    "%timeit rnd_multp = [rnd_number * i for i in rnd_vector]"
   ]
  },
  {
   "cell_type": "code",
   "execution_count": 21,
   "metadata": {},
   "outputs": [],
   "source": [
    "np_vector = np.array(rnd_vector)"
   ]
  },
  {
   "cell_type": "code",
   "execution_count": 22,
   "metadata": {},
   "outputs": [
    {
     "name": "stdout",
     "output_type": "stream",
     "text": [
      "1.76 µs ± 137 ns per loop (mean ± std. dev. of 7 runs, 100000 loops each)\n"
     ]
    }
   ],
   "source": [
    "%timeit np_multp = np_vector * rnd_number"
   ]
  },
  {
   "cell_type": "markdown",
   "metadata": {},
   "source": [
    "#### Reto: Definir la variable *array_numpy* de tipo `np.array` y asignar la variable *rnd_vector*"
   ]
  },
  {
   "cell_type": "code",
   "execution_count": null,
   "metadata": {},
   "outputs": [],
   "source": []
  },
  {
   "cell_type": "markdown",
   "metadata": {},
   "source": [
    "#### Reto: Generar una variable *matrix_numpy* de tipo  `np.array` la cual contendrá los valores de la variable *rnd_matrix*. "
   ]
  },
  {
   "cell_type": "code",
   "execution_count": null,
   "metadata": {},
   "outputs": [],
   "source": []
  },
  {
   "cell_type": "markdown",
   "metadata": {},
   "source": [
    "#### Reto: A partir de la variable *rnd_vector* generar una variable de tipo `np.array` que sea un vector bidimensional de 10x10(matriz).\n",
    "Tip: Utilizar con la función reshape de Numpy https://datascienceplus.com/introduction-to-numpy-part-i/"
   ]
  },
  {
   "cell_type": "code",
   "execution_count": null,
   "metadata": {},
   "outputs": [],
   "source": []
  },
  {
   "cell_type": "markdown",
   "metadata": {},
   "source": [
    "#### Reto: Obtener el número de filas y columnas *matrix_numpy*"
   ]
  },
  {
   "cell_type": "code",
   "execution_count": null,
   "metadata": {},
   "outputs": [],
   "source": []
  },
  {
   "cell_type": "markdown",
   "metadata": {},
   "source": [
    "#### Reto: Explorar algunos tipos de arreglos preeterminados: busquemos como generar de manera rápida mediante funciones de NumPy los siguientes arreglos: \n",
    "* únicamente contiene ceros  np.zeros(N)\n",
    "* únicamente contiene unos   np.ones(N)\n",
    "* únicamente contiene valores iguales a una constante np.full(R,N)\n",
    "* contenga únicamente unos en la diagonal principal y ceros en las demás posiciones => np.eye(N,M)\n",
    "* cuadrado y que contenga únicamente unos en la diagonal principal y ceros en las demás posiciones => np.identity(N)\n",
    "* contenga números aleatorios uniformemente distribuidos => np.random.random((N,M)\n",
    "* contenga los enteros en un cierto intervalo específico => np.arange(MIN,MAX)\n",
    "* contenga N números uniformemente espaciados en un cierto intervalo => np.linspace(MIN,MAX,N)\n",
    "* definir el tipo de dato de nuestro vector\n",
    "\n",
    "Recursos de apoyo:\n",
    "- [An introduction to Numpy and Scipy](https://sites.engineering.ucsb.edu/~shell/che210d/numpy.pdf)\n",
    "- [Introduction to Numpy for Data Analysis](https://towardsdatascience.com/introduction-to-numpy-for-data-analysis-3aaded0d0996)\n"
   ]
  },
  {
   "cell_type": "code",
   "execution_count": null,
   "metadata": {},
   "outputs": [],
   "source": []
  },
  {
   "cell_type": "code",
   "execution_count": 4,
   "metadata": {
    "colab": {
     "base_uri": "https://localhost:8080/",
     "height": 68
    },
    "colab_type": "code",
    "executionInfo": {
     "elapsed": 286,
     "status": "ok",
     "timestamp": 1555485029866,
     "user": {
      "displayName": "Manuel Ferrer",
      "photoUrl": "",
      "userId": "01378850988778114649"
     },
     "user_tz": 300
    },
    "id": "OifRjpcvIZEi",
    "outputId": "0e4a03fe-1442-4288-abed-f392c769a61f"
   },
   "outputs": [
    {
     "name": "stdout",
     "output_type": "stream",
     "text": [
      "float64\n",
      "\n",
      "[11. 21.]\n"
     ]
    }
   ],
   "source": [
    "# Extra: podemos definir el tipo de dato que contiene nuestro arreglo \n",
    "ex5 = np.array([11, 21], dtype=np.float64)\n",
    "print(ex5.dtype)\n",
    "print()\n",
    "print(ex5)"
   ]
  },
  {
   "cell_type": "markdown",
   "metadata": {
    "colab_type": "text",
    "id": "6t6XBGneFuRJ"
   },
   "source": [
    "## 2.2 Indices"
   ]
  },
  {
   "cell_type": "markdown",
   "metadata": {
    "colab_type": "text",
    "id": "KOWqi5wqxd38"
   },
   "source": [
    "Podemos seleccionar ciertos datos dentro de un arreglo usando índices de manera semejante a las listas, pero no es igual"
   ]
  },
  {
   "cell_type": "code",
   "execution_count": 52,
   "metadata": {
    "colab": {
     "base_uri": "https://localhost:8080/",
     "height": 34
    },
    "colab_type": "code",
    "executionInfo": {
     "elapsed": 377,
     "status": "ok",
     "timestamp": 1555999275385,
     "user": {
      "displayName": "Manuel Ferrer",
      "photoUrl": "",
      "userId": "01378850988778114649"
     },
     "user_tz": 300
    },
    "id": "12QSRClLE-L0",
    "outputId": "8d4c20bc-d617-4749-9850-4930b6388ce3"
   },
   "outputs": [
    {
     "name": "stdout",
     "output_type": "stream",
     "text": [
      "0.07264288872615159\n"
     ]
    }
   ],
   "source": [
    "# Tercer elemento de la cuarta fila \n",
    "a1=matrix_numpy[2,3]\n",
    "print(a1)"
   ]
  },
  {
   "cell_type": "code",
   "execution_count": 53,
   "metadata": {
    "colab": {
     "base_uri": "https://localhost:8080/",
     "height": 34
    },
    "colab_type": "code",
    "executionInfo": {
     "elapsed": 303,
     "status": "ok",
     "timestamp": 1555999340782,
     "user": {
      "displayName": "Manuel Ferrer",
      "photoUrl": "",
      "userId": "01378850988778114649"
     },
     "user_tz": 300
    },
    "id": "jz_a6PBfHU1W",
    "outputId": "637de94b-67bb-41cb-8fe7-a52dc05fff22"
   },
   "outputs": [
    {
     "name": "stdout",
     "output_type": "stream",
     "text": [
      "[ 0.20116827 -0.07415546 -0.09748738  0.18692518 -0.1134958   0.15345177\n",
      "  0.17558393 -0.09140044  0.15228088  0.00734063]\n"
     ]
    }
   ],
   "source": [
    "# Cuarta fila\n",
    "a2=matrix_numpy[3,:]\n",
    "print(a2)\n"
   ]
  },
  {
   "cell_type": "code",
   "execution_count": 54,
   "metadata": {
    "colab": {
     "base_uri": "https://localhost:8080/",
     "height": 34
    },
    "colab_type": "code",
    "executionInfo": {
     "elapsed": 580,
     "status": "ok",
     "timestamp": 1555999382984,
     "user": {
      "displayName": "Manuel Ferrer",
      "photoUrl": "",
      "userId": "01378850988778114649"
     },
     "user_tz": 300
    },
    "id": "923ilASiydZu",
    "outputId": "ed1cf7d3-ecc8-42a6-f06b-917f18fc513a"
   },
   "outputs": [
    {
     "name": "stdout",
     "output_type": "stream",
     "text": [
      "[-0.0902898  -0.10008306 -0.07305908  0.15345177 -0.02645018 -0.11592007\n",
      "  0.1503163   0.0951819  -0.1751724   0.1177511 ]\n"
     ]
    }
   ],
   "source": [
    "# Quinta columna\n",
    "a3=matrix_numpy[:,5]\n",
    "print(a3)"
   ]
  },
  {
   "cell_type": "code",
   "execution_count": 272,
   "metadata": {},
   "outputs": [
    {
     "name": "stdout",
     "output_type": "stream",
     "text": [
      "[870 518  46 610 377 485 285  78 973 137 376 961 229 912 992 971 290 147\n",
      " 223  71 307 529 172 255  25 166 160 311 663 716  35  37 469 536 881 721\n",
      " 895 980 826 452 596 366 438 238 951 923 329 195 340 428 475 397 329 594\n",
      " 674 922  14 666 626 677 397 510 542 802 508 907 745  22 467 992 139 363\n",
      " 593 458   3 177  79  13 540 620  85 282 878 147 207 718 593 273  61 221\n",
      " 384 188 286  72 246 872 431 955 345 341]\n"
     ]
    }
   ],
   "source": [
    "# Cree una matriz de numeros enteros\n",
    "matrix_int = np.random.randint(1000, size=100)\n",
    "print(matrix_int)"
   ]
  },
  {
   "cell_type": "code",
   "execution_count": 56,
   "metadata": {
    "colab": {
     "base_uri": "https://localhost:8080/",
     "height": 170
    },
    "colab_type": "code",
    "executionInfo": {
     "elapsed": 280,
     "status": "ok",
     "timestamp": 1556000030197,
     "user": {
      "displayName": "Manuel Ferrer",
      "photoUrl": "",
      "userId": "01378850988778114649"
     },
     "user_tz": 300
    },
    "id": "R1cmu9inHoD8",
    "outputId": "0c56dee6-9a9b-4fcc-89c1-6a1d085441cf"
   },
   "outputs": [
    {
     "name": "stdout",
     "output_type": "stream",
     "text": [
      "Arreglo de valores boleanos\n",
      "[False False  True  True  True  True False  True  True False  True False\n",
      " False  True False  True False  True False  True  True False  True False\n",
      "  True False  True False False  True False False False  True  True  True\n",
      "  True  True  True  True False  True  True False  True False False  True\n",
      " False  True  True  True False  True False False  True  True  True  True\n",
      " False False  True  True False  True  True False  True  True False False\n",
      " False  True False  True  True  True  True  True False  True  True  True\n",
      " False  True False False  True  True  True  True  True  True False  True\n",
      " False False False  True]\n",
      "\n",
      "[352 832 874  70   4 764 246  78 126 634 734 530 508  70 360 212 196   2\n",
      " 686 650 936 328 810 112 158  42 798 750 664 776  88 602 318 926 154  18\n",
      " 982 770 644 404 684 866 366  74  76 980 546 572 338  40 900 536 916 578\n",
      "  20 348 510 348 600]\n"
     ]
    }
   ],
   "source": [
    "# De igual manera podemos comparar los elementos de un array y usar el resultado para filtrar \n",
    "\n",
    "#Seleccionamos a todos los pares\n",
    "a5b=matrix_int % 2==0\n",
    "print('Arreglo de valores boleanos')\n",
    "print(a5b)\n",
    "print()\n",
    "\n",
    "#Arreglo de los valores dados por el filtro\n",
    "a5=matrix_int[a5b]\n",
    "print(a5)"
   ]
  },
  {
   "cell_type": "markdown",
   "metadata": {
    "colab_type": "text",
    "id": "0iYQmPG-FSUi"
   },
   "source": [
    "## 2.3 Operaciones"
   ]
  },
  {
   "cell_type": "markdown",
   "metadata": {
    "colab_type": "text",
    "id": "pZ7zEI5hIio6"
   },
   "source": [
    "#### 2.3.1 Aritmética \n",
    "\n",
    "A diferencia de las listas, donde tenemos que hacer algun proceso para operar cada elemento, en los arreglos las operaciones se realizan para cada elemento."
   ]
  },
  {
   "cell_type": "code",
   "execution_count": 57,
   "metadata": {
    "colab": {
     "base_uri": "https://localhost:8080/",
     "height": 357
    },
    "colab_type": "code",
    "executionInfo": {
     "elapsed": 348,
     "status": "ok",
     "timestamp": 1556004195348,
     "user": {
      "displayName": "Manuel Ferrer",
      "photoUrl": "",
      "userId": "01378850988778114649"
     },
     "user_tz": 300
    },
    "id": "D0WOXn6KBa1s",
    "outputId": "36bc1838-1b3b-4e42-a34a-bdf60129146b"
   },
   "outputs": [],
   "source": [
    "# Creamos unos arreglo para unas pruebas\n",
    "A=np.arange(10)\n",
    "B=np.arange(2,12)"
   ]
  },
  {
   "cell_type": "markdown",
   "metadata": {},
   "source": [
    "#### Reto: \n",
    "1. Sumar A más rnd_number\n",
    "2. Sumar A y B\n",
    "3. Restar A y B\n",
    "4. Multiplicar A y B\n",
    "5. Dividir A y B\n",
    "6. Elevar B a la 4 potencia\n",
    "7. Elevar 2 a la A\n",
    "8. Elevar B a la A"
   ]
  },
  {
   "cell_type": "code",
   "execution_count": 254,
   "metadata": {},
   "outputs": [
    {
     "name": "stdout",
     "output_type": "stream",
     "text": [
      "A + rnd_number = \n",
      "[[1.08216006 1.15605146 0.89425479 0.77539774 0.42153036]\n",
      " [0.75812997 0.33205063 0.93947923 1.00998032 0.73422749]\n",
      " [0.52358531 1.0281081  1.10867629 0.76479894 0.28746239]\n",
      " [0.82019372 1.01770261 0.51669612 0.77965489 1.1561794 ]\n",
      " [1.12847079 1.12172002 0.54122304 1.1913101  0.53316702]]\n",
      "A + B = \n",
      " [[1.68712944 0.94190915 1.53745485 1.3404382  0.31765766]\n",
      " [1.20515755 0.33120517 1.41362657 1.57762719 1.36353907]\n",
      " [0.52954242 1.25263383 1.61902879 1.05570179 0.2449385 ]\n",
      " [1.3233202  1.40247552 0.83867143 1.12228282 1.71162844]\n",
      " [1.7099985  1.24048391 1.31176272 1.48133079 1.02815414]]\n",
      "A - B = \n",
      "  [[ 4.02348023e-02  9.33237882e-01 -1.85901156e-01 -2.26598602e-01\n",
      "   8.84471901e-02]\n",
      " [-1.25853491e-01 -1.04059788e-01  2.83760172e-02  5.37757292e-03\n",
      "  -3.32039962e-01]\n",
      " [ 8.06723093e-02  3.66626487e-01  1.61367915e-01  3.69402157e-02\n",
      "  -1.06969586e-01]\n",
      " [-1.19888635e-01  1.95973822e-01 -2.42235075e-01  7.10829649e-05\n",
      "   1.63774481e-01]\n",
      " [ 1.09987193e-01  5.66000251e-01 -6.66272519e-01  4.64333532e-01\n",
      "  -3.98775985e-01]]\n",
      "A * B = \n",
      " [[0.71119673 0.00406498 0.58230204 0.43635691 0.02327087]\n",
      " [0.3591414  0.02471711 0.49938372 0.62221966 0.43724706]\n",
      " [0.06847679 0.35866913 0.64880366 0.27828542 0.01213809]\n",
      " [0.43420077 0.48213296 0.16117298 0.31487968 0.72571246]\n",
      " [0.72799942 0.30461101 0.31920059 0.49468382 0.22451966]]\n",
      "A / B = \n",
      " [[  1.04886142 216.24828226   0.78425682   0.71079352   1.77175524]\n",
      " [  0.81089039   0.52185543   1.04096879   1.00684061   0.60834623]\n",
      " [  1.35944611   1.82759243   1.22140666   1.07251984   0.39205951]\n",
      " [  0.83385823   1.3248629    0.55179273   1.00012668   1.2116149 ]\n",
      " [  1.13748302   2.67832161   0.32632897   1.91314608   0.44107146]]\n",
      "B ^ 4 = \n",
      " [[4.59772805e-01 3.53354527e-10 5.51289886e-01 3.76874542e-01\n",
      "  1.72511407e-04]\n",
      " [1.96158280e-01 2.24333864e-03 2.30140657e-01 3.81914379e-01\n",
      "  5.16597335e-01]\n",
      " [2.53724721e-03 3.85149468e-02 2.82166861e-01 6.73240517e-02\n",
      "  9.58510728e-04]\n",
      " [2.71141964e-01 1.32431643e-01 8.53164024e-02 9.91240973e-02\n",
      "  3.58756638e-01]\n",
      " [4.09611579e-01 1.29349797e-02 9.56788866e-01 6.68588876e-02\n",
      "  2.59113978e-01]]\n",
      "2 ^ A = \n",
      " [[1.81967666 1.91530416 1.59745672 1.47112496 1.15113132]\n",
      " [1.45362187 1.08190415 1.64832565 1.73087601 1.42973677]\n",
      " [1.23551058 1.75276206 1.85343093 1.46035691 1.04897802]\n",
      " [1.51752027 1.74016568 1.22962481 1.47547242 1.91547402]\n",
      " [1.87903618 1.8702642  1.25070808 1.96268978 1.24374358]]\n",
      "B ^ A = \n",
      " [[0.84554391 0.00608924 0.90428984 0.87295911 0.64412356]\n",
      " [0.8027188  0.8409758  0.76735989 0.82657311 0.91836345]\n",
      " [0.63388867 0.51727407 0.75458877 0.69175323 0.88704219]\n",
      " [0.8217437  0.66768027 0.83234547 0.72305233 0.78638245]\n",
      " [0.8162353  0.37464233 0.99644223 0.51792784 0.89920351]]\n"
     ]
    }
   ],
   "source": [
    "print(\"A + rnd_number = \")\n",
    "print(A+rnd_number)\n",
    "print(\"A + B = \\n\", A+B)\n",
    "print(\"A - B = \\n \", A-B)\n",
    "print(\"A * B = \\n\", A*B)\n",
    "print(\"A / B = \\n\", A/B)\n",
    "print(\"B ^ 4 = \\n\", B**4)\n",
    "print(\"2 ^ A = \\n\", 2**A)\n",
    "print(\"B ^ A = \\n\", B**A)"
   ]
  },
  {
   "cell_type": "markdown",
   "metadata": {
    "colab_type": "text",
    "id": "3C1cuRRAA6Rw"
   },
   "source": [
    "#### 2.3.2 Estádisticos\n",
    "\n",
    "Numpy posee las funciones estadísiticas básicas: \n",
    "* Media\n",
    "* Mediana\n",
    "* Rangos\n",
    "* Varianzas y covarianzas\n",
    "* Correlaciones \n",
    "* Cuentas\n",
    "\n",
    "Para mayor información: https://docs.scipy.org/doc/numpy-1.14.5/reference/routines.statistics.html\n"
   ]
  },
  {
   "cell_type": "code",
   "execution_count": 58,
   "metadata": {
    "colab": {
     "base_uri": "https://localhost:8080/",
     "height": 136
    },
    "colab_type": "code",
    "executionInfo": {
     "elapsed": 339,
     "status": "ok",
     "timestamp": 1556008405864,
     "user": {
      "displayName": "Manuel Ferrer",
      "photoUrl": "",
      "userId": "01378850988778114649"
     },
     "user_tz": 300
    },
    "id": "u7EbYSxjT6YM",
    "outputId": "43b05314-1c4b-4022-afd0-969e294f9272"
   },
   "outputs": [
    {
     "name": "stdout",
     "output_type": "stream",
     "text": [
      "0.0032172408883013436\n",
      "\n",
      "[-0.03643812 -0.03618722 -0.03163575  0.05002116 -0.00816351 -0.01428904\n",
      "  0.07933356  0.03975246 -0.01443781  0.00421668]\n",
      "\n",
      "0.0070920241977492395\n",
      "\n",
      "0.11849726202822691\n"
     ]
    }
   ],
   "source": [
    "# Media del arreglo\n",
    "a1=np.mean(matrix_numpy)\n",
    "print(a1)\n",
    "print()\n",
    "\n",
    "# Media de cada una de las filas \n",
    "a2=np.mean(matrix_numpy,axis=1)\n",
    "print(a2)\n",
    "print()\n",
    "\n",
    "# Mediana del arreglo\n",
    "a3=np.median(matrix_numpy)\n",
    "print(a3)\n",
    "print()\n",
    "\n",
    "# Desviación estándar del arreglo \n",
    "a4=np.std(matrix_numpy)\n",
    "print(a4)"
   ]
  },
  {
   "cell_type": "code",
   "execution_count": 59,
   "metadata": {
    "colab": {
     "base_uri": "https://localhost:8080/",
     "height": 68
    },
    "colab_type": "code",
    "executionInfo": {
     "elapsed": 290,
     "status": "ok",
     "timestamp": 1556008571486,
     "user": {
      "displayName": "Manuel Ferrer",
      "photoUrl": "",
      "userId": "01378850988778114649"
     },
     "user_tz": 300
    },
    "id": "W8-JOQEwUjKU",
    "outputId": "7135f642-f319-4aae-ab8a-48c5baf789f3"
   },
   "outputs": [
    {
     "name": "stdout",
     "output_type": "stream",
     "text": [
      "Maximo= 982\n",
      "Mínimo= 2\n",
      "Rango= 980\n"
     ]
    }
   ],
   "source": [
    "# Máximo valor en el arreglo\n",
    "print('Maximo=',np.amax(matrix_int))\n",
    "\n",
    "\n",
    "# Minimo valor en el arreglo \n",
    "print('Mínimo=',np.amin(matrix_int))\n",
    "\n",
    "# Rango del Arreglo -> R= max(A)-min(A)\n",
    "print('Rango=',np.ptp(matrix_int))\n"
   ]
  },
  {
   "cell_type": "markdown",
   "metadata": {
    "colab_type": "text",
    "id": "mVc1kp3KA8nm"
   },
   "source": [
    "#### 2.3.3 Matrices\n",
    "\n",
    "** Suma de elementos**\n"
   ]
  },
  {
   "cell_type": "code",
   "execution_count": 60,
   "metadata": {
    "colab": {
     "base_uri": "https://localhost:8080/",
     "height": 34
    },
    "colab_type": "code",
    "executionInfo": {
     "elapsed": 463,
     "status": "ok",
     "timestamp": 1556007718254,
     "user": {
      "displayName": "Manuel Ferrer",
      "photoUrl": "",
      "userId": "01378850988778114649"
     },
     "user_tz": 300
    },
    "id": "Yo9yQVjsSVsD",
    "outputId": "6f5eaf4c-3ee5-4b9e-d157-8be04aa1c6e7"
   },
   "outputs": [
    {
     "name": "stdout",
     "output_type": "stream",
     "text": [
      "66\n"
     ]
    }
   ],
   "source": [
    "A= np.array([[11,12],[21,22]])\n",
    "\n",
    "print(np.sum(A))"
   ]
  },
  {
   "cell_type": "code",
   "execution_count": 61,
   "metadata": {
    "colab": {
     "base_uri": "https://localhost:8080/",
     "height": 68
    },
    "colab_type": "code",
    "executionInfo": {
     "elapsed": 341,
     "status": "ok",
     "timestamp": 1556007795347,
     "user": {
      "displayName": "Manuel Ferrer",
      "photoUrl": "",
      "userId": "01378850988778114649"
     },
     "user_tz": 300
    },
    "id": "9fCS_4z1SbHE",
    "outputId": "f52c20ab-5737-4347-b95e-2270d1fdfad3"
   },
   "outputs": [
    {
     "name": "stdout",
     "output_type": "stream",
     "text": [
      "Suma horizontalmente [32 34]\n",
      "\n",
      "Suma verticalmente [23 43]\n"
     ]
    }
   ],
   "source": [
    "print('Suma horizontalmente',np.sum(A,axis=0))\n",
    "print()\n",
    "print('Suma verticalmente',np.sum(A,axis=1))"
   ]
  },
  {
   "cell_type": "markdown",
   "metadata": {
    "colab_type": "text",
    "id": "xs8aHlIwTjVv"
   },
   "source": [
    "**Producto interno**"
   ]
  },
  {
   "cell_type": "code",
   "execution_count": 62,
   "metadata": {
    "colab": {
     "base_uri": "https://localhost:8080/",
     "height": 136
    },
    "colab_type": "code",
    "executionInfo": {
     "elapsed": 310,
     "status": "ok",
     "timestamp": 1556007894531,
     "user": {
      "displayName": "Manuel Ferrer",
      "photoUrl": "",
      "userId": "01378850988778114649"
     },
     "user_tz": 300
    },
    "id": "XkPc6axRSuBQ",
    "outputId": "8faeffd9-2a49-4475-dffb-ebb9f1287573"
   },
   "outputs": [
    {
     "name": "stdout",
     "output_type": "stream",
     "text": [
      "A1=\n",
      "[[1 1]\n",
      " [1 1]]\n",
      "\n",
      "A2=\n",
      "[[2 2]\n",
      " [2 2]]\n"
     ]
    }
   ],
   "source": [
    "A1 = np.array([[1,1],[1,1]])\n",
    "A2 = np.array([[2,2],[2,2]])\n",
    "\n",
    "print('A1=')\n",
    "print(A1)\n",
    "print()\n",
    "print('A2=')\n",
    "print(A2)"
   ]
  },
  {
   "cell_type": "code",
   "execution_count": 63,
   "metadata": {
    "colab": {
     "base_uri": "https://localhost:8080/",
     "height": 68
    },
    "colab_type": "code",
    "executionInfo": {
     "elapsed": 293,
     "status": "ok",
     "timestamp": 1556007988656,
     "user": {
      "displayName": "Manuel Ferrer",
      "photoUrl": "",
      "userId": "01378850988778114649"
     },
     "user_tz": 300
    },
    "id": "muQGUm01THv_",
    "outputId": "6cb964ba-a894-42da-882d-25a671681a28"
   },
   "outputs": [
    {
     "name": "stdout",
     "output_type": "stream",
     "text": [
      "Producto interno: \n",
      "[[4 4]\n",
      " [4 4]]\n"
     ]
    }
   ],
   "source": [
    "print('Producto interno: ')\n",
    "print(np.dot(A1,A2))"
   ]
  },
  {
   "cell_type": "markdown",
   "metadata": {
    "colab_type": "text",
    "id": "8l7pdeetBFbU"
   },
   "source": [
    "#### 2.3.4 Orden \n"
   ]
  },
  {
   "cell_type": "code",
   "execution_count": 64,
   "metadata": {
    "colab": {
     "base_uri": "https://localhost:8080/",
     "height": 51
    },
    "colab_type": "code",
    "executionInfo": {
     "elapsed": 294,
     "status": "ok",
     "timestamp": 1556006979788,
     "user": {
      "displayName": "Manuel Ferrer",
      "photoUrl": "",
      "userId": "01378850988778114649"
     },
     "user_tz": 300
    },
    "id": "DSeLzAPKOY0R",
    "outputId": "a2a18826-fdfd-416c-d324-47d595b3be42"
   },
   "outputs": [
    {
     "name": "stdout",
     "output_type": "stream",
     "text": [
      "[-0.55989613 -1.15665059 -1.45974874  0.04832275 -1.15245428 -0.5938065\n",
      " -1.04789085 -0.12598094  0.12984361  0.38629988]\n"
     ]
    }
   ],
   "source": [
    "# create a 10 element array of randoms\n",
    "desord = np.random.randn(10)\n",
    "\n",
    "print(desord)"
   ]
  },
  {
   "cell_type": "code",
   "execution_count": 67,
   "metadata": {
    "colab": {
     "base_uri": "https://localhost:8080/",
     "height": 34
    },
    "colab_type": "code",
    "executionInfo": {
     "elapsed": 472,
     "status": "ok",
     "timestamp": 1556009190324,
     "user": {
      "displayName": "Manuel Ferrer",
      "photoUrl": "",
      "userId": "01378850988778114649"
     },
     "user_tz": 300
    },
    "id": "t8fourS-X3BI",
    "outputId": "01ba8b59-694f-487c-a2ed-ad74b89110a1"
   },
   "outputs": [
    {
     "name": "stdout",
     "output_type": "stream",
     "text": [
      "[1 2 4]\n"
     ]
    }
   ],
   "source": [
    "# Encontrando valores únicas\n",
    "\n",
    "arreglo = np.array([1,2,1,4,2,1,4,2])\n",
    "\n",
    "print(np.unique(arreglo))"
   ]
  },
  {
   "cell_type": "code",
   "execution_count": 68,
   "metadata": {
    "colab": {
     "base_uri": "https://localhost:8080/",
     "height": 102
    },
    "colab_type": "code",
    "executionInfo": {
     "elapsed": 303,
     "status": "ok",
     "timestamp": 1556006982000,
     "user": {
      "displayName": "Manuel Ferrer",
      "photoUrl": "",
      "userId": "01378850988778114649"
     },
     "user_tz": 300
    },
    "id": "n47KCFgnOcWp",
    "outputId": "500f9927-da14-4627-f20d-4d9560a9453e"
   },
   "outputs": [
    {
     "name": "stdout",
     "output_type": "stream",
     "text": [
      "Desordenados\n",
      "[-0.55989613 -1.15665059 -1.45974874  0.04832275 -1.15245428 -0.5938065\n",
      " -1.04789085 -0.12598094  0.12984361  0.38629988]\n",
      "\n",
      "Ordenados\n",
      "[-1.45974874 -1.15665059 -1.15245428 -1.04789085 -0.5938065  -0.55989613\n",
      " -0.12598094  0.04832275  0.12984361  0.38629988]\n"
     ]
    }
   ],
   "source": [
    "# Crear una copia y ordenarla \n",
    "ord = np.array(desord)\n",
    "ord.sort()\n",
    "\n",
    "print('Desordenados')\n",
    "print(desord)\n",
    "print()\n",
    "print('Ordenados')\n",
    "print(ord)"
   ]
  },
  {
   "cell_type": "code",
   "execution_count": 69,
   "metadata": {
    "colab": {
     "base_uri": "https://localhost:8080/",
     "height": 68
    },
    "colab_type": "code",
    "executionInfo": {
     "elapsed": 324,
     "status": "ok",
     "timestamp": 1556007524391,
     "user": {
      "displayName": "Manuel Ferrer",
      "photoUrl": "",
      "userId": "01378850988778114649"
     },
     "user_tz": 300
    },
    "id": "0lNjW3QvRWL8",
    "outputId": "7431ef00-5706-418c-c727-39be0542eb3a"
   },
   "outputs": [
    {
     "name": "stdout",
     "output_type": "stream",
     "text": [
      "Indices:  [2 1 4 6 5 0 7 3 8 9]\n",
      "[-1.45974874 -1.15665059 -1.15245428 -1.04789085 -0.5938065  -0.55989613\n",
      " -0.12598094  0.04832275  0.12984361  0.38629988]\n"
     ]
    }
   ],
   "source": [
    "# Obtener los indices que ordenerian el arreglo\n",
    "ind=desord.argsort()\n",
    "print('Indices: ',ind)\n",
    "\n",
    "# Colocamos los indices para que se ordenen \n",
    "print(desord[ind])\n",
    "\n"
   ]
  },
  {
   "cell_type": "markdown",
   "metadata": {
    "colab_type": "text",
    "id": "HpUSmtqeBNtE"
   },
   "source": [
    "#### 2.3.5 Forma \n",
    "reshape\n",
    "transpose \n",
    "vstack \n",
    "hstack \n",
    "contatenados \n",
    "ravle \n",
    "\n"
   ]
  },
  {
   "cell_type": "code",
   "execution_count": 70,
   "metadata": {
    "colab": {
     "base_uri": "https://localhost:8080/",
     "height": 153
    },
    "colab_type": "code",
    "executionInfo": {
     "elapsed": 267,
     "status": "ok",
     "timestamp": 1556010491878,
     "user": {
      "displayName": "Manuel Ferrer",
      "photoUrl": "",
      "userId": "01378850988778114649"
     },
     "user_tz": 300
    },
    "id": "garSLcQ-bVyk",
    "outputId": "5a791841-bcfe-4aaf-cc16-9131a1ef2822"
   },
   "outputs": [
    {
     "name": "stdout",
     "output_type": "stream",
     "text": [
      "Original\n",
      "[ 0  1  2  3  4  5  6  7  8  9 10 11 12 13 14 15 16 17 18 19]\n",
      "\n",
      "Reacomodo\n",
      "[[ 0  1  2  3  4]\n",
      " [ 5  6  7  8  9]\n",
      " [10 11 12 13 14]\n",
      " [15 16 17 18 19]]\n"
     ]
    }
   ],
   "source": [
    "# Creamos un arreglo unidimensional de 0 al 19\n",
    "arr = np.arange(20)\n",
    "print('Original')\n",
    "print(arr)\n",
    "print()\n",
    "\n",
    "# Le cambiamos la forma para que sea un arreglo de 4 x 5 \n",
    "print('Reacomodo')\n",
    "ARR=arr.reshape(4,5)\n",
    "print(ARR)"
   ]
  },
  {
   "cell_type": "code",
   "execution_count": 71,
   "metadata": {
    "colab": {
     "base_uri": "https://localhost:8080/",
     "height": 102
    },
    "colab_type": "code",
    "executionInfo": {
     "elapsed": 280,
     "status": "ok",
     "timestamp": 1556010166983,
     "user": {
      "displayName": "Manuel Ferrer",
      "photoUrl": "",
      "userId": "01378850988778114649"
     },
     "user_tz": 300
    },
    "id": "4gA0Fi-Zbkq1",
    "outputId": "00a26ed3-8a7c-4b5f-f53e-89d5eedfbeaf"
   },
   "outputs": [
    {
     "name": "stdout",
     "output_type": "stream",
     "text": [
      "[[ 0  5 10 15]\n",
      " [ 1  6 11 16]\n",
      " [ 2  7 12 17]\n",
      " [ 3  8 13 18]\n",
      " [ 4  9 14 19]]\n"
     ]
    }
   ],
   "source": [
    "# Transposición: cambio de columnas por filas y viceversa\n",
    "print(ARR.T)"
   ]
  },
  {
   "cell_type": "code",
   "execution_count": 72,
   "metadata": {
    "colab": {
     "base_uri": "https://localhost:8080/",
     "height": 34
    },
    "colab_type": "code",
    "executionInfo": {
     "elapsed": 298,
     "status": "ok",
     "timestamp": 1556010382273,
     "user": {
      "displayName": "Manuel Ferrer",
      "photoUrl": "",
      "userId": "01378850988778114649"
     },
     "user_tz": 300
    },
    "id": "sTqa0_qwcd5f",
    "outputId": "32681645-f1c8-4e34-ac35-4f0f43b17b85"
   },
   "outputs": [
    {
     "name": "stdout",
     "output_type": "stream",
     "text": [
      "[ 0  1  2  3  4  5  6  7  8  9 10 11 12 13 14 15 16 17 18 19]\n"
     ]
    }
   ],
   "source": [
    "# Aplanamos el arreglo de dos dimensiones para que sea de nuevo de uno\n",
    "print(np.ravel(ARR))"
   ]
  },
  {
   "cell_type": "code",
   "execution_count": 73,
   "metadata": {
    "colab": {
     "base_uri": "https://localhost:8080/",
     "height": 136
    },
    "colab_type": "code",
    "executionInfo": {
     "elapsed": 313,
     "status": "ok",
     "timestamp": 1556010603380,
     "user": {
      "displayName": "Manuel Ferrer",
      "photoUrl": "",
      "userId": "01378850988778114649"
     },
     "user_tz": 300
    },
    "id": "0BBfCKIacFCq",
    "outputId": "5bb5d148-7c3b-4157-d6ea-f8a1ae7c8572"
   },
   "outputs": [
    {
     "name": "stdout",
     "output_type": "stream",
     "text": [
      "K=\n",
      "[[40 44]\n",
      " [14 20]]\n",
      "\n",
      "M=\n",
      "[[ 5  9]\n",
      " [43 29]]\n"
     ]
    }
   ],
   "source": [
    "#Creamos dos arreglos de 2 dimensiones que solo contengan enteros aleatoriamente \n",
    "K = np.random.randint(low=2,high=50,size=(2,2))\n",
    "print('K=')\n",
    "print(K)\n",
    "print()\n",
    "print('M=')\n",
    "M = np.random.randint(low=2,high=50,size=(2,2))\n",
    "print(M)"
   ]
  },
  {
   "cell_type": "code",
   "execution_count": 74,
   "metadata": {
    "colab": {
     "base_uri": "https://localhost:8080/",
     "height": 187
    },
    "colab_type": "code",
    "executionInfo": {
     "elapsed": 309,
     "status": "ok",
     "timestamp": 1556010688362,
     "user": {
      "displayName": "Manuel Ferrer",
      "photoUrl": "",
      "userId": "01378850988778114649"
     },
     "user_tz": 300
    },
    "id": "OmrHWMh9cJrt",
    "outputId": "c7449263-9b72-4b0c-ca85-2f897dcf3a0b"
   },
   "outputs": [
    {
     "name": "stdout",
     "output_type": "stream",
     "text": [
      "Concatenado vertical\n",
      "[[40 44]\n",
      " [14 20]\n",
      " [ 5  9]\n",
      " [43 29]]\n",
      "\n",
      "[[40 44]\n",
      " [14 20]\n",
      " [ 5  9]\n",
      " [43 29]]\n"
     ]
    }
   ],
   "source": [
    "# Concatenación vertical\n",
    "\n",
    "#Forma 1\n",
    "VS=np.vstack((K,M))\n",
    "\n",
    "#Forma 2 \n",
    "VS2=np.concatenate([K, M], axis = 0)\n",
    "\n",
    "\n",
    "print('Concatenado vertical')\n",
    "print(VS)\n",
    "print()\n",
    "print(VS2)"
   ]
  },
  {
   "cell_type": "code",
   "execution_count": 75,
   "metadata": {
    "colab": {
     "base_uri": "https://localhost:8080/",
     "height": 119
    },
    "colab_type": "code",
    "executionInfo": {
     "elapsed": 324,
     "status": "ok",
     "timestamp": 1556010741069,
     "user": {
      "displayName": "Manuel Ferrer",
      "photoUrl": "",
      "userId": "01378850988778114649"
     },
     "user_tz": 300
    },
    "id": "xyKVGCZacLyc",
    "outputId": "8a173ee7-56ee-4deb-ee6f-cae3dce035bc"
   },
   "outputs": [
    {
     "name": "stdout",
     "output_type": "stream",
     "text": [
      "Concatenado horizontal\n",
      "[[40 44  5  9]\n",
      " [14 20 43 29]]\n",
      "\n",
      "[[40 44  5 43]\n",
      " [14 20  9 29]]\n"
     ]
    }
   ],
   "source": [
    "# Concatenación horizontal\n",
    "\n",
    "#Forma 1\n",
    "VH=np.hstack((K,M))\n",
    "\n",
    "#Forma 2 \n",
    "VH2=np.concatenate([K, M.T], axis = 1)\n",
    "\n",
    "print('Concatenado horizontal')\n",
    "print(VH)\n",
    "print()\n",
    "print(VH2)"
   ]
  },
  {
   "cell_type": "markdown",
   "metadata": {
    "colab_type": "text",
    "id": "l0o3uVdABKSS"
   },
   "source": [
    "#### 2.3.6 Broadcasting \n",
    "\n",
    "Una de las ventajas que nos ofrece numpy es poder operar elementos de arreglos de diferentes tamaños y esto se llama broadcasting. \n",
    "\n",
    "Para mayor información: https://docs.scipy.org/doc/numpy-1.10.1/user/basics.broadcasting.html"
   ]
  },
  {
   "cell_type": "code",
   "execution_count": 76,
   "metadata": {
    "colab": {
     "base_uri": "https://localhost:8080/",
     "height": 85
    },
    "colab_type": "code",
    "executionInfo": {
     "elapsed": 280,
     "status": "ok",
     "timestamp": 1556009472543,
     "user": {
      "displayName": "Manuel Ferrer",
      "photoUrl": "",
      "userId": "01378850988778114649"
     },
     "user_tz": 300
    },
    "id": "H9d0Di-gY_Eb",
    "outputId": "69df1418-ed43-4646-e686-4f01b4b8af7b"
   },
   "outputs": [
    {
     "name": "stdout",
     "output_type": "stream",
     "text": [
      "[[0. 0. 0.]\n",
      " [0. 0. 0.]\n",
      " [0. 0. 0.]\n",
      " [0. 0. 0.]]\n"
     ]
    }
   ],
   "source": [
    "A = np.zeros((4,3))\n",
    "print(A)"
   ]
  },
  {
   "cell_type": "code",
   "execution_count": 77,
   "metadata": {
    "colab": {
     "base_uri": "https://localhost:8080/",
     "height": 640
    },
    "colab_type": "code",
    "executionInfo": {
     "elapsed": 356,
     "status": "error",
     "timestamp": 1556009899290,
     "user": {
      "displayName": "Manuel Ferrer",
      "photoUrl": "",
      "userId": "01378850988778114649"
     },
     "user_tz": 300
    },
    "id": "_JdOdYppZF91",
    "outputId": "0123726e-6c79-49d1-bc78-1b229c1ab36b"
   },
   "outputs": [
    {
     "name": "stdout",
     "output_type": "stream",
     "text": [
      "Vector renglon VR [2 4 1]\n",
      "\n",
      "Operacion A+VR \n",
      "[[2. 3. 1.]\n",
      " [2. 3. 1.]\n",
      " [2. 3. 1.]\n",
      " [2. 3. 1.]]\n",
      "\n",
      "Vector columna VC\n",
      "[[2]\n",
      " [3]\n",
      " [1]\n",
      " [0]]\n",
      "\n",
      "Operacion A+VC \n",
      "[[2. 2. 2.]\n",
      " [3. 3. 3.]\n",
      " [1. 1. 1.]\n",
      " [0. 0. 0.]]\n"
     ]
    }
   ],
   "source": [
    "#Suma en cada fila los elementos del vector \n",
    "\n",
    "print('Vector renglon VR',np.array([2,4,1]))\n",
    "print()\n",
    "print('Operacion A+VR ')\n",
    "print(A+np.array([2,3,1]))\n",
    "print()\n",
    "\n",
    "\n",
    "#Ahora suma las columnas\n",
    "print('Vector columna VC')\n",
    "print(np.array([[2],[3],[1],[0]]))\n",
    "print()\n",
    "print('Operacion A+VC ')\n",
    "print(A+np.array([[2],[3],[1],[0]]))\n"
   ]
  },
  {
   "cell_type": "markdown",
   "metadata": {
    "colab_type": "text",
    "id": "9HNG9sYrFd1w"
   },
   "source": [
    "#### 2.3.7 Funciones universales\n",
    " \n",
    " Son todas aquellas funciones típicas encontradas en las operaciones matemáticas\n",
    " \n",
    "* **Operaciones matemáticas básicas:**  Suma de elementos, producto de elementos, redondeo, divisiones, logaritmos, raices, exponentes, signo, etc.  \n",
    "\n",
    "* **Funciones tringonométricas:** seno, coseno, tangente, funciones hiperbólicas, etc\n",
    "\n",
    "* **Funciones lógicas:** and, or, xor, not, etc. \n",
    "\n",
    "* **Comparaciones: **  mayor que, menor que, igual que, etc. \n",
    "  \n",
    "  \n",
    "  Para mayor información: https://docs.scipy.org/doc/numpy-1.14.0/reference/ufuncs.html#available-ufuncs  "
   ]
  },
  {
   "cell_type": "code",
   "execution_count": 78,
   "metadata": {
    "colab": {
     "base_uri": "https://localhost:8080/",
     "height": 136
    },
    "colab_type": "code",
    "executionInfo": {
     "elapsed": 310,
     "status": "ok",
     "timestamp": 1556005693115,
     "user": {
      "displayName": "Manuel Ferrer",
      "photoUrl": "",
      "userId": "01378850988778114649"
     },
     "user_tz": 300
    },
    "id": "yH5f_XJ6JORm",
    "outputId": "f08c0bbb-d7e4-4940-b0ed-fb889a7dc012"
   },
   "outputs": [
    {
     "name": "stdout",
     "output_type": "stream",
     "text": [
      "sum(A)  [0. 0. 0.]\n",
      "\n",
      "np.add(A,B)= [[0. 0. 0.]\n",
      " [0. 0. 0.]\n",
      " [0. 0. 0.]\n",
      " [0. 0. 0.]]\n",
      "\n",
      "np.sin(A)= [[0. 0. 0.]\n",
      " [0. 0. 0.]\n",
      " [0. 0. 0.]\n",
      " [0. 0. 0.]]\n",
      "\n"
     ]
    }
   ],
   "source": [
    "# Usamos el arreglo A de la sección anterior para realizar unos ejemplos\n",
    "\n",
    "#Funcion suma \n",
    "print('sum(A) ',sum(A)) \n",
    "print()\n",
    "\n",
    "#Función add\n",
    "print('np.add(A,B)=', np.add(A,A))\n",
    "print()\n",
    "\n",
    "#Función seno\n",
    "print('np.sin(A)=', np.sin(A))\n",
    "print()"
   ]
  },
  {
   "cell_type": "markdown",
   "metadata": {
    "colab_type": "text",
    "id": "yLD7v5FLBPMC"
   },
   "source": [
    "#### 2.3.8 Generadores de números aleatorios\n",
    "\n",
    "\n"
   ]
  },
  {
   "cell_type": "code",
   "execution_count": 79,
   "metadata": {
    "colab": {
     "base_uri": "https://localhost:8080/",
     "height": 34
    },
    "colab_type": "code",
    "executionInfo": {
     "elapsed": 665,
     "status": "ok",
     "timestamp": 1556011024328,
     "user": {
      "displayName": "Manuel Ferrer",
      "photoUrl": "",
      "userId": "01378850988778114649"
     },
     "user_tz": 300
    },
    "id": "hsymFimne2tY",
    "outputId": "db57b581-c8aa-4f72-ce3a-fe28a1ce28b6"
   },
   "outputs": [
    {
     "name": "stdout",
     "output_type": "stream",
     "text": [
      "[0.8677121  0.20096911 0.59803366 0.10539127]\n"
     ]
    }
   ],
   "source": [
    "#Arreglos de números aleatorios uniformemente distribuidos\n",
    "W=np.random.uniform(size=4)\n",
    "print(W)"
   ]
  },
  {
   "cell_type": "code",
   "execution_count": 80,
   "metadata": {
    "colab": {
     "base_uri": "https://localhost:8080/",
     "height": 68
    },
    "colab_type": "code",
    "executionInfo": {
     "elapsed": 270,
     "status": "ok",
     "timestamp": 1556010955076,
     "user": {
      "displayName": "Manuel Ferrer",
      "photoUrl": "",
      "userId": "01378850988778114649"
     },
     "user_tz": 300
    },
    "id": "KV3wM6ANeWJg",
    "outputId": "5ba0cfa5-26c7-4af5-dc14-aa79b6ed4acb"
   },
   "outputs": [
    {
     "name": "stdout",
     "output_type": "stream",
     "text": [
      "[[-0.94272735 -0.04521501 -0.39305939 -0.13281634 -0.06200822]\n",
      " [-0.64042656  0.71570884  1.98049744 -0.30834497 -0.64711113]\n",
      " [-0.4426638  -0.68713849 -0.34417704 -0.48252396  1.23359879]]\n"
     ]
    }
   ],
   "source": [
    "# Arreglos de números aleatorios normalmente distribuidos\n",
    "Y = np.random.normal(size = (3,5))\n",
    "print(Y)"
   ]
  },
  {
   "cell_type": "code",
   "execution_count": 81,
   "metadata": {
    "colab": {
     "base_uri": "https://localhost:8080/",
     "height": 34
    },
    "colab_type": "code",
    "executionInfo": {
     "elapsed": 299,
     "status": "ok",
     "timestamp": 1556010867297,
     "user": {
      "displayName": "Manuel Ferrer",
      "photoUrl": "",
      "userId": "01378850988778114649"
     },
     "user_tz": 300
    },
    "id": "sW5A1TfseZE4",
    "outputId": "23bbf40b-3f02-4d68-8238-4feb24bd096f"
   },
   "outputs": [
    {
     "name": "stdout",
     "output_type": "stream",
     "text": [
      "[39  9 44 36]\n"
     ]
    }
   ],
   "source": [
    "# Arreglos de números enteros aleatorios \n",
    "Z = np.random.randint(low=2,high=50,size=4)\n",
    "print(Z)"
   ]
  },
  {
   "cell_type": "code",
   "execution_count": 82,
   "metadata": {
    "colab": {
     "base_uri": "https://localhost:8080/",
     "height": 34
    },
    "colab_type": "code",
    "executionInfo": {
     "elapsed": 296,
     "status": "ok",
     "timestamp": 1556011204247,
     "user": {
      "displayName": "Manuel Ferrer",
      "photoUrl": "",
      "userId": "01378850988778114649"
     },
     "user_tz": 300
    },
    "id": "_o3MyUAzecSA",
    "outputId": "26bc430a-815f-4164-ec3b-33679a8def3a"
   },
   "outputs": [
    {
     "name": "stdout",
     "output_type": "stream",
     "text": [
      "[44 36  9 39]\n"
     ]
    }
   ],
   "source": [
    "# Permutación para de un arreglo \n",
    "print(np.random.permutation(Z))"
   ]
  },
  {
   "cell_type": "markdown",
   "metadata": {},
   "source": [
    "#### 2.3.9 Leer datos de un archivo"
   ]
  },
  {
   "cell_type": "code",
   "execution_count": 96,
   "metadata": {},
   "outputs": [
    {
     "data": {
      "text/plain": [
       "array([[5.1, 3.5, 1.4, 0.2],\n",
       "       [4.9, 3. , 1.4, 0.2],\n",
       "       [4.7, 3.2, 1.3, 0.2],\n",
       "       [4.6, 3.1, 1.5, 0.2],\n",
       "       [5. , 3.6, 1.4, 0.2],\n",
       "       [5.4, 3.9, 1.7, 0.4],\n",
       "       [4.6, 3.4, 1.4, 0.3],\n",
       "       [5. , 3.4, 1.5, 0.2],\n",
       "       [4.4, 2.9, 1.4, 0.2],\n",
       "       [4.9, 3.1, 1.5, 0.1],\n",
       "       [5.4, 3.7, 1.5, 0.2],\n",
       "       [4.8, 3.4, 1.6, 0.2],\n",
       "       [4.8, 3. , 1.4, 0.1],\n",
       "       [4.3, 3. , 1.1, 0.1],\n",
       "       [5.8, 4. , 1.2, 0.2],\n",
       "       [5.7, 4.4, 1.5, 0.4],\n",
       "       [5.4, 3.9, 1.3, 0.4],\n",
       "       [5.1, 3.5, 1.4, 0.3],\n",
       "       [5.7, 3.8, 1.7, 0.3],\n",
       "       [5.1, 3.8, 1.5, 0.3],\n",
       "       [5.4, 3.4, 1.7, 0.2],\n",
       "       [5.1, 3.7, 1.5, 0.4],\n",
       "       [4.6, 3.6, 1. , 0.2],\n",
       "       [5.1, 3.3, 1.7, 0.5],\n",
       "       [4.8, 3.4, 1.9, 0.2],\n",
       "       [5. , 3. , 1.6, 0.2],\n",
       "       [5. , 3.4, 1.6, 0.4],\n",
       "       [5.2, 3.5, 1.5, 0.2],\n",
       "       [5.2, 3.4, 1.4, 0.2],\n",
       "       [4.7, 3.2, 1.6, 0.2],\n",
       "       [4.8, 3.1, 1.6, 0.2],\n",
       "       [5.4, 3.4, 1.5, 0.4],\n",
       "       [5.2, 4.1, 1.5, 0.1],\n",
       "       [5.5, 4.2, 1.4, 0.2],\n",
       "       [4.9, 3.1, 1.5, 0.2],\n",
       "       [5. , 3.2, 1.2, 0.2],\n",
       "       [5.5, 3.5, 1.3, 0.2],\n",
       "       [4.9, 3.6, 1.4, 0.1],\n",
       "       [4.4, 3. , 1.3, 0.2],\n",
       "       [5.1, 3.4, 1.5, 0.2],\n",
       "       [5. , 3.5, 1.3, 0.3],\n",
       "       [4.5, 2.3, 1.3, 0.3],\n",
       "       [4.4, 3.2, 1.3, 0.2],\n",
       "       [5. , 3.5, 1.6, 0.6],\n",
       "       [5.1, 3.8, 1.9, 0.4],\n",
       "       [4.8, 3. , 1.4, 0.3],\n",
       "       [5.1, 3.8, 1.6, 0.2],\n",
       "       [4.6, 3.2, 1.4, 0.2],\n",
       "       [5.3, 3.7, 1.5, 0.2],\n",
       "       [5. , 3.3, 1.4, 0.2],\n",
       "       [7. , 3.2, 4.7, 1.4],\n",
       "       [6.4, 3.2, 4.5, 1.5],\n",
       "       [6.9, 3.1, 4.9, 1.5],\n",
       "       [5.5, 2.3, 4. , 1.3],\n",
       "       [6.5, 2.8, 4.6, 1.5],\n",
       "       [5.7, 2.8, 4.5, 1.3],\n",
       "       [6.3, 3.3, 4.7, 1.6],\n",
       "       [4.9, 2.4, 3.3, 1. ],\n",
       "       [6.6, 2.9, 4.6, 1.3],\n",
       "       [5.2, 2.7, 3.9, 1.4],\n",
       "       [5. , 2. , 3.5, 1. ],\n",
       "       [5.9, 3. , 4.2, 1.5],\n",
       "       [6. , 2.2, 4. , 1. ],\n",
       "       [6.1, 2.9, 4.7, 1.4],\n",
       "       [5.6, 2.9, 3.6, 1.3],\n",
       "       [6.7, 3.1, 4.4, 1.4],\n",
       "       [5.6, 3. , 4.5, 1.5],\n",
       "       [5.8, 2.7, 4.1, 1. ],\n",
       "       [6.2, 2.2, 4.5, 1.5],\n",
       "       [5.6, 2.5, 3.9, 1.1],\n",
       "       [5.9, 3.2, 4.8, 1.8],\n",
       "       [6.1, 2.8, 4. , 1.3],\n",
       "       [6.3, 2.5, 4.9, 1.5],\n",
       "       [6.1, 2.8, 4.7, 1.2],\n",
       "       [6.4, 2.9, 4.3, 1.3],\n",
       "       [6.6, 3. , 4.4, 1.4],\n",
       "       [6.8, 2.8, 4.8, 1.4],\n",
       "       [6.7, 3. , 5. , 1.7],\n",
       "       [6. , 2.9, 4.5, 1.5],\n",
       "       [5.7, 2.6, 3.5, 1. ],\n",
       "       [5.5, 2.4, 3.8, 1.1],\n",
       "       [5.5, 2.4, 3.7, 1. ],\n",
       "       [5.8, 2.7, 3.9, 1.2],\n",
       "       [6. , 2.7, 5.1, 1.6],\n",
       "       [5.4, 3. , 4.5, 1.5],\n",
       "       [6. , 3.4, 4.5, 1.6],\n",
       "       [6.7, 3.1, 4.7, 1.5],\n",
       "       [6.3, 2.3, 4.4, 1.3],\n",
       "       [5.6, 3. , 4.1, 1.3],\n",
       "       [5.5, 2.5, 4. , 1.3],\n",
       "       [5.5, 2.6, 4.4, 1.2],\n",
       "       [6.1, 3. , 4.6, 1.4],\n",
       "       [5.8, 2.6, 4. , 1.2],\n",
       "       [5. , 2.3, 3.3, 1. ],\n",
       "       [5.6, 2.7, 4.2, 1.3],\n",
       "       [5.7, 3. , 4.2, 1.2],\n",
       "       [5.7, 2.9, 4.2, 1.3],\n",
       "       [6.2, 2.9, 4.3, 1.3],\n",
       "       [5.1, 2.5, 3. , 1.1],\n",
       "       [5.7, 2.8, 4.1, 1.3],\n",
       "       [6.3, 3.3, 6. , 2.5],\n",
       "       [5.8, 2.7, 5.1, 1.9],\n",
       "       [7.1, 3. , 5.9, 2.1],\n",
       "       [6.3, 2.9, 5.6, 1.8],\n",
       "       [6.5, 3. , 5.8, 2.2],\n",
       "       [7.6, 3. , 6.6, 2.1],\n",
       "       [4.9, 2.5, 4.5, 1.7],\n",
       "       [7.3, 2.9, 6.3, 1.8],\n",
       "       [6.7, 2.5, 5.8, 1.8],\n",
       "       [7.2, 3.6, 6.1, 2.5],\n",
       "       [6.5, 3.2, 5.1, 2. ],\n",
       "       [6.4, 2.7, 5.3, 1.9],\n",
       "       [6.8, 3. , 5.5, 2.1],\n",
       "       [5.7, 2.5, 5. , 2. ],\n",
       "       [5.8, 2.8, 5.1, 2.4],\n",
       "       [6.4, 3.2, 5.3, 2.3],\n",
       "       [6.5, 3. , 5.5, 1.8],\n",
       "       [7.7, 3.8, 6.7, 2.2],\n",
       "       [7.7, 2.6, 6.9, 2.3],\n",
       "       [6. , 2.2, 5. , 1.5],\n",
       "       [6.9, 3.2, 5.7, 2.3],\n",
       "       [5.6, 2.8, 4.9, 2. ],\n",
       "       [7.7, 2.8, 6.7, 2. ],\n",
       "       [6.3, 2.7, 4.9, 1.8],\n",
       "       [6.7, 3.3, 5.7, 2.1],\n",
       "       [7.2, 3.2, 6. , 1.8],\n",
       "       [6.2, 2.8, 4.8, 1.8],\n",
       "       [6.1, 3. , 4.9, 1.8],\n",
       "       [6.4, 2.8, 5.6, 2.1],\n",
       "       [7.2, 3. , 5.8, 1.6],\n",
       "       [7.4, 2.8, 6.1, 1.9],\n",
       "       [7.9, 3.8, 6.4, 2. ],\n",
       "       [6.4, 2.8, 5.6, 2.2],\n",
       "       [6.3, 2.8, 5.1, 1.5],\n",
       "       [6.1, 2.6, 5.6, 1.4],\n",
       "       [7.7, 3. , 6.1, 2.3],\n",
       "       [6.3, 3.4, 5.6, 2.4],\n",
       "       [6.4, 3.1, 5.5, 1.8],\n",
       "       [6. , 3. , 4.8, 1.8],\n",
       "       [6.9, 3.1, 5.4, 2.1],\n",
       "       [6.7, 3.1, 5.6, 2.4],\n",
       "       [6.9, 3.1, 5.1, 2.3],\n",
       "       [5.8, 2.7, 5.1, 1.9],\n",
       "       [6.8, 3.2, 5.9, 2.3],\n",
       "       [6.7, 3.3, 5.7, 2.5],\n",
       "       [6.7, 3. , 5.2, 2.3],\n",
       "       [6.3, 2.5, 5. , 1.9],\n",
       "       [6.5, 3. , 5.2, 2. ],\n",
       "       [6.2, 3.4, 5.4, 2.3],\n",
       "       [5.9, 3. , 5.1, 1.8]])"
      ]
     },
     "execution_count": 96,
     "metadata": {},
     "output_type": "execute_result"
    }
   ],
   "source": [
    "vector_txt = np.genfromtxt(\"https://raw.githubusercontent.com/joanby/python-ml-course/master/datasets/iris/iris.csv\", delimiter=\",\")\n",
    "vector_txt[1:,:4]"
   ]
  },
  {
   "cell_type": "code",
   "execution_count": 97,
   "metadata": {},
   "outputs": [
    {
     "data": {
      "text/plain": [
       "(151, 5)"
      ]
     },
     "execution_count": 97,
     "metadata": {},
     "output_type": "execute_result"
    }
   ],
   "source": [
    "vector_txt.shape"
   ]
  },
  {
   "cell_type": "code",
   "execution_count": 98,
   "metadata": {},
   "outputs": [
    {
     "name": "stdout",
     "output_type": "stream",
     "text": [
      " data\t\t\t\t     'Sesión 1 - Soluciones Numpy.ipynb'\r\n",
      " raw.githubusercontent.com\t     'Sesión 2 - Pandas.ipynb'\r\n",
      " ReadMe.md\t\t\t     'Sesión 3 - Práctica de Datos .ipynb'\r\n",
      "'Sesión 1 - Numpy Instructor.ipynb'\r\n"
     ]
    }
   ],
   "source": [
    "! ls"
   ]
  },
  {
   "cell_type": "markdown",
   "metadata": {
    "colab_type": "text",
    "id": "HRSLYHdLRpQs"
   },
   "source": [
    "# 3. Ejemplo Práctico"
   ]
  },
  {
   "cell_type": "code",
   "execution_count": 26,
   "metadata": {},
   "outputs": [],
   "source": [
    "# Crear una carpeta\n",
    "!mkdir data"
   ]
  },
  {
   "cell_type": "code",
   "execution_count": 40,
   "metadata": {},
   "outputs": [
    {
     "name": "stdout",
     "output_type": "stream",
     "text": [
      " data\t\t\t    'Sesión 1 - Soluciones Numpy.ipynb'\r\n",
      " raw.githubusercontent.com  'Sesión 2 - Pandas.ipynb'\r\n",
      " ReadMe.md\t\t    'Sesión 3 - Práctica de Datos .ipynb'\r\n",
      "'Sesión 1 - Numpy.ipynb'\r\n"
     ]
    }
   ],
   "source": [
    "# Mostrar que carpeta fue creada\n",
    "!ls"
   ]
  },
  {
   "cell_type": "code",
   "execution_count": 27,
   "metadata": {},
   "outputs": [
    {
     "data": {
      "text/plain": [
       "('data/monthly-precip-2002-2013.csv',\n",
       " <http.client.HTTPMessage at 0x7fe428841208>)"
      ]
     },
     "execution_count": 27,
     "metadata": {},
     "output_type": "execute_result"
    }
   ],
   "source": [
    "# Descargar archivos en carpeta \"data\"\n",
    "import urllib.request # Usar `urllib` para la descarga de archivos\n",
    "\n",
    "# Descargar archivo .txt que contiene el promedio mensual de precipitacion\n",
    "urllib.request.urlretrieve(url = \"https://ndownloader.figshare.com/files/12565616\",\n",
    "                           filename = \"data/avg-monthly-precip.txt\")\n",
    "# Descargar archivo .txt que contiene los nombres por mes\n",
    "urllib.request.urlretrieve(url = \"https://ndownloader.figshare.com/files/12565619\", \n",
    "                           filename = \"data/months.txt\")\n",
    "\n",
    "# Descargar archivo .csv que contiene el promedio mensual de precipitacion\n",
    "urllib.request.urlretrieve(url = \"https://ndownloader.figshare.com/files/12707792\", \n",
    "                           filename = \"data/monthly-precip-2002-2013.csv\")"
   ]
  },
  {
   "cell_type": "code",
   "execution_count": 41,
   "metadata": {},
   "outputs": [
    {
     "name": "stdout",
     "output_type": "stream",
     "text": [
      "avg-monthly-precip.txt\tmonthly-precip-2002-2013.csv  months.txt\r\n"
     ]
    }
   ],
   "source": [
    "# Mostar archivos en carpeta data/\n",
    "! ls data/"
   ]
  },
  {
   "cell_type": "code",
   "execution_count": 42,
   "metadata": {
    "scrolled": true
   },
   "outputs": [
    {
     "name": "stdout",
     "output_type": "stream",
     "text": [
      "0.70\r\n",
      "0.75\r\n",
      "1.85\r\n",
      "2.93\r\n",
      "3.05\r\n",
      "2.02\r\n",
      "1.93\r\n",
      "1.62\r\n",
      "1.84\r\n",
      "1.31\r\n",
      "1.39\r\n",
      "0.84"
     ]
    }
   ],
   "source": [
    "# Ver contenido de archivo avg-monthly-precip.txt\n",
    "! cat data/avg-monthly-precip.txt"
   ]
  },
  {
   "cell_type": "code",
   "execution_count": 37,
   "metadata": {},
   "outputs": [
    {
     "name": "stdout",
     "output_type": "stream",
     "text": [
      "1.07, 0.44, 1.50, 0.20,\t3.20, 1.18, 0.09, 1.44,\t1.52, 2.44, 0.78, 0.02\r\n",
      "0.27, 1.13, 1.72, 4.14,\t2.66, 0.61, 1.03, 1.40,\t18.16, 2.24, 0.29, 0.5\r\n",
      "\r\n",
      "\r\n"
     ]
    }
   ],
   "source": [
    "! cat data/monthly-precip-2002-2013.csv"
   ]
  },
  {
   "cell_type": "code",
   "execution_count": 38,
   "metadata": {
    "scrolled": true
   },
   "outputs": [
    {
     "name": "stdout",
     "output_type": "stream",
     "text": [
      "Jan\r\n",
      "Feb\r\n",
      "Mar\r\n",
      "Apr\r\n",
      "May\r\n",
      "June\r\n",
      "July\r\n",
      "Aug\r\n",
      "Sept\r\n",
      "Oct\r\n",
      "Nov\r\n",
      "Dec"
     ]
    }
   ],
   "source": [
    "! cat data/months.txt"
   ]
  },
  {
   "cell_type": "markdown",
   "metadata": {},
   "source": [
    "##### Carga los siguientes archivos en tres variables diferentes de tipo `np.array`\n",
    "- promedio_mes_precipitacion: avg-monthly-precip.txt\n",
    "- meses = months.txt *Hay que indicar que es de tipo str*\n",
    "- precipitacion_2002_2003 = monthly-precip-2002-2013.csv *Indicar que está delimitado por \",\"*"
   ]
  },
  {
   "cell_type": "code",
   "execution_count": 335,
   "metadata": {},
   "outputs": [],
   "source": [
    "avg_monthly_precip = np.loadtxt(fname = \"data/avg-monthly-precip.txt\")\n",
    "months = np.genfromtxt(\"data/months.txt\", dtype='str')\n",
    "precip_2002_2013 = np.loadtxt(fname= \"data/monthly-precip-2002-2013.csv\", delimiter = \",\")"
   ]
  },
  {
   "cell_type": "code",
   "execution_count": 146,
   "metadata": {},
   "outputs": [
    {
     "data": {
      "text/plain": [
       "(12,)"
      ]
     },
     "execution_count": 146,
     "metadata": {},
     "output_type": "execute_result"
    }
   ],
   "source": [
    "months.shape"
   ]
  },
  {
   "cell_type": "code",
   "execution_count": 147,
   "metadata": {},
   "outputs": [
    {
     "data": {
      "text/plain": [
       "(12,)"
      ]
     },
     "execution_count": 147,
     "metadata": {},
     "output_type": "execute_result"
    }
   ],
   "source": [
    "avg_monthly_precip.shape"
   ]
  },
  {
   "cell_type": "code",
   "execution_count": 148,
   "metadata": {},
   "outputs": [
    {
     "data": {
      "text/plain": [
       "(2, 12)"
      ]
     },
     "execution_count": 148,
     "metadata": {},
     "output_type": "execute_result"
    }
   ],
   "source": [
    "precip_2002_2013.shape"
   ]
  },
  {
   "cell_type": "markdown",
   "metadata": {},
   "source": [
    "#### Seleccionar el ultimo elemento de `avg_monthly_precip`"
   ]
  },
  {
   "cell_type": "code",
   "execution_count": 149,
   "metadata": {},
   "outputs": [
    {
     "data": {
      "text/plain": [
       "0.84"
      ]
     },
     "execution_count": 149,
     "metadata": {},
     "output_type": "execute_result"
    }
   ],
   "source": [
    "avg_monthly_precip[11,]"
   ]
  },
  {
   "cell_type": "markdown",
   "metadata": {},
   "source": [
    "#### Seleccionar el primer elemento de fila 0 columna 0 de `precip_2002_2013`"
   ]
  },
  {
   "cell_type": "code",
   "execution_count": 151,
   "metadata": {},
   "outputs": [
    {
     "data": {
      "text/plain": [
       "1.07"
      ]
     },
     "execution_count": 151,
     "metadata": {},
     "output_type": "execute_result"
    }
   ],
   "source": [
    "precip_2002_2013[0,0]"
   ]
  },
  {
   "cell_type": "markdown",
   "metadata": {},
   "source": [
    "#### Seleccionar el elemento de la última fila y columna `precip_2002_2013`"
   ]
  },
  {
   "cell_type": "code",
   "execution_count": 315,
   "metadata": {},
   "outputs": [
    {
     "data": {
      "text/plain": [
       "0.5"
      ]
     },
     "execution_count": 315,
     "metadata": {},
     "output_type": "execute_result"
    }
   ],
   "source": [
    "precip_2002_2013[1,11]"
   ]
  },
  {
   "cell_type": "markdown",
   "metadata": {},
   "source": [
    "#### Seleccionar la primer fila y primeras tres columnas de `precip_2002_2013`"
   ]
  },
  {
   "cell_type": "code",
   "execution_count": 316,
   "metadata": {},
   "outputs": [
    {
     "data": {
      "text/plain": [
       "array([[1.07, 0.44, 1.5 ]])"
      ]
     },
     "execution_count": 316,
     "metadata": {},
     "output_type": "execute_result"
    }
   ],
   "source": [
    "precip_2002_2013[0:1, 0:3]"
   ]
  },
  {
   "cell_type": "markdown",
   "metadata": {},
   "source": [
    "#### Reto: Seleccionar las primeras dos fila y las primeras cuatro columnas de precip_2002_2013"
   ]
  },
  {
   "cell_type": "code",
   "execution_count": 318,
   "metadata": {},
   "outputs": [
    {
     "data": {
      "text/plain": [
       "array([[1.07, 0.44, 1.5 , 0.2 ],\n",
       "       [0.27, 1.13, 1.72, 4.14]])"
      ]
     },
     "execution_count": 318,
     "metadata": {},
     "output_type": "execute_result"
    }
   ],
   "source": [
    "precip_2002_2013[0:2, 0:4]"
   ]
  },
  {
   "cell_type": "markdown",
   "metadata": {},
   "source": [
    "#### Seleccionar la primer fila y todas las columnas de `precip_2002_2013` almacenar en `precip_2002`"
   ]
  },
  {
   "cell_type": "code",
   "execution_count": 336,
   "metadata": {},
   "outputs": [
    {
     "name": "stdout",
     "output_type": "stream",
     "text": [
      "[[ 1.07  0.44  1.5   0.2   3.2   1.18  0.09  1.44  1.52  2.44  0.78  0.02]\n",
      " [ 0.27  1.13  1.72  4.14  2.66  0.61  1.03  1.4  18.16  2.24  0.29  0.5 ]] \n",
      " [[1.07 0.44 1.5  0.2  3.2  1.18 0.09 1.44 1.52 2.44 0.78 0.02]]\n"
     ]
    }
   ],
   "source": [
    "precip_2002 = precip_2002_2013[0:1, 0:12]\n",
    "print(precip_2002_2013, \"\\n\",precip_2002)"
   ]
  },
  {
   "cell_type": "markdown",
   "metadata": {},
   "source": [
    "#### Reto: Mostrar la dimensión de `precip_2002`"
   ]
  },
  {
   "cell_type": "code",
   "execution_count": 328,
   "metadata": {},
   "outputs": [
    {
     "data": {
      "text/plain": [
       "(1, 12)"
      ]
     },
     "execution_count": 328,
     "metadata": {},
     "output_type": "execute_result"
    }
   ],
   "source": [
    "precip_2002.shape"
   ]
  },
  {
   "cell_type": "markdown",
   "metadata": {},
   "source": [
    "#### Asignar `avg_monthly_precip` el resultado de mutiplicar cada elemento del vector `avg_monthly_precip` por 25.4"
   ]
  },
  {
   "cell_type": "code",
   "execution_count": 337,
   "metadata": {},
   "outputs": [
    {
     "name": "stdout",
     "output_type": "stream",
     "text": [
      "[17.78  19.05  46.99  74.422 77.47  51.308 49.022 41.148 46.736 33.274\n",
      " 35.306 21.336]\n"
     ]
    }
   ],
   "source": [
    "avg_monthly_precip = avg_monthly_precip * 25.4\n",
    "print(avg_monthly_precip)"
   ]
  },
  {
   "cell_type": "markdown",
   "metadata": {},
   "source": [
    "#### Reto: Calcular la media de `avg_monthly_precip` y asignar a una nueva variable"
   ]
  },
  {
   "cell_type": "code",
   "execution_count": 342,
   "metadata": {},
   "outputs": [
    {
     "name": "stdout",
     "output_type": "stream",
     "text": [
      "mean of average monthly precipitation: 42.820166666666665\n"
     ]
    }
   ],
   "source": [
    "mean_avg_precip = np.mean(avg_monthly_precip)\n",
    "print(\"mean of average monthly precipitation:\", mean_avg_precip)"
   ]
  },
  {
   "cell_type": "markdown",
   "metadata": {},
   "source": [
    "#### Reto: Encontrar el valor mínimo y máximo de `avg_monthly_precip`"
   ]
  },
  {
   "cell_type": "code",
   "execution_count": 345,
   "metadata": {},
   "outputs": [
    {
     "name": "stdout",
     "output_type": "stream",
     "text": [
      "Precipitación media mensual\n",
      "Valor mínimo: 17.779999999999998\n",
      "Valor máximo: 77.46999999999998\n"
     ]
    }
   ],
   "source": [
    "min_avg_precip = np.min(avg_monthly_precip)\n",
    "max_avg_precip = np.max(avg_monthly_precip)\n",
    "print(\"Precipitación media mensual\")\n",
    "print(\"Valor mínimo:\", min_avg_precip)\n",
    "print(\"Valor máximo:\", max_avg_precip)"
   ]
  },
  {
   "cell_type": "markdown",
   "metadata": {},
   "source": [
    "#### Graficar `avg_monthly_precip`"
   ]
  },
  {
   "cell_type": "code",
   "execution_count": 366,
   "metadata": {},
   "outputs": [
    {
     "data": {
      "text/plain": [
       "[Text(0,0.5,'Precipitación (mm)'), Text(0.5,0,'Mes')]"
      ]
     },
     "execution_count": 366,
     "metadata": {},
     "output_type": "execute_result"
    },
    {
     "data": {
      "image/png": "[encoded data removed]",
      "text/plain": [
       "<Figure size 360x360 with 1 Axes>"
      ]
     },
     "metadata": {},
     "output_type": "display_data"
    }
   ],
   "source": [
    "# importar los paquetes necesarios\n",
    "import matplotlib.pyplot as plt\n",
    "\n",
    "# Definir el tamano de la grafica\n",
    "plt.rcParams[\"figure.figsize\"] = (5, 5) # ancho, alto\n",
    "\n",
    "# Crear el espacio en donde se va dibujar la grafica\n",
    "fig, ax = plt.subplots()\n",
    "\n",
    "# Definir los valores que se pondran en el eje \"x\" y \"y\"\n",
    "ax.bar(months, avg_monthly_precip, color=\"pink\")\n",
    "\n",
    "# Definir el titulo de la grafica\n",
    "ax.set(title=\"Precipitación mensual promedio\")\n",
    "\n",
    "# Definir las etiquetas de la grafica\n",
    "ax.set(xlabel=\"Mes\", ylabel=\"Precipitación (mm)\")"
   ]
  },
  {
   "cell_type": "markdown",
   "metadata": {},
   "source": [
    "# 4. Ejercicios"
   ]
  },
  {
   "cell_type": "markdown",
   "metadata": {},
   "source": [
    "#### 1. Generar dos arrreglos (A y B) y revisar si son iguales"
   ]
  },
  {
   "cell_type": "code",
   "execution_count": null,
   "metadata": {},
   "outputs": [],
   "source": []
  },
  {
   "cell_type": "markdown",
   "metadata": {},
   "source": [
    "#### 2. Transformar a coordenadas polares una matriz aleatoria con tamaño de 10x2 la cual contiene una coordenadas cartesianas.\n",
    "\n",
    "Recordar: Las fórmulas para convertir coordenadas cartesianas (x,y) a polares (r,θ) son:\n",
    "1.    r = √ (x^2 + y^2)\n",
    "2.    θ = atan( y / x )\n",
    "3.    x = r × cos( θ )\n",
    "4.    y = r × sin( θ )"
   ]
  },
  {
   "cell_type": "code",
   "execution_count": null,
   "metadata": {},
   "outputs": [],
   "source": []
  },
  {
   "cell_type": "markdown",
   "metadata": {},
   "source": [
    "#### 3. Crear la siguiente matriz:\n",
    "`[((0., 0.), (0., 0., 0.)) ((0., 0.), (0., 0., 0.))\n",
    " ((0., 0.), (0., 0., 0.)) ((0., 0.), (0., 0., 0.))\n",
    " ((0., 0.), (0., 0., 0.)) ((0., 0.), (0., 0., 0.))\n",
    " ((0., 0.), (0., 0., 0.)) ((0., 0.), (0., 0., 0.))\n",
    " ((0., 0.), (0., 0., 0.)) ((0., 0.), (0., 0., 0.))]`\n",
    " \n",
    "Cada fila tiene dos valores, el primero representa una posición (x,y) y el segundo un color (r,g,b)"
   ]
  },
  {
   "cell_type": "code",
   "execution_count": null,
   "metadata": {},
   "outputs": [],
   "source": []
  },
  {
   "cell_type": "markdown",
   "metadata": {},
   "source": [
    "#### 4. Generar una matriz aleatoria e identificar si hay una o varias columnas que tengan completamente valor cero"
   ]
  },
  {
   "cell_type": "code",
   "execution_count": null,
   "metadata": {},
   "outputs": [],
   "source": []
  },
  {
   "cell_type": "markdown",
   "metadata": {},
   "source": [
    "#### 5. Generar un vector con números aleatorios y encontrar el valor más cercano al valor x.\n",
    "Condiciones:\n",
    "- x es una variable tipo flotante generada aleatoriamente, entre 0 y 1\n",
    "- X es un vector con 20 números aleatorios generados de forma uniforme entre 0 y 1"
   ]
  },
  {
   "cell_type": "code",
   "execution_count": null,
   "metadata": {},
   "outputs": [],
   "source": []
  },
  {
   "cell_type": "markdown",
   "metadata": {},
   "source": [
    "#### 6. A partir de la generación de dos vectores con *shape* (1,3) y (3,1), calcular la suma de estos dos vectores y mostrar la matriz final.\n",
    "Input:\n",
    "\n",
    "`A = [[0] [1] [2]]`\n",
    "\n",
    "`B = [[0 1 2]]`\n",
    "\n",
    "Output: `4`\n",
    "\n",
    "`\n",
    "[[0 1 2]\n",
    " [1 2 3]\n",
    " [2 3 4]]\n",
    "`"
   ]
  },
  {
   "cell_type": "code",
   "execution_count": null,
   "metadata": {},
   "outputs": [],
   "source": []
  },
  {
   "cell_type": "markdown",
   "metadata": {},
   "source": [
    "#### Obtener la diagonal de un producto punto.\n",
    "Requisitos:\n",
    "- Declarar dos vectores A y B que tengan la misma longitud"
   ]
  },
  {
   "cell_type": "code",
   "execution_count": null,
   "metadata": {},
   "outputs": [],
   "source": []
  },
  {
   "cell_type": "markdown",
   "metadata": {},
   "source": [
    "# 4. Autodiagnóstico"
   ]
  },
  {
   "cell_type": "markdown",
   "metadata": {},
   "source": [
    "#### ¿Cómo convertir un vector *float* de 32 bits en uno de *int* de 32 bits?"
   ]
  },
  {
   "cell_type": "code",
   "execution_count": null,
   "metadata": {},
   "outputs": [],
   "source": []
  },
  {
   "cell_type": "markdown",
   "metadata": {},
   "source": [
    "#### ¿Cómo colocar aleatoriamente diez números *uno* en una matriz 2D llena de zeros? "
   ]
  },
  {
   "cell_type": "code",
   "execution_count": null,
   "metadata": {},
   "outputs": [],
   "source": []
  },
  {
   "cell_type": "markdown",
   "metadata": {},
   "source": [
    "#### ¿Cómo construir un vector con 3 ceros consecutivos intercalados en el vector `[1,2,3,4,5]`?"
   ]
  },
  {
   "cell_type": "code",
   "execution_count": null,
   "metadata": {},
   "outputs": [],
   "source": []
  },
  {
   "cell_type": "markdown",
   "metadata": {
    "colab_type": "text",
    "id": "me_wrfBdfrEC"
   },
   "source": [
    "# 5. Conclusiones\n",
    "\n",
    "### Diferencias clave entre las listas de Python y los arreglos numéricos\n",
    "\n",
    "Mientras que las listas de Python y los arreglos numéricos tienen similitudes en que ambos son colecciones de valores que usan indexación para ayudarle a almacenar y acceder a los datos, hay algunas diferencias clave entre estas dos estructuras de datos:\n",
    "\n",
    "* A diferencia de una lista Python, todos los elementos de un arreglo numpy deben ser del mismo tipo de datos (es decir, todos los enteros, decimales, cadenas de texto, etc.).\n",
    "* Debido a este requisito, los arreglos numéricos soportan operaciones aritméticas y otras operaciones matemáticas que se ejecutan en cada elemento del arreglo (por ejemplo, multiplicación elemento por elemento). Las listas no soportan estos cálculos.\n",
    "* A diferencia de una lista Python, una matriz numpy no se edita añadiendo/eliminando/reemplazando elementos en la matriz. En su lugar, la matriz numpy se borra y se vuelve a crear cada vez que se manipula.\n",
    "* Los arreglos numéricos tienen dimensionalidad como resultado de la capacidad de almacenar datos usando tanto filas como columnas que son relativas entre sí."
   ]
  },
  {
   "cell_type": "markdown",
   "metadata": {
    "colab_type": "text",
    "id": "csU77Jz0Fwz_"
   },
   "source": [
    "# 6. Referencias y material de interés\n",
    "\n",
    "\n",
    "1.   [Python for Data Analysis](https://www.oreilly.com/library/view/python-for-data/9781491957653/) [Online Book](https://jakevdp.github.io/PythonDataScienceHandbook/02.00-introduction-to-numpy.html)\n",
    "2.   [Data Analysis with Python](https://www.coursera.org/learn/data-analysis-with-python)\n",
    "3.   [Deep Learning Prerequisites: The Numpy Stack in Python](https://www.udemy.com/deep-learning-prerequisites-the-numpy-stack-in-python/)\n",
    "4.   [Intro Numpy Arrays](https://www.earthdatascience.org/courses/earth-analytics-bootcamp/numpy-arrays/intro-numpy-arrays/)\n",
    "\n",
    "5. [Vídeo: Intro to Numerical Computing with NumPy (Beginner) | SciPy 2018 Tutorial | Alex Chabot-Leclerc](https://www.youtube.com/watch?v=V0D2mhVt7NE)"
   ]
  },
  {
   "cell_type": "markdown",
   "metadata": {},
   "source": [
    "# 7. Lista de Ejercicios\n",
    "1. https://github.com/rougier/numpy-100/blob/master/100_Numpy_exercises.ipynb\n",
    "2. https://www.machinelearningplus.com/python/101-numpy-exercises-python/\n",
    "3. https://www.earthdatascience.org/courses/earth-analytics-bootcamp/numpy-arrays/manipulate-summarize-plot-numpy-arrays/"
   ]
  }
 ],
 "metadata": {
  "colab": {
   "collapsed_sections": [
    "6UuF0oENDpYa",
    "BavbEpheCrO8",
    "2f2LcPfpFRR0"
   ],
   "name": "Sesión 1 - Numpy.ipynb",
   "provenance": [],
   "version": "0.3.2"
  },
  "kernelspec": {
   "display_name": "Python 3",
   "language": "python",
   "name": "python3"
  },
  "language_info": {
   "codemirror_mode": {
    "name": "ipython",
    "version": 3
   },
   "file_extension": ".py",
   "mimetype": "text/x-python",
   "name": "python",
   "nbconvert_exporter": "python",
   "pygments_lexer": "ipython3",
   "version": "3.6.9"
  }
 },
 "nbformat": 4,
 "nbformat_minor": 1
}
