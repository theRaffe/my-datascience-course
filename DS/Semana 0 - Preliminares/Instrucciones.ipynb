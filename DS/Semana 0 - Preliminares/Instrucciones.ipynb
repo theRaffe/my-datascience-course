{
 "cells": [
  {
   "cell_type": "markdown",
   "metadata": {},
   "source": [
    "# Semana 0\n",
    "Hola! Sean todos bienvenidos a la Semana 0 del curso \"Mastering Data Science\"; espero ya estén casi listos para comenzar con el curso. Para asegurarnos de que su experiencia en el curso sea la mejor, utilizamos el tiempo de esta semana 0 para realizar las instalaciones de todo el material que se usará a lo largo de estas semanas.\n",
    "\n",
    "## Paso 1: Descarga de Anaconda (Python)\n",
    "Actualmente; Python es de los lenguajes de programación más utilizados en el mundo junto con Java y Javascript. Es muy reconocido por contar con una sintaxis amigable y por contar con una gran comunidad que desarrolla paquetes para el lenguaje de forma gratuita. Debido a la cantidad de paquetes que se pueden llegar a necesitar y el enfoque que vamos a tener en el curso, es de mucho interés instalar el administrador de paquetes llamado Anaconda. Hay dos versiones de Anaconda que se pueden instalar: Anaconda Navigator y Miniconda; nosotros vamos a instalar Anaconda Navigator por que viene con una interfaz gráfica que permite su uso de forma más fácil.\n",
    "\n",
    "Para descargar Anaconda Navigator pueden entrar a esta liga: https://www.anaconda.com/distribution/ o también solo entrar a https://www.anaconda.com e ir a downloads. De ahí asegurense de seleccionar su sistema operativo y la versión que dice Python 3.7. Una vez que seleccionen el archivo a descargar solo nos queda esperar.\n",
    "\n",
    "## Paso 2: Instalación de Anaconda\n",
    "Una vez que se descargó el instalador, corranlo paso a paso. Es muy importante que lean las opciones que les da Anaconda ya que necesitamos que una de esas opciones esté seleccionada o sino se puede batallar en la instalación de los paquetes más adelante. En una página dice que si queremos agregar Anaconda a la variable PATH, es importante que le pongan que sí ya que esto nos permitirá correr conda desde la terminal y nos permitirá a todos instalar paquetes de la misma manera. Esta instalación va a tomar mucho tiempo por lo que vamos a aprovechar este tiempo para instalar algo que nos ayudará a obtener el material del curso de forma rápida.\n",
    "\n",
    "## Paso 3: Instalar git\n",
    "El curso cuenta con mucho material que puede estar sujeto a actualización; esto puede generar problemas ya que tendríamos que bajar la carpeta de los archivos una y otra vez. Git es una herramienta que nos permite controlar distintas versiones de proyectos (en este caso el material del curso está en Github por lo cual ese sería nuestro proyecto). Con un comando de una línea podemos estar seguros que nuestra carpeta cuenta con la versión más actualizada del curso. Para ello tenemos que instalar Git https://git-scm.com/download, aqui seleccionamos nuestro sistema operativo y número de bits. Una vez descargado corremos el instalador y solo nos aseguramos de seleccionar la opción de \"Use Git and other UNIX commands from the command prompt\", una vez que se termina ya tenemos Git instalado.\n",
    "\n",
    "## Paso 4: Verificar instalación de Anaconda\n",
    "Para verificar que Anaconda esté instalado; revisamos nuestra computadora para ver si tenemos anaconda prompt. En caso de tenerlo lo abrimos y ponemos conda --version. Si no marca error entonces ya tenemos anaconda instalado.\n",
    "\n",
    "## Paso 5: Descargar los documentos del curso.\n",
    "Primero; tenemos que decidir una carpeta en la cual queremos guardar todo lo relacionado con el curso. Una vez que lo hayan creado le pueden hacer click derecho y Git Bash here; esto abrirá la ventana de git. Luego entramos a la página https://github.com/mffg93/CERO-UNO en nuestro navegador de preferencia y oprimimos la flecha de clone or download para copiar el enlace que se genera. Con esto, regresamos al bash de Git y usamos el comando \"git clone (enlace)\"; si todo salió bien, ahora deberíamos tener una nueva carpeta dentro de nuestro directorio. Si queremos actualizar la carpeta usamos \"git pull (nuevo enlace)\".\n",
    "\n",
    "## Paso 6: Instalar los paquetes.\n",
    "-  conda install numpy\n",
    "-  conda install scipy\n",
    "-  conda install pandas\n",
    "-  conda install matplotlib\n",
    "-  conda install scikit-learn\n",
    "-  conda install -c anaconda beautifulsoup4\n",
    "-  conda install requests\n",
    "-  conda install re\n",
    "-  conda install -c conda-forge scrapy\n",
    "-  conda install pywin32\n",
    "-  conda install twisted\n",
    "-  conda install seaborn\n",
    "-  conda install -c conda-forge tensorflow\n",
    "-  conda install -c conda-forge keras \n",
    "\n"
   ]
  }
 ],
 "metadata": {
  "kernelspec": {
   "display_name": "Python 3",
   "language": "python",
   "name": "python3"
  },
  "language_info": {
   "codemirror_mode": {
    "name": "ipython",
    "version": 3
   },
   "file_extension": ".py",
   "mimetype": "text/x-python",
   "name": "python",
   "nbconvert_exporter": "python",
   "pygments_lexer": "ipython3",
   "version": "3.7.4"
  }
 },
 "nbformat": 4,
 "nbformat_minor": 4
}
