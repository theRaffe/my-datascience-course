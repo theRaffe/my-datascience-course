{
 "cells": [
  {
   "cell_type": "markdown",
   "metadata": {},
   "source": [
    "# Taller de problemas"
   ]
  },
  {
   "cell_type": "markdown",
   "metadata": {},
   "source": [
    "## Práctica de filtrado\n",
    "1.  Hagan un código que regrese la primera letra de cada palabra en una lista. (Output es una lista de las primeras letras).\n",
    "2.  Hagan un código que regrese solamente las palábras con 5 letras o menos de una lista.\n",
    "3.  Hagan un código que reciba una lista de precios en pesos y los convierta en dólares (Asumir que 20 pesos = 1 dólar).\n",
    "4.  Si hicieron lo anterior con una función map, reduce o filter; hagan una comprensión.\n",
    "\n",
    "## Trabajo del fin de Semana\n",
    "1. Utilizando BeautifulSoup4; scrappea una página de mercado libre con las propiedades: (Nombre del producto, Precio, Precio original, numero de ventas). \n",
    "2. Ahora transforma los datos númericos para que sean de type(int) o type(float) en lugar de string \n",
    "3. Con esos datos, genera un dataframe.\n",
    "4. Crea una nueva columna en donde conviertas el precio en pesos a dólares (1 dólar=20 pesos).\n",
    "5. Guarda el dataframe en un archivo csv.\n",
    "\n",
    "1. Ahora repite el reto usando Scrapy: (Nombre del producto, Precio, Precio de descuento, número de ventas)\n",
    "2. Usa los selectores que gustes\n",
    "3. Exporta el archivo a csv\n",
    "4. Importa el archivo csv a tu libreta de jupyter.\n",
    "\n",
    "### Ahora, repite el proceso con Palacio de Hierro y/o Soriana\n",
    "(En Scrapy usa el selector que gustes)\n",
    "\n",
    "# Reto\n",
    "1. Usando BS4, crea una manera de acceder a las siguientes 2 páginas del departamento en donde te encuentres. (Mercadolibre con las mismas variables).\n",
    "2. Scrappea las 3 páginas para tener una lista más grande.\n",
    "3. Nuevamente transforma los datos numéricos para que sean int o float en lugar de string.\n",
    "4. Genera un dataframe.\n",
    "5. Crea una nueva columna en donde conviertas el precio de pesos a dólares (1 dólar=20 pesos).\n",
    "\n",
    "1. Ahora; en Scrapy no tienes que obtener las otras páginas. Encuentra una manera de que puedas scrappear las 3 páginas. (Pista: Busca la función start_request).\n",
    "2. Usa el selector que gustes\n",
    "3. Exporta el archivo en formato csv\n",
    "4. Importa el archivo csv a una libreta de Jupyter.\n",
    "5. Crea un gráfico descriptivo de tus datos.\n",
    "\n",
    "\n"
   ]
  },
  {
   "cell_type": "markdown",
   "metadata": {},
   "source": [
    "# Otros sitios Scrapping\n",
    "Aeropuerto Ciudad de México\n",
    "\n",
    "http://www.ift.org.mx  (Para descargar datos ya hecho)\n",
    "\n",
    "Despegar.com.mx\n",
    "\n",
    "Trivago.com.mx\n",
    "\n",
    "Coneval (Datos procesados)\n",
    "\n",
    "http://premio.ceneval.edu.mx/premio_egel/index.jsf (Scrappear texto limpio y filtrado)\n",
    "\n",
    "VivaAerobus.com\n"
   ]
  }
 ],
 "metadata": {
  "kernelspec": {
   "display_name": "Python 3",
   "language": "python",
   "name": "python3"
  },
  "language_info": {
   "codemirror_mode": {
    "name": "ipython",
    "version": 3
   },
   "file_extension": ".py",
   "mimetype": "text/x-python",
   "name": "python",
   "nbconvert_exporter": "python",
   "pygments_lexer": "ipython3",
   "version": "3.7.4"
  }
 },
 "nbformat": 4,
 "nbformat_minor": 4
}
