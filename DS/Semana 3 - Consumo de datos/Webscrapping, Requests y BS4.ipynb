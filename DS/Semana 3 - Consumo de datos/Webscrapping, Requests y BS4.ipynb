{
 "cells": [
  {
   "cell_type": "markdown",
   "metadata": {},
   "source": [
    "# Semana 3\n",
    "Durante las semanas previas aprendieron a usar varias herramientas de Python; desde Python vanilla (sin el uso de paquetes) hasta el uso de los paquetes más improtantes para el análisis numérico en Python (Numpy, Matplotlib y Pandas). Con estas herramientas se puede realizar gran parte del análisis estadístico de datos; sin embargo, esta semana no lidiara con el análisis de datos; de hecho se podría decir que estamos dando un paso atrás en el proceso de Data Science.\n",
    "\n",
    "<img src=\"img/dataprog.png\"/>\n",
    "\n",
    "Nosotros nos vamos a enfocar en el área de Data Gathering; el hecho de que el diagrama no haga énfasis en esta parte del proceso no le resta su importancia ya que si no tenemos buenos datos no podemos tener buenas conclusiones. En esta semana vamos a seguir el proceso de obtención y pre-procesamiento de datos: Primero veremos Data Modeling para ver las formas en las cuales los datos se relacionan y se guardan; después veremos como podemos obtener datos de internet de una forma eficiente y finalmente haremos actividades para poner a prueba los conocimientos de esta semana."
   ]
  },
  {
   "cell_type": "markdown",
   "metadata": {},
   "source": [
    "## ¿Como podemos obtener datos?\n",
    "Los datos en general se pueden obtener de muchas formas; sin embargo, dependiendo de la situación en la cual nos encontremos vamos a necesitar diferentes tipos de datos. En el ámbito empresarial nos interesarían datos internos de nuestra empresa como lo son datos de empleados, desempeño de programas, indicadores financieros, días de inventario, entre otros; también nos pueden interesar datos de entes externos como proveedores, almacenistas, transportistas y clientes. Ya que reducimos la variedad de datosm ahora podemos recolectarlos y eventualmente almacenarlos; sin embargo, este no es un proceso de caja negra. Este proceso necesita de conocimiento previo de los datos, las entidades involucradas y conocer los esquemas de almacenamiento para escoger al que vaya a ser de más ayuda en nuestro caso. Para esto se usan modelos de datos y vamos a ver las bases suficientes para planear de forma correcta el almacenamiento de datos.\n",
    "\n",
    "## Data modeling\n",
    "Un modelo de datos es una representación (generalmente gráfica) en la cual se pueden observar los contenidos, relaciones y jerarquías de los elementos que conforman una base de datos. Es un esqueleto con las reglas que van a regir nuestra base de datos; por lo tanto, debe de ser rígido pero lo suficientemente robusto para evitar errores; por lo tanto, hay que seguir un proceso cuando vayamos a querer crear una base de datos para asegurarnos de que la base de datos esté orientada a las necesidades de la empresa. El proceso más seguido para la creación de una base de datos es seguir el orden de (Conceptual, Logical y Physical) el cual nos permite organizar nuestros datos casi independientemente del software que utilizemos para guardar los datos. \n",
    "\n",
    "<img src=\"img/Datamod.png\"/>\n",
    "\n",
    "### Modelo Conceptual\n",
    "\n",
    "El modelo conceptual se hace para explicar la relación de las entidades (personas, empresas, almacenes, etc.) a gente fuera del área de programación; es decir, se observa más al comportamiento de las entidades que la información numérica contenida. En el ejemplo anterior estamos viendo una base de datos sencilla en donde tenemos 3 entidades (Estudiantes, Cursos y cursos inscritos). En este diagrama apreciamos que la entidad (cursos inscritos) necesita del estudiante y de la lista global de cursos; esto nos dice que a un estudiante se le asignan ciertos cursos inscritos.\n",
    "\n",
    "La ventaja de usar inicialmente un modelo conceptual es que todavía no pensamos en la información; cuando nuestro enfoque principal son los individuos y no los datos esto nos permite mostrar el sistema de la forma más sencilla y general. Una vez que se tengan todas las entidades entonces ya se pueden trabajar sobre ellas e ir agregando datos lo cual llevará al siguiente modelo.\n",
    "\n",
    "### Modelo Logico\n",
    "\n",
    "Regresando a la imágen; podemos ver que el modelo lógico ocupa más espacio que el conceptual y con mucha razón. Un modelo lógico todavía no considera que herramienta vamos a usar para guardar los datos; sin embargo, ahora ya nos enfocamos en los datos contenidos en cada entidad y las relaciones entre ellos. Regresando al caso de la universidad; ahora vemos que el estudiante cuenta con varios atributos que lo identifican como su matrícula, nombre y correo. También podemos ver que el curso tiene sus propiedades como ID, nombre, instructor y horario, es por medio de la combinación de ambos datos que podemos tener una inscripción a la cual se le asocia un estudiante y cursos; sin embargo, la inscripción tiene sus propios datos como calificaciones y estatus. Cuando antes solo veiamos una relación simple entre las entidades; ahora podemos ver que elementos conforman esa relación.\n",
    "\n",
    "Este modelo sigue siendo independiente del sistema de administración de datos; por lo cual por ahora no nos concentramos mucho en como van a estar almacenados ni en el tipo de variable. Una vez que tengamos establecido el modelo lógico ya podemos pasar a la implementación final.\n",
    "\n",
    "### Modelo Físico\n",
    "\n",
    "El modelo físico es lo más similar que vamos a tener a la base de datos; en lugar de solamente tener los elementos de la relación estos son desmenuzados hasta sus componentes fundamentales. Por ejemplo: Si volvemos a ver la casilla de estudiante podemos ver que Address se ha dividido en (Address1, Address2, postal code, city y state) que son partes del elemento Address. No solo se han encontrado las componentes fundamentales; sino también se indica de que tipo va a ser la variable y en algunos casos la longitud máxima que puede tener (esto ya termina afectando el sistema de administración de de datos). Este modelo físico es el que ya se terminaría implementando para establecer las reglas de todos los futuros datos que van a entrar."
   ]
  },
  {
   "cell_type": "markdown",
   "metadata": {},
   "source": [
    "## SQL vs NoSQL (Relacional vs Documento)\n",
    "Una vez que hemos pasado por el proceso de crear el modelo físico, es hora de seleccionar un sistema de base de datos. Hay que estar muy seguros de que conozcamos bien las relaciones encontradas en el modelo físico ya que de ello depende el tipo de sistema que vamos a usar. Los dos sistemas dominantes son SQL (Structured Query Language) y NoSQL (Not only SQL); el modelo SQL se basa en el uso de tablas altamente estructuradas y ordenadas que se asemejan bastante a un excel o como vemos los Pandas en Python. Tenemos columnas que representan elementos o datos y renglones que representan observaciones; por lo tanto, todas las observaciones tienen el mismo número de elementos asociados a ellos.\n",
    "\n",
    "<img src=\"img/SQL.png\"/>\n",
    "\n",
    "\n",
    "Un ejemplo de datos que se puede implementar facilmente en SQL es un registro de transacciones; cada transacción tiene un emisor, un receptor, una cantidad y una fecha. Debido a que todos los elementos son muy similares entonces se pueden usar una o más tablas para representar toda la información. Por lo tanto; la ventaja de SQL es que la estructura rígida puede facilitar mucho la accessibilidad de los datos; asimismo, es un sistema que lleva vigente desde los 60's sin ser reemplazado por lo cual la comunidad y el soporte están muy bien fundamentados; sin embargo, también cuenta con sus desventajas. Muchos programas que usan SQL no son open-source y estos sistemas no soportan bien un gran número de read-write requests. Si uno quisiera incrementar la capacidad de esto se necesitaria aumentar las especificaciones de 1 solo servidor por lo cual hay una limitante tecnológica a esto.\n",
    "\n",
    "Por otra parte; NoSQL renuncia a la estructura por medio de tablas por lo cual también renuncia a varios de los beneficios de SQL; sin embargo, mucha información se encuentra guardad en este formato debido a que es fácil de procesar multiples read-write requests. Los sensores e información proveniente de (Big Data) se maneja en este formato por lo cual su relevancia no puede ser ignorada. NoSQL sigue un formato libre (en este caso nos enfocamos en el modelo de documento) lo cual nos permite almacenar la información dentro de documentos json o en un formato anidado. ¿Que otra ventaja nos da? Para ello hay que ver relaciones lo cual suena extraño ya que esto no es una base de datos relacional. \n",
    "\n",
    "### Relaciones\n",
    "Un elemento puede tener varios tipos de relaciones (many to many), (one to many) o (many to one). Por ejemplo; supongamos que tenemos una base de datos en donde se guarda la información de aplicantes a una empresa. Ahí tenemos valores únicos como nombre, correo y dirección; sin embargo, no todos cuentan con el mismo número de trabajos previos. El campo de trabajos tiene una relación one to many ya que es muy poco probable que diferentes personas tengan la misma experiencia en las mismas empresas; asimismo, varios aplicantes pueden ir a diferentes escuelas pero en general estas se repiten entre personas (many to many). En el caso one to many y many to many es cuando se recomendaría utilizar NoSQL sobre SQL; sin embargo, esto no significa que los datos no pueden ser representados usando SQL solo que su almacenamiento se puede complicar y ser ineficiente comparado con las soluciones NoSQL.\n",
    "\n",
    "### ¿Que nos podemos llevar de esto?\n",
    "Lo que podemos ver es que antes de pensar en conseguir y utilizar información se tiene que saber bajo que esquema esta se va a guardar. Las conexiones, relaciones y forma de almacenamiento de los datos son cuestiones que pueden terminar haciendo más difícil o imposible el uso de esos datos para proyectos interesantes. Por lo tanto; tenemos que desarrollar buenas prácticas para que nuestros datos tengan una estructura que esté de acuerdo a su naturaleza.\n",
    "\n",
    "## Webscrapping\n",
    "La definición de Webscrapping es la obtención y preprocesamiento de datos que se originan de internet; ahora, aunque tengamos acceso a mucha información por medio de preguntas, encuestas y bases de datos locales de la empresa; no podemos negar que la mayor fuente de información del mundo es el internet. Desde Amazon para un análisis del posicionamiento digital de la competencia, hasta la INEGI para realizar un estudio demográfico o obtener indicadores macroeconómicos; en la actualidad, casi todo se puede encontrar de una forma u otra en línea y muchas empresas e individuos están buscando aprovechar esto para hacer proyectos interesantes.\n",
    "\n",
    "### ¿Como se estructuran los elementos de una página web?\n",
    "Aunque la apariencia de una página web puede parecer ordenada al usuario; al entrar y ver el código se puede comenzar a ver que tan complicado puede llegar a ser el scrapping. Hay muchos elementos con diferentes jerarquías; elementos que contienen elementos dentro de otros elementos. Cuando hacemos Webscrapping en realidad estámos recuperando el código html de la página web por lo que es importante que sepamos navegarlo para recuperar la información que nos interesa. Este proceso no es fácil pero utilizando Python este se puede hacer un poco menos complicado.\n",
    "<img src=\"img/html.png\"/>\n",
    "<img src=\"img/dom-tree.png\" />\n",
    "\n",
    "Al contar con una estructura anidada; podemos ver que las páginas web no son relacionales debido a que cuentan con diferentes niveles y jerarquías para sus elementos. Aunque la representación relacional es posible; la no relacional termina siendo la más intuitiva en este caso."
   ]
  },
  {
   "cell_type": "markdown",
   "metadata": {},
   "source": [
    "## PSA del uso de la información\n",
    "Reuerden que sin importar de donde estemos adquiriendo la información, detrás de esos números se encuentran seres humanos como nosotros por lo cual es importante no solo cuidarla sino darle un uso apropiado. Actualmente no hay leyes tan fuertes en cuanto al uso y venta de información; sin embargo, solo por que la ley no lo prohibe explicitamente no significa que podemos hacer lo que queramos con la información. Ya hay casos muy sonados de recollección y venta de información de grandes empresas como Facebook y Google; sin embargo, es muy difícil que algo de ese nivel pase en estas empresas con algunas precauciones. Avisos de privacidad, transparencia, hacer a los usuarios anónimos y rendir cuentas a los que comparten la información.\n"
   ]
  },
  {
   "cell_type": "markdown",
   "metadata": {},
   "source": [
    "# Ahora a programar!\n",
    "\n",
    "## Requests\n",
    "Cuando queremos acceder a una página de internet nosotros tecleamos la dirección en el navegador; después, nuestro navegador hace una petición al servidor para recibir la información acerca de la página a la que queremos acceder. Un request es una petición para entrar a la página de nuestro interés; ahora que se hace un request a la página se debe de decidir el método que se va a realizar.\n",
    "\n",
    "Lo primero que podemos hacer es obtener la información, esto se hace con el get. Es una solicitud para recuperar el código de la página de internet. Esté método se puede utilizar en python importando el paquete de requests; al correr el método dir sobre el objeto request podemos obtener una lista que nos dice la información y las etiquetas de la página que podemos acceder.\n"
   ]
  },
  {
   "cell_type": "code",
   "execution_count": 12,
   "metadata": {},
   "outputs": [
    {
     "data": {
      "text/plain": [
       "['__attrs__',\n",
       " '__bool__',\n",
       " '__class__',\n",
       " '__delattr__',\n",
       " '__dict__',\n",
       " '__dir__',\n",
       " '__doc__',\n",
       " '__enter__',\n",
       " '__eq__',\n",
       " '__exit__']"
      ]
     },
     "execution_count": 12,
     "metadata": {},
     "output_type": "execute_result"
    }
   ],
   "source": [
    "import requests\n",
    "page = requests.get('http://www.amazon.com')\n",
    "dir(page)[:10]"
   ]
  },
  {
   "cell_type": "markdown",
   "metadata": {},
   "source": [
    "Como podemos ver, recuperamos un objeto muy grande que puede tener mucha información pero esta no se encuentra tan a la vista como lo puede ser en un documento word. Si queremos acceder a esta información tenemos que utilizar la notación de Python de .objeto."
   ]
  },
  {
   "cell_type": "code",
   "execution_count": 3,
   "metadata": {},
   "outputs": [
    {
     "name": "stdout",
     "output_type": "stream",
     "text": [
      "https://www.amazon.com/ <PreparedRequest [GET]> ISO-8859-1\n"
     ]
    }
   ],
   "source": [
    "print(page.url, page.request, page.encoding)"
   ]
  },
  {
   "cell_type": "markdown",
   "metadata": {},
   "source": [
    "Aunque si vemos la página, podemos ver que no tenemos los permisos apropiados para scrapear amazon y nos regresa un mensaje automatizado para poder scrapearla con su permiso. Muchos sitios web tienen en pie este tipo de restricciones por lo que es importante investigar antes de tiempo cuales sitios soportan el scrapping."
   ]
  },
  {
   "cell_type": "code",
   "execution_count": 3,
   "metadata": {},
   "outputs": [
    {
     "data": {
      "text/plain": [
       "'<!DOCTYPE html>\\n<!--[if lt IE 7]> <html lang=\"en-us\" class=\"a-no-js a-lt-ie9 a-lt-ie8 a-lt-ie7\"> <![endif]-->\\n<!--[if IE 7]>    <html lang=\"en-us\" class=\"a-no-js a-lt-ie9 a-lt-ie8\"> <![endif]-->\\n<!--[if IE 8]>    <html lang=\"en-us\" class=\"a-no-js a-lt-ie9\"> <![endif]-->\\n<!--[if gt IE 8]><!-->\\n<html class=\"a-no-js\" lang=\"en-us\"><!--<![endif]--><head>\\n<meta http-equiv=\"content-type\" content=\"text/html; charset=UTF-8\">\\n<meta charset=\"utf-8\">\\n<meta http-equiv=\"X-UA-Compatible\" content=\"IE=edge,chrome=1\">\\n<title dir=\"ltr\">Robot Check</title>\\n<meta name=\"viewport\" content=\"width=device-width\">\\n<link rel=\"stylesheet\" href=\"https://images-na.ssl-images-amazon.com/images/G/01/AUIClients/AmazonUI-3c913031596ca78a3768f4e934b1cc02ce238101.secure.min._V1_.css\">\\n<script>\\n\\nif (true === true) {\\n    var ue_t0 = (+ new Date()),\\n        ue_csm = window,\\n        ue = { t0: ue_t0, d: function() { return (+new Date() - ue_t0); } },\\n        ue_furl = \"fls-na.amazon.com\",\\n        ue_mid = \"ATVPDKIKX0DER\",\\n        ue_sid = (document.cookie.match(/session-id=([0-9-]+)/) || [])[1],\\n        ue_sn = \"opfcaptcha.amazon.com\",\\n        ue_id = \\'BY5KEHG9M6DM6HT3571A\\';\\n}\\n</script>\\n</head>\\n<body>\\n\\n<!--\\n        To discuss automated access to Amazon data please contact api-services-support@amazon.com.\\n        For information about migrating to our APIs refer to our Marketplace APIs at https://developer.amazonservices.com/ref=rm_c_sv, or our Product Advertising API at https://affiliate-program.amazon.com/gp/advertising/api/detail/main.html/ref=rm_c_ac for advertising use cases.\\n-->\\n\\n<!--\\nCorreios.DoNotSend\\n-->\\n\\n<div class=\"a-container a-padding-double-large\" style=\"min-width:350px;padding:44px 0 !important\">\\n\\n    <div class=\"a-row a-spacing-double-large\" style=\"width: 350px; margin: 0 auto\">\\n\\n        <div class=\"a-row a-spacing-medium a-text-center\"><i class=\"a-icon a-logo\"></i></div>\\n\\n        <div class=\"a-box a-alert a-alert-info a-spacing-base\">\\n            <div class=\"a-box-inner\">\\n                <i class=\"a-icon a-icon-alert\"></i>\\n                <h4>Enter the characters you see below</h4>\\n                <p class=\"a-last\">Sorry, we just need to make sure you\\'re not a robot. For best results, please make sure your browser is accepting cookies.</p>\\n                </div>\\n            </div>\\n\\n            <div class=\"a-section\">\\n\\n                <div class=\"a-box a-color-offset-background\">\\n                    <div class=\"a-box-inner a-padding-extra-large\">\\n\\n                        <form method=\"get\" action=\"/errors/validateCaptcha\" name=\"\">\\n                            <input type=hidden name=\"amzn\" value=\"D/9felToZNxNLeQ6Ng/y3w==\" /><input type=hidden name=\"amzn-r\" value=\"&#047;\" />\\n                            <div class=\"a-row a-spacing-large\">\\n                                <div class=\"a-box\">\\n                                    <div class=\"a-box-inner\">\\n                                        <h4>Type the characters you see in this image:</h4>\\n                                        <div class=\"a-row a-text-center\">\\n                                            <img src=\"https://images-na.ssl-images-amazon.com/captcha/twhhswbk/Captcha_tehamgrcyy.jpg\">\\n                                        </div>\\n                                        <div class=\"a-row a-spacing-base\">\\n                                            <div class=\"a-row\">\\n                                                <div class=\"a-column a-span6\">\\n                                                </div>\\n                                                <div class=\"a-column a-span6 a-span-last a-text-right\">\\n                                                    <a onclick=\"window.location.reload()\">Try different image</a>\\n                                                </div>\\n                                            </div>\\n                                            <input autocomplete=\"off\" spellcheck=\"false\" placeholder=\"Type characters\" id=\"captchacharacters\" name=\"field-keywords\" class=\"a-span12\" autocapitalize=\"off\" autocorrect=\"off\" type=\"text\">\\n                                        </div>\\n                                    </div>\\n                                </div>\\n                            </div>\\n\\n                            <div class=\"a-section a-spacing-extra-large\">\\n\\n                                <div class=\"a-row\">\\n                                    <span class=\"a-button a-button-primary a-span12\">\\n                                        <span class=\"a-button-inner\">\\n                                            <button type=\"submit\" class=\"a-button-text\">Continue shopping</button>\\n                                        </span>\\n                                    </span>\\n                                </div>\\n\\n                            </div>\\n                        </form>\\n\\n                    </div>\\n                </div>\\n\\n            </div>\\n\\n        </div>\\n\\n        <div class=\"a-divider a-divider-section\"><div class=\"a-divider-inner\"></div></div>\\n\\n        <div class=\"a-text-center a-spacing-small a-size-mini\">\\n            <a href=\"https://www.amazon.com/gp/help/customer/display.html/ref=footer_cou?ie=UTF8&nodeId=508088\">Conditions of Use</a>\\n            <span class=\"a-letter-space\"></span>\\n            <span class=\"a-letter-space\"></span>\\n            <span class=\"a-letter-space\"></span>\\n            <span class=\"a-letter-space\"></span>\\n            <a href=\"https://www.amazon.com/gp/help/customer/display.html/ref=footer_privacy?ie=UTF8&nodeId=468496\">Privacy Policy</a>\\n        </div>\\n        <div class=\"a-text-center a-size-mini a-color-secondary\">\\n          &copy; 1996-2014, Amazon.com, Inc. or its affiliates\\n          <script>\\n           if (true === true) {\\n             document.write(\\'<img src=\"https://fls-na.amaz\\'+\\'on.com/\\'+\\'1/oc-csi/1/OP/requestId=BY5KEHG9M6DM6HT3571A&js=1\" />\\');\\n           };\\n          </script>\\n          <noscript>\\n            <img src=\"https://fls-na.amazon.com/1/oc-csi/1/OP/requestId=BY5KEHG9M6DM6HT3571A&js=0\" />\\n          </noscript>\\n        </div>\\n    </div>\\n    <script>\\n    if (true === true) {\\n        var elem = document.createElement(\"script\");\\n        elem.src = \"https://images-na.ssl-images-amazon.com/images/G/01/csminstrumentation/csm-captcha-instrumentation.min._V\" + (+ new Date()) + \"_.js\";\\n        document.getElementsByTagName(\\'head\\')[0].appendChild(elem);\\n    }\\n    </script>\\n</body></html>\\n'"
      ]
     },
     "execution_count": 3,
     "metadata": {},
     "output_type": "execute_result"
    }
   ],
   "source": [
    "page.text"
   ]
  },
  {
   "cell_type": "markdown",
   "metadata": {},
   "source": [
    "Otra opción es publicar información; ya sea crearla o actualizarla. Esto se hace por medio del método post (sigue siendo un request); con esta se manda una petición a un sitio web de práctica para agregar información al segmento de form. "
   ]
  },
  {
   "cell_type": "code",
   "execution_count": 5,
   "metadata": {},
   "outputs": [
    {
     "data": {
      "text/plain": [
       "b'{\\n  \"args\": {}, \\n  \"data\": \"\", \\n  \"files\": {}, \\n  \"form\": {\\n    \"Nombre\": \"Yo\"\\n  }, \\n  \"headers\": {\\n    \"Accept\": \"*/*\", \\n    \"Accept-Encoding\": \"gzip, deflate\", \\n    \"Content-Length\": \"9\", \\n    \"Content-Type\": \"application/x-www-form-urlencoded\", \\n    \"Host\": \"httpbin.org\", \\n    \"User-Agent\": \"python-requests/2.21.0\"\\n  }, \\n  \"json\": null, \\n  \"origin\": \"200.52.40.178, 200.52.40.178\", \\n  \"url\": \"https://httpbin.org/post\"\\n}\\n'"
      ]
     },
     "execution_count": 5,
     "metadata": {},
     "output_type": "execute_result"
    }
   ],
   "source": [
    "r = requests.post('http://httpbin.org/post', \n",
    "                  data = {'Nombre':'Yo'})\n",
    "r.content"
   ]
  },
  {
   "cell_type": "markdown",
   "metadata": {},
   "source": [
    "Regresando al método get; nosotros podemos utilizar ciertas funciones para manipular de forma específica a donde queremos entrar de la página. En ciertos casos esto se usa para accedar a funciones específicas dentro de una API; por lo tanto, se establece una llave y un valor el cual se incluye dentro de la dirección web de la siguiente forma."
   ]
  },
  {
   "cell_type": "code",
   "execution_count": 4,
   "metadata": {},
   "outputs": [
    {
     "name": "stdout",
     "output_type": "stream",
     "text": [
      "http://httpbin.org/get?key1=value1&key2=value2&key2=value3\n"
     ]
    }
   ],
   "source": [
    "payload = {'key1': 'value1', \n",
    "           'key2': ['value2', 'value3']}\n",
    "r = requests.get('http://httpbin.org/get', params=payload)\n",
    "print(r.url)"
   ]
  },
  {
   "cell_type": "markdown",
   "metadata": {},
   "source": [
    "También podemos mandar solicitudes para borrar información o solamente probar la respuesta del servidor; estos son los métodos delete y head. Para scrapping no los usaremos mucho ya que en si no queremos modificar la información del documento sino queremos extraerla. Aunque en caso de querer hacerlo debemos de contar con los permisos correspondientes ya que la misma página tiene que poner restricciones para evitar que cualquier persona modifique la página a voluntad."
   ]
  },
  {
   "cell_type": "markdown",
   "metadata": {},
   "source": [
    "# BeautifulSoup4\n",
    "Ahora; los nombres de los paquetes de Python muchas veces se basan en obras de la cultura popular. Esto surge de Alicia en el país de las maravillas debido a las personas que hacen el programa se reservan los derechos de nombrarlo. Ahora bien; esta libreria es muy similar a la de requests ya que podemos hacer los requests tradicionales; pero la diferencia está en que con este paquete ustedes pueden navegar la estructura de la pagina web con mucha mayor facilidad que utilizando Python vanilla. Esto nos permite extraer la información de la página web y utilizarla para nuestras propias cuestiones."
   ]
  },
  {
   "cell_type": "code",
   "execution_count": 1,
   "metadata": {},
   "outputs": [
    {
     "ename": "SyntaxError",
     "evalue": "invalid syntax (<ipython-input-1-95e6c65d0861>, line 1)",
     "output_type": "error",
     "traceback": [
      "\u001b[0;36m  File \u001b[0;32m\"<ipython-input-1-95e6c65d0861>\"\u001b[0;36m, line \u001b[0;32m1\u001b[0m\n\u001b[0;31m    from import BeautifulSoup\u001b[0m\n\u001b[0m              ^\u001b[0m\n\u001b[0;31mSyntaxError\u001b[0m\u001b[0;31m:\u001b[0m invalid syntax\n"
     ]
    }
   ],
   "source": [
    "from import BeautifulSoup\n",
    "import pandas as pd"
   ]
  },
  {
   "cell_type": "code",
<<<<<<< HEAD
   "execution_count": 6,
=======
   "execution_count": 11,
>>>>>>> 69aeb48ee327903fd41ccf252c889088fd794b78
   "metadata": {},
   "outputs": [
    {
     "data": {
      "text/plain": [
       "['ASCII_SPACES',\n",
       " 'DEFAULT_BUILDER_FEATURES',\n",
       " 'NO_PARSER_SPECIFIED_WARNING',\n",
       " 'ROOT_TAG_NAME',\n",
       " '__bool__',\n",
       " '__call__',\n",
       " '__class__',\n",
       " '__contains__',\n",
       " '__copy__',\n",
       " '__delattr__',\n",
       " '__delitem__',\n",
       " '__dict__',\n",
       " '__dir__',\n",
       " '__doc__',\n",
       " '__eq__',\n",
       " '__format__',\n",
       " '__ge__',\n",
<<<<<<< HEAD
       " '__getattr__',\n",
       " '__getattribute__',\n",
       " '__getitem__']"
      ]
     },
     "execution_count": 6,
=======
       " '__getattr__']"
      ]
     },
     "execution_count": 11,
>>>>>>> 69aeb48ee327903fd41ccf252c889088fd794b78
     "metadata": {},
     "output_type": "execute_result"
    }
   ],
   "source": [
    "URL = 'https://www.milenio.com'\n",
    "URL = BeautifulSoup(requests.get(URL).text, \"lxml\")\n",
    "dir(URL)[:20]"
   ]
  },
  {
   "cell_type": "markdown",
   "metadata": {},
   "source": [
    "Este objeto no es un código html, es lo que se le conoce como una sopa (tiene muchos ingredientes pero los tenemos bien catalogados). Con estos comandos podemos reobtener parámetros interesantes como con el método de requests pero en este caso podemos explorar muchas cosas más."
   ]
  },
  {
   "cell_type": "code",
   "execution_count": 7,
   "metadata": {},
   "outputs": [
    {
     "name": "stdout",
     "output_type": "stream",
     "text": [
      "<title>Milenio: Últimas Noticias de México y el mundo - Grupo Milenio</title> title Milenio: Últimas Noticias de México y el mundo - Grupo Milenio\n"
     ]
    }
   ],
   "source": [
    "print(URL.title, URL.title.name, URL.title.string)"
   ]
  },
  {
   "cell_type": "markdown",
   "metadata": {},
   "source": [
    "El método de find_all nos permite buscar el tag del renglón incluyendo el texto y las demás propiedades."
   ]
  },
  {
   "cell_type": "code",
<<<<<<< HEAD
   "execution_count": 8,
=======
   "execution_count": 10,
>>>>>>> 69aeb48ee327903fd41ccf252c889088fd794b78
   "metadata": {},
   "outputs": [
    {
     "data": {
      "text/plain": [
       "[<a href=\"/cdmx\">CDMX</a>,\n",
       " <a href=\"/monterrey\">Monterrey</a>,\n",
       " <a href=\"/jalisco\">Jalisco</a>,\n",
       " <a href=\"/estado-de-mexico\">Estado de México</a>,\n",
       " <a href=\"/laguna\">Laguna</a>,\n",
       " <a href=\"/tamaulipas\">Tamaulipas</a>,\n",
       " <a href=\"/leon\">León</a>,\n",
       " <a href=\"/puebla\">Puebla</a>,\n",
       " <a href=\"/hidalgo\">Hidalgo</a>,\n",
       " <a href=\"/impreso\">Impreso</a>,\n",
       " <a href=\"/mileniotv\">Televisión</a>,\n",
       " <a href=\"/\"><img alt=\"logo-milenio\" class=\"main-logo\" src=\"/bundles/camusassets/images/logo-milenio.png\"/></a>,\n",
       " <a href=\"/opinion\">Opinión</a>,\n",
       " <a href=\"/ultima-hora\">Última Hora</a>,\n",
       " <a href=\"/politica\">Política</a>,\n",
       " <a href=\"/estados\">Estados</a>,\n",
       " <a href=\"/policia\">Policía</a>,\n",
       " <a href=\"/negocios\">Negocios</a>,\n",
       " <a href=\"/internacional\">Mundo</a>,\n",
       " <a href=\"/estilo\">Estilo</a>,\n",
       " <a href=\"/cultura\">Cultura</a>,\n",
       " <a href=\"/espectaculos\">Hey</a>,\n",
       " <a href=\"/deportes\">La Afición</a>,\n",
       " <a href=\"/milenio-foros\">Foros</a>,\n",
       " <a href=\"/mileniovr\">VR360</a>,\n",
       " <a href=\"/virales\">Virales</a>,\n",
       " <a href=\"/content\">InBrand</a>,\n",
       " <a href=\"/especiales\">Especiales</a>,\n",
       " <a href=\"/fotogalerias\">Fotogalerías</a>,\n",
       " <a href=\"/cultura/laberinto\">Laberinto</a>,\n",
       " <a href=\"/temas/amlo\">AMLO</a>,\n",
       " <a href=\"/temas/champions-league\">Champions League</a>,\n",
       " <a href=\"/temas/nfl\">NFL</a>,\n",
       " <a href=\"/temas/mlb\">MLB</a>,\n",
<<<<<<< HEAD
       " <a href=\"/temas/evo-morales\">Evo Morales</a>,\n",
       " <a href=\"/temas/bolivia\">Bolivia</a>,\n",
=======
>>>>>>> 69aeb48ee327903fd41ccf252c889088fd794b78
       " <a href=\"/temas/ovidio-guzman-lopez\">Ovidio Guzmán López</a>,\n",
       " <a href=\"/temas/balaceras-en-culiacan\">Balaceras en Culiacán</a>,\n",
       " <a href=\"/temas/lebaron\">LeBarón</a>,\n",
       " <a href=\"/opinion\">\n",
       " <li class=\"father\">Opinión Nacional\n",
       " \t\t\t\t\t\t\t</li>\n",
       " </a>,\n",
       " <a href=\"/opinion\">Nacional</a>,\n",
       " <a href=\"/opinion/monterrey\">Monterrey</a>,\n",
       " <a href=\"/opinion/jalisco\">Jalisco</a>,\n",
       " <a href=\"/opinion/tamaulipas\">Tamaulipas</a>,\n",
       " <a href=\"/opinion/laguna\">Laguna</a>,\n",
       " <a href=\"/opinion/edomex\">Estado de México</a>,\n",
       " <a href=\"/opinion/puebla\">Puebla</a>,\n",
       " <a href=\"/opinion/leon\">León</a>,\n",
       " <a href=\"/opinion/hidalgo\">Hidalgo</a>,\n",
       " <a href=\"/opinion/moneros\">Moneros</a>,\n",
       " <a href=\"/ultima-hora\">\n",
       " <li class=\"father\">Última Hora\n",
       " \t\t\t\t\t\t\t</li>\n",
       " </a>,\n",
       " <a href=\"/impreso\">\n",
       " <li class=\"father\">Impreso\n",
       " \t\t\t\t\t\t\t</li>\n",
       " </a>,\n",
       " <a href=\"/politica\">\n",
       " <li class=\"father\">Política\n",
       " \t\t\t\t\t\t\t</li>\n",
       " </a>,\n",
       " <a href=\"/politica/comunidad\">Comunidad</a>,\n",
       " <a href=\"/politica/congreso\">Congreso</a>,\n",
       " <a href=\"/politica/gobierno\">Gobierno</a>,\n",
       " <a href=\"/politica/organismos\">Organismos</a>,\n",
       " <a href=\"/politica/partidos\">Partidos</a>,\n",
       " <a href=\"\">\n",
       " <li class=\"father\">Ediciones\n",
       " \t\t\t\t\t\t\t</li>\n",
       " </a>,\n",
       " <a href=\"/cdmx\">CDMX</a>,\n",
       " <a href=\"/monterrey\">Monterrey</a>,\n",
       " <a href=\"/jalisco\">Jalisco</a>,\n",
       " <a href=\"/estado-de-mexico\">Estado de México</a>,\n",
       " <a href=\"/laguna\">Laguna</a>,\n",
       " <a href=\"/tamaulipas\">Tamaulipas</a>,\n",
       " <a href=\"/leon\">León</a>,\n",
       " <a href=\"/puebla\">Puebla</a>,\n",
       " <a href=\"/hidalgo\">Hidalgo</a>,\n",
       " <a href=\"/estados\">\n",
       " <li class=\"father\">Estados\n",
       " \t\t\t\t\t\t\t</li>\n",
       " </a>,\n",
       " <a href=\"/estados/mas-estados\">+ Estados</a>,\n",
       " <a href=\"/policia\">\n",
       " <li class=\"father\">Policía\n",
       " \t\t\t\t\t\t\t</li>\n",
       " </a>,\n",
       " <a href=\"/policia/violencia-genero\">Violencia de Género</a>,\n",
       " <a href=\"/policia/mas-policia\">+ Policía</a>,\n",
       " <a href=\"/negocios\">\n",
       " <li class=\"father\">Negocios\n",
       " \t\t\t\t\t\t\t</li>\n",
       " </a>,\n",
       " <a href=\"/negocios/emprendedores\">Emprendedores</a>,\n",
       " <a href=\"/negocios/financial-times\">Financial Times</a>,\n",
       " <a href=\"/negocios/finanzas-personales\">Finanzas Personales</a>,\n",
<<<<<<< HEAD
       " <a href=\"/negocios/buen-fin\">Buen Fin 2019</a>,\n",
=======
>>>>>>> 69aeb48ee327903fd41ccf252c889088fd794b78
       " <a href=\"/negocios/godinez-millennials\">Godínez Millennials</a>,\n",
       " <a href=\"/negocios/mas-negocios\">+ Negocios</a>,\n",
       " <a href=\"/internacional\">\n",
       " <li class=\"father\">Mundo\n",
       " \t\t\t\t\t\t\t</li>\n",
       " </a>,\n",
       " <a href=\"/internacional/estados-unidos\">Estados Unidos</a>,\n",
       " <a href=\"/internacional/latinoamerica\">Latinoamérica</a>,\n",
       " <a href=\"/internacional/europa\">Europa</a>,\n",
       " <a href=\"/internacional/medio-oriente\">Medio Oriente</a>,\n",
       " <a href=\"/internacional/asia-oceania\">Asia y Oceanía</a>,\n",
       " <a href=\"/internacional/mas-internacional\">+ Mundo</a>,\n",
       " <a href=\"/estilo\">\n",
       " <li class=\"father\">Estilo\n",
       " \t\t\t\t\t\t\t</li>\n",
       " </a>,\n",
       " <a href=\"/estilo/gastronomia\">Gastronomía</a>,\n",
       " <a href=\"/estilo/viajes\">Viajes</a>,\n",
       " <a href=\"/estilo/tu-mascota\">Tu Mascota</a>,\n",
       " <a href=\"/estilo/mas-estilo\">+ Estilo</a>,\n",
       " <a href=\"/cultura\">\n",
       " <li class=\"father\">Cultura\n",
       " \t\t\t\t\t\t\t</li>\n",
       " </a>,\n",
       " <a href=\"/cultura/laberinto\">Laberinto</a>,\n",
       " <a href=\"/cultura/mas-cultura\">+ Cultura</a>,\n",
       " <a href=\"/espectaculos\">\n",
       " <li class=\"father\">Hey\n",
       " \t\t\t\t\t\t\t</li>\n",
       " </a>,\n",
       " <a href=\"/espectaculos/television\">Televisión</a>,\n",
       " <a href=\"/espectaculos/cine\">Cine</a>,\n",
       " <a href=\"/espectaculos/famosos\">Famosos</a>,\n",
<<<<<<< HEAD
       " <a href=\"/espectaculos/musica\">Música</a>]"
      ]
     },
     "execution_count": 8,
=======
       " <a href=\"/espectaculos/musica\">Música</a>,\n",
       " <a href=\"/espectaculos/teatro\">Teatro</a>,\n",
       " <a href=\"/espectaculos/mas-espectaculos\">+ Espectáculos</a>,\n",
       " <a href=\"/deportes\">\n",
       " <li class=\"father\">La Afición\n",
       " \t\t\t\t\t\t\t</li>\n",
       " </a>]"
      ]
     },
     "execution_count": 10,
>>>>>>> 69aeb48ee327903fd41ccf252c889088fd794b78
     "metadata": {},
     "output_type": "execute_result"
    }
   ],
   "source": [
    "URL.find_all('a')[:100]"
   ]
  },
  {
   "cell_type": "markdown",
   "metadata": {},
   "source": [
    "Asimismo se pueden extraer los subenlaces que llevan a diferentes regiónes de la página."
   ]
  },
  {
   "cell_type": "code",
<<<<<<< HEAD
   "execution_count": 10,
=======
   "execution_count": 7,
>>>>>>> 69aeb48ee327903fd41ccf252c889088fd794b78
   "metadata": {},
   "outputs": [
    {
     "name": "stdout",
     "output_type": "stream",
     "text": [
      "['/cdmx', '/monterrey', '/jalisco', '/estado-de-mexico', '/laguna', '/tamaulipas', '/leon', '/puebla', '/hidalgo', '/impreso']\n"
     ]
    }
   ],
   "source": [
    "ref = [a['href'] for a in URL.find_all('a', href=True)]\n",
    "print(ref[:10])"
   ]
  },
  {
   "cell_type": "markdown",
   "metadata": {},
   "source": [
    "Si el renglón cuenta con una etiqueta y una clase, esta se puede especificar dentro del método junto con atributos como href. En el siguiente ejemplo accedemos a la etiqueta li y la clase father para extraer el primer elemento."
   ]
  },
  {
   "cell_type": "code",
<<<<<<< HEAD
   "execution_count": 11,
=======
   "execution_count": 8,
>>>>>>> 69aeb48ee327903fd41ccf252c889088fd794b78
   "metadata": {},
   "outputs": [
    {
     "name": "stdout",
     "output_type": "stream",
     "text": [
      "[<li class=\"father\">Opinión Nacional\n",
      "\t\t\t\t\t\t\t</li>, <li class=\"father\">Última Hora\n",
      "\t\t\t\t\t\t\t</li>, <li class=\"father\">Impreso\n",
      "\t\t\t\t\t\t\t</li>, <li class=\"father\">Política\n",
      "\t\t\t\t\t\t\t</li>, <li class=\"father\">Ediciones\n",
      "\t\t\t\t\t\t\t</li>, <li class=\"father\">Estados\n",
      "\t\t\t\t\t\t\t</li>, <li class=\"father\">Policía\n",
      "\t\t\t\t\t\t\t</li>, <li class=\"father\">Negocios\n",
      "\t\t\t\t\t\t\t</li>, <li class=\"father\">Mundo\n",
      "\t\t\t\t\t\t\t</li>, <li class=\"father\">Estilo\n",
      "\t\t\t\t\t\t\t</li>]\n"
     ]
    },
    {
     "data": {
      "text/plain": [
       "bs4.element.ResultSet"
      ]
     },
     "execution_count": 11,
     "metadata": {},
     "output_type": "execute_result"
    }
   ],
   "source": [
    "lista = URL.find_all('li', \n",
    "                     class_='father')\n",
<<<<<<< HEAD
    "print(lista[:10])\n",
    "type(lista)\n",
    "lista.find_all"
=======
    "print(lista[:10])"
>>>>>>> 69aeb48ee327903fd41ccf252c889088fd794b78
   ]
  },
  {
   "cell_type": "markdown",
   "metadata": {},
   "source": [
    "De esta lista podemos extraer el texto con el método get_text(). Usamos el método .strip() para quitar los espacios y tabs adicionales que puede tener el formato del texto."
   ]
  },
  {
   "cell_type": "code",
   "execution_count": 7,
   "metadata": {},
   "outputs": [],
   "source": [
    "# Copiamos los resultados\n",
    "Categorias=[str(lista[i].get_text()).strip() \n",
    "            for i in range(0,len(lista)-1)]"
   ]
  },
  {
   "cell_type": "code",
   "execution_count": 8,
   "metadata": {},
   "outputs": [
    {
     "name": "stdout",
     "output_type": "stream",
     "text": [
      "['Opinión Nacional', 'Última Hora', 'Impreso', 'Política', 'Ediciones', 'Estados', 'Policía', 'Negocios', 'Mundo', 'Estilo', 'Cultura', 'Hey', 'La Afición', 'Foros', 'Autos', 'VR360', 'Virales', 'InBrand', 'Especiales', 'Fotogalerías', 'Laberinto', 'Aula', 'Tecnología', 'EN VIVO', 'Suscripciones', 'MILENIO CUPONES', 'Opinión Nacional', 'Última Hora', 'Impreso', 'Política', 'Ediciones', 'Estados', 'Policía', 'Negocios', 'Mundo', 'Estilo', 'Cultura', 'Hey', 'La Afición', 'Foros', 'Autos', 'VR360', 'Virales', 'InBrand', 'Especiales', 'Fotogalerías', 'Laberinto', 'Aula', 'Tecnología', 'EN VIVO', 'Suscripciones']\n"
     ]
    }
   ],
   "source": [
    "print(Categorias)"
   ]
  },
  {
   "cell_type": "markdown",
   "metadata": {},
   "source": [
    "Sin embargo; esto no nos quita las restricciones que nos ponen las página de internet por lo cual si intentamos importar walmart puede que el objeto cuente con diferentes categorías."
   ]
  },
  {
   "cell_type": "code",
   "execution_count": 12,
   "metadata": {},
   "outputs": [
    {
     "data": {
      "text/plain": [
       "['ASCII_SPACES',\n",
       " 'DEFAULT_BUILDER_FEATURES',\n",
       " 'NO_PARSER_SPECIFIED_WARNING',\n",
       " 'ROOT_TAG_NAME',\n",
       " '__bool__',\n",
       " '__call__',\n",
       " '__class__',\n",
<<<<<<< HEAD
       " '__contains__',\n",
       " '__copy__',\n",
       " '__delattr__']"
=======
       " '__contains__']"
>>>>>>> 69aeb48ee327903fd41ccf252c889088fd794b78
      ]
     },
     "execution_count": 12,
     "metadata": {},
     "output_type": "execute_result"
    }
   ],
   "source": [
    "URL1 = 'https://www.walmart.com.mx/computadoras/laptops'\n",
    "URL1 = BeautifulSoup(requests.get(URL1).text, \"lxml\")\n",
    "dir(URL1)[:10]"
   ]
  },
  {
   "cell_type": "markdown",
   "metadata": {},
   "source": [
    "Pero al usar el método index... vemos que nuestro servidor no puede acceder a la página."
   ]
  },
  {
   "cell_type": "code",
   "execution_count": 13,
   "metadata": {},
   "outputs": [
    {
     "data": {
      "text/plain": [
       "<bound method Tag.index of <html><head>\n",
       "<title>Access Denied</title>\n",
       "</head><body>\n",
       "<h1>Access Denied</h1>\n",
       " \n",
       "You don't have permission to access \"http://www.walmart.com.mx/computadoras/laptops\" on this server.<p>\n",
       "Reference #18.371fcdad.1573613681.230c8e8a\n",
       "</p></body>\n",
       "</html>\n",
       ">"
      ]
     },
     "execution_count": 13,
     "metadata": {},
     "output_type": "execute_result"
    }
   ],
   "source": [
    "URL1.index"
   ]
  },
  {
   "cell_type": "markdown",
   "metadata": {},
   "source": [
    "## Ejercicio!\n",
    "Entra a un departamento de tu preferencia en la página de Soriana (Repostería, Celulares, etc). Obten los siguientes datos de un producto.\n",
    "\n",
    "-  Nombre del Producto\n",
    "-  Precio actual\n",
    "\n",
    "Una vez que lo tengas, encuentra una forma de extraer esos datos para los primeros 3 productos usando un ciclo."
   ]
  },
  {
   "cell_type": "code",
   "execution_count": 27,
   "metadata": {},
   "outputs": [
    {
     "data": {
      "text/plain": [
       "'\\n                        Laptop HP 14-CM0026LA 14 plg 4 GB 500 GB Windows 10 Neg...'"
      ]
     },
     "execution_count": 27,
     "metadata": {},
     "output_type": "execute_result"
    }
   ],
   "source": [
    "URL2 = 'https://www.soriana.com/soriana/es/c/Computo/Equipos-de-Computo/Laptops/c/211'\n",
    "response_soriana = BeautifulSoup(requests.get(URL2).text, \"lxml\")\n"
   ]
  },
  {
   "cell_type": "code",
   "execution_count": 50,
   "metadata": {},
   "outputs": [
    {
     "name": "stdout",
     "output_type": "stream",
     "text": [
      "Laptop HP 14-CM0026LA 14 plg 4 GB 500 GB Windows 10 Neg... $6,499.00\n"
     ]
    },
    {
     "data": {
      "text/plain": [
       "[{'name_prod': 'Laptop HP 14-CM0026LA 14 plg 4 GB 500 GB Windows 10 Neg...',\n",
       "  'price_prod': '$6,999.00',\n",
       "  'desc_price_prod': '$6,499.00'},\n",
       " {'name_prod': 'Notebook Ghia NotGhia-249 Libero Celeron 4 GB RAM 64 GB...',\n",
       "  'price_prod': '$4,999.00',\n",
       "  'desc_price_prod': None},\n",
       " {'name_prod': 'Laptop HP Pavilion x36O 14-cd0004la 14 plg Intel Ci3 4 ...',\n",
       "  'price_prod': '$13,299.00',\n",
       "  'desc_price_prod': None},\n",
       " {'name_prod': 'Laptop HP 14-CM0021LA 14 plg 4 GB 500 GB Windows 10 Azu...',\n",
       "  'price_prod': '$7,999.00',\n",
       "  'desc_price_prod': None},\n",
       " {'name_prod': 'Laptop HP 14-CK0030LA 14 plg 4 GB 128 GB Windows 10 Gri...',\n",
       "  'price_prod': '$8,999.00',\n",
       "  'desc_price_prod': None},\n",
       " {'name_prod': 'Laptop Pavilion HP 15-CW1012LA 15.6 plg 12 GB 1 TB Wind...',\n",
       "  'price_prod': '$13,209.00',\n",
       "  'desc_price_prod': '$12,209.00'},\n",
       " {'name_prod': 'Laptop HP 15-DB0026LA 15.6 plg 4 GB 500 GB Windows 10 G...',\n",
       "  'price_prod': '$7,299.00',\n",
       "  'desc_price_prod': '$6,799.00'},\n",
       " {'name_prod': 'Laptop HP 15-DB0026LA 15.6 plg 4 GB 500 GB Windows 10 G...',\n",
       "  'price_prod': '$8,999.00',\n",
       "  'desc_price_prod': '$7,999.00'},\n",
       " {'name_prod': 'Laptop Pavilion HP 13-AN0007LA 13.3 plg 8 GB 256 GB Win...',\n",
       "  'price_prod': '$15,999.00',\n",
       "  'desc_price_prod': None},\n",
       " {'name_prod': 'Laptop HP 15-DA0009LA 15.6 plg 8 GB 1 TB Windows 10 Pla...',\n",
       "  'price_prod': '$11,199.00',\n",
       "  'desc_price_prod': '$10,199.00'},\n",
       " {'name_prod': 'Laptop Lenovo Legion Y530 15 plg 8 GB RAM 16 GB Core i5...',\n",
       "  'price_prod': '$22,999.00',\n",
       "  'desc_price_prod': None},\n",
       " {'name_prod': 'Ideapad Lenovo 330S 15AS 15 plg 4 GB RAM 1 TB AMD Dual ...',\n",
       "  'price_prod': '$10,999.00',\n",
       "  'desc_price_prod': None},\n",
       " {'name_prod': 'Ideapad Lenovo 330S 14IKB 14 plg 4 GB RAM 4 GB Intel Co...',\n",
       "  'price_prod': '$11,999.00',\n",
       "  'desc_price_prod': None},\n",
       " {'name_prod': 'Ideapad Lenovo 330S 15ARR 15 plg 8 GB RAM 2 TB AMD RYZE...',\n",
       "  'price_prod': '$11,999.00',\n",
       "  'desc_price_prod': None},\n",
       " {'name_prod': 'Laptop Lenovo 120S-14IAP 14 plg Intel Celeron N3350 2 G...',\n",
       "  'price_prod': '$5,999.00',\n",
       "  'desc_price_prod': None},\n",
       " {'name_prod': 'Laptop HP 13.3 plg Intel Core i5 8 GB-RAM 256 GB-SSD Ne...',\n",
       "  'price_prod': '$31,999.00',\n",
       "  'desc_price_prod': None},\n",
       " {'name_prod': 'Laptop HP 14cm0004la 14 plg Windows 10 Home 4 GB RAM Az...',\n",
       "  'price_prod': '$8,699.00',\n",
       "  'desc_price_prod': None},\n",
       " {'name_prod': 'Laptop Asus ZenBook UX305CA de 13.3 plg Intel Core M5-6...',\n",
       "  'price_prod': '$24,999.00',\n",
       "  'desc_price_prod': None},\n",
       " {'name_prod': 'Laptop Asus ZenBook UX305CA de 13.3 plg Intel Core M3-6...',\n",
       "  'price_prod': '$19,999.00',\n",
       "  'desc_price_prod': None},\n",
       " {'name_prod': 'Laptop 2 en 1 Lenovo Yoga 710-11ISK 11.6 plg Intel Core...',\n",
       "  'price_prod': '$23,999.00',\n",
       "  'desc_price_prod': None}]"
      ]
     },
     "execution_count": 50,
     "metadata": {},
     "output_type": "execute_result"
    }
   ],
   "source": [
    "all_product_item = response_soriana.find_all('div', class_=\"product-item\")\n",
    "name_product_tag = all_product_item[0].find_all('a', class_=\"name\")\n",
    "sale_price_tag = all_product_item[0].find_all('span', class_=\"price sale-price\")\n",
    "#print(all_product_item[0])\n",
    "\n",
    "name_product =  name_product_tag[0].get_text().strip()\n",
    "sale_price = sale_price_tag[0].get_text().strip()\n",
    "\n",
    "print(name_product, sale_price)\n",
    "\n",
    "def get_product_object(object_tag):\n",
    "    name_prod = get_tag_value(object_tag,'a', \"name\")\n",
    "    price_prod = get_tag_value(object_tag,'span', \"sale-original-price\")\n",
    "    if price_prod == None:\n",
    "        price_prod = get_tag_value(object_tag,'span', \"price\")\n",
    "    desc_price_prod = get_tag_value(object_tag,'span', \"price sale-price\")\n",
    "    return {\n",
    "        \"name_prod\" : name_prod,\n",
    "        \"price_prod\": price_prod,\n",
    "        \"desc_price_prod\" : desc_price_prod\n",
    "    }\n",
    "\n",
    "def get_tag_value(object_tag, tag, class_name):\n",
    "    #print(f'object_tag {object_tag}')\n",
    "    item = object_tag.find(tag, class_=class_name)\n",
    "    if item:\n",
    "        return item.get_text().strip()\n",
    "\n",
    "[get_product_object(a_product_item)  for a_product_item in all_product_item]"
   ]
  },
  {
   "cell_type": "markdown",
   "metadata": {},
   "source": [
    "Con esto podemos hacer un dataframe y transformar una base de datos no relacional a una relacional."
   ]
  }
 ],
 "metadata": {
  "kernelspec": {
   "display_name": "Python 3",
   "language": "python",
   "name": "python3"
  },
  "language_info": {
   "codemirror_mode": {
    "name": "ipython",
    "version": 3
   },
   "file_extension": ".py",
   "mimetype": "text/x-python",
   "name": "python",
   "nbconvert_exporter": "python",
   "pygments_lexer": "ipython3",
   "version": "3.7.4"
  }
 },
 "nbformat": 4,
 "nbformat_minor": 4
}
