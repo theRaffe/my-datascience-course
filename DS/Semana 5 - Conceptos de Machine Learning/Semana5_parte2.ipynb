{
 "cells": [
  {
   "cell_type": "markdown",
   "metadata": {},
   "source": [
    "### NLP\n",
    "\n",
    "Sentiment Analysis"
   ]
  },
  {
   "cell_type": "code",
   "execution_count": 14,
   "metadata": {},
   "outputs": [
    {
     "name": "stderr",
     "output_type": "stream",
     "text": [
      "[nltk_data] Downloading package movie_reviews to\n",
      "[nltk_data]     C:\\Users\\jassluz\\AppData\\Roaming\\nltk_data...\n",
      "[nltk_data]   Unzipping corpora\\movie_reviews.zip.\n"
     ]
    }
   ],
   "source": [
    "import nltk\n",
    "nltk.download('movie_reviews')\n",
    "import nltk.classify.util\n",
    "from nltk.classify import NaiveBayesClassifier\n",
    "from nltk.corpus import movie_reviews"
   ]
  },
  {
   "cell_type": "code",
   "execution_count": 15,
   "metadata": {},
   "outputs": [],
   "source": [
    "def extract_features(word_list):\n",
    "    return dict([(word, True) for word in word_list])"
   ]
  },
  {
   "cell_type": "code",
   "execution_count": 16,
   "metadata": {},
   "outputs": [],
   "source": [
    "if __name__=='__main__':\n",
    "   # Load positive and negative reviews  \n",
    "   positive_fileids = movie_reviews.fileids('pos')\n",
    "   negative_fileids = movie_reviews.fileids('neg')"
   ]
  },
  {
   "cell_type": "code",
   "execution_count": 18,
   "metadata": {},
   "outputs": [],
   "source": [
    "features_positive = [(extract_features(movie_reviews.words(fileids=[f])), \n",
    "           'Positive') for f in positive_fileids]\n",
    "features_negative = [(extract_features(movie_reviews.words(fileids=[f])), \n",
    "           'Negative') for f in negative_fileids]"
   ]
  },
  {
   "cell_type": "code",
   "execution_count": 19,
   "metadata": {},
   "outputs": [],
   "source": [
    "# Split the data into train and test (80/20)\n",
    "threshold_factor = 0.8\n",
    "threshold_positive = int(threshold_factor * len(features_positive))\n",
    "threshold_negative = int(threshold_factor * len(features_negative))"
   ]
  },
  {
   "cell_type": "code",
   "execution_count": 21,
   "metadata": {},
   "outputs": [
    {
     "name": "stdout",
     "output_type": "stream",
     "text": [
      "\n",
      "Number of training datapoints: 1600\n",
      "Number of test datapoints: 400\n"
     ]
    }
   ],
   "source": [
    "features_train = features_positive[:threshold_positive] + features_negative[:threshold_negative]\n",
    "features_test = features_positive[threshold_positive:] + features_negative[threshold_negative:]  \n",
    "print(\"\\nNumber of training datapoints:\", len(features_train))\n",
    "print(\"Number of test datapoints:\", len(features_test))"
   ]
  },
  {
   "cell_type": "code",
   "execution_count": 23,
   "metadata": {},
   "outputs": [
    {
     "name": "stdout",
     "output_type": "stream",
     "text": [
      "\n",
      "Accuracy of the classifier: 0.735\n"
     ]
    }
   ],
   "source": [
    "# Train a Naive Bayes classifier\n",
    "classifier = NaiveBayesClassifier.train(features_train)\n",
    "print(\"\\nAccuracy of the classifier:\", nltk.classify.util.accuracy(classifier, features_test))"
   ]
  },
  {
   "cell_type": "code",
   "execution_count": 24,
   "metadata": {},
   "outputs": [
    {
     "name": "stdout",
     "output_type": "stream",
     "text": [
      "\n",
      "Top 10 most informative words:\n",
      "outstanding\n",
      "insulting\n",
      "vulnerable\n",
      "ludicrous\n",
      "uninvolving\n",
      "avoids\n",
      "astounding\n",
      "fascination\n",
      "symbol\n",
      "seagal\n"
     ]
    }
   ],
   "source": [
    "print(\"\\nTop 10 most informative words:\")\n",
    "for item in classifier.most_informative_features()[:10]:\n",
    "    print(item[0])"
   ]
  },
  {
   "cell_type": "code",
   "execution_count": 25,
   "metadata": {},
   "outputs": [],
   "source": [
    "input_reviews = [\n",
    "   \"It is an amazing movie\", \n",
    "   \"This is a dull movie. I would never recommend it to anyone.\",\n",
    "   \"The cinematography is pretty great in this movie\", \n",
    "   \"The direction was terrible and the story was all over the place\" \n",
    "]"
   ]
  },
  {
   "cell_type": "code",
   "execution_count": 27,
   "metadata": {},
   "outputs": [
    {
     "name": "stdout",
     "output_type": "stream",
     "text": [
      "\n",
      "Predictions:\n",
      "\n",
      "Review: It is an amazing movie\n",
      "\n",
      "Review: This is a dull movie. I would never recommend it to anyone.\n",
      "\n",
      "Review: The cinematography is pretty great in this movie\n",
      "\n",
      "Review: The direction was terrible and the story was all over the place\n"
     ]
    }
   ],
   "source": [
    "print (\"\\nPredictions:\")\n",
    "for review in input_reviews:\n",
    "    print(\"\\nReview:\", review)\n",
    "probdist = classifier.prob_classify(extract_features(review.split()))\n",
    "pred_sentiment = probdist.max()"
   ]
  },
  {
   "cell_type": "code",
   "execution_count": 28,
   "metadata": {},
   "outputs": [
    {
     "name": "stdout",
     "output_type": "stream",
     "text": [
      "Predicted sentiment: Negative\n",
      "Probability: 0.63\n"
     ]
    }
   ],
   "source": [
    "print (\"Predicted sentiment:\", pred_sentiment)\n",
    "print (\"Probability:\", round(probdist.prob(pred_sentiment), 2))"
   ]
  },
  {
   "cell_type": "code",
   "execution_count": null,
   "metadata": {},
   "outputs": [],
   "source": [
    "import nltk\n",
    " \n",
    "nltk.download()"
   ]
  },
  {
   "cell_type": "code",
   "execution_count": null,
   "metadata": {},
   "outputs": [],
   "source": [
    "import urllib.request\n",
    " \n",
    "response = urllib.request.urlopen('http://php.net/')\n",
    " \n",
    "html = response.read()\n",
    " \n",
    "print (html)"
   ]
  },
  {
   "cell_type": "code",
   "execution_count": null,
   "metadata": {},
   "outputs": [],
   "source": [
    "from bs4 import BeautifulSoup\n",
    " \n",
    "import urllib.request\n",
    " \n",
    "response = urllib.request.urlopen('http://php.net/')\n",
    " \n",
    "html = response.read()\n",
    " \n",
    "soup = BeautifulSoup(html,\"html5lib\")\n",
    " \n",
    "text = soup.get_text(strip=True)\n",
    " \n",
    "print (text)"
   ]
  },
  {
   "cell_type": "code",
   "execution_count": null,
   "metadata": {},
   "outputs": [],
   "source": [
    "from bs4 import BeautifulSoup\n",
    " \n",
    "import urllib.request\n",
    " \n",
    "response = urllib.request.urlopen('http://php.net/')\n",
    " \n",
    "html = response.read()\n",
    " \n",
    "soup = BeautifulSoup(html,\"html5lib\")\n",
    " \n",
    "text = soup.get_text(strip=True)\n",
    " \n",
    "tokens = [t for t in text.split()]\n",
    " \n",
    "print (tokens)"
   ]
  },
  {
   "cell_type": "code",
   "execution_count": null,
   "metadata": {},
   "outputs": [],
   "source": [
    "from bs4 import BeautifulSoup\n",
    " \n",
    "import urllib.request\n",
    " \n",
    "import nltk\n",
    " \n",
    "response = urllib.request.urlopen('http://php.net/')\n",
    " \n",
    "html = response.read()\n",
    " \n",
    "soup = BeautifulSoup(html,\"html5lib\")\n",
    " \n",
    "text = soup.get_text(strip=True)\n",
    " \n",
    "tokens = [t for t in text.split()]\n",
    " \n",
    "freq = nltk.FreqDist(tokens)\n",
    " \n",
    "for key,val in freq.items():\n",
    " \n",
    "    print (str(key) + ':' + str(val))"
   ]
  },
  {
   "cell_type": "code",
   "execution_count": null,
   "metadata": {},
   "outputs": [],
   "source": [
    "freq.plot(20, cumulative=False)"
   ]
  },
  {
   "cell_type": "code",
   "execution_count": null,
   "metadata": {},
   "outputs": [],
   "source": [
    "from nltk.corpus import stopwords\n",
    " \n",
    "stopwords.words('english')"
   ]
  },
  {
   "cell_type": "code",
   "execution_count": null,
   "metadata": {},
   "outputs": [],
   "source": [
    "clean_tokens = tokens[:]\n",
    " \n",
    "sr = stopwords.words('english')\n",
    " \n",
    "for token in tokens:\n",
    " \n",
    "    if token in stopwords.words('english'):\n",
    " \n",
    "        clean_tokens.remove(token)"
   ]
  },
  {
   "cell_type": "code",
   "execution_count": null,
   "metadata": {},
   "outputs": [],
   "source": [
    "from bs4 import BeautifulSoup\n",
    " \n",
    "import urllib.request\n",
    " \n",
    "import nltk\n",
    " \n",
    "from nltk.corpus import stopwords\n",
    " \n",
    "response = urllib.request.urlopen('http://php.net/')\n",
    " \n",
    "html = response.read()\n",
    " \n",
    "soup = BeautifulSoup(html,\"html5lib\")\n",
    " \n",
    "text = soup.get_text(strip=True)\n",
    " \n",
    "tokens = [t for t in text.split()]\n",
    " \n",
    "clean_tokens = tokens[:]\n",
    " \n",
    "sr = stopwords.words('english')\n",
    " \n",
    "for token in tokens:\n",
    " \n",
    "    if token in stopwords.words('english'):\n",
    " \n",
    "        clean_tokens.remove(token)\n",
    " \n",
    "freq = nltk.FreqDist(clean_tokens)\n",
    " \n",
    "for key,val in freq.items():\n",
    "    print (str(key) + ':' + str(val))"
   ]
  },
  {
   "cell_type": "code",
   "execution_count": null,
   "metadata": {},
   "outputs": [],
   "source": [
    "freq.plot(20,cumulative=False)"
   ]
  },
  {
   "cell_type": "code",
   "execution_count": null,
   "metadata": {},
   "outputs": [],
   "source": [
    "from nltk.tokenize import sent_tokenize\n",
    " \n",
    "mytext = \"Hello Adam, how are you? I hope everything is going well. Today is a good day, see you dude.\"\n",
    " \n",
    "print(sent_tokenize(mytext))"
   ]
  },
  {
   "cell_type": "code",
   "execution_count": null,
   "metadata": {},
   "outputs": [],
   "source": [
    "from nltk.tokenize import sent_tokenize\n",
    " \n",
    "mytext = \"Hello Mr. Adam, how are you? I hope everything is going well. Today is a good day, see you dude.\"\n",
    " \n",
    "print(sent_tokenize(mytext))"
   ]
  },
  {
   "cell_type": "code",
   "execution_count": null,
   "metadata": {},
   "outputs": [],
   "source": [
    "from nltk.tokenize import word_tokenize\n",
    " \n",
    "mytext = \"Hello Mr. Adam, how are you? I hope everything is going well. Today is a good day, see you dude.\"\n",
    " \n",
    "print(word_tokenize(mytext))"
   ]
  },
  {
   "cell_type": "code",
   "execution_count": null,
   "metadata": {},
   "outputs": [],
   "source": [
    "from nltk.tokenize import sent_tokenize\n",
    " \n",
    "mytext = \"Bonjour M. Adam, comment allez-vous? J'espère que tout va bien. Aujourd'hui est un bon jour.\"\n",
    " \n",
    "print(sent_tokenize(mytext,\"french\"))"
   ]
  },
  {
   "cell_type": "code",
   "execution_count": null,
   "metadata": {},
   "outputs": [],
   "source": [
    "from nltk.corpus import wordnet\n",
    " \n",
    "syn = wordnet.synsets(\"pain\")\n",
    " \n",
    "print(syn[0].definition())\n",
    " \n",
    "print(syn[0].examples())"
   ]
  },
  {
   "cell_type": "code",
   "execution_count": null,
   "metadata": {},
   "outputs": [],
   "source": [
    "from nltk.corpus import wordnet\n",
    " \n",
    "syn = wordnet.synsets(\"NLP\")\n",
    " \n",
    "print(syn[0].definition())\n",
    " \n",
    "syn = wordnet.synsets(\"Python\")\n",
    " \n",
    "print(syn[0].definition())"
   ]
  },
  {
   "cell_type": "code",
   "execution_count": null,
   "metadata": {},
   "outputs": [],
   "source": [
    "from nltk.corpus import wordnet\n",
    " \n",
    "synonyms = []\n",
    " \n",
    "for syn in wordnet.synsets('Computer'):\n",
    " \n",
    "    for lemma in syn.lemmas():\n",
    " \n",
    "        synonyms.append(lemma.name())\n",
    " \n",
    "print(synonyms)"
   ]
  },
  {
   "cell_type": "code",
   "execution_count": null,
   "metadata": {},
   "outputs": [],
   "source": [
    "from nltk.corpus import wordnet\n",
    " \n",
    "antonyms = []\n",
    " \n",
    "for syn in wordnet.synsets(\"small\"):\n",
    " \n",
    "    for l in syn.lemmas():\n",
    " \n",
    "        if l.antonyms():\n",
    " \n",
    "            antonyms.append(l.antonyms()[0].name())\n",
    " \n",
    "print(antonyms)"
   ]
  },
  {
   "cell_type": "code",
   "execution_count": null,
   "metadata": {},
   "outputs": [],
   "source": [
    "from nltk.stem import PorterStemmer\n",
    " \n",
    "stemmer = PorterStemmer()\n",
    " \n",
    "print(stemmer.stem('working'))"
   ]
  },
  {
   "cell_type": "code",
   "execution_count": null,
   "metadata": {},
   "outputs": [],
   "source": [
    "from nltk.stem import SnowballStemmer\n",
    " \n",
    "print(SnowballStemmer.languages)"
   ]
  },
  {
   "cell_type": "code",
   "execution_count": null,
   "metadata": {},
   "outputs": [],
   "source": [
    "from nltk.stem import SnowballStemmer\n",
    " \n",
    "french_stemmer = SnowballStemmer('french')\n",
    " \n",
    "print(french_stemmer.stem(\"French word\"))"
   ]
  },
  {
   "cell_type": "code",
   "execution_count": null,
   "metadata": {},
   "outputs": [],
   "source": [
    "from nltk.stem import PorterStemmer\n",
    " \n",
    "stemmer = PorterStemmer()\n",
    " \n",
    "print(stemmer.stem('increases'))"
   ]
  },
  {
   "cell_type": "code",
   "execution_count": null,
   "metadata": {},
   "outputs": [],
   "source": [
    "from nltk.stem import WordNetLemmatizer\n",
    " \n",
    "lemmatizer = WordNetLemmatizer()\n",
    " \n",
    "print(lemmatizer.lemmatize('increases'))"
   ]
  },
  {
   "cell_type": "code",
   "execution_count": null,
   "metadata": {},
   "outputs": [],
   "source": [
    "from nltk.stem import WordNetLemmatizer\n",
    " \n",
    "lemmatizer = WordNetLemmatizer()\n",
    " \n",
    "print(lemmatizer.lemmatize('playing', pos=\"v\"))"
   ]
  },
  {
   "cell_type": "code",
   "execution_count": null,
   "metadata": {},
   "outputs": [],
   "source": [
    "from nltk.stem import WordNetLemmatizer\n",
    " \n",
    "lemmatizer = WordNetLemmatizer()\n",
    " \n",
    "print(lemmatizer.lemmatize('playing', pos=\"v\"))\n",
    " \n",
    "print(lemmatizer.lemmatize('playing', pos=\"n\"))\n",
    " \n",
    "print(lemmatizer.lemmatize('playing', pos=\"a\"))\n",
    " \n",
    "print(lemmatizer.lemmatize('playing', pos=\"r\"))"
   ]
  },
  {
   "cell_type": "code",
   "execution_count": null,
   "metadata": {},
   "outputs": [],
   "source": [
    "from nltk.stem import WordNetLemmatizer\n",
    " \n",
    "from nltk.stem import PorterStemmer\n",
    " \n",
    "stemmer = PorterStemmer()\n",
    " \n",
    "lemmatizer = WordNetLemmatizer()\n",
    " \n",
    "print(stemmer.stem('stones'))\n",
    " \n",
    "print(stemmer.stem('speaking'))\n",
    " \n",
    "print(stemmer.stem('bedroom'))\n",
    " \n",
    "print(stemmer.stem('jokes'))\n",
    " \n",
    "print(stemmer.stem('lisa'))\n",
    " \n",
    "print(stemmer.stem('purple'))\n",
    " \n",
    "print('----------------------')\n",
    " \n",
    "print(lemmatizer.lemmatize('stones'))\n",
    " \n",
    "print(lemmatizer.lemmatize('speaking'))\n",
    " \n",
    "print(lemmatizer.lemmatize('bedroom'))\n",
    " \n",
    "print(lemmatizer.lemmatize('jokes'))\n",
    " \n",
    "print(lemmatizer.lemmatize('lisa'))\n",
    " \n",
    "print(lemmatizer.lemmatize('purple'))"
   ]
  }
 ],
 "metadata": {
  "kernelspec": {
   "display_name": "Python 3",
   "language": "python",
   "name": "python3"
  },
  "language_info": {
   "codemirror_mode": {
    "name": "ipython",
    "version": 3
   },
   "file_extension": ".py",
   "mimetype": "text/x-python",
   "name": "python",
   "nbconvert_exporter": "python",
   "pygments_lexer": "ipython3",
   "version": "3.7.4"
  }
 },
 "nbformat": 4,
 "nbformat_minor": 4
}
