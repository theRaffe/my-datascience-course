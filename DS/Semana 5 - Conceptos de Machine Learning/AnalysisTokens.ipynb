{
 "cells": [
  {
   "cell_type": "markdown",
   "metadata": {
    "collapsed": true
   },
   "source": [
    "### NLP"
   ]
  },
  {
   "cell_type": "code",
   "execution_count": 1,
   "metadata": {},
   "outputs": [],
   "source": [
    "import json"
   ]
  },
  {
   "cell_type": "code",
   "execution_count": 2,
   "metadata": {},
   "outputs": [],
   "source": [
    "with open(\"reviews_Amazon_Instant_Video_5.json\") as f:\n",
    "    data = []\n",
    "    for line in f:\n",
    "        data.append(json.loads(line))"
   ]
  },
  {
   "cell_type": "code",
   "execution_count": 3,
   "metadata": {},
   "outputs": [
    {
     "data": {
      "text/plain": [
       "37126"
      ]
     },
     "execution_count": 3,
     "metadata": {},
     "output_type": "execute_result"
    }
   ],
   "source": [
    "len(data)"
   ]
  },
  {
   "cell_type": "code",
   "execution_count": 4,
   "metadata": {},
   "outputs": [],
   "source": [
    "import pandas as pd"
   ]
  },
  {
   "cell_type": "code",
   "execution_count": 5,
   "metadata": {},
   "outputs": [],
   "source": [
    "moviedf =pd.DataFrame(data)"
   ]
  },
  {
   "cell_type": "code",
   "execution_count": 6,
   "metadata": {},
   "outputs": [
    {
     "data": {
      "text/html": [
       "<div>\n",
       "<style scoped>\n",
       "    .dataframe tbody tr th:only-of-type {\n",
       "        vertical-align: middle;\n",
       "    }\n",
       "\n",
       "    .dataframe tbody tr th {\n",
       "        vertical-align: top;\n",
       "    }\n",
       "\n",
       "    .dataframe thead th {\n",
       "        text-align: right;\n",
       "    }\n",
       "</style>\n",
       "<table border=\"1\" class=\"dataframe\">\n",
       "  <thead>\n",
       "    <tr style=\"text-align: right;\">\n",
       "      <th></th>\n",
       "      <th>asin</th>\n",
       "      <th>helpful</th>\n",
       "      <th>overall</th>\n",
       "      <th>reviewText</th>\n",
       "      <th>reviewTime</th>\n",
       "      <th>reviewerID</th>\n",
       "      <th>reviewerName</th>\n",
       "      <th>summary</th>\n",
       "      <th>unixReviewTime</th>\n",
       "    </tr>\n",
       "  </thead>\n",
       "  <tbody>\n",
       "    <tr>\n",
       "      <th>0</th>\n",
       "      <td>B000H00VBQ</td>\n",
       "      <td>[0, 0]</td>\n",
       "      <td>2.0</td>\n",
       "      <td>I had big expectations because I love English ...</td>\n",
       "      <td>05 3, 2014</td>\n",
       "      <td>A11N155CW1UV02</td>\n",
       "      <td>AdrianaM</td>\n",
       "      <td>A little bit boring for me</td>\n",
       "      <td>1399075200</td>\n",
       "    </tr>\n",
       "    <tr>\n",
       "      <th>1</th>\n",
       "      <td>B000H00VBQ</td>\n",
       "      <td>[0, 0]</td>\n",
       "      <td>5.0</td>\n",
       "      <td>I highly recommend this series. It is a must f...</td>\n",
       "      <td>09 3, 2012</td>\n",
       "      <td>A3BC8O2KCL29V2</td>\n",
       "      <td>Carol T</td>\n",
       "      <td>Excellent Grown Up TV</td>\n",
       "      <td>1346630400</td>\n",
       "    </tr>\n",
       "    <tr>\n",
       "      <th>2</th>\n",
       "      <td>B000H00VBQ</td>\n",
       "      <td>[0, 1]</td>\n",
       "      <td>1.0</td>\n",
       "      <td>This one is a real snoozer. Don't believe anyt...</td>\n",
       "      <td>10 16, 2013</td>\n",
       "      <td>A60D5HQFOTSOM</td>\n",
       "      <td>Daniel Cooper \"dancoopermedia\"</td>\n",
       "      <td>Way too boring for me</td>\n",
       "      <td>1381881600</td>\n",
       "    </tr>\n",
       "    <tr>\n",
       "      <th>3</th>\n",
       "      <td>B000H00VBQ</td>\n",
       "      <td>[0, 0]</td>\n",
       "      <td>4.0</td>\n",
       "      <td>Mysteries are interesting.  The tension betwee...</td>\n",
       "      <td>10 30, 2013</td>\n",
       "      <td>A1RJPIGRSNX4PW</td>\n",
       "      <td>J. Kaplan \"JJ\"</td>\n",
       "      <td>Robson Green is mesmerizing</td>\n",
       "      <td>1383091200</td>\n",
       "    </tr>\n",
       "    <tr>\n",
       "      <th>4</th>\n",
       "      <td>B000H00VBQ</td>\n",
       "      <td>[1, 1]</td>\n",
       "      <td>5.0</td>\n",
       "      <td>This show always is excellent, as far as briti...</td>\n",
       "      <td>02 11, 2009</td>\n",
       "      <td>A16XRPF40679KG</td>\n",
       "      <td>Michael Dobey</td>\n",
       "      <td>Robson green and great writing</td>\n",
       "      <td>1234310400</td>\n",
       "    </tr>\n",
       "  </tbody>\n",
       "</table>\n",
       "</div>"
      ],
      "text/plain": [
       "         asin helpful  overall  \\\n",
       "0  B000H00VBQ  [0, 0]      2.0   \n",
       "1  B000H00VBQ  [0, 0]      5.0   \n",
       "2  B000H00VBQ  [0, 1]      1.0   \n",
       "3  B000H00VBQ  [0, 0]      4.0   \n",
       "4  B000H00VBQ  [1, 1]      5.0   \n",
       "\n",
       "                                          reviewText   reviewTime  \\\n",
       "0  I had big expectations because I love English ...   05 3, 2014   \n",
       "1  I highly recommend this series. It is a must f...   09 3, 2012   \n",
       "2  This one is a real snoozer. Don't believe anyt...  10 16, 2013   \n",
       "3  Mysteries are interesting.  The tension betwee...  10 30, 2013   \n",
       "4  This show always is excellent, as far as briti...  02 11, 2009   \n",
       "\n",
       "       reviewerID                    reviewerName  \\\n",
       "0  A11N155CW1UV02                        AdrianaM   \n",
       "1  A3BC8O2KCL29V2                         Carol T   \n",
       "2   A60D5HQFOTSOM  Daniel Cooper \"dancoopermedia\"   \n",
       "3  A1RJPIGRSNX4PW                  J. Kaplan \"JJ\"   \n",
       "4  A16XRPF40679KG                   Michael Dobey   \n",
       "\n",
       "                          summary  unixReviewTime  \n",
       "0      A little bit boring for me      1399075200  \n",
       "1           Excellent Grown Up TV      1346630400  \n",
       "2           Way too boring for me      1381881600  \n",
       "3     Robson Green is mesmerizing      1383091200  \n",
       "4  Robson green and great writing      1234310400  "
      ]
     },
     "execution_count": 6,
     "metadata": {},
     "output_type": "execute_result"
    }
   ],
   "source": [
    "moviedf.head(5)"
   ]
  },
  {
   "cell_type": "code",
   "execution_count": 7,
   "metadata": {},
   "outputs": [
    {
     "data": {
      "text/plain": [
       "B00I3MPDP4    455\n",
       "B00DAHSVYC    444\n",
       "B00I3MMN4I    417\n",
       "B00APE00H4    384\n",
       "B00CDBTQCW    358\n",
       "Name: asin, dtype: int64"
      ]
     },
     "execution_count": 7,
     "metadata": {},
     "output_type": "execute_result"
    }
   ],
   "source": [
    "moviedf[\"asin\"].value_counts()[0:5]"
   ]
  },
  {
   "cell_type": "code",
   "execution_count": 8,
   "metadata": {},
   "outputs": [],
   "source": [
    "movie1 = moviedf[moviedf[\"asin\"] == \"B00I3MPDP4\"]"
   ]
  },
  {
   "cell_type": "code",
   "execution_count": 9,
   "metadata": {},
   "outputs": [],
   "source": [
    "movie1_good = movie1[movie1[\"overall\"]>3]\n",
    "movie1_bad = movie1[movie1[\"overall\"]<4]"
   ]
  },
  {
   "cell_type": "code",
   "execution_count": 10,
   "metadata": {},
   "outputs": [],
   "source": [
    "import collections\n",
    "from nltk import word_tokenize\n",
    "from nltk.corpus import stopwords\n",
    "from nltk.stem import PorterStemmer\n",
    "from sklearn.cluster import KMeans\n",
    "from sklearn.feature_extraction.text import TfidfVectorizer\n",
    "from pprint import pprint"
   ]
  },
  {
   "cell_type": "code",
   "execution_count": 11,
   "metadata": {},
   "outputs": [],
   "source": [
    "def word_tokenizer(text):\n",
    "    #tokenizes and stems the text\n",
    "    text = text.strip(\",;'\")\n",
    "    tokens = word_tokenize(text.lower())\n",
    "    stemmer = PorterStemmer()\n",
    "    tokens = [stemmer.stem(t) for t in tokens if t not in stopwords.words('english')]\n",
    "    return tokens"
   ]
  },
  {
   "cell_type": "code",
   "execution_count": 12,
   "metadata": {},
   "outputs": [],
   "source": [
    "def cluster_sentences(sentences, nb_of_clusters=5):\n",
    "    tfidf_vectorizer = TfidfVectorizer(tokenizer=word_tokenizer,\n",
    "                                    stop_words=stopwords.words('english'),\n",
    "                                    max_df=0.9,\n",
    "                                    min_df=0.1,\n",
    "                                    lowercase=True)\n",
    "    #builds a tf-idf matrix for the sentences\n",
    "    tfidf_matrix = tfidf_vectorizer.fit_transform(sentences)\n",
    "    kmeans = KMeans(n_clusters=nb_of_clusters)\n",
    "    kmeans.fit(tfidf_matrix)\n",
    "    clusters = collections.defaultdict(list)\n",
    "    for i, label in enumerate(kmeans.labels_):\n",
    "            clusters[label].append(i)\n",
    "    return dict(clusters)"
   ]
  },
  {
   "cell_type": "code",
   "execution_count": 13,
   "metadata": {},
   "outputs": [],
   "source": [
    "sentences_good = list(movie1_good[\"reviewText\"])\n",
    "sentences_bad = list(movie1_bad[\"reviewText\"])"
   ]
  },
  {
   "cell_type": "code",
   "execution_count": 14,
   "metadata": {},
   "outputs": [],
   "source": [
    "nclusters= 5"
   ]
  },
  {
   "cell_type": "code",
   "execution_count": 15,
   "metadata": {},
   "outputs": [
    {
     "name": "stderr",
     "output_type": "stream",
     "text": [
      "[nltk_data] Downloading package stopwords to\n",
      "[nltk_data]     C:\\Users\\jassluz\\AppData\\Roaming\\nltk_data...\n",
      "[nltk_data]   Package stopwords is already up-to-date!\n",
      "[nltk_data] Downloading package punkt to\n",
      "[nltk_data]     C:\\Users\\jassluz\\AppData\\Roaming\\nltk_data...\n",
      "[nltk_data]   Package punkt is already up-to-date!\n"
     ]
    },
    {
     "data": {
      "text/plain": [
       "True"
      ]
     },
     "execution_count": 15,
     "metadata": {},
     "output_type": "execute_result"
    }
   ],
   "source": [
    "import nltk\n",
    "nltk.download('stopwords')\n",
    "nltk.download('punkt')"
   ]
  },
  {
   "cell_type": "code",
   "execution_count": 16,
   "metadata": {},
   "outputs": [
    {
     "name": "stderr",
     "output_type": "stream",
     "text": [
      "C:\\Anaconda\\lib\\site-packages\\sklearn\\feature_extraction\\text.py:301: UserWarning: Your stop_words may be inconsistent with your preprocessing. Tokenizing the stop words generated tokens [\"'d\", \"'ll\", \"'re\", \"'s\", \"'ve\", 'could', 'might', 'must', \"n't\", 'need', 'sha', 'wo', 'would'] not in stop_words.\n",
      "  'stop_words.' % sorted(inconsistent))\n",
      "C:\\Anaconda\\lib\\site-packages\\sklearn\\feature_extraction\\text.py:301: UserWarning: Your stop_words may be inconsistent with your preprocessing. Tokenizing the stop words generated tokens [\"'d\", \"'ll\", \"'re\", \"'s\", \"'ve\", 'could', 'might', 'must', \"n't\", 'need', 'sha', 'wo', 'would'] not in stop_words.\n",
      "  'stop_words.' % sorted(inconsistent))\n"
     ]
    }
   ],
   "source": [
    "clusters_good = cluster_sentences(sentences_good, nclusters)\n",
    "clusters_bad = cluster_sentences(sentences_bad, nclusters)"
   ]
  },
  {
   "cell_type": "code",
   "execution_count": 19,
   "metadata": {},
   "outputs": [],
   "source": [
    "def print_clusters(cluster,sentences):\n",
    "    for cluster in range(nclusters):\n",
    "        print(\"cluster \",cluster,\":\")\n",
    "        for i,sentence in enumerate(clusters[cluster]):\n",
    "            print(\"\\tsentence \",i,\": \",sentences[sentence])"
   ]
  },
  {
   "cell_type": "code",
   "execution_count": null,
   "metadata": {},
   "outputs": [],
   "source": [
    "print_clusters(clusters_good, sentences_good)"
   ]
  },
  {
   "cell_type": "code",
   "execution_count": 134,
   "metadata": {},
   "outputs": [
    {
     "name": "stdout",
     "output_type": "stream",
     "text": [
      "cluster  0 :\n",
      "\tsentence  0 :  Some of the acting to me is less than desirable.  It seems like some minor characters' roles are written to give their small parts too much significance.  However, I definitely want to know more.  The clues about Detective Bosch's past give you enough to speculate, but not quite enough to make the answers predictable.  A perfect mixture for great suspense.\n",
      "\tsentence  1 :  The first episode worked for me but not for my wife.  The courtroom drama is a distraction and the attorneys on both sides are real cliches.  I also weary of the rogue detective who has more conflict with his police peers than he does with the bad guys.  Fox's &#34;The Following&#34; is playing out the same worn out bit right now.  I'll try another episode, but it better get tighter and richer soon or I'm gone.\n",
      "\tsentence  2 :  Didn't find the storyline engaging.  Characters seemed to do the best they could.  Script is needs more effort to engage the viewer\n",
      "\tsentence  3 :  I thought this was slow. I have read the books and was very excited to watch it. I didn't finish this first episode. It just felt really slow.\n",
      "\tsentence  4 :  With all the excellent selections of video, I'm particular. This pilot didn't do it for me. Why? I can't put my finger on it, but perhaps the story was  not tight enough.\n",
      "\tsentence  5 :  Starts off as little formulaic. Sullied cop/agent who has no life but work and Devil-may-care attitude.Solving crimes like no one else. How is this different from 15 other shows like this?\n",
      "\tsentence  6 :  I have read multiple Bosch books and enjoyed them all.  His book character is complex and I hope the writers and director can do the same thing with him in the TV show.\n",
      "\tsentence  7 :  The slow, mello pace of this show, would make one hell of a theater release. But, I feel, its pacing and low key acting from the main star (Titus Welliver) does not come over well on the small screen.That said, this was a wonderful episode and Mr. Welliver has a strong presence here. If they were to pick up the feeling of the writing, and not have the Bosch character be so low key, it would feel more suited to TV but, personally, I would really prefer they take it back, build on the story more, flesh out the other characters more, add another hour or so, and release it to the big screen. I think Bosch could be the next Dirty Harry; just a lot smarter. LOL\n",
      "\tsentence  8 :  Been here and done that with this series type ala NCIS 1, 2, 3, 4, ad infinitum.  The saving grace for this police procedural  is the always imminently watchable Titus Welliver who brings a certain weight to this role that he brings to every role.  He was able to make me interested in his backstory, though.  All in all I felt that there wasnt anything here that I havent seen in countless other cop dramas.\n",
      "\tsentence  9 :  Beyond slow paced, boring and cliched, is it sponsored by tobacco companies?  A jarring amount of cigarette smoking in the first 15 minutes.  Didn't finish watching it.  Watched a third and it just never got any better.  How is it getting the good reviews?  Mystery to me.  Got to be mighty bored to be entertained by this.\n",
      "\tsentence  10 :  The show has a slow start, to me it&#8217;s a bit dated compared to the present detective and police crime dramas. I have to see a few more episodes to really get a feel for the show. I didn&#8217;t truly get pulled into the show until the end, when the coroner was explaining the trauma and the abuse the kid had endured when he was alive, and the flashback the detective was having and how PTSD seemed to grow on him through the description of the kid&#8217;s abuse. Maybe the next episode will raise my opinion of the show; at the moment I&#8217;m 60/40 not interested.\n",
      "\tsentence  11 :  .....I very much enjoyed seeing Titus in something that wasn't the &#34;bad guy&#34;, and cop dramas are among my favorite. Having been personally involved in a cops life I understand the language they use, but I don't like it. I would wish that it did not have to be a part of every show that comes out now.It was a little slow to start but built interest and ended this pilot well. Based on the overwhelming 5-star reviews I'm sure you'll keep it going. The only thing that keeps me from 5-star also is the language, especially the use of God's name inappropriately. I live in the real world and I have to deal with it every day. I enjoy TV as a way to get away from all of that, so I would wish that the good dramas didn't feel the need to use certain words in every one of them.\n",
      "\tsentence  12 :  Bosch has a good cast, a nice L.A. setting (great use of landmarks) and is well made &#8212; it definitely felt like any other TV show. But that's the trouble &#8212; it felt like any other TV show. A &#34;renegade&#34; middle-aged white dude feels misunderstood and hard done by and has to prove himself... Not very original, and there wasn't anything in this episode that felt fresh for anyone who's seen a police drama before. The dialogue was pretty hackneyed at times, not least when two male cops decide that a blonde lady shouldn't have killed herself because she was pretty (yeah, that's how mental illness works). The saving grace was that it picked up the tension when the trial started and when we finally got some info from the medical examiner. Unfortunately, it was just getting intriguing when it ended. I would be interested to see what happens next, but only if the pace picks up and the show challenges viewer expectations a bit more.\n",
      "\tsentence  13 :  I fell asleep watching it and won't watch anymore episodes if they decide to make more.  What I stayed awake for seemed to be well made though.\n",
      "\tsentence  14 :  Consider this exchange between Titus Welliver (Detective Harry Bosch) and Scott Klace (Sergeant Mankiewicz) when \"Mank\" wants Bosch to investigate a report of the discovery of a bone:Mank: \"The guy says it's human, Harry.\"Bosch: \"Yeah, well, it always is...until it isn't.\"Mank: \"You're right. 99 times out of 100 what is it? A coyote, deer, cow, whatever?\"This devil's advocacy might have worked, had Bosch been the one to elaborate, in his vain attempt to avoid the assignment. Spoken by the sergeant, this bit comes off as a clumsy attempt to give the viewer insight and explain the usual frustration in such cases. It would be more believable as true cop banter if it had been Bosch utilizing the argument to avoid the call.This poor allocation of good dialogue is just one example of many ways that the best assets of this show have been mis-managed.Familiar faces seem mis-cast, while it is easy to imagine them doing a brilliant job in a different role. Alan Rosenberg is billed as a guest star, but it doesn't take much imagination to see him as a great choice for a regular role in another part. The same can be said for Lance Reddick, Abraham Benrubi and Jamie McShane.The production values/cinematography are very good and may be the best features of this pilot. However, don't expect the edginess of \"The Killing\".Nothing groundbreaking is happening here.\n",
      "\tsentence  15 :  I feel like I've watched this story line in other shows umpteen times before--the male main character who's rough around the edges, but also kind of a hero.  Except this show doesn't hold my attention nearly as well as some of the others have. I'm quite surprised by the other high reviews on here & I much preferred Mozart in the Jungle and especially Transparent--I'm hoping that's the one that gets picked up--it's unique and interesting and left me wanting more!\n",
      "\tsentence  16 :  I really am stunned that this show seems to be getting the highest rating of all the new original pilots. It's like all the other crime/cop dramas on TV already\n",
      "\tsentence  17 :  Bored me from the beginning.  Will not match another crime show.  It didn't keep me up, stopped watching it after 20 minutes.\n",
      "\tsentence  18 :  I read the book and hope it follows that story line but I am tire of the burnt out detective who drinks and smokes but I think it might be good and  would watch again\n",
      "\tsentence  19 :  The  beginning dialog was SO annoying.  I'm not sure what they were trying to do, but it was unsuccessful.  They lost it as the episode went on and improved.  The story is very interesting.  Some actors were stellar, others were not. The music could not be worse.  This could be an worth-while serial killer show if they improve the dialog, some of the acting and totally change the music.\n",
      "\tsentence  20 :  Like this pilot think it is great but a little slow, more like a law n order. I can't say I would watch it if they made it a series as there are sooooo many cop/court/detective dramas already. too original I like Bosch the character just want more gritty, dirty and grime. and maybe more action than just a fall down a hill. but for those who love and I mean love :) cop shows that are more about the investigation, this is for you-enjoy.\n",
      "\tsentence  21 :  I read a couple of these books a while back and liked them ok. I think I would have enjoyed this more if it wasn't the same old thing--hero has personal problems with alcohol that keep getting in his way, but he manages to catch the bad guy anyway. I guess I've read and seen too many of these stories in the past to make them interesting in the present. Otherwise I thought the writing was very good and the story interesting enough to keep me watching to the end. Actually I always watch or read to the end even if I hate a story. Probably a bad habit. I didn't hate this story though. Just don't like reading about another hard guy with an alcohol problem as much as I used to.\n",
      "\tsentence  22 :  The lead is a depressed bore and the other characters are stiff and cliche. The LA setting is done well but that is about it\n",
      "\tsentence  23 :  I read the books, so can \"identify\" but I don't care for the actor chose for this part not \"scruffy\" enough for Bosch, at least the one I have an image of.........\n",
      "\tsentence  24 :  I believe this will be a big hit. I can't wait to see more of this drama and explore the eccentricities of the main character. I think the cast was chosen well for this production. This detective is a driven and bent on making sure that the case is solved no matter whose toes he steps on and all the while he is on trial himself for a supposedly &#34;bad&#34; shooting of a serial rapist. This show is based on the books by Micael Connelly and if you are a fan you want to watch this series. I give credit to Titus Welliver, who plays the detective, for making his character believable. It is well worth watching.\n",
      "\tsentence  25 :  I didn't even realize this pilot existed until this morning. As a fan of Michael Connelly and his characters, I was extremely excited to see Detective Bosch in action. I've read roughly 7 to 10 from the Bosch series and all of the Lincoln Lawyer novels (as far as I know).I had issue with the very first scene. Never a good thing to start off a show with doubts. From my recollection, Bosch despises having partners and prides himself on being a lone wolf, or perhaps coyote is more apt. I vaguely recall Edgar being mentioned here and there in the books, but he barely registered in any of them. The pilot makes Edgar play a much larger role, which I'm not sure that I'm OK with. Part of me thinks it might help the Bosch character verbalize things that would normally be internal dialogue in the novels.I felt disappointed that the pilot did not focus that much on Bosch's amazing knack for clues and detective work in general. It slightly hinted towards it here and there, but when you only have one chance to make an impression, such as a possible one-time pilot, you need to make it something memorable. They failed in this regard. However, they were able to capture his dedication to the job, as demonstrated when he steals case files and visits crime scenes late into the night.Perhaps I was expecting too much based on my readings of the novels. I think the ultimate test is the answer to the question, would I watch it on a regular basis if I had no prior knowledge of the books. To be completely honest, based solely on the pilot I can say a definite no. It didn't stand out any from the many other detective/courtroom dramas already in production. Maybe as the character is able to be developed more, if the series is picked up, things will improve. For the time being, Bosch needs to work on making a name for himself before it is too late.\n",
      "\tsentence  26 :  For a cop show, it was more drama than action; however I found it interesting and would like to see the rest of the season\n",
      "\tsentence  27 :  Coming at this with a disadvantage having never read any of the Bosch books; but, with all that is good about this show, I am not satisfied.  I hate the wrongful death trial and the smarmy plaintiff's lawyer; it is an impediment to an otherwise intriguing, excellently acted story and well developed characterizations.  Welliver and Wersching are both great and make watching a complete pleasure.  Establishing that Bosch has a semi-sordid, psyche-affecting past can be done without dragging out a dreary, trite courtroom &#34;drama.&#34; (Although, Abraham Benrubi as the defense attorney is inspired casting).  This can be very good if it doesn't bog down in hammering Bosch with the judicial system and the ever-present-in-every-police-drama Rat Squad.\n",
      "\tsentence  28 :  This one was the most promising of the amazon originals, but not enough to keep me coming back for more. It's a decent storyline and the acting is good, but no character really grabbed me. I have to really connect with a character to be drawn in to a show, but Bosch is just not all that likable. The actor is great, but I'm not sure I really care about what happens to Bosch...that's a problem. This would be one I'd be willing to watch another episode to see how things developed, but, in general, I can take it or leave it.\n",
      "\tsentence  29 :  Com'on people. We have all the CSI's, USA shows, justified, list goes on and on. Show is predictable and is more at home on a cable television channel\n",
      "\tsentence  30 :  Felt like a fairly standard police procedural. I don't think the concept was that revelatory or exciting. The execution was adequate.  If they had an exciting new concept with an adequate execution I probably would have been more impressed (alternately, their current concept with an amazing execution).  It wasn't...bad.  Just not that great. My response while watching it was one long, drawn-out meeehhh.I am not a big fan of this genre, so I may not be the most reliable reviewer.\n",
      "\tsentence  31 :  Really did not care for the show. The character was robotic and lacks emotions. Hope this show does not make it over the other shows.\n",
      "\tsentence  32 :  There is nothing really new here. I give it 3 stars because it is well done but I wont watch it again. If you like police dramas this show is for you but it feels much like every other show on tv about detectives.\n",
      "\tsentence  33 :  The series started off pretty good.  It was a fresh approach the first ten minutes, but then began the stereotypical misunderstood cop. The supporting cast  was good, except for the  &#34;older&#34; police woman.  She was just too old to be starting out to be a police woman at this stage of life.  She looked old enough to be ready for retirement.  She should have been in her middle to late thirties, but looked well into her forties.  Just a flaw in the casting, but one that was  jarring.  The protagonist, Bosch, appeared to be weak.  He had the appearance of being jaded.  He needs to have more character.. Its an okay series, but one that I probably wouldn't seek out to see, but might watch if there wasn't anything else to watch.  As long as I had a book to read while the series played in the back ground I would watch it.  Bosch just wasn't a character that I cared about. It's not the actors fault.  He's a good supporting actor, but he won't be able to carry the show as long as the script is as poor as it is. There was too much happening in the pilot.  Everything was thrown in at once and cliches were used to prop it up.\n",
      "\tsentence  34 :  If this show makes it out of all the other ones then there's no hope for humanity, cop shows thrive on dragging on and being boring as always.\n",
      "\tsentence  35 :  Stopped watching. Smacked of network TV. I like more of your push the envelope series rather than following same old patterns.\n",
      "\tsentence  36 :  The acting was great in this, storyline very interesting, but the crime investigation with examining skeletons of children and describing in detail the brutality obviously done to them was too creepy for us.\n",
      "\tsentence  37 :  I found Bosch to be a slow paced show.  I had to fight to get through the entire episode.  This is a show that I could live without.\n",
      "\tsentence  38 :  Slightly better than average cop procedural with an emphasis on the brooding, spare characterizations often a part of the Connelly novels.  While unique and atmospheric, it makes for a plodding, slow television experience.  Camera placement and scene blocking also raised a few eyebrows, as in a few cases it felt amateurish and faux arty.I'll attribute it to pilot jitters.  Not great, not bad.\n",
      "\tsentence  39 :  Come on Amazon,..Some of us don't like HD, when are you going to make this available for those of us who would rather see it in SD,.At this time, we have no choice !!!\n",
      "\tsentence  40 :  It's a common fact that a polieman will win everytime in court on a one on one situration because no one else is there. This is nothing new. It would be stupid for a person to reach for his pocket when a man has a gun pointing at him. Bosch said that the man wasn't unarmed but the show failed to show us any weapons. Bosch should have left his partner with the bone scence in the woods and found something else to do and got the run-down on things later. This show needs to be speeded up a little. Good luck.\n",
      "\tsentence  41 :  I don't know anything about the book series this is based on, so I can't speak to that. I think the series has potential, mainly because of it's star.  Welliver is very talented, and if this were to continue to series, I would hope the writers would give him more to do and play than &#34;angry man&#34;.  You've got the talent, let him use it!  I would give the series a chance if it continues.\n",
      "\tsentence  42 :  1) I really love the lead actor. I like that there is air of mystery about him.2) I liked the overall &#34;look,&#34; ie, production values, cinematography - especially the scenes in the forest.3) Great job - snagging Hershel (Scott Wilson) from The Walking Dead. He always lends a certain credibility to all of his roles. Love him.4) I thought splitting the plot line into 2 clear directions (ie, the shooting, and the murder mystery) didn't quite work. I thought the shooting plot line wasn't really necessary to teach about the subtext or &#34;what drives the character.&#34; All of the character study could of been explored during the investigation of the murder, which is the plot line that worked best for me anyway.5) Let's be honest, this is a typical procedural. It's been done before and is currently being done on television. That said, I wanted to see what happened to this character - so that's sayin' something.\n",
      "\tsentence  43 :  Not much to say about this one because it's about as generic as cop shows can get. Nothing stands out. The case isn't that intriguing, Bosch is yet another surly detective who might be an anti-hero. I'm just not sure what it has that will separate it from the countless cop shows already littering the airwaves and internet.Because of the talent connected to it, I could see a mini-series or short series order for this. It's not bad; it's just generic.\n",
      "\tsentence  44 :  I've tried several Amazon series, and each one has too much swearing.  Right off the bat, this one has swearing.. literally in the first sentence!  That is such a turn off!  Every sentence after that is much the same.  I finally couldn't take it anymore.  I'm completely done with Amazon series.  Disappointed.\n",
      "\tsentence  45 :  it's another crime scene investigation show. Very predictable, the characters are good, no originality, can't understand why Herschel is there?? didn't change his ponytail??? and made him a doctor??? It probably works as a show but failed to create empathy with me. I am not rooting for Bosch. He has no evidence of being a person we have to root for. So zero originality. I like the casting. But as a show i think is not strong enough, as a movie would work fantastically.\n",
      "\tsentence  46 :  Well made cop drama, nothing I can complain about but also nothing I can think of that would make me need to watch it.\n",
      "\tsentence  47 :  I love how Amazon is allowing viewers to play a role in determining what shows they develop in the future.  Very cool.  Bosch is the first pilot I watched, simply because it had the most reviews.  I have not read the books, but friends who have, tell me they love the character.  So I was prepared to be wowed and entertained.  Unfortunately, I found the show rather slow.  From my friends, I understand that Bosch is a heroic character, but I didn't get that from the pilot.  I was left wondering if he was a good cop or a bad cop.  Particularly after the ending.  Did he get emotional because he cared about the poor boy that had been abused, or was he abused in a similar manner, or was he feeling guilty because he'd been an abuser?  It was hard to tell.  I imagine this could be a good show, but after watching the pilot, it did not exactly leave me wanting more.\n",
      "\tsentence  48 :  Here's an idea, Amazon:  if you're going to ask me to watch something and review it, don't lie to me about the rating.  On your website and on my Amazon app on Roku, the show's rating is listed as NR.  Then, when I start to watch it, it actually shows it to be rated MA.  Prior to popular belief, not everyone wants to watch MA shows.  I'm still of the belief that you can make quality programming without all the overt sexuality and profanity.  Because for this reviewer, I don't need or want that coming into my home and if it's on there, then I won't watch the show no matter how well-acted, written or directed.  So, here's an idea - how about making a show that is NOT an MA rating.  You know, not all of us think the use of the &#34;f&#34; word is quality writing.  You sent me an email and asked for my review.  Well, there you go...\n",
      "\tsentence  49 :  He killed a guy, bones, civil suit about the guy he killed. No character development, not a good pilot for people haven't read the books. TNT passed?\n",
      "\tsentence  50 :  It is like a show that would have worked 20 yeas ago.  Now it's just one in a large field of crusty cop shows.  Sorry.  The author got screwed on this one.\n",
      "\tsentence  51 :  I felt it started a little slow but the story line got better as it went on.  Are they trying to rival the Wolf of Wall Street with the use of the F*** word so much.  There is no need for that.  Bosch has a better command of vocabulary that that is not needed and slows the enjoyment of the plot.  The doctor was a very good choice for supporting actor and would be good to incorporate in later shows.  The actor chosen as the coroner was an excellent choice.  I'm not so sure that I like the actor chosen for Bosch and he really shouldn't be smoking so much.  It hurts his character. It may get better with future episodes depending on how the story is developed.\n",
      "\tsentence  52 :  This is a well crafted show with good performances and an okay script.  I made it thru the fifty minutes of this episode but was not intrigued enough to return to it.  I guess I have seen one too many shows like this with a hard boiled detective who is dedicated to doing justice but whose flaws get in the way of his own life.  This is one of the better examples of that genre but I want to see something that reinvents the game.\n",
      "\tsentence  53 :  Enjoy police drama in a very crowded field in this genre, but nothing specially enticing to want to make me continue watching the proposed series\n"
     ]
    },
    {
     "ename": "IndexError",
     "evalue": "list index out of range",
     "output_type": "error",
     "traceback": [
      "\u001b[0;31m---------------------------------------------------------------------------\u001b[0m",
      "\u001b[0;31mIndexError\u001b[0m                                Traceback (most recent call last)",
      "\u001b[0;32m<ipython-input-134-287032976a04>\u001b[0m in \u001b[0;36m<module>\u001b[0;34m()\u001b[0m\n\u001b[0;32m----> 1\u001b[0;31m \u001b[0mprint_clusters\u001b[0m\u001b[0;34m(\u001b[0m\u001b[0mclusters_bad\u001b[0m\u001b[0;34m,\u001b[0m \u001b[0msentences_bad\u001b[0m\u001b[0;34m)\u001b[0m\u001b[0;34m\u001b[0m\u001b[0m\n\u001b[0m",
      "\u001b[0;32m<ipython-input-132-312e9b0b57f0>\u001b[0m in \u001b[0;36mprint_clusters\u001b[0;34m(cluster, sentences)\u001b[0m\n\u001b[1;32m      3\u001b[0m         \u001b[0mprint\u001b[0m\u001b[0;34m(\u001b[0m\u001b[0;34m\"cluster \"\u001b[0m\u001b[0;34m,\u001b[0m\u001b[0mcluster\u001b[0m\u001b[0;34m,\u001b[0m\u001b[0;34m\":\"\u001b[0m\u001b[0;34m)\u001b[0m\u001b[0;34m\u001b[0m\u001b[0m\n\u001b[1;32m      4\u001b[0m         \u001b[0;32mfor\u001b[0m \u001b[0mi\u001b[0m\u001b[0;34m,\u001b[0m\u001b[0msentence\u001b[0m \u001b[0;32min\u001b[0m \u001b[0menumerate\u001b[0m\u001b[0;34m(\u001b[0m\u001b[0mclusters\u001b[0m\u001b[0;34m[\u001b[0m\u001b[0mcluster\u001b[0m\u001b[0;34m]\u001b[0m\u001b[0;34m)\u001b[0m\u001b[0;34m:\u001b[0m\u001b[0;34m\u001b[0m\u001b[0m\n\u001b[0;32m----> 5\u001b[0;31m             \u001b[0mprint\u001b[0m\u001b[0;34m(\u001b[0m\u001b[0;34m\"\\tsentence \"\u001b[0m\u001b[0;34m,\u001b[0m\u001b[0mi\u001b[0m\u001b[0;34m,\u001b[0m\u001b[0;34m\": \"\u001b[0m\u001b[0;34m,\u001b[0m\u001b[0msentences\u001b[0m\u001b[0;34m[\u001b[0m\u001b[0msentence\u001b[0m\u001b[0;34m]\u001b[0m\u001b[0;34m)\u001b[0m\u001b[0;34m\u001b[0m\u001b[0m\n\u001b[0m",
      "\u001b[0;31mIndexError\u001b[0m: list index out of range"
     ]
    }
   ],
   "source": [
    "print_clusters(clusters_bad, sentences_bad)"
   ]
  },
  {
   "cell_type": "code",
   "execution_count": 135,
   "metadata": {
    "collapsed": true
   },
   "outputs": [],
   "source": [
    "from sklearn.feature_extraction.text import CountVectorizer"
   ]
  },
  {
   "cell_type": "code",
   "execution_count": 136,
   "metadata": {},
   "outputs": [],
   "source": [
    "vectorizer = CountVectorizer(ngram_range=(1, 2), min_df=1)"
   ]
  },
  {
   "cell_type": "code",
   "execution_count": 137,
   "metadata": {},
   "outputs": [],
   "source": [
    "analyze = vectorizer.build_analyzer()"
   ]
  },
  {
   "cell_type": "code",
   "execution_count": 138,
   "metadata": {
    "collapsed": true
   },
   "outputs": [],
   "source": [
    "import nltk"
   ]
  },
  {
   "cell_type": "code",
   "execution_count": 139,
   "metadata": {
    "collapsed": true
   },
   "outputs": [],
   "source": [
    "from collections import Counter"
   ]
  },
  {
   "cell_type": "code",
   "execution_count": 148,
   "metadata": {},
   "outputs": [],
   "source": [
    "def  bigram_analysis(clusters,sentences):\n",
    "    output = []\n",
    "    for cluster in range(nclusters):\n",
    "        print(\"cluster \",cluster,\":\")\n",
    "        sentences_grouped = []\n",
    "        frequencies = Counter([])\n",
    "        for i,sentence in enumerate(clusters[cluster]):\n",
    "            sentences_grouped.append(sentences[sentence])\n",
    "            tokens = word_tokenize(sentences[sentence])\n",
    "            bgs = nltk.bigrams(tokens)\n",
    "            frequencies += Counter(bgs)\n",
    "        output.append(nltk.FreqDist(frequencies))\n",
    "    return output\n",
    "\n",
    "       "
   ]
  },
  {
   "cell_type": "code",
   "execution_count": 149,
   "metadata": {},
   "outputs": [
    {
     "name": "stdout",
     "output_type": "stream",
     "text": [
      "cluster  0 :\n",
      "cluster  1 :\n",
      "cluster  2 :\n",
      "cluster  3 :\n",
      "cluster  4 :\n"
     ]
    }
   ],
   "source": [
    "bad_data = bigram_analysis(clusters_bad, sentences_bad)"
   ]
  },
  {
   "cell_type": "code",
   "execution_count": 158,
   "metadata": {},
   "outputs": [
    {
     "name": "stdout",
     "output_type": "stream",
     "text": [
      "cluster  0 :\n",
      "cluster  1 :\n",
      "cluster  2 :\n",
      "cluster  3 :\n",
      "cluster  4 :\n"
     ]
    }
   ],
   "source": [
    "good_data = bigram_analysis(clusters_good, sentences_good)"
   ]
  },
  {
   "cell_type": "code",
   "execution_count": 161,
   "metadata": {
    "scrolled": true
   },
   "outputs": [
    {
     "data": {
      "text/plain": [
       "[(('.', 'I'), 76),\n",
       " ((',', 'and'), 76),\n",
       " (('.', 'The'), 64),\n",
       " (('of', 'the'), 61),\n",
       " ((',', 'but'), 50),\n",
       " ((',', 'I'), 48),\n",
       " (('to', 'see'), 34),\n",
       " (('Titus', 'Welliver'), 30),\n",
       " (('is', 'a'), 28),\n",
       " ((',', 'the'), 27),\n",
       " (('to', 'the'), 26),\n",
       " (('the', 'books'), 24),\n",
       " (('and', 'I'), 23),\n",
       " (('I', \"'m\"), 22),\n",
       " (('.', 'It'), 22)]"
      ]
     },
     "execution_count": 161,
     "metadata": {},
     "output_type": "execute_result"
    }
   ],
   "source": [
    "good_data[1].most_common(15)"
   ]
  },
  {
   "cell_type": "code",
   "execution_count": null,
   "metadata": {
    "collapsed": true
   },
   "outputs": [],
   "source": []
  },
  {
   "cell_type": "code",
   "execution_count": null,
   "metadata": {
    "collapsed": true
   },
   "outputs": [],
   "source": []
  },
  {
   "cell_type": "code",
   "execution_count": null,
   "metadata": {
    "collapsed": true
   },
   "outputs": [],
   "source": []
  }
 ],
 "metadata": {
  "kernelspec": {
   "display_name": "Python 3",
   "language": "python",
   "name": "python3"
  },
  "language_info": {
   "codemirror_mode": {
    "name": "ipython",
    "version": 3
   },
   "file_extension": ".py",
   "mimetype": "text/x-python",
   "name": "python",
   "nbconvert_exporter": "python",
   "pygments_lexer": "ipython3",
   "version": "3.7.3"
  }
 },
 "nbformat": 4,
 "nbformat_minor": 2
}
