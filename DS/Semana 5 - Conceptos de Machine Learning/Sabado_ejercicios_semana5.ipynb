{
 "cells": [
  {
   "cell_type": "markdown",
   "metadata": {},
   "source": [
    "## Ejercicios"
   ]
  },
  {
   "cell_type": "code",
   "execution_count": 1,
   "metadata": {},
   "outputs": [],
   "source": [
    "import csv\n",
    "import pandas as pd\n",
    "import numpy as np\n",
    "import matplotlib.pyplot as plt\n",
    "import seaborn as sns\n",
    "\n",
    "%matplotlib inline"
   ]
  },
  {
   "cell_type": "code",
   "execution_count": 2,
   "metadata": {},
   "outputs": [
    {
     "name": "stderr",
     "output_type": "stream",
     "text": [
      "/opt/anaconda3/lib/python3.7/site-packages/ipykernel_launcher.py:2: DeprecationWarning: 'U' mode is deprecated\n",
      "  \n"
     ]
    }
   ],
   "source": [
    "# Read Players.csv into dataframe\n",
    "f = open('players.csv','rU')\n",
    "players = pd.read_csv(f)"
   ]
  },
  {
   "cell_type": "code",
   "execution_count": 3,
   "metadata": {},
   "outputs": [
    {
     "data": {
      "text/html": [
       "<div>\n",
       "<style scoped>\n",
       "    .dataframe tbody tr th:only-of-type {\n",
       "        vertical-align: middle;\n",
       "    }\n",
       "\n",
       "    .dataframe tbody tr th {\n",
       "        vertical-align: top;\n",
       "    }\n",
       "\n",
       "    .dataframe thead th {\n",
       "        text-align: right;\n",
       "    }\n",
       "</style>\n",
       "<table border=\"1\" class=\"dataframe\">\n",
       "  <thead>\n",
       "    <tr style=\"text-align: right;\">\n",
       "      <th></th>\n",
       "      <th>surname</th>\n",
       "      <th>team</th>\n",
       "      <th>position</th>\n",
       "      <th>minutes</th>\n",
       "      <th>shots</th>\n",
       "      <th>passes</th>\n",
       "      <th>tackles</th>\n",
       "      <th>saves</th>\n",
       "      <th>Unnamed: 8</th>\n",
       "    </tr>\n",
       "  </thead>\n",
       "  <tbody>\n",
       "    <tr>\n",
       "      <td>0</td>\n",
       "      <td>Abdoun</td>\n",
       "      <td>Algeria</td>\n",
       "      <td>midfielder</td>\n",
       "      <td>16</td>\n",
       "      <td>0</td>\n",
       "      <td>6</td>\n",
       "      <td>0</td>\n",
       "      <td>0</td>\n",
       "      <td>NaN</td>\n",
       "    </tr>\n",
       "    <tr>\n",
       "      <td>1</td>\n",
       "      <td>Belhadj</td>\n",
       "      <td>Algeria</td>\n",
       "      <td>defender</td>\n",
       "      <td>270</td>\n",
       "      <td>1</td>\n",
       "      <td>146</td>\n",
       "      <td>8</td>\n",
       "      <td>0</td>\n",
       "      <td>NaN</td>\n",
       "    </tr>\n",
       "    <tr>\n",
       "      <td>2</td>\n",
       "      <td>Boudebouz</td>\n",
       "      <td>Algeria</td>\n",
       "      <td>midfielder</td>\n",
       "      <td>74</td>\n",
       "      <td>3</td>\n",
       "      <td>28</td>\n",
       "      <td>1</td>\n",
       "      <td>0</td>\n",
       "      <td>NaN</td>\n",
       "    </tr>\n",
       "    <tr>\n",
       "      <td>3</td>\n",
       "      <td>Bougherra</td>\n",
       "      <td>Algeria</td>\n",
       "      <td>defender</td>\n",
       "      <td>270</td>\n",
       "      <td>1</td>\n",
       "      <td>89</td>\n",
       "      <td>11</td>\n",
       "      <td>0</td>\n",
       "      <td>NaN</td>\n",
       "    </tr>\n",
       "    <tr>\n",
       "      <td>4</td>\n",
       "      <td>Chaouchi</td>\n",
       "      <td>Algeria</td>\n",
       "      <td>goalkeeper</td>\n",
       "      <td>90</td>\n",
       "      <td>0</td>\n",
       "      <td>17</td>\n",
       "      <td>0</td>\n",
       "      <td>2</td>\n",
       "      <td>NaN</td>\n",
       "    </tr>\n",
       "  </tbody>\n",
       "</table>\n",
       "</div>"
      ],
      "text/plain": [
       "     surname     team    position  minutes  shots  passes  tackles  saves  \\\n",
       "0     Abdoun  Algeria  midfielder       16      0       6        0      0   \n",
       "1    Belhadj  Algeria    defender      270      1     146        8      0   \n",
       "2  Boudebouz  Algeria  midfielder       74      3      28        1      0   \n",
       "3  Bougherra  Algeria    defender      270      1      89       11      0   \n",
       "4   Chaouchi  Algeria  goalkeeper       90      0      17        0      2   \n",
       "\n",
       "   Unnamed: 8  \n",
       "0         NaN  \n",
       "1         NaN  \n",
       "2         NaN  \n",
       "3         NaN  \n",
       "4         NaN  "
      ]
     },
     "execution_count": 3,
     "metadata": {},
     "output_type": "execute_result"
    }
   ],
   "source": [
    "players.head()"
   ]
  },
  {
   "cell_type": "code",
   "execution_count": 7,
   "metadata": {},
   "outputs": [],
   "source": [
    "# From the players data, compute and plot a linear regression for\n",
    "# passes made (y-axis) versus minutes played (x-axis).\n",
    "from sklearn.model_selection import train_test_split\n",
    "m_X = players[['minutes']]\n",
    "m_y = players['passes']\n",
    "\n",
    "X_train, X_test, y_train, y_test = train_test_split(m_X, m_y, test_size=0.35, random_state=101)"
   ]
  },
  {
   "cell_type": "code",
   "execution_count": 8,
   "metadata": {},
   "outputs": [
    {
     "data": {
      "text/plain": [
       "LinearRegression(copy_X=True, fit_intercept=True, n_jobs=None, normalize=False)"
      ]
     },
     "execution_count": 8,
     "metadata": {},
     "output_type": "execute_result"
    }
   ],
   "source": [
    "from sklearn.linear_model import LinearRegression\n",
    "lm = LinearRegression()\n",
    "lm.fit(X_train,y_train)"
   ]
  },
  {
   "cell_type": "code",
   "execution_count": 9,
   "metadata": {},
   "outputs": [],
   "source": [
    "predictions = lm.predict(X_test)"
   ]
  },
  {
   "cell_type": "code",
   "execution_count": 11,
   "metadata": {},
   "outputs": [
    {
     "data": {
      "text/plain": [
       "<matplotlib.collections.PathCollection at 0x1a1b32d690>"
      ]
     },
     "execution_count": 11,
     "metadata": {},
     "output_type": "execute_result"
    },
    {
     "data": {
      "image/png": "[encoded data removed]",
      "text/plain": [
       "<Figure size 432x288 with 1 Axes>"
      ]
     },
     "metadata": {
      "needs_background": "light"
     },
     "output_type": "display_data"
    }
   ],
   "source": [
    "#modelo linear!!\n",
    "plt.scatter(y_test,predictions)"
   ]
  },
  {
   "cell_type": "code",
   "execution_count": 12,
   "metadata": {},
   "outputs": [
    {
     "name": "stdout",
     "output_type": "stream",
     "text": [
      "[0.42070119]\n"
     ]
    }
   ],
   "source": [
    "print(lm.coef_)\n"
   ]
  },
  {
   "cell_type": "code",
   "execution_count": 13,
   "metadata": {},
   "outputs": [
    {
     "data": {
      "text/html": [
       "<div>\n",
       "<style scoped>\n",
       "    .dataframe tbody tr th:only-of-type {\n",
       "        vertical-align: middle;\n",
       "    }\n",
       "\n",
       "    .dataframe tbody tr th {\n",
       "        vertical-align: top;\n",
       "    }\n",
       "\n",
       "    .dataframe thead th {\n",
       "        text-align: right;\n",
       "    }\n",
       "</style>\n",
       "<table border=\"1\" class=\"dataframe\">\n",
       "  <thead>\n",
       "    <tr style=\"text-align: right;\">\n",
       "      <th></th>\n",
       "      <th>Actual</th>\n",
       "      <th>Predicted</th>\n",
       "    </tr>\n",
       "  </thead>\n",
       "  <tbody>\n",
       "    <tr>\n",
       "      <td>302</td>\n",
       "      <td>31</td>\n",
       "      <td>17.606751</td>\n",
       "    </tr>\n",
       "    <tr>\n",
       "      <td>58</td>\n",
       "      <td>215</td>\n",
       "      <td>124.885554</td>\n",
       "    </tr>\n",
       "    <tr>\n",
       "      <td>83</td>\n",
       "      <td>59</td>\n",
       "      <td>43.690225</td>\n",
       "    </tr>\n",
       "    <tr>\n",
       "      <td>555</td>\n",
       "      <td>15</td>\n",
       "      <td>24.758671</td>\n",
       "    </tr>\n",
       "    <tr>\n",
       "      <td>107</td>\n",
       "      <td>80</td>\n",
       "      <td>47.055834</td>\n",
       "    </tr>\n",
       "    <tr>\n",
       "      <td>...</td>\n",
       "      <td>...</td>\n",
       "      <td>...</td>\n",
       "    </tr>\n",
       "    <tr>\n",
       "      <td>533</td>\n",
       "      <td>42</td>\n",
       "      <td>22.234464</td>\n",
       "    </tr>\n",
       "    <tr>\n",
       "      <td>69</td>\n",
       "      <td>223</td>\n",
       "      <td>183.783720</td>\n",
       "    </tr>\n",
       "    <tr>\n",
       "      <td>328</td>\n",
       "      <td>81</td>\n",
       "      <td>106.795403</td>\n",
       "    </tr>\n",
       "    <tr>\n",
       "      <td>237</td>\n",
       "      <td>19</td>\n",
       "      <td>29.807086</td>\n",
       "    </tr>\n",
       "    <tr>\n",
       "      <td>411</td>\n",
       "      <td>45</td>\n",
       "      <td>20.551659</td>\n",
       "    </tr>\n",
       "  </tbody>\n",
       "</table>\n",
       "<p>209 rows × 2 columns</p>\n",
       "</div>"
      ],
      "text/plain": [
       "     Actual   Predicted\n",
       "302      31   17.606751\n",
       "58      215  124.885554\n",
       "83       59   43.690225\n",
       "555      15   24.758671\n",
       "107      80   47.055834\n",
       "..      ...         ...\n",
       "533      42   22.234464\n",
       "69      223  183.783720\n",
       "328      81  106.795403\n",
       "237      19   29.807086\n",
       "411      45   20.551659\n",
       "\n",
       "[209 rows x 2 columns]"
      ]
     },
     "execution_count": 13,
     "metadata": {},
     "output_type": "execute_result"
    }
   ],
   "source": [
    "df = pd.DataFrame({'Actual': y_test, 'Predicted': predictions})   \n",
    "df"
   ]
  },
  {
   "cell_type": "code",
   "execution_count": 44,
   "metadata": {},
   "outputs": [
    {
     "data": {
      "text/plain": [
       "[<matplotlib.lines.Line2D at 0x1a1d4b8e10>]"
      ]
     },
     "execution_count": 44,
     "metadata": {},
     "output_type": "execute_result"
    },
    {
     "data": {
      "image/png": "[encoded data removed]",
      "text/plain": [
       "<Figure size 432x288 with 1 Axes>"
      ]
     },
     "metadata": {
      "needs_background": "light"
     },
     "output_type": "display_data"
    }
   ],
   "source": [
    "# Show the correlation coefficient for the passes-minutes regression.\n",
    "# Also show correlation coefficients for tackles versus minutes, shots\n",
    "# versus minutes, and saves versus minutes\n",
    "m_X = players[['minutes']]\n",
    "m_y = players['tackles']\n",
    "\n",
    "X_train, X_test, y_train, y_test = train_test_split(m_X, m_y, test_size=0.35, random_state=101)\n",
    "lm_tackles = LinearRegression()\n",
    "\n",
    "lm_tackles.fit(X_train,y_train)\n",
    "predictions = lm_tackles.predict(X_test)\n",
    "#plot real vs prediccion.. el modelo\n",
    "plt.scatter(y_test,predictions)\n",
    "plt.plot(X_test, predictions, 'w')"
   ]
  },
  {
   "cell_type": "code",
   "execution_count": 19,
   "metadata": {},
   "outputs": [
    {
     "name": "stdout",
     "output_type": "stream",
     "text": [
      "[0.01689328]\n"
     ]
    },
    {
     "data": {
      "text/plain": [
       "<matplotlib.collections.PathCollection at 0x1a1c592ad0>"
      ]
     },
     "execution_count": 19,
     "metadata": {},
     "output_type": "execute_result"
    },
    {
     "data": {
      "image/png": "[encoded data removed]",
      "text/plain": [
       "<Figure size 432x288 with 1 Axes>"
      ]
     },
     "metadata": {
      "needs_background": "light"
     },
     "output_type": "display_data"
    }
   ],
   "source": [
    "print(lm_tackles.coef_)\n",
    "\n",
    "m_X = players[['minutes']]\n",
    "m_y = players['shots']\n",
    "\n",
    "X_train, X_test, y_train, y_test = train_test_split(m_X, m_y, test_size=0.35, random_state=101)\n",
    "lm_shots = LinearRegression()\n",
    "\n",
    "lm_shots.fit(X_train,y_train)\n",
    "predictions = lm_shots.predict(X_test)\n",
    "plt.scatter(y_test,predictions)"
   ]
  },
  {
   "cell_type": "code",
   "execution_count": 20,
   "metadata": {},
   "outputs": [
    {
     "name": "stdout",
     "output_type": "stream",
     "text": [
      "[0.00995149]\n"
     ]
    },
    {
     "data": {
      "text/plain": [
       "<matplotlib.collections.PathCollection at 0x1a1c8d4050>"
      ]
     },
     "execution_count": 20,
     "metadata": {},
     "output_type": "execute_result"
    },
    {
     "data": {
      "image/png": "[encoded data removed]",
      "text/plain": [
       "<Figure size 432x288 with 1 Axes>"
      ]
     },
     "metadata": {
      "needs_background": "light"
     },
     "output_type": "display_data"
    }
   ],
   "source": [
    "print(lm_shots.coef_)\n",
    "\n",
    "m_X = players[['minutes']]\n",
    "m_y = players['saves']\n",
    "\n",
    "X_train, X_test, y_train, y_test = train_test_split(m_X, m_y, test_size=0.35, random_state=101)\n",
    "lm_saves = LinearRegression()\n",
    "\n",
    "lm_saves.fit(X_train,y_train)\n",
    "predictions = lm_saves.predict(X_test)\n",
    "plt.scatter(y_test,predictions)"
   ]
  },
  {
   "cell_type": "code",
   "execution_count": 32,
   "metadata": {},
   "outputs": [
    {
     "name": "stdout",
     "output_type": "stream",
     "text": [
      "(58, 9)\n",
      "(19, 9)\n",
      "(20, 9)\n"
     ]
    },
    {
     "data": {
      "image/png": "[encoded data removed]",
      "text/plain": [
       "<Figure size 432x288 with 1 Axes>"
      ]
     },
     "metadata": {
      "needs_background": "light"
     },
     "output_type": "display_data"
    }
   ],
   "source": [
    "# Use linear regression for interactive number-of-passes predictor\n",
    "# Training data: compute minutes-passes regression for players from\n",
    "# Greece, USA, and Portugal\n",
    "df_3teams = players.loc[(players['team'] == 'Greece') | (players['team'] == 'USA')  | (players['team'] == 'Portugal')]\n",
    "print(df_3teams.shape)\n",
    "\n",
    "df_usa = players.loc[players['team'] == 'USA']\n",
    "print(df_usa.shape)\n",
    "\n",
    "df_portugal = players.loc[players['team'] == 'Portugal']\n",
    "print(df_portugal.shape)\n",
    "\n",
    "\n",
    "m_X = df_3teams[['minutes']]\n",
    "m_y = df_3teams['passes']\n",
    "\n",
    "X_train, X_test, y_train, y_test = train_test_split(m_X, m_y, test_size=0.35, random_state=101)\n",
    "\n",
    "lm_3tems = LinearRegression()\n",
    "\n",
    "lm_3tems.fit(X_train,y_train)\n",
    "predictions = lm_3tems.predict(X_test)\n",
    "plt.scatter(y_test,predictions)\n",
    "  "
   ]
  },
  {
   "cell_type": "code",
   "execution_count": 38,
   "metadata": {},
   "outputs": [
    {
     "data": {
      "text/html": [
       "<div>\n",
       "<style scoped>\n",
       "    .dataframe tbody tr th:only-of-type {\n",
       "        vertical-align: middle;\n",
       "    }\n",
       "\n",
       "    .dataframe tbody tr th {\n",
       "        vertical-align: top;\n",
       "    }\n",
       "\n",
       "    .dataframe thead th {\n",
       "        text-align: right;\n",
       "    }\n",
       "</style>\n",
       "<table border=\"1\" class=\"dataframe\">\n",
       "  <thead>\n",
       "    <tr style=\"text-align: right;\">\n",
       "      <th></th>\n",
       "      <th>Actual</th>\n",
       "      <th>Predicted</th>\n",
       "    </tr>\n",
       "  </thead>\n",
       "  <tbody>\n",
       "    <tr>\n",
       "      <td>407</td>\n",
       "      <td>7</td>\n",
       "      <td>-2.989049</td>\n",
       "    </tr>\n",
       "    <tr>\n",
       "      <td>227</td>\n",
       "      <td>153</td>\n",
       "      <td>100.773081</td>\n",
       "    </tr>\n",
       "    <tr>\n",
       "      <td>580</td>\n",
       "      <td>12</td>\n",
       "      <td>10.323828</td>\n",
       "    </tr>\n",
       "    <tr>\n",
       "      <td>413</td>\n",
       "      <td>51</td>\n",
       "      <td>136.013049</td>\n",
       "    </tr>\n",
       "    <tr>\n",
       "      <td>212</td>\n",
       "      <td>12</td>\n",
       "      <td>18.938042</td>\n",
       "    </tr>\n",
       "    <tr>\n",
       "      <td>411</td>\n",
       "      <td>45</td>\n",
       "      <td>19.329598</td>\n",
       "    </tr>\n",
       "    <tr>\n",
       "      <td>419</td>\n",
       "      <td>52</td>\n",
       "      <td>30.293143</td>\n",
       "    </tr>\n",
       "    <tr>\n",
       "      <td>586</td>\n",
       "      <td>116</td>\n",
       "      <td>72.581106</td>\n",
       "    </tr>\n",
       "    <tr>\n",
       "      <td>582</td>\n",
       "      <td>42</td>\n",
       "      <td>42.431355</td>\n",
       "    </tr>\n",
       "    <tr>\n",
       "      <td>229</td>\n",
       "      <td>89</td>\n",
       "      <td>100.773081</td>\n",
       "    </tr>\n",
       "    <tr>\n",
       "      <td>417</td>\n",
       "      <td>154</td>\n",
       "      <td>123.874838</td>\n",
       "    </tr>\n",
       "    <tr>\n",
       "      <td>592</td>\n",
       "      <td>84</td>\n",
       "      <td>134.446829</td>\n",
       "    </tr>\n",
       "    <tr>\n",
       "      <td>213</td>\n",
       "      <td>26</td>\n",
       "      <td>61.226005</td>\n",
       "    </tr>\n",
       "    <tr>\n",
       "      <td>409</td>\n",
       "      <td>173</td>\n",
       "      <td>136.013049</td>\n",
       "    </tr>\n",
       "    <tr>\n",
       "      <td>412</td>\n",
       "      <td>18</td>\n",
       "      <td>22.462039</td>\n",
       "    </tr>\n",
       "    <tr>\n",
       "      <td>225</td>\n",
       "      <td>6</td>\n",
       "      <td>12.673159</td>\n",
       "    </tr>\n",
       "    <tr>\n",
       "      <td>591</td>\n",
       "      <td>81</td>\n",
       "      <td>147.759706</td>\n",
       "    </tr>\n",
       "    <tr>\n",
       "      <td>408</td>\n",
       "      <td>166</td>\n",
       "      <td>136.013049</td>\n",
       "    </tr>\n",
       "    <tr>\n",
       "      <td>420</td>\n",
       "      <td>43</td>\n",
       "      <td>48.304683</td>\n",
       "    </tr>\n",
       "    <tr>\n",
       "      <td>218</td>\n",
       "      <td>4</td>\n",
       "      <td>30.293143</td>\n",
       "    </tr>\n",
       "    <tr>\n",
       "      <td>214</td>\n",
       "      <td>7</td>\n",
       "      <td>6.408276</td>\n",
       "    </tr>\n",
       "  </tbody>\n",
       "</table>\n",
       "</div>"
      ],
      "text/plain": [
       "     Actual   Predicted\n",
       "407       7   -2.989049\n",
       "227     153  100.773081\n",
       "580      12   10.323828\n",
       "413      51  136.013049\n",
       "212      12   18.938042\n",
       "411      45   19.329598\n",
       "419      52   30.293143\n",
       "586     116   72.581106\n",
       "582      42   42.431355\n",
       "229      89  100.773081\n",
       "417     154  123.874838\n",
       "592      84  134.446829\n",
       "213      26   61.226005\n",
       "409     173  136.013049\n",
       "412      18   22.462039\n",
       "225       6   12.673159\n",
       "591      81  147.759706\n",
       "408     166  136.013049\n",
       "420      43   48.304683\n",
       "218       4   30.293143\n",
       "214       7    6.408276"
      ]
     },
     "execution_count": 38,
     "metadata": {},
     "output_type": "execute_result"
    },
    {
     "data": {
      "image/png": "[encoded data removed]",
      "text/plain": [
       "<Figure size 432x288 with 2 Axes>"
      ]
     },
     "metadata": {
      "needs_background": "light"
     },
     "output_type": "display_data"
    }
   ],
   "source": [
    "correlation_matrix = df_3teams.corr()\n",
    "sns.heatmap(data=correlation_matrix, annot=True)\n",
    "\n",
    "df = pd.DataFrame({'Actual': y_test, 'Predicted': predictions}) \n",
    "df"
   ]
  },
  {
   "cell_type": "code",
   "execution_count": null,
   "metadata": {},
   "outputs": [],
   "source": [
    "# SUPER BONUS!!\n",
    "# Repeat previous but use separate predictor for the four different positions\n",
    "# (goalkeeper,defender,midfielder,forward). Does it do better?\n",
    "# Try comparing correlation coefficients against one regression for all players.\n",
    "\n",
    "##hint = df.loc[(df['column_name'] >= A) & (df['column_name'] <= B)]"
   ]
  }
 ],
 "metadata": {
  "kernelspec": {
   "display_name": "Python 3",
   "language": "python",
   "name": "python3"
  },
  "language_info": {
   "codemirror_mode": {
    "name": "ipython",
    "version": 3
   },
   "file_extension": ".py",
   "mimetype": "text/x-python",
   "name": "python",
   "nbconvert_exporter": "python",
   "pygments_lexer": "ipython3",
   "version": "3.7.4"
  }
 },
 "nbformat": 4,
 "nbformat_minor": 4
}
